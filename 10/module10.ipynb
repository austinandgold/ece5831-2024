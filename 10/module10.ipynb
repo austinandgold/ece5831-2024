{
 "cells": [
  {
   "cell_type": "markdown",
   "metadata": {},
   "source": [
    "Dogs vs. Cats"
   ]
  },
  {
   "cell_type": "markdown",
   "metadata": {},
   "source": [
    "Dataset"
   ]
  },
  {
   "cell_type": "code",
   "execution_count": 50,
   "metadata": {},
   "outputs": [],
   "source": [
    "import pathlib\n",
    "import os\n",
    "import shutil"
   ]
  },
  {
   "cell_type": "code",
   "execution_count": 51,
   "metadata": {},
   "outputs": [],
   "source": [
    "base_dir = pathlib.Path('dogs-vs-cats')\n",
    "src_dir = pathlib.Path('dogs-vs-cats-original/train')"
   ]
  },
  {
   "cell_type": "code",
   "execution_count": 52,
   "metadata": {},
   "outputs": [
    {
     "name": "stdout",
     "output_type": "stream",
     "text": [
      "dogs-vs-cats\\test\n"
     ]
    }
   ],
   "source": [
    "print(base_dir / 'test')"
   ]
  },
  {
   "cell_type": "code",
   "execution_count": 53,
   "metadata": {},
   "outputs": [],
   "source": [
    "def make_dataset_for_image_dataset_from_directory(subset_name, start_index, end_index):\n",
    "    for category in (\"dog\", \"cat\"):\n",
    "        dir = base_dir / subset_name / category\n",
    "        #print(dir)\n",
    "        if os.path.exists(dir) is False:\n",
    "            os.makedirs(dir)\n",
    "        files = [f'{category}.{i}.jpg' for i in range(start_index, end_index)]\n",
    "        #print(files)\n",
    "        for i, file in enumerate(files):\n",
    "            shutil.copyfile(src=src_dir / file, dst=dir / file)\n",
    "            if i % 100 == 0: # show only once every 100\n",
    "                print(f'src:{src_dir / file} => dst:{dir / file}')"
   ]
  },
  {
   "cell_type": "code",
   "execution_count": 54,
   "metadata": {},
   "outputs": [
    {
     "name": "stdout",
     "output_type": "stream",
     "text": [
      "src:dogs-vs-cats-original\\train\\dog.2400.jpg => dst:dogs-vs-cats\\train\\dog\\dog.2400.jpg\n",
      "src:dogs-vs-cats-original\\train\\dog.2500.jpg => dst:dogs-vs-cats\\train\\dog\\dog.2500.jpg\n",
      "src:dogs-vs-cats-original\\train\\dog.2600.jpg => dst:dogs-vs-cats\\train\\dog\\dog.2600.jpg\n",
      "src:dogs-vs-cats-original\\train\\dog.2700.jpg => dst:dogs-vs-cats\\train\\dog\\dog.2700.jpg\n",
      "src:dogs-vs-cats-original\\train\\dog.2800.jpg => dst:dogs-vs-cats\\train\\dog\\dog.2800.jpg\n",
      "src:dogs-vs-cats-original\\train\\dog.2900.jpg => dst:dogs-vs-cats\\train\\dog\\dog.2900.jpg\n",
      "src:dogs-vs-cats-original\\train\\dog.3000.jpg => dst:dogs-vs-cats\\train\\dog\\dog.3000.jpg\n",
      "src:dogs-vs-cats-original\\train\\dog.3100.jpg => dst:dogs-vs-cats\\train\\dog\\dog.3100.jpg\n",
      "src:dogs-vs-cats-original\\train\\dog.3200.jpg => dst:dogs-vs-cats\\train\\dog\\dog.3200.jpg\n",
      "src:dogs-vs-cats-original\\train\\dog.3300.jpg => dst:dogs-vs-cats\\train\\dog\\dog.3300.jpg\n",
      "src:dogs-vs-cats-original\\train\\dog.3400.jpg => dst:dogs-vs-cats\\train\\dog\\dog.3400.jpg\n",
      "src:dogs-vs-cats-original\\train\\dog.3500.jpg => dst:dogs-vs-cats\\train\\dog\\dog.3500.jpg\n",
      "src:dogs-vs-cats-original\\train\\dog.3600.jpg => dst:dogs-vs-cats\\train\\dog\\dog.3600.jpg\n",
      "src:dogs-vs-cats-original\\train\\dog.3700.jpg => dst:dogs-vs-cats\\train\\dog\\dog.3700.jpg\n",
      "src:dogs-vs-cats-original\\train\\dog.3800.jpg => dst:dogs-vs-cats\\train\\dog\\dog.3800.jpg\n",
      "src:dogs-vs-cats-original\\train\\dog.3900.jpg => dst:dogs-vs-cats\\train\\dog\\dog.3900.jpg\n",
      "src:dogs-vs-cats-original\\train\\dog.4000.jpg => dst:dogs-vs-cats\\train\\dog\\dog.4000.jpg\n",
      "src:dogs-vs-cats-original\\train\\dog.4100.jpg => dst:dogs-vs-cats\\train\\dog\\dog.4100.jpg\n",
      "src:dogs-vs-cats-original\\train\\dog.4200.jpg => dst:dogs-vs-cats\\train\\dog\\dog.4200.jpg\n",
      "src:dogs-vs-cats-original\\train\\dog.4300.jpg => dst:dogs-vs-cats\\train\\dog\\dog.4300.jpg\n",
      "src:dogs-vs-cats-original\\train\\dog.4400.jpg => dst:dogs-vs-cats\\train\\dog\\dog.4400.jpg\n",
      "src:dogs-vs-cats-original\\train\\dog.4500.jpg => dst:dogs-vs-cats\\train\\dog\\dog.4500.jpg\n",
      "src:dogs-vs-cats-original\\train\\dog.4600.jpg => dst:dogs-vs-cats\\train\\dog\\dog.4600.jpg\n",
      "src:dogs-vs-cats-original\\train\\dog.4700.jpg => dst:dogs-vs-cats\\train\\dog\\dog.4700.jpg\n",
      "src:dogs-vs-cats-original\\train\\dog.4800.jpg => dst:dogs-vs-cats\\train\\dog\\dog.4800.jpg\n",
      "src:dogs-vs-cats-original\\train\\dog.4900.jpg => dst:dogs-vs-cats\\train\\dog\\dog.4900.jpg\n",
      "src:dogs-vs-cats-original\\train\\dog.5000.jpg => dst:dogs-vs-cats\\train\\dog\\dog.5000.jpg\n",
      "src:dogs-vs-cats-original\\train\\dog.5100.jpg => dst:dogs-vs-cats\\train\\dog\\dog.5100.jpg\n",
      "src:dogs-vs-cats-original\\train\\dog.5200.jpg => dst:dogs-vs-cats\\train\\dog\\dog.5200.jpg\n",
      "src:dogs-vs-cats-original\\train\\dog.5300.jpg => dst:dogs-vs-cats\\train\\dog\\dog.5300.jpg\n",
      "src:dogs-vs-cats-original\\train\\dog.5400.jpg => dst:dogs-vs-cats\\train\\dog\\dog.5400.jpg\n",
      "src:dogs-vs-cats-original\\train\\dog.5500.jpg => dst:dogs-vs-cats\\train\\dog\\dog.5500.jpg\n",
      "src:dogs-vs-cats-original\\train\\dog.5600.jpg => dst:dogs-vs-cats\\train\\dog\\dog.5600.jpg\n",
      "src:dogs-vs-cats-original\\train\\dog.5700.jpg => dst:dogs-vs-cats\\train\\dog\\dog.5700.jpg\n",
      "src:dogs-vs-cats-original\\train\\dog.5800.jpg => dst:dogs-vs-cats\\train\\dog\\dog.5800.jpg\n",
      "src:dogs-vs-cats-original\\train\\dog.5900.jpg => dst:dogs-vs-cats\\train\\dog\\dog.5900.jpg\n",
      "src:dogs-vs-cats-original\\train\\dog.6000.jpg => dst:dogs-vs-cats\\train\\dog\\dog.6000.jpg\n",
      "src:dogs-vs-cats-original\\train\\dog.6100.jpg => dst:dogs-vs-cats\\train\\dog\\dog.6100.jpg\n",
      "src:dogs-vs-cats-original\\train\\dog.6200.jpg => dst:dogs-vs-cats\\train\\dog\\dog.6200.jpg\n",
      "src:dogs-vs-cats-original\\train\\dog.6300.jpg => dst:dogs-vs-cats\\train\\dog\\dog.6300.jpg\n",
      "src:dogs-vs-cats-original\\train\\dog.6400.jpg => dst:dogs-vs-cats\\train\\dog\\dog.6400.jpg\n",
      "src:dogs-vs-cats-original\\train\\dog.6500.jpg => dst:dogs-vs-cats\\train\\dog\\dog.6500.jpg\n",
      "src:dogs-vs-cats-original\\train\\dog.6600.jpg => dst:dogs-vs-cats\\train\\dog\\dog.6600.jpg\n",
      "src:dogs-vs-cats-original\\train\\dog.6700.jpg => dst:dogs-vs-cats\\train\\dog\\dog.6700.jpg\n",
      "src:dogs-vs-cats-original\\train\\dog.6800.jpg => dst:dogs-vs-cats\\train\\dog\\dog.6800.jpg\n",
      "src:dogs-vs-cats-original\\train\\dog.6900.jpg => dst:dogs-vs-cats\\train\\dog\\dog.6900.jpg\n",
      "src:dogs-vs-cats-original\\train\\dog.7000.jpg => dst:dogs-vs-cats\\train\\dog\\dog.7000.jpg\n",
      "src:dogs-vs-cats-original\\train\\dog.7100.jpg => dst:dogs-vs-cats\\train\\dog\\dog.7100.jpg\n",
      "src:dogs-vs-cats-original\\train\\dog.7200.jpg => dst:dogs-vs-cats\\train\\dog\\dog.7200.jpg\n",
      "src:dogs-vs-cats-original\\train\\dog.7300.jpg => dst:dogs-vs-cats\\train\\dog\\dog.7300.jpg\n",
      "src:dogs-vs-cats-original\\train\\dog.7400.jpg => dst:dogs-vs-cats\\train\\dog\\dog.7400.jpg\n",
      "src:dogs-vs-cats-original\\train\\dog.7500.jpg => dst:dogs-vs-cats\\train\\dog\\dog.7500.jpg\n",
      "src:dogs-vs-cats-original\\train\\dog.7600.jpg => dst:dogs-vs-cats\\train\\dog\\dog.7600.jpg\n",
      "src:dogs-vs-cats-original\\train\\dog.7700.jpg => dst:dogs-vs-cats\\train\\dog\\dog.7700.jpg\n",
      "src:dogs-vs-cats-original\\train\\dog.7800.jpg => dst:dogs-vs-cats\\train\\dog\\dog.7800.jpg\n",
      "src:dogs-vs-cats-original\\train\\dog.7900.jpg => dst:dogs-vs-cats\\train\\dog\\dog.7900.jpg\n",
      "src:dogs-vs-cats-original\\train\\dog.8000.jpg => dst:dogs-vs-cats\\train\\dog\\dog.8000.jpg\n",
      "src:dogs-vs-cats-original\\train\\dog.8100.jpg => dst:dogs-vs-cats\\train\\dog\\dog.8100.jpg\n",
      "src:dogs-vs-cats-original\\train\\dog.8200.jpg => dst:dogs-vs-cats\\train\\dog\\dog.8200.jpg\n",
      "src:dogs-vs-cats-original\\train\\dog.8300.jpg => dst:dogs-vs-cats\\train\\dog\\dog.8300.jpg\n",
      "src:dogs-vs-cats-original\\train\\dog.8400.jpg => dst:dogs-vs-cats\\train\\dog\\dog.8400.jpg\n",
      "src:dogs-vs-cats-original\\train\\dog.8500.jpg => dst:dogs-vs-cats\\train\\dog\\dog.8500.jpg\n",
      "src:dogs-vs-cats-original\\train\\dog.8600.jpg => dst:dogs-vs-cats\\train\\dog\\dog.8600.jpg\n",
      "src:dogs-vs-cats-original\\train\\dog.8700.jpg => dst:dogs-vs-cats\\train\\dog\\dog.8700.jpg\n",
      "src:dogs-vs-cats-original\\train\\dog.8800.jpg => dst:dogs-vs-cats\\train\\dog\\dog.8800.jpg\n",
      "src:dogs-vs-cats-original\\train\\dog.8900.jpg => dst:dogs-vs-cats\\train\\dog\\dog.8900.jpg\n",
      "src:dogs-vs-cats-original\\train\\dog.9000.jpg => dst:dogs-vs-cats\\train\\dog\\dog.9000.jpg\n",
      "src:dogs-vs-cats-original\\train\\dog.9100.jpg => dst:dogs-vs-cats\\train\\dog\\dog.9100.jpg\n",
      "src:dogs-vs-cats-original\\train\\dog.9200.jpg => dst:dogs-vs-cats\\train\\dog\\dog.9200.jpg\n",
      "src:dogs-vs-cats-original\\train\\dog.9300.jpg => dst:dogs-vs-cats\\train\\dog\\dog.9300.jpg\n",
      "src:dogs-vs-cats-original\\train\\dog.9400.jpg => dst:dogs-vs-cats\\train\\dog\\dog.9400.jpg\n",
      "src:dogs-vs-cats-original\\train\\dog.9500.jpg => dst:dogs-vs-cats\\train\\dog\\dog.9500.jpg\n",
      "src:dogs-vs-cats-original\\train\\dog.9600.jpg => dst:dogs-vs-cats\\train\\dog\\dog.9600.jpg\n",
      "src:dogs-vs-cats-original\\train\\dog.9700.jpg => dst:dogs-vs-cats\\train\\dog\\dog.9700.jpg\n",
      "src:dogs-vs-cats-original\\train\\dog.9800.jpg => dst:dogs-vs-cats\\train\\dog\\dog.9800.jpg\n",
      "src:dogs-vs-cats-original\\train\\dog.9900.jpg => dst:dogs-vs-cats\\train\\dog\\dog.9900.jpg\n",
      "src:dogs-vs-cats-original\\train\\dog.10000.jpg => dst:dogs-vs-cats\\train\\dog\\dog.10000.jpg\n",
      "src:dogs-vs-cats-original\\train\\dog.10100.jpg => dst:dogs-vs-cats\\train\\dog\\dog.10100.jpg\n",
      "src:dogs-vs-cats-original\\train\\dog.10200.jpg => dst:dogs-vs-cats\\train\\dog\\dog.10200.jpg\n",
      "src:dogs-vs-cats-original\\train\\dog.10300.jpg => dst:dogs-vs-cats\\train\\dog\\dog.10300.jpg\n",
      "src:dogs-vs-cats-original\\train\\dog.10400.jpg => dst:dogs-vs-cats\\train\\dog\\dog.10400.jpg\n",
      "src:dogs-vs-cats-original\\train\\dog.10500.jpg => dst:dogs-vs-cats\\train\\dog\\dog.10500.jpg\n",
      "src:dogs-vs-cats-original\\train\\dog.10600.jpg => dst:dogs-vs-cats\\train\\dog\\dog.10600.jpg\n",
      "src:dogs-vs-cats-original\\train\\dog.10700.jpg => dst:dogs-vs-cats\\train\\dog\\dog.10700.jpg\n",
      "src:dogs-vs-cats-original\\train\\dog.10800.jpg => dst:dogs-vs-cats\\train\\dog\\dog.10800.jpg\n",
      "src:dogs-vs-cats-original\\train\\dog.10900.jpg => dst:dogs-vs-cats\\train\\dog\\dog.10900.jpg\n",
      "src:dogs-vs-cats-original\\train\\dog.11000.jpg => dst:dogs-vs-cats\\train\\dog\\dog.11000.jpg\n",
      "src:dogs-vs-cats-original\\train\\dog.11100.jpg => dst:dogs-vs-cats\\train\\dog\\dog.11100.jpg\n",
      "src:dogs-vs-cats-original\\train\\dog.11200.jpg => dst:dogs-vs-cats\\train\\dog\\dog.11200.jpg\n",
      "src:dogs-vs-cats-original\\train\\dog.11300.jpg => dst:dogs-vs-cats\\train\\dog\\dog.11300.jpg\n",
      "src:dogs-vs-cats-original\\train\\dog.11400.jpg => dst:dogs-vs-cats\\train\\dog\\dog.11400.jpg\n",
      "src:dogs-vs-cats-original\\train\\dog.11500.jpg => dst:dogs-vs-cats\\train\\dog\\dog.11500.jpg\n",
      "src:dogs-vs-cats-original\\train\\dog.11600.jpg => dst:dogs-vs-cats\\train\\dog\\dog.11600.jpg\n",
      "src:dogs-vs-cats-original\\train\\dog.11700.jpg => dst:dogs-vs-cats\\train\\dog\\dog.11700.jpg\n",
      "src:dogs-vs-cats-original\\train\\dog.11800.jpg => dst:dogs-vs-cats\\train\\dog\\dog.11800.jpg\n",
      "src:dogs-vs-cats-original\\train\\dog.11900.jpg => dst:dogs-vs-cats\\train\\dog\\dog.11900.jpg\n",
      "src:dogs-vs-cats-original\\train\\cat.2400.jpg => dst:dogs-vs-cats\\train\\cat\\cat.2400.jpg\n",
      "src:dogs-vs-cats-original\\train\\cat.2500.jpg => dst:dogs-vs-cats\\train\\cat\\cat.2500.jpg\n",
      "src:dogs-vs-cats-original\\train\\cat.2600.jpg => dst:dogs-vs-cats\\train\\cat\\cat.2600.jpg\n",
      "src:dogs-vs-cats-original\\train\\cat.2700.jpg => dst:dogs-vs-cats\\train\\cat\\cat.2700.jpg\n",
      "src:dogs-vs-cats-original\\train\\cat.2800.jpg => dst:dogs-vs-cats\\train\\cat\\cat.2800.jpg\n",
      "src:dogs-vs-cats-original\\train\\cat.2900.jpg => dst:dogs-vs-cats\\train\\cat\\cat.2900.jpg\n",
      "src:dogs-vs-cats-original\\train\\cat.3000.jpg => dst:dogs-vs-cats\\train\\cat\\cat.3000.jpg\n",
      "src:dogs-vs-cats-original\\train\\cat.3100.jpg => dst:dogs-vs-cats\\train\\cat\\cat.3100.jpg\n",
      "src:dogs-vs-cats-original\\train\\cat.3200.jpg => dst:dogs-vs-cats\\train\\cat\\cat.3200.jpg\n",
      "src:dogs-vs-cats-original\\train\\cat.3300.jpg => dst:dogs-vs-cats\\train\\cat\\cat.3300.jpg\n",
      "src:dogs-vs-cats-original\\train\\cat.3400.jpg => dst:dogs-vs-cats\\train\\cat\\cat.3400.jpg\n",
      "src:dogs-vs-cats-original\\train\\cat.3500.jpg => dst:dogs-vs-cats\\train\\cat\\cat.3500.jpg\n",
      "src:dogs-vs-cats-original\\train\\cat.3600.jpg => dst:dogs-vs-cats\\train\\cat\\cat.3600.jpg\n",
      "src:dogs-vs-cats-original\\train\\cat.3700.jpg => dst:dogs-vs-cats\\train\\cat\\cat.3700.jpg\n",
      "src:dogs-vs-cats-original\\train\\cat.3800.jpg => dst:dogs-vs-cats\\train\\cat\\cat.3800.jpg\n",
      "src:dogs-vs-cats-original\\train\\cat.3900.jpg => dst:dogs-vs-cats\\train\\cat\\cat.3900.jpg\n",
      "src:dogs-vs-cats-original\\train\\cat.4000.jpg => dst:dogs-vs-cats\\train\\cat\\cat.4000.jpg\n",
      "src:dogs-vs-cats-original\\train\\cat.4100.jpg => dst:dogs-vs-cats\\train\\cat\\cat.4100.jpg\n",
      "src:dogs-vs-cats-original\\train\\cat.4200.jpg => dst:dogs-vs-cats\\train\\cat\\cat.4200.jpg\n",
      "src:dogs-vs-cats-original\\train\\cat.4300.jpg => dst:dogs-vs-cats\\train\\cat\\cat.4300.jpg\n",
      "src:dogs-vs-cats-original\\train\\cat.4400.jpg => dst:dogs-vs-cats\\train\\cat\\cat.4400.jpg\n",
      "src:dogs-vs-cats-original\\train\\cat.4500.jpg => dst:dogs-vs-cats\\train\\cat\\cat.4500.jpg\n",
      "src:dogs-vs-cats-original\\train\\cat.4600.jpg => dst:dogs-vs-cats\\train\\cat\\cat.4600.jpg\n",
      "src:dogs-vs-cats-original\\train\\cat.4700.jpg => dst:dogs-vs-cats\\train\\cat\\cat.4700.jpg\n",
      "src:dogs-vs-cats-original\\train\\cat.4800.jpg => dst:dogs-vs-cats\\train\\cat\\cat.4800.jpg\n",
      "src:dogs-vs-cats-original\\train\\cat.4900.jpg => dst:dogs-vs-cats\\train\\cat\\cat.4900.jpg\n",
      "src:dogs-vs-cats-original\\train\\cat.5000.jpg => dst:dogs-vs-cats\\train\\cat\\cat.5000.jpg\n",
      "src:dogs-vs-cats-original\\train\\cat.5100.jpg => dst:dogs-vs-cats\\train\\cat\\cat.5100.jpg\n",
      "src:dogs-vs-cats-original\\train\\cat.5200.jpg => dst:dogs-vs-cats\\train\\cat\\cat.5200.jpg\n",
      "src:dogs-vs-cats-original\\train\\cat.5300.jpg => dst:dogs-vs-cats\\train\\cat\\cat.5300.jpg\n",
      "src:dogs-vs-cats-original\\train\\cat.5400.jpg => dst:dogs-vs-cats\\train\\cat\\cat.5400.jpg\n",
      "src:dogs-vs-cats-original\\train\\cat.5500.jpg => dst:dogs-vs-cats\\train\\cat\\cat.5500.jpg\n",
      "src:dogs-vs-cats-original\\train\\cat.5600.jpg => dst:dogs-vs-cats\\train\\cat\\cat.5600.jpg\n",
      "src:dogs-vs-cats-original\\train\\cat.5700.jpg => dst:dogs-vs-cats\\train\\cat\\cat.5700.jpg\n",
      "src:dogs-vs-cats-original\\train\\cat.5800.jpg => dst:dogs-vs-cats\\train\\cat\\cat.5800.jpg\n",
      "src:dogs-vs-cats-original\\train\\cat.5900.jpg => dst:dogs-vs-cats\\train\\cat\\cat.5900.jpg\n",
      "src:dogs-vs-cats-original\\train\\cat.6000.jpg => dst:dogs-vs-cats\\train\\cat\\cat.6000.jpg\n",
      "src:dogs-vs-cats-original\\train\\cat.6100.jpg => dst:dogs-vs-cats\\train\\cat\\cat.6100.jpg\n",
      "src:dogs-vs-cats-original\\train\\cat.6200.jpg => dst:dogs-vs-cats\\train\\cat\\cat.6200.jpg\n",
      "src:dogs-vs-cats-original\\train\\cat.6300.jpg => dst:dogs-vs-cats\\train\\cat\\cat.6300.jpg\n",
      "src:dogs-vs-cats-original\\train\\cat.6400.jpg => dst:dogs-vs-cats\\train\\cat\\cat.6400.jpg\n",
      "src:dogs-vs-cats-original\\train\\cat.6500.jpg => dst:dogs-vs-cats\\train\\cat\\cat.6500.jpg\n",
      "src:dogs-vs-cats-original\\train\\cat.6600.jpg => dst:dogs-vs-cats\\train\\cat\\cat.6600.jpg\n",
      "src:dogs-vs-cats-original\\train\\cat.6700.jpg => dst:dogs-vs-cats\\train\\cat\\cat.6700.jpg\n",
      "src:dogs-vs-cats-original\\train\\cat.6800.jpg => dst:dogs-vs-cats\\train\\cat\\cat.6800.jpg\n",
      "src:dogs-vs-cats-original\\train\\cat.6900.jpg => dst:dogs-vs-cats\\train\\cat\\cat.6900.jpg\n",
      "src:dogs-vs-cats-original\\train\\cat.7000.jpg => dst:dogs-vs-cats\\train\\cat\\cat.7000.jpg\n",
      "src:dogs-vs-cats-original\\train\\cat.7100.jpg => dst:dogs-vs-cats\\train\\cat\\cat.7100.jpg\n",
      "src:dogs-vs-cats-original\\train\\cat.7200.jpg => dst:dogs-vs-cats\\train\\cat\\cat.7200.jpg\n",
      "src:dogs-vs-cats-original\\train\\cat.7300.jpg => dst:dogs-vs-cats\\train\\cat\\cat.7300.jpg\n",
      "src:dogs-vs-cats-original\\train\\cat.7400.jpg => dst:dogs-vs-cats\\train\\cat\\cat.7400.jpg\n",
      "src:dogs-vs-cats-original\\train\\cat.7500.jpg => dst:dogs-vs-cats\\train\\cat\\cat.7500.jpg\n",
      "src:dogs-vs-cats-original\\train\\cat.7600.jpg => dst:dogs-vs-cats\\train\\cat\\cat.7600.jpg\n",
      "src:dogs-vs-cats-original\\train\\cat.7700.jpg => dst:dogs-vs-cats\\train\\cat\\cat.7700.jpg\n",
      "src:dogs-vs-cats-original\\train\\cat.7800.jpg => dst:dogs-vs-cats\\train\\cat\\cat.7800.jpg\n",
      "src:dogs-vs-cats-original\\train\\cat.7900.jpg => dst:dogs-vs-cats\\train\\cat\\cat.7900.jpg\n",
      "src:dogs-vs-cats-original\\train\\cat.8000.jpg => dst:dogs-vs-cats\\train\\cat\\cat.8000.jpg\n",
      "src:dogs-vs-cats-original\\train\\cat.8100.jpg => dst:dogs-vs-cats\\train\\cat\\cat.8100.jpg\n",
      "src:dogs-vs-cats-original\\train\\cat.8200.jpg => dst:dogs-vs-cats\\train\\cat\\cat.8200.jpg\n",
      "src:dogs-vs-cats-original\\train\\cat.8300.jpg => dst:dogs-vs-cats\\train\\cat\\cat.8300.jpg\n",
      "src:dogs-vs-cats-original\\train\\cat.8400.jpg => dst:dogs-vs-cats\\train\\cat\\cat.8400.jpg\n",
      "src:dogs-vs-cats-original\\train\\cat.8500.jpg => dst:dogs-vs-cats\\train\\cat\\cat.8500.jpg\n",
      "src:dogs-vs-cats-original\\train\\cat.8600.jpg => dst:dogs-vs-cats\\train\\cat\\cat.8600.jpg\n",
      "src:dogs-vs-cats-original\\train\\cat.8700.jpg => dst:dogs-vs-cats\\train\\cat\\cat.8700.jpg\n",
      "src:dogs-vs-cats-original\\train\\cat.8800.jpg => dst:dogs-vs-cats\\train\\cat\\cat.8800.jpg\n",
      "src:dogs-vs-cats-original\\train\\cat.8900.jpg => dst:dogs-vs-cats\\train\\cat\\cat.8900.jpg\n",
      "src:dogs-vs-cats-original\\train\\cat.9000.jpg => dst:dogs-vs-cats\\train\\cat\\cat.9000.jpg\n",
      "src:dogs-vs-cats-original\\train\\cat.9100.jpg => dst:dogs-vs-cats\\train\\cat\\cat.9100.jpg\n",
      "src:dogs-vs-cats-original\\train\\cat.9200.jpg => dst:dogs-vs-cats\\train\\cat\\cat.9200.jpg\n",
      "src:dogs-vs-cats-original\\train\\cat.9300.jpg => dst:dogs-vs-cats\\train\\cat\\cat.9300.jpg\n",
      "src:dogs-vs-cats-original\\train\\cat.9400.jpg => dst:dogs-vs-cats\\train\\cat\\cat.9400.jpg\n",
      "src:dogs-vs-cats-original\\train\\cat.9500.jpg => dst:dogs-vs-cats\\train\\cat\\cat.9500.jpg\n",
      "src:dogs-vs-cats-original\\train\\cat.9600.jpg => dst:dogs-vs-cats\\train\\cat\\cat.9600.jpg\n",
      "src:dogs-vs-cats-original\\train\\cat.9700.jpg => dst:dogs-vs-cats\\train\\cat\\cat.9700.jpg\n",
      "src:dogs-vs-cats-original\\train\\cat.9800.jpg => dst:dogs-vs-cats\\train\\cat\\cat.9800.jpg\n",
      "src:dogs-vs-cats-original\\train\\cat.9900.jpg => dst:dogs-vs-cats\\train\\cat\\cat.9900.jpg\n",
      "src:dogs-vs-cats-original\\train\\cat.10000.jpg => dst:dogs-vs-cats\\train\\cat\\cat.10000.jpg\n",
      "src:dogs-vs-cats-original\\train\\cat.10100.jpg => dst:dogs-vs-cats\\train\\cat\\cat.10100.jpg\n",
      "src:dogs-vs-cats-original\\train\\cat.10200.jpg => dst:dogs-vs-cats\\train\\cat\\cat.10200.jpg\n",
      "src:dogs-vs-cats-original\\train\\cat.10300.jpg => dst:dogs-vs-cats\\train\\cat\\cat.10300.jpg\n",
      "src:dogs-vs-cats-original\\train\\cat.10400.jpg => dst:dogs-vs-cats\\train\\cat\\cat.10400.jpg\n",
      "src:dogs-vs-cats-original\\train\\cat.10500.jpg => dst:dogs-vs-cats\\train\\cat\\cat.10500.jpg\n",
      "src:dogs-vs-cats-original\\train\\cat.10600.jpg => dst:dogs-vs-cats\\train\\cat\\cat.10600.jpg\n",
      "src:dogs-vs-cats-original\\train\\cat.10700.jpg => dst:dogs-vs-cats\\train\\cat\\cat.10700.jpg\n",
      "src:dogs-vs-cats-original\\train\\cat.10800.jpg => dst:dogs-vs-cats\\train\\cat\\cat.10800.jpg\n",
      "src:dogs-vs-cats-original\\train\\cat.10900.jpg => dst:dogs-vs-cats\\train\\cat\\cat.10900.jpg\n",
      "src:dogs-vs-cats-original\\train\\cat.11000.jpg => dst:dogs-vs-cats\\train\\cat\\cat.11000.jpg\n",
      "src:dogs-vs-cats-original\\train\\cat.11100.jpg => dst:dogs-vs-cats\\train\\cat\\cat.11100.jpg\n",
      "src:dogs-vs-cats-original\\train\\cat.11200.jpg => dst:dogs-vs-cats\\train\\cat\\cat.11200.jpg\n",
      "src:dogs-vs-cats-original\\train\\cat.11300.jpg => dst:dogs-vs-cats\\train\\cat\\cat.11300.jpg\n",
      "src:dogs-vs-cats-original\\train\\cat.11400.jpg => dst:dogs-vs-cats\\train\\cat\\cat.11400.jpg\n",
      "src:dogs-vs-cats-original\\train\\cat.11500.jpg => dst:dogs-vs-cats\\train\\cat\\cat.11500.jpg\n",
      "src:dogs-vs-cats-original\\train\\cat.11600.jpg => dst:dogs-vs-cats\\train\\cat\\cat.11600.jpg\n",
      "src:dogs-vs-cats-original\\train\\cat.11700.jpg => dst:dogs-vs-cats\\train\\cat\\cat.11700.jpg\n",
      "src:dogs-vs-cats-original\\train\\cat.11800.jpg => dst:dogs-vs-cats\\train\\cat\\cat.11800.jpg\n",
      "src:dogs-vs-cats-original\\train\\cat.11900.jpg => dst:dogs-vs-cats\\train\\cat\\cat.11900.jpg\n"
     ]
    }
   ],
   "source": [
    "make_dataset_for_image_dataset_from_directory('train', 2400, 11999)"
   ]
  },
  {
   "cell_type": "code",
   "execution_count": 55,
   "metadata": {},
   "outputs": [
    {
     "name": "stdout",
     "output_type": "stream",
     "text": [
      "src:dogs-vs-cats-original\\train\\dog.0.jpg => dst:dogs-vs-cats\\validation\\dog\\dog.0.jpg\n",
      "src:dogs-vs-cats-original\\train\\dog.100.jpg => dst:dogs-vs-cats\\validation\\dog\\dog.100.jpg\n",
      "src:dogs-vs-cats-original\\train\\dog.200.jpg => dst:dogs-vs-cats\\validation\\dog\\dog.200.jpg\n",
      "src:dogs-vs-cats-original\\train\\dog.300.jpg => dst:dogs-vs-cats\\validation\\dog\\dog.300.jpg\n",
      "src:dogs-vs-cats-original\\train\\dog.400.jpg => dst:dogs-vs-cats\\validation\\dog\\dog.400.jpg\n",
      "src:dogs-vs-cats-original\\train\\dog.500.jpg => dst:dogs-vs-cats\\validation\\dog\\dog.500.jpg\n",
      "src:dogs-vs-cats-original\\train\\dog.600.jpg => dst:dogs-vs-cats\\validation\\dog\\dog.600.jpg\n",
      "src:dogs-vs-cats-original\\train\\dog.700.jpg => dst:dogs-vs-cats\\validation\\dog\\dog.700.jpg\n",
      "src:dogs-vs-cats-original\\train\\dog.800.jpg => dst:dogs-vs-cats\\validation\\dog\\dog.800.jpg\n",
      "src:dogs-vs-cats-original\\train\\dog.900.jpg => dst:dogs-vs-cats\\validation\\dog\\dog.900.jpg\n",
      "src:dogs-vs-cats-original\\train\\dog.1000.jpg => dst:dogs-vs-cats\\validation\\dog\\dog.1000.jpg\n",
      "src:dogs-vs-cats-original\\train\\dog.1100.jpg => dst:dogs-vs-cats\\validation\\dog\\dog.1100.jpg\n",
      "src:dogs-vs-cats-original\\train\\dog.1200.jpg => dst:dogs-vs-cats\\validation\\dog\\dog.1200.jpg\n",
      "src:dogs-vs-cats-original\\train\\dog.1300.jpg => dst:dogs-vs-cats\\validation\\dog\\dog.1300.jpg\n",
      "src:dogs-vs-cats-original\\train\\dog.1400.jpg => dst:dogs-vs-cats\\validation\\dog\\dog.1400.jpg\n",
      "src:dogs-vs-cats-original\\train\\dog.1500.jpg => dst:dogs-vs-cats\\validation\\dog\\dog.1500.jpg\n",
      "src:dogs-vs-cats-original\\train\\dog.1600.jpg => dst:dogs-vs-cats\\validation\\dog\\dog.1600.jpg\n",
      "src:dogs-vs-cats-original\\train\\dog.1700.jpg => dst:dogs-vs-cats\\validation\\dog\\dog.1700.jpg\n",
      "src:dogs-vs-cats-original\\train\\dog.1800.jpg => dst:dogs-vs-cats\\validation\\dog\\dog.1800.jpg\n",
      "src:dogs-vs-cats-original\\train\\dog.1900.jpg => dst:dogs-vs-cats\\validation\\dog\\dog.1900.jpg\n",
      "src:dogs-vs-cats-original\\train\\dog.2000.jpg => dst:dogs-vs-cats\\validation\\dog\\dog.2000.jpg\n",
      "src:dogs-vs-cats-original\\train\\dog.2100.jpg => dst:dogs-vs-cats\\validation\\dog\\dog.2100.jpg\n",
      "src:dogs-vs-cats-original\\train\\dog.2200.jpg => dst:dogs-vs-cats\\validation\\dog\\dog.2200.jpg\n",
      "src:dogs-vs-cats-original\\train\\dog.2300.jpg => dst:dogs-vs-cats\\validation\\dog\\dog.2300.jpg\n",
      "src:dogs-vs-cats-original\\train\\cat.0.jpg => dst:dogs-vs-cats\\validation\\cat\\cat.0.jpg\n",
      "src:dogs-vs-cats-original\\train\\cat.100.jpg => dst:dogs-vs-cats\\validation\\cat\\cat.100.jpg\n",
      "src:dogs-vs-cats-original\\train\\cat.200.jpg => dst:dogs-vs-cats\\validation\\cat\\cat.200.jpg\n",
      "src:dogs-vs-cats-original\\train\\cat.300.jpg => dst:dogs-vs-cats\\validation\\cat\\cat.300.jpg\n",
      "src:dogs-vs-cats-original\\train\\cat.400.jpg => dst:dogs-vs-cats\\validation\\cat\\cat.400.jpg\n",
      "src:dogs-vs-cats-original\\train\\cat.500.jpg => dst:dogs-vs-cats\\validation\\cat\\cat.500.jpg\n",
      "src:dogs-vs-cats-original\\train\\cat.600.jpg => dst:dogs-vs-cats\\validation\\cat\\cat.600.jpg\n",
      "src:dogs-vs-cats-original\\train\\cat.700.jpg => dst:dogs-vs-cats\\validation\\cat\\cat.700.jpg\n",
      "src:dogs-vs-cats-original\\train\\cat.800.jpg => dst:dogs-vs-cats\\validation\\cat\\cat.800.jpg\n",
      "src:dogs-vs-cats-original\\train\\cat.900.jpg => dst:dogs-vs-cats\\validation\\cat\\cat.900.jpg\n",
      "src:dogs-vs-cats-original\\train\\cat.1000.jpg => dst:dogs-vs-cats\\validation\\cat\\cat.1000.jpg\n",
      "src:dogs-vs-cats-original\\train\\cat.1100.jpg => dst:dogs-vs-cats\\validation\\cat\\cat.1100.jpg\n",
      "src:dogs-vs-cats-original\\train\\cat.1200.jpg => dst:dogs-vs-cats\\validation\\cat\\cat.1200.jpg\n",
      "src:dogs-vs-cats-original\\train\\cat.1300.jpg => dst:dogs-vs-cats\\validation\\cat\\cat.1300.jpg\n",
      "src:dogs-vs-cats-original\\train\\cat.1400.jpg => dst:dogs-vs-cats\\validation\\cat\\cat.1400.jpg\n",
      "src:dogs-vs-cats-original\\train\\cat.1500.jpg => dst:dogs-vs-cats\\validation\\cat\\cat.1500.jpg\n",
      "src:dogs-vs-cats-original\\train\\cat.1600.jpg => dst:dogs-vs-cats\\validation\\cat\\cat.1600.jpg\n",
      "src:dogs-vs-cats-original\\train\\cat.1700.jpg => dst:dogs-vs-cats\\validation\\cat\\cat.1700.jpg\n",
      "src:dogs-vs-cats-original\\train\\cat.1800.jpg => dst:dogs-vs-cats\\validation\\cat\\cat.1800.jpg\n",
      "src:dogs-vs-cats-original\\train\\cat.1900.jpg => dst:dogs-vs-cats\\validation\\cat\\cat.1900.jpg\n",
      "src:dogs-vs-cats-original\\train\\cat.2000.jpg => dst:dogs-vs-cats\\validation\\cat\\cat.2000.jpg\n",
      "src:dogs-vs-cats-original\\train\\cat.2100.jpg => dst:dogs-vs-cats\\validation\\cat\\cat.2100.jpg\n",
      "src:dogs-vs-cats-original\\train\\cat.2200.jpg => dst:dogs-vs-cats\\validation\\cat\\cat.2200.jpg\n",
      "src:dogs-vs-cats-original\\train\\cat.2300.jpg => dst:dogs-vs-cats\\validation\\cat\\cat.2300.jpg\n"
     ]
    }
   ],
   "source": [
    "make_dataset_for_image_dataset_from_directory('validation', 0, 2399)"
   ]
  },
  {
   "cell_type": "code",
   "execution_count": 56,
   "metadata": {},
   "outputs": [
    {
     "name": "stdout",
     "output_type": "stream",
     "text": [
      "src:dogs-vs-cats-original\\train\\dog.12000.jpg => dst:dogs-vs-cats\\test\\dog\\dog.12000.jpg\n",
      "src:dogs-vs-cats-original\\train\\dog.12100.jpg => dst:dogs-vs-cats\\test\\dog\\dog.12100.jpg\n",
      "src:dogs-vs-cats-original\\train\\dog.12200.jpg => dst:dogs-vs-cats\\test\\dog\\dog.12200.jpg\n",
      "src:dogs-vs-cats-original\\train\\dog.12300.jpg => dst:dogs-vs-cats\\test\\dog\\dog.12300.jpg\n",
      "src:dogs-vs-cats-original\\train\\dog.12400.jpg => dst:dogs-vs-cats\\test\\dog\\dog.12400.jpg\n",
      "src:dogs-vs-cats-original\\train\\cat.12000.jpg => dst:dogs-vs-cats\\test\\cat\\cat.12000.jpg\n",
      "src:dogs-vs-cats-original\\train\\cat.12100.jpg => dst:dogs-vs-cats\\test\\cat\\cat.12100.jpg\n",
      "src:dogs-vs-cats-original\\train\\cat.12200.jpg => dst:dogs-vs-cats\\test\\cat\\cat.12200.jpg\n",
      "src:dogs-vs-cats-original\\train\\cat.12300.jpg => dst:dogs-vs-cats\\test\\cat\\cat.12300.jpg\n",
      "src:dogs-vs-cats-original\\train\\cat.12400.jpg => dst:dogs-vs-cats\\test\\cat\\cat.12400.jpg\n"
     ]
    }
   ],
   "source": [
    "make_dataset_for_image_dataset_from_directory('test', 12000, 12499)"
   ]
  },
  {
   "cell_type": "markdown",
   "metadata": {},
   "source": [
    "Let's make Dataset objects"
   ]
  },
  {
   "cell_type": "markdown",
   "metadata": {},
   "source": [
    "We are ready for image_dataset_from_directory"
   ]
  },
  {
   "cell_type": "code",
   "execution_count": 57,
   "metadata": {},
   "outputs": [],
   "source": [
    "import tensorflow as tf"
   ]
  },
  {
   "cell_type": "code",
   "execution_count": 58,
   "metadata": {},
   "outputs": [
    {
     "name": "stdout",
     "output_type": "stream",
     "text": [
      "Found 19198 files belonging to 2 classes.\n"
     ]
    }
   ],
   "source": [
    "train_dataset = tf.keras.utils.image_dataset_from_directory(\n",
    "    base_dir / 'train',\n",
    "    image_size=(180,180),\n",
    "    batch_size=32\n",
    ")"
   ]
  },
  {
   "cell_type": "code",
   "execution_count": 59,
   "metadata": {},
   "outputs": [
    {
     "name": "stdout",
     "output_type": "stream",
     "text": [
      "data batch shape: (32, 180, 180, 3)\n",
      "label batch shape: (32,)\n",
      "labels: [0 0 0 1 0 0 1 1 0 0 1 1 1 0 1 0 1 1 0 1 0 1 0 0 1 1 0 1 1 0 1 1]\n"
     ]
    }
   ],
   "source": [
    "for data_batch, labels_batch in train_dataset:\n",
    "    print(f'data batch shape: {data_batch.shape}')\n",
    "    print(f'label batch shape: {labels_batch.shape}')\n",
    "    print(f'labels: {labels_batch}')\n",
    "    break"
   ]
  },
  {
   "cell_type": "code",
   "execution_count": 60,
   "metadata": {},
   "outputs": [
    {
     "name": "stdout",
     "output_type": "stream",
     "text": [
      "Found 4798 files belonging to 2 classes.\n"
     ]
    }
   ],
   "source": [
    "validation_dataset = tf.keras.utils.image_dataset_from_directory(\n",
    "    base_dir / 'validation',\n",
    "    image_size=(180,180),\n",
    "    batch_size=32\n",
    ")"
   ]
  },
  {
   "cell_type": "code",
   "execution_count": 61,
   "metadata": {},
   "outputs": [
    {
     "name": "stdout",
     "output_type": "stream",
     "text": [
      "Found 998 files belonging to 2 classes.\n"
     ]
    }
   ],
   "source": [
    "test_dataset = tf.keras.utils.image_dataset_from_directory(\n",
    "    base_dir / 'test',\n",
    "    image_size=(180,180),\n",
    "    batch_size=32\n",
    ")"
   ]
  },
  {
   "cell_type": "code",
   "execution_count": 62,
   "metadata": {},
   "outputs": [],
   "source": [
    "import tensorflow as tf\n",
    "from tensorflow import keras\n",
    "from keras import layers"
   ]
  },
  {
   "cell_type": "code",
   "execution_count": 63,
   "metadata": {},
   "outputs": [],
   "source": [
    "inputs = layers.Input(shape=(180, 180, 3))\n",
    "x = layers.Rescaling(1./255)(inputs)\n",
    "x = layers.Conv2D(filters=16, kernel_size=3, activation=\"relu\")(x)\n",
    "x = layers.AveragePooling2D(pool_size=2)(x)\n",
    "x = layers.Conv2D(filters=32, kernel_size=3, activation=\"relu\")(x)\n",
    "x = layers.AveragePooling2D(pool_size=2)(x)\n",
    "x = layers.Conv2D(filters=64, kernel_size=3, activation=\"relu\")(x)\n",
    "x = layers.AveragePooling2D(pool_size=2)(x)\n",
    "\n",
    "x = layers.Flatten()(x)\n",
    "outputs = layers.Dense(1, activation=\"sigmoid\")(x)"
   ]
  },
  {
   "cell_type": "code",
   "execution_count": 64,
   "metadata": {},
   "outputs": [],
   "source": [
    "model = tf.keras.Model(inputs=inputs, outputs=outputs)"
   ]
  },
  {
   "cell_type": "code",
   "execution_count": 65,
   "metadata": {},
   "outputs": [],
   "source": [
    "model.compile(loss='binary_crossentropy',\n",
    "              optimizer='rmsprop',\n",
    "              metrics=['accuracy'])"
   ]
  },
  {
   "cell_type": "code",
   "execution_count": 66,
   "metadata": {},
   "outputs": [
    {
     "name": "stdout",
     "output_type": "stream",
     "text": [
      "Model: \"model_2\"\n",
      "_________________________________________________________________\n",
      " Layer (type)                Output Shape              Param #   \n",
      "=================================================================\n",
      " input_3 (InputLayer)        [(None, 180, 180, 3)]     0         \n",
      "                                                                 \n",
      " rescaling_2 (Rescaling)     (None, 180, 180, 3)       0         \n",
      "                                                                 \n",
      " conv2d_7 (Conv2D)           (None, 178, 178, 16)      448       \n",
      "                                                                 \n",
      " average_pooling2d_7 (Averag  (None, 89, 89, 16)       0         \n",
      " ePooling2D)                                                     \n",
      "                                                                 \n",
      " conv2d_8 (Conv2D)           (None, 87, 87, 32)        4640      \n",
      "                                                                 \n",
      " average_pooling2d_8 (Averag  (None, 43, 43, 32)       0         \n",
      " ePooling2D)                                                     \n",
      "                                                                 \n",
      " conv2d_9 (Conv2D)           (None, 41, 41, 64)        18496     \n",
      "                                                                 \n",
      " average_pooling2d_9 (Averag  (None, 20, 20, 64)       0         \n",
      " ePooling2D)                                                     \n",
      "                                                                 \n",
      " flatten_2 (Flatten)         (None, 25600)             0         \n",
      "                                                                 \n",
      " dense_3 (Dense)             (None, 1)                 25601     \n",
      "                                                                 \n",
      "=================================================================\n",
      "Total params: 49,185\n",
      "Trainable params: 49,185\n",
      "Non-trainable params: 0\n",
      "_________________________________________________________________\n"
     ]
    }
   ],
   "source": [
    "model.summary()"
   ]
  },
  {
   "cell_type": "code",
   "execution_count": 67,
   "metadata": {},
   "outputs": [],
   "source": [
    "callbacks = [\n",
    "    tf.keras.callbacks.EarlyStopping(patience=2),\n",
    "    tf.keras.callbacks.ModelCheckpoint(filepath='model.{epoch:02d}-{val_loss:.2f}.keras'),\n",
    "    tf.keras.callbacks.TensorBoard(log_dir='./logs'),\n",
    "]"
   ]
  },
  {
   "cell_type": "code",
   "execution_count": 68,
   "metadata": {},
   "outputs": [
    {
     "name": "stdout",
     "output_type": "stream",
     "text": [
      "Epoch 1/20\n",
      "600/600 [==============================] - 145s 239ms/step - loss: 0.6242 - accuracy: 0.6507 - val_loss: 0.5569 - val_accuracy: 0.7220\n",
      "Epoch 2/20\n",
      "600/600 [==============================] - 113s 188ms/step - loss: 0.5356 - accuracy: 0.7322 - val_loss: 0.5025 - val_accuracy: 0.7566\n",
      "Epoch 3/20\n",
      "600/600 [==============================] - 111s 184ms/step - loss: 0.4835 - accuracy: 0.7691 - val_loss: 0.4842 - val_accuracy: 0.7695\n",
      "Epoch 4/20\n",
      "600/600 [==============================] - 112s 186ms/step - loss: 0.4467 - accuracy: 0.7931 - val_loss: 0.4514 - val_accuracy: 0.7918\n",
      "Epoch 5/20\n",
      "600/600 [==============================] - 113s 188ms/step - loss: 0.4215 - accuracy: 0.8107 - val_loss: 0.4592 - val_accuracy: 0.7828\n",
      "Epoch 6/20\n",
      "600/600 [==============================] - 110s 183ms/step - loss: 0.3934 - accuracy: 0.8250 - val_loss: 0.4686 - val_accuracy: 0.7780\n"
     ]
    }
   ],
   "source": [
    "history = model.fit(train_dataset, epochs=20, \n",
    "                    validation_data=validation_dataset, \n",
    "                    callbacks=callbacks)"
   ]
  },
  {
   "cell_type": "code",
   "execution_count": 69,
   "metadata": {},
   "outputs": [],
   "source": [
    "import matplotlib.pyplot as plt"
   ]
  },
  {
   "cell_type": "code",
   "execution_count": 70,
   "metadata": {},
   "outputs": [],
   "source": [
    "acc = history.history['accuracy']\n",
    "loss = history.history['loss']"
   ]
  },
  {
   "cell_type": "code",
   "execution_count": 71,
   "metadata": {},
   "outputs": [
    {
     "data": {
      "text/plain": [
       "[<matplotlib.lines.Line2D at 0x249337081f0>]"
      ]
     },
     "execution_count": 71,
     "metadata": {},
     "output_type": "execute_result"
    },
    {
     "data": {
      "image/png": "[encoded data removed]",
      "text/plain": [
       "<Figure size 640x480 with 1 Axes>"
      ]
     },
     "metadata": {},
     "output_type": "display_data"
    }
   ],
   "source": [
    "plt.plot(range(1, len(acc)+1), acc, label='Traiing Acc')"
   ]
  },
  {
   "cell_type": "code",
   "execution_count": 72,
   "metadata": {},
   "outputs": [
    {
     "name": "stdout",
     "output_type": "stream",
     "text": [
      "1/1 [==============================] - 0s 150ms/step\n"
     ]
    }
   ],
   "source": [
    "for test_batch, labels_batch in test_dataset:\n",
    "    predictions = model.predict(test_batch)\n",
    "    break"
   ]
  },
  {
   "cell_type": "code",
   "execution_count": 73,
   "metadata": {},
   "outputs": [
    {
     "data": {
      "text/plain": [
       "array([[0.01138461],\n",
       "       [0.8740075 ],\n",
       "       [0.11678939],\n",
       "       [0.15712383],\n",
       "       [0.00408531],\n",
       "       [0.9910618 ],\n",
       "       [0.6274728 ],\n",
       "       [0.7291911 ],\n",
       "       [0.6123839 ],\n",
       "       [0.0504461 ],\n",
       "       [0.49936026],\n",
       "       [0.42933992],\n",
       "       [0.5457321 ],\n",
       "       [0.16325556],\n",
       "       [0.6792277 ],\n",
       "       [0.1944184 ],\n",
       "       [0.52306324],\n",
       "       [0.38410443],\n",
       "       [0.1931249 ],\n",
       "       [0.94327277],\n",
       "       [0.99415416],\n",
       "       [0.99379516],\n",
       "       [0.6873026 ],\n",
       "       [0.23273149],\n",
       "       [0.14422193],\n",
       "       [0.29141384],\n",
       "       [0.01465573],\n",
       "       [0.24543282],\n",
       "       [0.09092996],\n",
       "       [0.19684055],\n",
       "       [0.02114712],\n",
       "       [0.10366005]], dtype=float32)"
      ]
     },
     "execution_count": 73,
     "metadata": {},
     "output_type": "execute_result"
    }
   ],
   "source": [
    "predictions"
   ]
  },
  {
   "cell_type": "markdown",
   "metadata": {},
   "source": [
    "Data Augmentation"
   ]
  },
  {
   "cell_type": "code",
   "execution_count": 74,
   "metadata": {},
   "outputs": [],
   "source": [
    "import tensorflow as tf\n",
    "from tensorflow import keras\n",
    "from keras import layers\n",
    "import datetime"
   ]
  },
  {
   "cell_type": "code",
   "execution_count": 75,
   "metadata": {},
   "outputs": [],
   "source": [
    "data_augmentation = tf.keras.Sequential([\n",
    "    layers.RandomFlip('horizontal'),\n",
    "    layers.RandomRotation(0.1),\n",
    "    layers.RandomZoom(0.2)\n",
    "])"
   ]
  },
  {
   "cell_type": "code",
   "execution_count": 76,
   "metadata": {},
   "outputs": [
    {
     "name": "stdout",
     "output_type": "stream",
     "text": [
      "WARNING:tensorflow:Using a while_loop for converting RngReadAndSkip cause there is no registered converter for this op.\n",
      "WARNING:tensorflow:Using a while_loop for converting Bitcast cause there is no registered converter for this op.\n",
      "WARNING:tensorflow:Using a while_loop for converting Bitcast cause there is no registered converter for this op.\n",
      "WARNING:tensorflow:Using a while_loop for converting StatelessRandomUniformV2 cause there is no registered converter for this op.\n",
      "WARNING:tensorflow:Using a while_loop for converting ImageProjectiveTransformV3 cause there is no registered converter for this op.\n",
      "WARNING:tensorflow:Using a while_loop for converting RngReadAndSkip cause there is no registered converter for this op.\n",
      "WARNING:tensorflow:Using a while_loop for converting Bitcast cause there is no registered converter for this op.\n",
      "WARNING:tensorflow:Using a while_loop for converting Bitcast cause there is no registered converter for this op.\n",
      "WARNING:tensorflow:Using a while_loop for converting StatelessRandomUniformV2 cause there is no registered converter for this op.\n",
      "WARNING:tensorflow:Using a while_loop for converting ImageProjectiveTransformV3 cause there is no registered converter for this op.\n",
      "WARNING:tensorflow:Using a while_loop for converting RngReadAndSkip cause there is no registered converter for this op.\n",
      "WARNING:tensorflow:Using a while_loop for converting Bitcast cause there is no registered converter for this op.\n",
      "WARNING:tensorflow:Using a while_loop for converting Bitcast cause there is no registered converter for this op.\n",
      "WARNING:tensorflow:Using a while_loop for converting StatelessRandomUniformV2 cause there is no registered converter for this op.\n",
      "WARNING:tensorflow:Using a while_loop for converting ImageProjectiveTransformV3 cause there is no registered converter for this op.\n",
      "WARNING:tensorflow:Using a while_loop for converting RngReadAndSkip cause there is no registered converter for this op.\n",
      "WARNING:tensorflow:Using a while_loop for converting Bitcast cause there is no registered converter for this op.\n",
      "WARNING:tensorflow:Using a while_loop for converting Bitcast cause there is no registered converter for this op.\n",
      "WARNING:tensorflow:Using a while_loop for converting StatelessRandomUniformV2 cause there is no registered converter for this op.\n",
      "WARNING:tensorflow:Using a while_loop for converting ImageProjectiveTransformV3 cause there is no registered converter for this op.\n"
     ]
    }
   ],
   "source": [
    "inputs = layers.Input(shape=(180, 180, 3))\n",
    "x = data_augmentation(inputs)\n",
    "x = layers.Rescaling(1./255)(x)\n",
    "x = layers.Conv2D(filters=32, kernel_size=3, activation=\"relu\")(x)\n",
    "x = layers.AveragePooling2D(pool_size=2)(x)\n",
    "x = layers.Conv2D(filters=64, kernel_size=3, activation=\"relu\")(x)\n",
    "x = layers.AveragePooling2D(pool_size=2)(x)\n",
    "x = layers.Conv2D(filters=128, kernel_size=3, activation=\"relu\")(x)\n",
    "x = layers.AveragePooling2D(pool_size=2)(x)\n",
    "x = layers.Conv2D(filters=256, kernel_size=3, activation=\"relu\")(x)\n",
    "x = layers.AveragePooling2D(pool_size=2)(x)\n",
    "#x = layers.Conv2D(filters=256, kernel_size=3, activation=\"relu\")(x)\n",
    "#x = layers.AveragePooling2D(pool_size=2)(x)\n",
    "\n",
    "x = layers.Flatten()(x)\n",
    "x = layers.Dense(200, activation=\"relu\")(x)\n",
    "outputs = layers.Dense(1, activation=\"sigmoid\")(x)\n"
   ]
  },
  {
   "cell_type": "code",
   "execution_count": 77,
   "metadata": {},
   "outputs": [],
   "source": [
    "model = tf.keras.Model(inputs=inputs, outputs=outputs)"
   ]
  },
  {
   "cell_type": "code",
   "execution_count": 78,
   "metadata": {},
   "outputs": [
    {
     "name": "stdout",
     "output_type": "stream",
     "text": [
      "Model: \"model_3\"\n",
      "_________________________________________________________________\n",
      " Layer (type)                Output Shape              Param #   \n",
      "=================================================================\n",
      " input_4 (InputLayer)        [(None, 180, 180, 3)]     0         \n",
      "                                                                 \n",
      " sequential_1 (Sequential)   (None, 180, 180, 3)       0         \n",
      "                                                                 \n",
      " rescaling_3 (Rescaling)     (None, 180, 180, 3)       0         \n",
      "                                                                 \n",
      " conv2d_10 (Conv2D)          (None, 178, 178, 32)      896       \n",
      "                                                                 \n",
      " average_pooling2d_10 (Avera  (None, 89, 89, 32)       0         \n",
      " gePooling2D)                                                    \n",
      "                                                                 \n",
      " conv2d_11 (Conv2D)          (None, 87, 87, 64)        18496     \n",
      "                                                                 \n",
      " average_pooling2d_11 (Avera  (None, 43, 43, 64)       0         \n",
      " gePooling2D)                                                    \n",
      "                                                                 \n",
      " conv2d_12 (Conv2D)          (None, 41, 41, 128)       73856     \n",
      "                                                                 \n",
      " average_pooling2d_12 (Avera  (None, 20, 20, 128)      0         \n",
      " gePooling2D)                                                    \n",
      "                                                                 \n",
      " conv2d_13 (Conv2D)          (None, 18, 18, 256)       295168    \n",
      "                                                                 \n",
      " average_pooling2d_13 (Avera  (None, 9, 9, 256)        0         \n",
      " gePooling2D)                                                    \n",
      "                                                                 \n",
      " flatten_3 (Flatten)         (None, 20736)             0         \n",
      "                                                                 \n",
      " dense_4 (Dense)             (None, 200)               4147400   \n",
      "                                                                 \n",
      " dense_5 (Dense)             (None, 1)                 201       \n",
      "                                                                 \n",
      "=================================================================\n",
      "Total params: 4,536,017\n",
      "Trainable params: 4,536,017\n",
      "Non-trainable params: 0\n",
      "_________________________________________________________________\n"
     ]
    }
   ],
   "source": [
    "model.summary()"
   ]
  },
  {
   "cell_type": "code",
   "execution_count": 79,
   "metadata": {},
   "outputs": [],
   "source": [
    "model.compile(loss='binary_crossentropy',\n",
    "              optimizer='adam',\n",
    "              metrics=['accuracy'])"
   ]
  },
  {
   "cell_type": "code",
   "execution_count": 80,
   "metadata": {},
   "outputs": [],
   "source": [
    "shutil.rmtree('./logs')"
   ]
  },
  {
   "cell_type": "code",
   "execution_count": 81,
   "metadata": {},
   "outputs": [],
   "source": [
    "log_dir = \"logs/fit/\" + datetime.datetime.now().strftime(\"%Y%m%d-%H%M%S\")"
   ]
  },
  {
   "cell_type": "code",
   "execution_count": 82,
   "metadata": {},
   "outputs": [],
   "source": [
    "callbacks = [\n",
    "    tf.keras.callbacks.EarlyStopping(patience=5),\n",
    "    tf.keras.callbacks.ModelCheckpoint(filepath='model.{epoch:02d}-{val_loss:.2f}.keras'),\n",
    "    tf.keras.callbacks.TensorBoard(log_dir=log_dir, histogram_freq=1)\n",
    "]"
   ]
  },
  {
   "cell_type": "code",
   "execution_count": 83,
   "metadata": {},
   "outputs": [
    {
     "name": "stdout",
     "output_type": "stream",
     "text": [
      "Epoch 1/20\n",
      "WARNING:tensorflow:Using a while_loop for converting RngReadAndSkip cause there is no registered converter for this op.\n",
      "WARNING:tensorflow:Using a while_loop for converting Bitcast cause there is no registered converter for this op.\n",
      "WARNING:tensorflow:Using a while_loop for converting Bitcast cause there is no registered converter for this op.\n",
      "WARNING:tensorflow:Using a while_loop for converting StatelessRandomUniformV2 cause there is no registered converter for this op.\n",
      "WARNING:tensorflow:Using a while_loop for converting ImageProjectiveTransformV3 cause there is no registered converter for this op.\n",
      "WARNING:tensorflow:Using a while_loop for converting RngReadAndSkip cause there is no registered converter for this op.\n",
      "WARNING:tensorflow:Using a while_loop for converting Bitcast cause there is no registered converter for this op.\n",
      "WARNING:tensorflow:Using a while_loop for converting Bitcast cause there is no registered converter for this op.\n",
      "WARNING:tensorflow:Using a while_loop for converting StatelessRandomUniformV2 cause there is no registered converter for this op.\n",
      "WARNING:tensorflow:Using a while_loop for converting ImageProjectiveTransformV3 cause there is no registered converter for this op.\n",
      "WARNING:tensorflow:Using a while_loop for converting RngReadAndSkip cause there is no registered converter for this op.\n",
      "WARNING:tensorflow:Using a while_loop for converting Bitcast cause there is no registered converter for this op.\n",
      "WARNING:tensorflow:Using a while_loop for converting Bitcast cause there is no registered converter for this op.\n",
      "WARNING:tensorflow:Using a while_loop for converting StatelessRandomUniformV2 cause there is no registered converter for this op.\n",
      "WARNING:tensorflow:Using a while_loop for converting ImageProjectiveTransformV3 cause there is no registered converter for this op.\n",
      "WARNING:tensorflow:Using a while_loop for converting RngReadAndSkip cause there is no registered converter for this op.\n",
      "WARNING:tensorflow:Using a while_loop for converting Bitcast cause there is no registered converter for this op.\n",
      "WARNING:tensorflow:Using a while_loop for converting Bitcast cause there is no registered converter for this op.\n",
      "WARNING:tensorflow:Using a while_loop for converting StatelessRandomUniformV2 cause there is no registered converter for this op.\n",
      "WARNING:tensorflow:Using a while_loop for converting ImageProjectiveTransformV3 cause there is no registered converter for this op.\n",
      "600/600 [==============================] - 353s 579ms/step - loss: 0.6832 - accuracy: 0.5563 - val_loss: 0.6717 - val_accuracy: 0.5796\n",
      "Epoch 2/20\n",
      "600/600 [==============================] - 362s 603ms/step - loss: 0.6655 - accuracy: 0.5976 - val_loss: 0.6422 - val_accuracy: 0.6244\n",
      "Epoch 3/20\n",
      "600/600 [==============================] - 369s 615ms/step - loss: 0.6254 - accuracy: 0.6494 - val_loss: 0.5714 - val_accuracy: 0.7051\n",
      "Epoch 4/20\n",
      "600/600 [==============================] - 368s 614ms/step - loss: 0.5728 - accuracy: 0.6980 - val_loss: 0.5758 - val_accuracy: 0.6992\n",
      "Epoch 5/20\n",
      "600/600 [==============================] - 375s 624ms/step - loss: 0.5511 - accuracy: 0.7191 - val_loss: 0.5228 - val_accuracy: 0.7330\n",
      "Epoch 6/20\n",
      "600/600 [==============================] - 374s 623ms/step - loss: 0.5242 - accuracy: 0.7379 - val_loss: 0.5201 - val_accuracy: 0.7386\n",
      "Epoch 7/20\n",
      "600/600 [==============================] - 362s 604ms/step - loss: 0.5080 - accuracy: 0.7480 - val_loss: 0.5190 - val_accuracy: 0.7466\n",
      "Epoch 8/20\n",
      "600/600 [==============================] - 356s 593ms/step - loss: 0.4958 - accuracy: 0.7548 - val_loss: 0.5080 - val_accuracy: 0.7503\n",
      "Epoch 9/20\n",
      "600/600 [==============================] - 376s 627ms/step - loss: 0.4755 - accuracy: 0.7732 - val_loss: 0.4581 - val_accuracy: 0.7820\n",
      "Epoch 10/20\n",
      "600/600 [==============================] - 352s 586ms/step - loss: 0.4625 - accuracy: 0.7800 - val_loss: 0.4528 - val_accuracy: 0.7780\n",
      "Epoch 11/20\n",
      "600/600 [==============================] - 827s 1s/step - loss: 0.4463 - accuracy: 0.7882 - val_loss: 0.4431 - val_accuracy: 0.7889\n",
      "Epoch 12/20\n",
      "600/600 [==============================] - 360s 600ms/step - loss: 0.4324 - accuracy: 0.7983 - val_loss: 0.4332 - val_accuracy: 0.7943\n",
      "Epoch 13/20\n",
      "600/600 [==============================] - 1211s 2s/step - loss: 0.4224 - accuracy: 0.8031 - val_loss: 0.4271 - val_accuracy: 0.7976\n",
      "Epoch 14/20\n",
      "600/600 [==============================] - 348s 579ms/step - loss: 0.4057 - accuracy: 0.8126 - val_loss: 0.4161 - val_accuracy: 0.8022\n",
      "Epoch 15/20\n",
      "600/600 [==============================] - 346s 577ms/step - loss: 0.3939 - accuracy: 0.8171 - val_loss: 0.4102 - val_accuracy: 0.8053\n",
      "Epoch 16/20\n",
      "600/600 [==============================] - 362s 603ms/step - loss: 0.3779 - accuracy: 0.8284 - val_loss: 0.4245 - val_accuracy: 0.7968\n",
      "Epoch 17/20\n",
      "600/600 [==============================] - 360s 600ms/step - loss: 0.3630 - accuracy: 0.8378 - val_loss: 0.4188 - val_accuracy: 0.7995\n",
      "Epoch 18/20\n",
      "600/600 [==============================] - 355s 591ms/step - loss: 0.3577 - accuracy: 0.8403 - val_loss: 0.3933 - val_accuracy: 0.8149\n",
      "Epoch 19/20\n",
      "600/600 [==============================] - 348s 581ms/step - loss: 0.3424 - accuracy: 0.8456 - val_loss: 0.3861 - val_accuracy: 0.8247\n",
      "Epoch 20/20\n",
      "600/600 [==============================] - 341s 569ms/step - loss: 0.3273 - accuracy: 0.8568 - val_loss: 0.4089 - val_accuracy: 0.8278\n"
     ]
    }
   ],
   "source": [
    "history = model.fit(train_dataset, epochs=20, \n",
    "                    validation_data=validation_dataset, \n",
    "                    callbacks=callbacks)"
   ]
  },
  {
   "cell_type": "code",
   "execution_count": 84,
   "metadata": {},
   "outputs": [],
   "source": [
    "acc = history.history['accuracy']\n",
    "loss = history.history['loss']"
   ]
  },
  {
   "cell_type": "code",
   "execution_count": 85,
   "metadata": {},
   "outputs": [
    {
     "data": {
      "text/plain": [
       "[<matplotlib.lines.Line2D at 0x249084b1ba0>]"
      ]
     },
     "execution_count": 85,
     "metadata": {},
     "output_type": "execute_result"
    },
    {
     "data": {
      "image/png": "[encoded data removed]",
      "text/plain": [
       "<Figure size 640x480 with 1 Axes>"
      ]
     },
     "metadata": {},
     "output_type": "display_data"
    }
   ],
   "source": [
    "import matplotlib.pyplot as plt\n",
    "\n",
    "plt.plot(range(1, len(acc)+1), acc, label='Traiing Acc')"
   ]
  },
  {
   "cell_type": "code",
   "execution_count": 1,
   "metadata": {},
   "outputs": [
    {
     "name": "stdout",
     "output_type": "stream",
     "text": [
      "OpenSSL 1.1.1w  11 Sep 2023\n"
     ]
    }
   ],
   "source": [
    "import ssl\n",
    "print(ssl.OPENSSL_VERSION)"
   ]
  },
  {
   "cell_type": "code",
   "execution_count": 41,
   "metadata": {},
   "outputs": [],
   "source": [
    "from tensorflow.keras.preprocessing import image"
   ]
  },
  {
   "cell_type": "code",
   "execution_count": 47,
   "metadata": {},
   "outputs": [],
   "source": [
    "from dog_cats import DogsCats"
   ]
  },
  {
   "cell_type": "code",
   "execution_count": 43,
   "metadata": {},
   "outputs": [],
   "source": [
    "image_file = \"dogs-vs-cats\\test\\dog\\dog.12498.jpg\""
   ]
  },
  {
   "cell_type": "code",
   "execution_count": 44,
   "metadata": {},
   "outputs": [],
   "source": [
    "model_path = \"model.10-0.43.keras\""
   ]
  },
  {
   "cell_type": "code",
   "execution_count": 45,
   "metadata": {},
   "outputs": [
    {
     "name": "stdout",
     "output_type": "stream",
     "text": [
      "WARNING:tensorflow:Using a while_loop for converting RngReadAndSkip cause there is no registered converter for this op.\n",
      "WARNING:tensorflow:Using a while_loop for converting Bitcast cause there is no registered converter for this op.\n",
      "WARNING:tensorflow:Using a while_loop for converting Bitcast cause there is no registered converter for this op.\n",
      "WARNING:tensorflow:Using a while_loop for converting StatelessRandomUniformV2 cause there is no registered converter for this op.\n",
      "WARNING:tensorflow:Using a while_loop for converting ImageProjectiveTransformV3 cause there is no registered converter for this op.\n",
      "WARNING:tensorflow:Using a while_loop for converting RngReadAndSkip cause there is no registered converter for this op.\n",
      "WARNING:tensorflow:Using a while_loop for converting Bitcast cause there is no registered converter for this op.\n",
      "WARNING:tensorflow:Using a while_loop for converting Bitcast cause there is no registered converter for this op.\n",
      "WARNING:tensorflow:Using a while_loop for converting StatelessRandomUniformV2 cause there is no registered converter for this op.\n",
      "WARNING:tensorflow:Using a while_loop for converting ImageProjectiveTransformV3 cause there is no registered converter for this op.\n",
      "WARNING:tensorflow:Using a while_loop for converting RngReadAndSkip cause there is no registered converter for this op.\n",
      "WARNING:tensorflow:Using a while_loop for converting Bitcast cause there is no registered converter for this op.\n",
      "WARNING:tensorflow:Using a while_loop for converting Bitcast cause there is no registered converter for this op.\n",
      "WARNING:tensorflow:Using a while_loop for converting StatelessRandomUniformV2 cause there is no registered converter for this op.\n",
      "WARNING:tensorflow:Using a while_loop for converting ImageProjectiveTransformV3 cause there is no registered converter for this op.\n",
      "WARNING:tensorflow:Using a while_loop for converting RngReadAndSkip cause there is no registered converter for this op.\n",
      "WARNING:tensorflow:Using a while_loop for converting Bitcast cause there is no registered converter for this op.\n",
      "WARNING:tensorflow:Using a while_loop for converting Bitcast cause there is no registered converter for this op.\n",
      "WARNING:tensorflow:Using a while_loop for converting StatelessRandomUniformV2 cause there is no registered converter for this op.\n",
      "WARNING:tensorflow:Using a while_loop for converting ImageProjectiveTransformV3 cause there is no registered converter for this op.\n"
     ]
    }
   ],
   "source": [
    "import tensorflow as tf\n",
    "\n",
    "# Load the model from the specified path\n",
    "model = tf.keras.models.load_model(model_path)\n"
   ]
  },
  {
   "cell_type": "code",
   "execution_count": 49,
   "metadata": {},
   "outputs": [
    {
     "ename": "TypeError",
     "evalue": "DogsCats.__init__() got an unexpected keyword argument 'model'",
     "output_type": "error",
     "traceback": [
      "\u001b[1;31m---------------------------------------------------------------------------\u001b[0m",
      "\u001b[1;31mTypeError\u001b[0m                                 Traceback (most recent call last)",
      "Cell \u001b[1;32mIn[49], line 1\u001b[0m\n\u001b[1;32m----> 1\u001b[0m dogs_cats \u001b[38;5;241m=\u001b[39m \u001b[43mDogsCats\u001b[49m\u001b[43m(\u001b[49m\u001b[43mmodel\u001b[49m\u001b[38;5;241;43m=\u001b[39;49m\u001b[43mmodel\u001b[49m\u001b[43m)\u001b[49m\n",
      "\u001b[1;31mTypeError\u001b[0m: DogsCats.__init__() got an unexpected keyword argument 'model'"
     ]
    }
   ],
   "source": [
    "\n",
    "dogs_cats = DogsCats(model=model)"
   ]
  },
  {
   "cell_type": "code",
   "execution_count": null,
   "metadata": {},
   "outputs": [],
   "source": []
  },
  {
   "cell_type": "code",
   "execution_count": 14,
   "metadata": {},
   "outputs": [
    {
     "ename": "TypeError",
     "evalue": "DogsCats.predict() missing 1 required positional argument: 'images'",
     "output_type": "error",
     "traceback": [
      "\u001b[1;31m---------------------------------------------------------------------------\u001b[0m",
      "\u001b[1;31mTypeError\u001b[0m                                 Traceback (most recent call last)",
      "Cell \u001b[1;32mIn[14], line 1\u001b[0m\n\u001b[1;32m----> 1\u001b[0m \u001b[43mdogs_cats\u001b[49m\u001b[38;5;241;43m.\u001b[39;49m\u001b[43mpredict\u001b[49m\u001b[43m(\u001b[49m\u001b[43mimage_file\u001b[49m\u001b[43m)\u001b[49m\n",
      "\u001b[1;31mTypeError\u001b[0m: DogsCats.predict() missing 1 required positional argument: 'images'"
     ]
    }
   ],
   "source": [
    "dogs_cats.predict(image_file)\n"
   ]
  }
 ],
 "metadata": {
  "kernelspec": {
   "display_name": "ece5831-2024",
   "language": "python",
   "name": "python3"
  },
  "language_info": {
   "codemirror_mode": {
    "name": "ipython",
    "version": 3
   },
   "file_extension": ".py",
   "mimetype": "text/x-python",
   "name": "python",
   "nbconvert_exporter": "python",
   "pygments_lexer": "ipython3",
   "version": "3.10.13"
  }
 },
 "nbformat": 4,
 "nbformat_minor": 2
}
