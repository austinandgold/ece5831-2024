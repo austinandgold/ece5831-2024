{
 "cells": [
  {
   "cell_type": "code",
   "execution_count": null,
   "metadata": {},
   "outputs": [],
   "source": [
    "import tensorflow as tf"
   ]
  },
  {
   "cell_type": "code",
   "execution_count": null,
   "metadata": {},
   "outputs": [],
   "source": [
    "import tensorflow.keras.datasets as datasets"
   ]
  },
  {
   "cell_type": "code",
   "execution_count": null,
   "metadata": {},
   "outputs": [],
   "source": [
    "(x_train, y_train), (x_test, y_test) = datasets.imdb.load_data(num_words=10000)"
   ]
  },
  {
   "cell_type": "code",
   "execution_count": null,
   "metadata": {},
   "outputs": [],
   "source": [
    "word_index = datasets.imdb.get_word_index()"
   ]
  },
  {
   "cell_type": "code",
   "execution_count": null,
   "metadata": {},
   "outputs": [],
   "source": [
    "word_index.items()"
   ]
  },
  {
   "cell_type": "code",
   "execution_count": null,
   "metadata": {},
   "outputs": [],
   "source": [
    "for i, (key, index) in enumerate(word_index.items()):\n",
    "    print(f'key:{key} --> index:{index}')\n",
    "    if i == 20:\n",
    "        break"
   ]
  },
  {
   "cell_type": "code",
   "execution_count": null,
   "metadata": {},
   "outputs": [],
   "source": [
    "reverse_word_index = dict( [(value, key) for (key, value) in word_index.items()])"
   ]
  },
  {
   "cell_type": "code",
   "execution_count": null,
   "metadata": {},
   "outputs": [],
   "source": [
    "for i, (index, key) in enumerate(reverse_word_index.items()):\n",
    "    print(f'index:{index} --> key:{key}')\n",
    "    if i == 20:\n",
    "        break"
   ]
  },
  {
   "cell_type": "code",
   "execution_count": null,
   "metadata": {},
   "outputs": [],
   "source": [
    "sample = x_train[0]"
   ]
  },
  {
   "cell_type": "code",
   "execution_count": null,
   "metadata": {},
   "outputs": [],
   "source": [
    "decoded_review = \" \".join([reverse_word_index.get(i - 3, \"?\") for i in sample])"
   ]
  },
  {
   "cell_type": "code",
   "execution_count": null,
   "metadata": {},
   "outputs": [],
   "source": [
    "decoded_review"
   ]
  },
  {
   "cell_type": "code",
   "execution_count": null,
   "metadata": {},
   "outputs": [],
   "source": [
    "len(sample)"
   ]
  },
  {
   "cell_type": "code",
   "execution_count": null,
   "metadata": {},
   "outputs": [],
   "source": [
    "len(x_train[1])"
   ]
  },
  {
   "cell_type": "code",
   "execution_count": null,
   "metadata": {},
   "outputs": [],
   "source": [
    "import numpy as np"
   ]
  },
  {
   "cell_type": "code",
   "execution_count": null,
   "metadata": {},
   "outputs": [],
   "source": [
    "np.zeros((2,3))"
   ]
  },
  {
   "cell_type": "code",
   "execution_count": null,
   "metadata": {},
   "outputs": [],
   "source": [
    "def vectorize_sequences(sequences, dimension=10000):\n",
    "    results = np.zeros((len(sequences), dimension))\n",
    "    for i, sequence in enumerate(sequences):\n",
    "        for j in sequence:\n",
    "            results[i, j] = 1.0\n",
    "        \n",
    "    return results "
   ]
  },
  {
   "cell_type": "code",
   "execution_count": null,
   "metadata": {},
   "outputs": [],
   "source": [
    "x_train = vectorize_sequences(x_train)\n",
    "x_test = vectorize_sequences(x_test)"
   ]
  },
  {
   "cell_type": "code",
   "execution_count": null,
   "metadata": {},
   "outputs": [],
   "source": [
    "import matplotlib.pyplot as plt"
   ]
  },
  {
   "cell_type": "code",
   "execution_count": null,
   "metadata": {},
   "outputs": [],
   "source": [
    "x_train[0]"
   ]
  },
  {
   "cell_type": "code",
   "execution_count": null,
   "metadata": {},
   "outputs": [],
   "source": [
    "y_train = np.asarray(y_train).astype('float32')\n",
    "y_test = np.asarray(y_test).astype('float32')"
   ]
  },
  {
   "cell_type": "code",
   "execution_count": null,
   "metadata": {},
   "outputs": [],
   "source": [
    "y_train[:10]"
   ]
  },
  {
   "cell_type": "code",
   "execution_count": null,
   "metadata": {},
   "outputs": [],
   "source": [
    "model = tf.keras.Sequential([    \n",
    "    \n",
    "    tf.keras.layers.Dense(16, activation='relu'),\n",
    "    tf.keras.layers.Dense(16, activation='relu'),\n",
    "    tf.keras.layers.Dense(1, activation='sigmoid')\n",
    "])"
   ]
  },
  {
   "cell_type": "code",
   "execution_count": null,
   "metadata": {},
   "outputs": [],
   "source": [
    "model.compile(optimizer='rmsprop', loss='binary_crossentropy', metrics=['accuracy'])"
   ]
  },
  {
   "cell_type": "code",
   "execution_count": null,
   "metadata": {},
   "outputs": [],
   "source": [
    "x_val = x_train[:10000]\n",
    "y_val = y_train[:10000]\n",
    "\n",
    "x_train_partial = x_train[10000:]\n",
    "y_train_partial = y_train[10000:]"
   ]
  },
  {
   "cell_type": "code",
   "execution_count": null,
   "metadata": {},
   "outputs": [],
   "source": [
    "callbacks = [\n",
    "    tf.keras.callbacks.EarlyStopping(\n",
    "        monitor='val_loss',\n",
    "        patience=2\n",
    "    ),\n",
    "    tf.keras.callbacks.TensorBoard()\n",
    "]"
   ]
  },
  {
   "cell_type": "code",
   "execution_count": null,
   "metadata": {},
   "outputs": [],
   "source": [
    "history = model.fit(x_train_partial, y_train_partial, epochs=20, batch_size=512,\n",
    "                    validation_data=(x_val, y_val), callbacks=callbacks)"
   ]
  },
  {
   "cell_type": "code",
   "execution_count": null,
   "metadata": {},
   "outputs": [],
   "source": [
    "history_dict = history.history"
   ]
  },
  {
   "cell_type": "code",
   "execution_count": null,
   "metadata": {},
   "outputs": [],
   "source": [
    "loss_values = history_dict['loss']\n",
    "val_loss_values = history_dict['val_loss']\n",
    "epoches = range(1, len(loss_values) + 1)\n",
    "\n",
    "plt.plot(epoches, loss_values, 'b-.', label='Training Loss')\n",
    "plt.plot(epoches, val_loss_values, 'b-', label='Validation Loss')\n",
    "plt.legend()\n",
    "plt.show()"
   ]
  },
  {
   "cell_type": "code",
   "execution_count": null,
   "metadata": {},
   "outputs": [],
   "source": [
    "results = model.evaluate(x_test, y_test)"
   ]
  },
  {
   "cell_type": "code",
   "execution_count": null,
   "metadata": {},
   "outputs": [],
   "source": [
    "plt.clf()\n",
    "acc = history_dict['accuracy']\n",
    "val_acc = history_dict['val_accuracy']\n",
    "epoches = range(1, len(acc) + 1)\n",
    "\n",
    "plt.plot(epoches, acc, 'bo', label='Training acc')\n",
    "plt.plot(epoches, val_acc, 'b', label='Validation acc')\n",
    "plt.legend()\n",
    "plt.show()"
   ]
  },
  {
   "cell_type": "code",
   "execution_count": null,
   "metadata": {},
   "outputs": [],
   "source": [
    "from imdb import Imdb"
   ]
  },
  {
   "cell_type": "code",
   "execution_count": null,
   "metadata": {},
   "outputs": [],
   "source": [
    "imdb = Imdb()"
   ]
  },
  {
   "cell_type": "code",
   "execution_count": null,
   "metadata": {},
   "outputs": [],
   "source": [
    "x_train, y_train, x_test, y_test = imdb.prepare_data()"
   ]
  },
  {
   "cell_type": "code",
   "execution_count": null,
   "metadata": {},
   "outputs": [],
   "source": [
    "model = imdb.build_model()"
   ]
  },
  {
   "cell_type": "code",
   "execution_count": null,
   "metadata": {},
   "outputs": [],
   "source": [
    "history_dict = imdb.train(x_train, y_train, model)"
   ]
  },
  {
   "cell_type": "code",
   "execution_count": null,
   "metadata": {},
   "outputs": [],
   "source": [
    "imdb.plot_loss(history_dict)"
   ]
  },
  {
   "cell_type": "code",
   "execution_count": null,
   "metadata": {},
   "outputs": [],
   "source": [
    "imdb.plot_accuracy(history_dict)"
   ]
  },
  {
   "cell_type": "code",
   "execution_count": null,
   "metadata": {},
   "outputs": [],
   "source": [
    "test_results = imdb.evaluate(model, x_test, y_test)\n",
    "print(\"Test Results:\", test_results)"
   ]
  },
  {
   "cell_type": "code",
   "execution_count": 1,
   "metadata": {},
   "outputs": [],
   "source": [
    "from reuters import Reuters"
   ]
  },
  {
   "cell_type": "code",
   "execution_count": 2,
   "metadata": {},
   "outputs": [],
   "source": [
    "reuters = Reuters()"
   ]
  },
  {
   "cell_type": "code",
   "execution_count": 3,
   "metadata": {},
   "outputs": [],
   "source": [
    "x_train, y_train, x_test, y_test = reuters.prepare_data()"
   ]
  },
  {
   "cell_type": "code",
   "execution_count": 4,
   "metadata": {},
   "outputs": [],
   "source": [
    "model = reuters.build_model()"
   ]
  },
  {
   "cell_type": "code",
   "execution_count": 5,
   "metadata": {},
   "outputs": [
    {
     "name": "stdout",
     "output_type": "stream",
     "text": [
      "Epoch 1/20\n",
      "15/15 [==============================] - 1s 36ms/step - loss: 2.8445 - accuracy: 0.5237 - val_loss: 1.9049 - val_accuracy: 0.6238\n",
      "Epoch 2/20\n",
      "15/15 [==============================] - 0s 17ms/step - loss: 1.5522 - accuracy: 0.6843 - val_loss: 1.4472 - val_accuracy: 0.6839\n",
      "Epoch 3/20\n",
      "15/15 [==============================] - 0s 15ms/step - loss: 1.1602 - accuracy: 0.7447 - val_loss: 1.3681 - val_accuracy: 0.6555\n",
      "Epoch 4/20\n",
      "15/15 [==============================] - 0s 14ms/step - loss: 0.9501 - accuracy: 0.7946 - val_loss: 1.2427 - val_accuracy: 0.7206\n",
      "Epoch 5/20\n",
      "15/15 [==============================] - 0s 14ms/step - loss: 0.7820 - accuracy: 0.8401 - val_loss: 1.1216 - val_accuracy: 0.7501\n",
      "Epoch 6/20\n",
      "15/15 [==============================] - 0s 14ms/step - loss: 0.6415 - accuracy: 0.8671 - val_loss: 1.0241 - val_accuracy: 0.7791\n",
      "Epoch 7/20\n",
      "15/15 [==============================] - 0s 17ms/step - loss: 0.5200 - accuracy: 0.8937 - val_loss: 0.9969 - val_accuracy: 0.7863\n",
      "Epoch 8/20\n",
      "15/15 [==============================] - 0s 15ms/step - loss: 0.4233 - accuracy: 0.9162 - val_loss: 0.9910 - val_accuracy: 0.7774\n",
      "Epoch 9/20\n",
      "15/15 [==============================] - 0s 19ms/step - loss: 0.3435 - accuracy: 0.9325 - val_loss: 1.0426 - val_accuracy: 0.7791\n",
      "Epoch 10/20\n",
      "15/15 [==============================] - 0s 18ms/step - loss: 0.2884 - accuracy: 0.9400 - val_loss: 1.0100 - val_accuracy: 0.7663\n",
      "Epoch 11/20\n",
      "15/15 [==============================] - 0s 16ms/step - loss: 0.2410 - accuracy: 0.9482 - val_loss: 0.9973 - val_accuracy: 0.7858\n",
      "Epoch 12/20\n",
      "15/15 [==============================] - 0s 15ms/step - loss: 0.2103 - accuracy: 0.9510 - val_loss: 1.0455 - val_accuracy: 0.7858\n",
      "Epoch 13/20\n",
      "15/15 [==============================] - 0s 14ms/step - loss: 0.1812 - accuracy: 0.9564 - val_loss: 0.9682 - val_accuracy: 0.7958\n",
      "Epoch 14/20\n",
      "15/15 [==============================] - 0s 17ms/step - loss: 0.1608 - accuracy: 0.9594 - val_loss: 0.9855 - val_accuracy: 0.7986\n",
      "Epoch 15/20\n",
      "15/15 [==============================] - 0s 16ms/step - loss: 0.1459 - accuracy: 0.9595 - val_loss: 1.0186 - val_accuracy: 0.8008\n",
      "Epoch 16/20\n",
      "15/15 [==============================] - 0s 15ms/step - loss: 0.1344 - accuracy: 0.9599 - val_loss: 1.1505 - val_accuracy: 0.7741\n",
      "Epoch 17/20\n",
      "15/15 [==============================] - 0s 15ms/step - loss: 0.1284 - accuracy: 0.9592 - val_loss: 1.2024 - val_accuracy: 0.7646\n",
      "Epoch 18/20\n",
      "15/15 [==============================] - 0s 14ms/step - loss: 0.1206 - accuracy: 0.9599 - val_loss: 1.1328 - val_accuracy: 0.7902\n",
      "Epoch 19/20\n",
      "15/15 [==============================] - 0s 14ms/step - loss: 0.1114 - accuracy: 0.9621 - val_loss: 1.1317 - val_accuracy: 0.7869\n",
      "Epoch 20/20\n",
      "15/15 [==============================] - 0s 14ms/step - loss: 0.1089 - accuracy: 0.9610 - val_loss: 1.1528 - val_accuracy: 0.7924\n"
     ]
    }
   ],
   "source": [
    "history_dict = reuters.train(x_train, y_train, model)"
   ]
  },
  {
   "cell_type": "code",
   "execution_count": 7,
   "metadata": {},
   "outputs": [
    {
     "data": {
      "image/png": "[encoded data removed]",
      "text/plain": [
       "<Figure size 640x480 with 1 Axes>"
      ]
     },
     "metadata": {},
     "output_type": "display_data"
    }
   ],
   "source": [
    "reuters.plot_loss(history_dict)"
   ]
  },
  {
   "cell_type": "code",
   "execution_count": 8,
   "metadata": {},
   "outputs": [
    {
     "data": {
      "image/png": "[encoded data removed]",
      "text/plain": [
       "<Figure size 640x480 with 1 Axes>"
      ]
     },
     "metadata": {},
     "output_type": "display_data"
    }
   ],
   "source": [
    "reuters.plot_accuracy(history_dict)"
   ]
  },
  {
   "cell_type": "code",
   "execution_count": 9,
   "metadata": {},
   "outputs": [
    {
     "name": "stdout",
     "output_type": "stream",
     "text": [
      "71/71 [==============================] - 0s 2ms/step - loss: 1.1932 - accuracy: 0.7805\n",
      "Test Results: [1.1932016611099243, 0.7804986834526062]\n"
     ]
    }
   ],
   "source": [
    "test_results = reuters.evaluate(model, x_test, y_test)\n",
    "print(\"Test Results:\", test_results)"
   ]
  }
 ],
 "metadata": {
  "kernelspec": {
   "display_name": "ece5831-2024",
   "language": "python",
   "name": "python3"
  },
  "language_info": {
   "codemirror_mode": {
    "name": "ipython",
    "version": 3
   },
   "file_extension": ".py",
   "mimetype": "text/x-python",
   "name": "python",
   "nbconvert_exporter": "python",
   "pygments_lexer": "ipython3",
   "version": "3.10.13"
  }
 },
 "nbformat": 4,
 "nbformat_minor": 2
}
