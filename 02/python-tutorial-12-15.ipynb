{
 "cells": [
  {
   "cell_type": "code",
   "execution_count": 2,
   "metadata": {},
   "outputs": [
    {
     "name": "stdout",
     "output_type": "stream",
     "text": [
      "Beautiful is better than ugly.\n",
      "Explicit is better than implicit.\n",
      "Simple is better than complex.\n",
      "Complex is better than complicated.\n",
      "Flat is better than nested.\n",
      "Sparse is better than dense.\n",
      "Readability counts.\n",
      "Special cases aren't special enough to break the rules.\n",
      "Although practicality beats purity.\n",
      "Errors should never pass silently.\n",
      "Unless explicitly silenced.\n",
      "In the face of ambiguity, refuse the temptation to guess.\n",
      "There should be one-- and preferably only one --obvious way to do it.\n",
      "Although that way may not be obvious at first unless you're Dutch.\n",
      "Now is better than never.\n",
      "Although never is often better than *right* now.\n",
      "If the implementation is hard to explain, it's a bad idea.\n",
      "If the implementation is easy to explain, it may be a good idea.\n",
      "Namespaces are one honking great idea -- let's do more of those!\n"
     ]
    }
   ],
   "source": [
    "with open('the-zen-of-python.txt') as f:\n",
    "    contents = f.read()\n",
    "    print(contents)"
   ]
  },
  {
   "cell_type": "code",
   "execution_count": 3,
   "metadata": {},
   "outputs": [
    {
     "name": "stdout",
     "output_type": "stream",
     "text": [
      "Beautiful is better than ugly.\n",
      "\n",
      "Explicit is better than implicit.\n",
      "\n",
      "Simple is better than complex.\n",
      "\n",
      "Complex is better than complicated.\n",
      "\n",
      "Flat is better than nested.\n",
      "\n",
      "Sparse is better than dense.\n",
      "\n",
      "Readability counts.\n",
      "\n",
      "Special cases aren't special enough to break the rules.\n",
      "\n",
      "Although practicality beats purity.\n",
      "\n",
      "Errors should never pass silently.\n",
      "\n",
      "Unless explicitly silenced.\n",
      "\n",
      "In the face of ambiguity, refuse the temptation to guess.\n",
      "\n",
      "There should be one-- and preferably only one --obvious way to do it.\n",
      "\n",
      "Although that way may not be obvious at first unless you're Dutch.\n",
      "\n",
      "Now is better than never.\n",
      "\n",
      "Although never is often better than *right* now.\n",
      "\n",
      "If the implementation is hard to explain, it's a bad idea.\n",
      "\n",
      "If the implementation is easy to explain, it may be a good idea.\n",
      "\n",
      "Namespaces are one honking great idea -- let's do more of those!\n"
     ]
    }
   ],
   "source": [
    "with open('the-zen-of-python.txt') as f:\n",
    "    [print(line) for line in f.readlines()]"
   ]
  },
  {
   "cell_type": "code",
   "execution_count": 4,
   "metadata": {},
   "outputs": [
    {
     "name": "stdout",
     "output_type": "stream",
     "text": [
      "Beautiful is better than ugly.\n",
      "Explicit is better than implicit.\n",
      "Simple is better than complex.\n",
      "Complex is better than complicated.\n",
      "Flat is better than nested.\n",
      "Sparse is better than dense.\n",
      "Readability counts.\n",
      "Special cases aren't special enough to break the rules.\n",
      "Although practicality beats purity.\n",
      "Errors should never pass silently.\n",
      "Unless explicitly silenced.\n",
      "In the face of ambiguity, refuse the temptation to guess.\n",
      "There should be one-- and preferably only one --obvious way to do it.\n",
      "Although that way may not be obvious at first unless you're Dutch.\n",
      "Now is better than never.\n",
      "Although never is often better than *right* now.\n",
      "If the implementation is hard to explain, it's a bad idea.\n",
      "If the implementation is easy to explain, it may be a good idea.\n",
      "Namespaces are one honking great idea -- let's do more of those!\n"
     ]
    }
   ],
   "source": [
    "with open('the-zen-of-python.txt') as f:\n",
    "    while True:\n",
    "        line = f.readline()\n",
    "        if not line:\n",
    "            break\n",
    "        print(line.strip())"
   ]
  },
  {
   "cell_type": "code",
   "execution_count": 6,
   "metadata": {},
   "outputs": [
    {
     "name": "stdout",
     "output_type": "stream",
     "text": [
      "人生で何度も何度も失敗を繰り返してきました。だからこそ、私は成功を収めることができたのです。\n",
      "どれだけ高く登れたかで人を評価しません。尻餅をついたあと、どれだけ変わったかで評価をするのです。\n",
      "成功を収める人とは人が投げてきたレンガでしっかりした基盤を築くことができる人のことである。\n"
     ]
    }
   ],
   "source": [
    "with open('quotes.txt', encoding='utf8') as f:\n",
    "    for line in f:\n",
    "        print(line.strip())"
   ]
  },
  {
   "cell_type": "code",
   "execution_count": 7,
   "metadata": {},
   "outputs": [],
   "source": [
    "with open('readme.txt', 'w') as f:\n",
    "    f.write('readme')"
   ]
  },
  {
   "cell_type": "code",
   "execution_count": 8,
   "metadata": {},
   "outputs": [],
   "source": [
    "lines = ['Readme', 'How to write text files in Python']\n",
    "with open('readme.txt', 'w') as f:\n",
    "    for line in lines:\n",
    "        f.write(line)\n",
    "        f.write('\\n')"
   ]
  },
  {
   "cell_type": "code",
   "execution_count": 9,
   "metadata": {},
   "outputs": [],
   "source": [
    "lines = ['Readme', 'How to write text files in Python']\n",
    "with open('readme.txt', 'w') as f:\n",
    "    f.write('\\n'.join(lines))"
   ]
  },
  {
   "cell_type": "code",
   "execution_count": 10,
   "metadata": {},
   "outputs": [],
   "source": [
    "more_lines = ['', 'Append text files', 'The End']\n",
    "\n",
    "with open('readme.txt', 'a') as f:\n",
    "    f.write('\\n'.join(more_lines))"
   ]
  },
  {
   "cell_type": "code",
   "execution_count": 11,
   "metadata": {},
   "outputs": [],
   "source": [
    "quote = '成功を収める人とは人が投げてきたレンガでしっかりした基盤を築くことができる人のことである。'\n",
    "\n",
    "with open('quotes.txt', 'w', encoding='utf-8') as f:\n",
    "    f.write(quote)"
   ]
  },
  {
   "cell_type": "code",
   "execution_count": 12,
   "metadata": {},
   "outputs": [],
   "source": [
    "with open('readme.txt', 'w') as f:\n",
    "    f.write('Create a new text file!')"
   ]
  },
  {
   "cell_type": "code",
   "execution_count": 13,
   "metadata": {},
   "outputs": [
    {
     "ename": "FileNotFoundError",
     "evalue": "[Errno 2] No such file or directory: 'docs/readme.txt'",
     "output_type": "error",
     "traceback": [
      "\u001b[1;31m---------------------------------------------------------------------------\u001b[0m",
      "\u001b[1;31mFileNotFoundError\u001b[0m                         Traceback (most recent call last)",
      "Cell \u001b[1;32mIn[13], line 1\u001b[0m\n\u001b[1;32m----> 1\u001b[0m \u001b[38;5;28;01mwith\u001b[39;00m \u001b[38;5;28;43mopen\u001b[39;49m\u001b[43m(\u001b[49m\u001b[38;5;124;43m'\u001b[39;49m\u001b[38;5;124;43mdocs/readme.txt\u001b[39;49m\u001b[38;5;124;43m'\u001b[39;49m\u001b[43m,\u001b[49m\u001b[43m \u001b[49m\u001b[38;5;124;43m'\u001b[39;49m\u001b[38;5;124;43mw\u001b[39;49m\u001b[38;5;124;43m'\u001b[39;49m\u001b[43m)\u001b[49m \u001b[38;5;28;01mas\u001b[39;00m f:\n\u001b[0;32m      2\u001b[0m     f\u001b[38;5;241m.\u001b[39mwrite(\u001b[38;5;124m'\u001b[39m\u001b[38;5;124mCreate a new text file!\u001b[39m\u001b[38;5;124m'\u001b[39m)\n",
      "File \u001b[1;32mc:\\Users\\austi\\anaconda3\\envs\\ece5831-2024\\lib\\site-packages\\IPython\\core\\interactiveshell.py:324\u001b[0m, in \u001b[0;36m_modified_open\u001b[1;34m(file, *args, **kwargs)\u001b[0m\n\u001b[0;32m    317\u001b[0m \u001b[38;5;28;01mif\u001b[39;00m file \u001b[38;5;129;01min\u001b[39;00m {\u001b[38;5;241m0\u001b[39m, \u001b[38;5;241m1\u001b[39m, \u001b[38;5;241m2\u001b[39m}:\n\u001b[0;32m    318\u001b[0m     \u001b[38;5;28;01mraise\u001b[39;00m \u001b[38;5;167;01mValueError\u001b[39;00m(\n\u001b[0;32m    319\u001b[0m         \u001b[38;5;124mf\u001b[39m\u001b[38;5;124m\"\u001b[39m\u001b[38;5;124mIPython won\u001b[39m\u001b[38;5;124m'\u001b[39m\u001b[38;5;124mt let you open fd=\u001b[39m\u001b[38;5;132;01m{\u001b[39;00mfile\u001b[38;5;132;01m}\u001b[39;00m\u001b[38;5;124m by default \u001b[39m\u001b[38;5;124m\"\u001b[39m\n\u001b[0;32m    320\u001b[0m         \u001b[38;5;124m\"\u001b[39m\u001b[38;5;124mas it is likely to crash IPython. If you know what you are doing, \u001b[39m\u001b[38;5;124m\"\u001b[39m\n\u001b[0;32m    321\u001b[0m         \u001b[38;5;124m\"\u001b[39m\u001b[38;5;124myou can use builtins\u001b[39m\u001b[38;5;124m'\u001b[39m\u001b[38;5;124m open.\u001b[39m\u001b[38;5;124m\"\u001b[39m\n\u001b[0;32m    322\u001b[0m     )\n\u001b[1;32m--> 324\u001b[0m \u001b[38;5;28;01mreturn\u001b[39;00m io_open(file, \u001b[38;5;241m*\u001b[39margs, \u001b[38;5;241m*\u001b[39m\u001b[38;5;241m*\u001b[39mkwargs)\n",
      "\u001b[1;31mFileNotFoundError\u001b[0m: [Errno 2] No such file or directory: 'docs/readme.txt'"
     ]
    }
   ],
   "source": [
    "with open('docs/readme.txt', 'w') as f:\n",
    "    f.write('Create a new text file!')"
   ]
  },
  {
   "cell_type": "code",
   "execution_count": 14,
   "metadata": {},
   "outputs": [
    {
     "name": "stdout",
     "output_type": "stream",
     "text": [
      "The 'docs' directory does not exist\n"
     ]
    }
   ],
   "source": [
    "try:\n",
    "    with open('docs/readme.txt', 'w') as f:\n",
    "        f.write('Create a new text file!')\n",
    "except FileNotFoundError:\n",
    "    print(\"The 'docs' directory does not exist\")"
   ]
  },
  {
   "cell_type": "code",
   "execution_count": 16,
   "metadata": {},
   "outputs": [
    {
     "name": "stdout",
     "output_type": "stream",
     "text": [
      "The file readme.txt exists\n"
     ]
    }
   ],
   "source": [
    "from pathlib import Path\n",
    "\n",
    "path_to_file = 'readme.txt'\n",
    "path = Path(path_to_file)\n",
    "\n",
    "if path.is_file():\n",
    "    print(f'The file {path_to_file} exists')\n",
    "else:\n",
    "    print(f'The file {path_to_file} does not exist')"
   ]
  },
  {
   "cell_type": "code",
   "execution_count": 17,
   "metadata": {},
   "outputs": [
    {
     "name": "stdout",
     "output_type": "stream",
     "text": [
      "['name', 'area', 'country_code2', 'country_code3']\n",
      "['Afghanistan', '652090', 'AF', 'AFG']\n",
      "['Albania', '28748', 'AL', 'ALB']\n",
      "['Algeria', '2381741', 'DZ', 'DZA']\n",
      "['American Samoa', '199', 'AS', 'ASM']\n",
      "['Andorra', '468', 'AD', 'AND']\n",
      "['Angola', '1246700', 'AO', 'AGO']\n",
      "['Anguilla', '96', 'AI', 'AIA']\n",
      "['Antarctica', '13120000', 'AQ', 'ATA']\n",
      "['Antigua and Barbuda', '442', 'AG', 'ATG']\n",
      "['Argentina', '2780400', 'AR', 'ARG']\n",
      "['Armenia', '29800', 'AM', 'ARM']\n",
      "['Aruba', '193', 'AW', 'ABW']\n",
      "['Australia', '7741220', 'AU', 'AUS']\n",
      "['Austria', '83859', 'AT', 'AUT']\n",
      "['Azerbaijan', '86600', 'AZ', 'AZE']\n",
      "['Bahamas', '13878', 'BS', 'BHS']\n",
      "['Bahrain', '694', 'BH', 'BHR']\n",
      "['Bangladesh', '143998', 'BD', 'BGD']\n",
      "['Barbados', '430', 'BB', 'BRB']\n",
      "['Belarus', '207600', 'BY', 'BLR']\n",
      "['Belgium', '30518', 'BE', 'BEL']\n",
      "['Belize', '22696', 'BZ', 'BLZ']\n",
      "['Benin', '112622', 'BJ', 'BEN']\n",
      "['Bermuda', '53', 'BM', 'BMU']\n",
      "['Bhutan', '47000', 'BT', 'BTN']\n",
      "['Bolivia', '1098581', 'BO', 'BOL']\n",
      "['Bosnia and Herzegovina', '51197', 'BA', 'BIH']\n",
      "['Botswana', '581730', 'BW', 'BWA']\n",
      "['Bouvet Island', '59', 'BV', 'BVT']\n",
      "['Brazil', '8547403', 'BR', 'BRA']\n",
      "['British Indian Ocean Territory', '78', 'IO', 'IOT']\n",
      "['Brunei', '5765', 'BN', 'BRN']\n",
      "['Bulgaria', '110994', 'BG', 'BGR']\n",
      "['Burkina Faso', '274000', 'BF', 'BFA']\n",
      "['Burundi', '27834', 'BI', 'BDI']\n",
      "['Cambodia', '181035', 'KH', 'KHM']\n",
      "['Cameroon', '475442', 'CM', 'CMR']\n",
      "['Canada', '9970610', 'CA', 'CAN']\n",
      "['Cape Verde', '4033', 'CV', 'CPV']\n",
      "['Cayman Islands', '264', 'KY', 'CYM']\n",
      "['Central African Republic', '622984', 'CF', 'CAF']\n",
      "['Chad', '1284000', 'TD', 'TCD']\n",
      "['Chile', '756626', 'CL', 'CHL']\n",
      "['China', '9572900', 'CN', 'CHN']\n",
      "['Christmas Island', '135', 'CX', 'CXR']\n",
      "['Cocos (Keeling) Islands', '14', 'CC', 'CCK']\n",
      "['Colombia', '1138914', 'CO', 'COL']\n",
      "['Comoros', '1862', 'KM', 'COM']\n",
      "['Congo', '342000', 'CG', 'COG']\n",
      "['Cook Islands', '236', 'CK', 'COK']\n",
      "['Costa Rica', '51100', 'CR', 'CRI']\n",
      "['Côte d’Ivoire', '322463', 'CI', 'CIV']\n",
      "['Croatia', '56538', 'HR', 'HRV']\n",
      "['Cuba', '110861', 'CU', 'CUB']\n",
      "['Cyprus', '9251', 'CY', 'CYP']\n",
      "['Czech Republic', '78866', 'CZ', 'CZE']\n",
      "['Denmark', '43094', 'DK', 'DNK']\n",
      "['Djibouti', '23200', 'DJ', 'DJI']\n",
      "['Dominica', '751', 'DM', 'DMA']\n",
      "['Dominican Republic', '48511', 'DO', 'DOM']\n",
      "['East Timor', '14874', 'TP', 'TMP']\n",
      "['Ecuador', '283561', 'EC', 'ECU']\n",
      "['Egypt', '1001449', 'EG', 'EGY']\n",
      "['El Salvador', '21041', 'SV', 'SLV']\n",
      "['Equatorial Guinea', '28051', 'GQ', 'GNQ']\n",
      "['Eritrea', '117600', 'ER', 'ERI']\n",
      "['Estonia', '45227', 'EE', 'EST']\n",
      "['Ethiopia', '1104300', 'ET', 'ETH']\n",
      "['Falkland Islands', '12173', 'FK', 'FLK']\n",
      "['Faroe Islands', '1399', 'FO', 'FRO']\n",
      "['Federated States of Micronesia', '702', 'FM', 'FSM']\n",
      "['Fiji Islands', '18274', 'FJ', 'FJI']\n",
      "['Finland', '338145', 'FI', 'FIN']\n",
      "['France', '551500', 'FR', 'FRA']\n",
      "['French Guiana', '90000', 'GF', 'GUF']\n",
      "['French Polynesia', '4000', 'PF', 'PYF']\n",
      "['French Southern territories', '7780', 'TF', 'ATF']\n",
      "['Gabon', '267668', 'GA', 'GAB']\n",
      "['Gambia', '11295', 'GM', 'GMB']\n",
      "['Georgia', '69700', 'GE', 'GEO']\n",
      "['Germany', '357022', 'DE', 'DEU']\n",
      "['Ghana', '238533', 'GH', 'GHA']\n",
      "['Gibraltar', '6', 'GI', 'GIB']\n",
      "['Greece', '131626', 'GR', 'GRC']\n",
      "['Greenland', '2166090', 'GL', 'GRL']\n",
      "['Grenada', '344', 'GD', 'GRD']\n",
      "['Guadeloupe', '1705', 'GP', 'GLP']\n",
      "['Guam', '549', 'GU', 'GUM']\n",
      "['Guatemala', '108889', 'GT', 'GTM']\n",
      "['Guinea', '245857', 'GN', 'GIN']\n",
      "['Guinea-Bissau', '36125', 'GW', 'GNB']\n",
      "['Guyana', '214969', 'GY', 'GUY']\n",
      "['Haiti', '27750', 'HT', 'HTI']\n",
      "['Heard Island and McDonald Islands', '359', 'HM', 'HMD']\n",
      "['Holy See (Vatican City State)', '0.4', 'VA', 'VAT']\n",
      "['Honduras', '112088', 'HN', 'HND']\n",
      "['Hong Kong', '1075', 'HK', 'HKG']\n",
      "['Hungary', '93030', 'HU', 'HUN']\n",
      "['Iceland', '103000', 'IS', 'ISL']\n",
      "['India', '3287263', 'IN', 'IND']\n",
      "['Indonesia', '1904569', 'ID', 'IDN']\n",
      "['Iran', '1648195', 'IR', 'IRN']\n",
      "['Iraq', '438317', 'IQ', 'IRQ']\n",
      "['Ireland', '70273', 'IE', 'IRL']\n",
      "['Israel', '21056', 'IL', 'ISR']\n",
      "['Italy', '301316', 'IT', 'ITA']\n",
      "['Jamaica', '10990', 'JM', 'JAM']\n",
      "['Japan', '377829', 'JP', 'JPN']\n",
      "['Jordan', '88946', 'JO', 'JOR']\n",
      "['Kazakstan', '2724900', 'KZ', 'KAZ']\n",
      "['Kenya', '580367', 'KE', 'KEN']\n",
      "['Kiribati', '726', 'KI', 'KIR']\n",
      "['Kuwait', '17818', 'KW', 'KWT']\n",
      "['Kyrgyzstan', '199900', 'KG', 'KGZ']\n",
      "['Laos', '236800', 'LA', 'LAO']\n",
      "['Latvia', '64589', 'LV', 'LVA']\n",
      "['Lebanon', '10400', 'LB', 'LBN']\n",
      "['Lesotho', '30355', 'LS', 'LSO']\n",
      "['Liberia', '111369', 'LR', 'LBR']\n",
      "['Libyan Arab Jamahiriya', '1759540', 'LY', 'LBY']\n",
      "['Liechtenstein', '160', 'LI', 'LIE']\n",
      "['Lithuania', '65301', 'LT', 'LTU']\n",
      "['Luxembourg', '2586', 'LU', 'LUX']\n",
      "['Macao', '18', 'MO', 'MAC']\n",
      "['Macedonia', '25713', 'MK', 'MKD']\n",
      "['Madagascar', '587041', 'MG', 'MDG']\n",
      "['Malawi', '118484', 'MW', 'MWI']\n",
      "['Malaysia', '329758', 'MY', 'MYS']\n",
      "['Maldives', '298', 'MV', 'MDV']\n",
      "['Mali', '1240192', 'ML', 'MLI']\n",
      "['Malta', '316', 'MT', 'MLT']\n",
      "['Marshall Islands', '181', 'MH', 'MHL']\n",
      "['Martinique', '1102', 'MQ', 'MTQ']\n",
      "['Mauritania', '1025520', 'MR', 'MRT']\n",
      "['Mauritius', '2040', 'MU', 'MUS']\n",
      "['Mayotte', '373', 'YT', 'MYT']\n",
      "['Mexico', '1958201', 'MX', 'MEX']\n",
      "['Moldova', '33851', 'MD', 'MDA']\n",
      "['Monaco', '1.5', 'MC', 'MCO']\n",
      "['Mongolia', '1566500', 'MN', 'MNG']\n",
      "['Montserrat', '102', 'MS', 'MSR']\n",
      "['Morocco', '446550', 'MA', 'MAR']\n",
      "['Mozambique', '801590', 'MZ', 'MOZ']\n",
      "['Myanmar', '676578', 'MM', 'MMR']\n",
      "['Namibia', '824292', 'NA', 'NAM']\n",
      "['Nauru', '21', 'NR', 'NRU']\n",
      "['Nepal', '147181', 'NP', 'NPL']\n",
      "['Netherlands', '41526', 'NL', 'NLD']\n",
      "['Netherlands Antilles', '800', 'AN', 'ANT']\n",
      "['New Caledonia', '18575', 'NC', 'NCL']\n",
      "['New Zealand', '270534', 'NZ', 'NZL']\n",
      "['Nicaragua', '130000', 'NI', 'NIC']\n",
      "['Niger', '1267000', 'NE', 'NER']\n",
      "['Nigeria', '923768', 'NG', 'NGA']\n",
      "['Niue', '260', 'NU', 'NIU']\n",
      "['Norfolk Island', '36', 'NF', 'NFK']\n",
      "['North Korea', '120538', 'KP', 'PRK']\n",
      "['Northern Mariana Islands', '464', 'MP', 'MNP']\n",
      "['Norway', '323877', 'NO', 'NOR']\n",
      "['Oman', '309500', 'OM', 'OMN']\n",
      "['Pakistan', '796095', 'PK', 'PAK']\n",
      "['Palau', '459', 'PW', 'PLW']\n",
      "['Palestine', '6257', 'PS', 'PSE']\n",
      "['Panama', '75517', 'PA', 'PAN']\n",
      "['Papua New Guinea', '462840', 'PG', 'PNG']\n",
      "['Paraguay', '406752', 'PY', 'PRY']\n",
      "['Peru', '1285216', 'PE', 'PER']\n",
      "['Philippines', '300000', 'PH', 'PHL']\n",
      "['Pitcairn', '49', 'PN', 'PCN']\n",
      "['Poland', '323250', 'PL', 'POL']\n",
      "['Portugal', '91982', 'PT', 'PRT']\n",
      "['Puerto Rico', '8875', 'PR', 'PRI']\n",
      "['Qatar', '11000', 'QA', 'QAT']\n",
      "['Réunion', '2510', 'RE', 'REU']\n",
      "['Romania', '238391', 'RO', 'ROM']\n",
      "['Russian Federation', '17075400', 'RU', 'RUS']\n",
      "['Rwanda', '26338', 'RW', 'RWA']\n",
      "['Saint Helena', '314', 'SH', 'SHN']\n",
      "['Saint Kitts and Nevis', '261', 'KN', 'KNA']\n",
      "['Saint Lucia', '622', 'LC', 'LCA']\n",
      "['Saint Pierre and Miquelon', '242', 'PM', 'SPM']\n",
      "['Saint Vincent and the Grenadines', '388', 'VC', 'VCT']\n",
      "['Samoa', '2831', 'WS', 'WSM']\n",
      "['San Marino', '61', 'SM', 'SMR']\n",
      "['Sao Tome and Principe', '964', 'ST', 'STP']\n",
      "['Saudi Arabia', '2149690', 'SA', 'SAU']\n",
      "['Senegal', '196722', 'SN', 'SEN']\n",
      "['Seychelles', '455', 'SC', 'SYC']\n",
      "['Sierra Leone', '71740', 'SL', 'SLE']\n",
      "['Singapore', '618', 'SG', 'SGP']\n",
      "['Slovakia', '49012', 'SK', 'SVK']\n",
      "['Slovenia', '20256', 'SI', 'SVN']\n",
      "['Solomon Islands', '28896', 'SB', 'SLB']\n",
      "['Somalia', '637657', 'SO', 'SOM']\n",
      "['South Africa', '1221037', 'ZA', 'ZAF']\n",
      "['South Georgia and the South Sandwich Islands', '3903', 'GS', 'SGS']\n",
      "['South Korea', '99434', 'KR', 'KOR']\n",
      "['Spain', '505992', 'ES', 'ESP']\n",
      "['Sri Lanka', '65610', 'LK', 'LKA']\n",
      "['Sudan', '2505813', 'SD', 'SDN']\n",
      "['Suriname', '163265', 'SR', 'SUR']\n",
      "['Svalbard and Jan Mayen', '62422', 'SJ', 'SJM']\n",
      "['Swaziland', '17364', 'SZ', 'SWZ']\n",
      "['Sweden', '449964', 'SE', 'SWE']\n",
      "['Switzerland', '41284', 'CH', 'CHE']\n",
      "['Syria', '185180', 'SY', 'SYR']\n",
      "['Taiwan', '36188', 'TW', 'TWN']\n",
      "['Tajikistan', '143100', 'TJ', 'TJK']\n",
      "['Tanzania', '883749', 'TZ', 'TZA']\n",
      "['Thailand', '513115', 'TH', 'THA']\n",
      "['The Democratic Republic of the Congo', '2344858', 'CD', 'COD']\n",
      "['Togo', '56785', 'TG', 'TGO']\n",
      "['Tokelau', '12', 'TK', 'TKL']\n",
      "['Tonga', '650', 'TO', 'TON']\n",
      "['Trinidad and Tobago', '5130', 'TT', 'TTO']\n",
      "['Tunisia', '163610', 'TN', 'TUN']\n",
      "['Turkey', '774815', 'TR', 'TUR']\n",
      "['Turkmenistan', '488100', 'TM', 'TKM']\n",
      "['Turks and Caicos Islands', '430', 'TC', 'TCA']\n",
      "['Tuvalu', '26', 'TV', 'TUV']\n",
      "['Uganda', '241038', 'UG', 'UGA']\n",
      "['Ukraine', '603700', 'UA', 'UKR']\n",
      "['United Arab Emirates', '83600', 'AE', 'ARE']\n",
      "['United Kingdom', '242900', 'GB', 'GBR']\n",
      "['United States', '9363520', 'US', 'USA']\n",
      "['United States Minor Outlying Islands', '16', 'UM', 'UMI']\n",
      "['Uruguay', '175016', 'UY', 'URY']\n",
      "['Uzbekistan', '447400', 'UZ', 'UZB']\n",
      "['Vanuatu', '12189', 'VU', 'VUT']\n",
      "['Venezuela', '912050', 'VE', 'VEN']\n",
      "['Vietnam', '331689', 'VN', 'VNM']\n",
      "['Virgin Islands, British', '151', 'VG', 'VGB']\n",
      "['Virgin Islands, U.S.', '347', 'VI', 'VIR']\n",
      "['Wallis and Futuna', '200', 'WF', 'WLF']\n",
      "['Western Sahara', '266000', 'EH', 'ESH']\n",
      "['Yemen', '527968', 'YE', 'YEM']\n",
      "['Yugoslavia', '102173', 'YU', 'YUG']\n",
      "['Zambia', '752618', 'ZM', 'ZMB']\n",
      "['Zimbabwe', '390757', 'ZW', 'ZWE']\n"
     ]
    }
   ],
   "source": [
    "import csv\n",
    "\n",
    "with open('country.csv', encoding=\"utf8\") as f:\n",
    "    csv_reader = csv.reader(f)\n",
    "    for line in csv_reader:\n",
    "        print(line)"
   ]
  },
  {
   "cell_type": "code",
   "execution_count": 18,
   "metadata": {},
   "outputs": [
    {
     "name": "stdout",
     "output_type": "stream",
     "text": [
      "Header:\n",
      "['name', 'area', 'country_code2', 'country_code3']\n",
      "Data:\n",
      "['Afghanistan', '652090', 'AF', 'AFG']\n",
      "['Albania', '28748', 'AL', 'ALB']\n",
      "['Algeria', '2381741', 'DZ', 'DZA']\n",
      "['American Samoa', '199', 'AS', 'ASM']\n",
      "['Andorra', '468', 'AD', 'AND']\n",
      "['Angola', '1246700', 'AO', 'AGO']\n",
      "['Anguilla', '96', 'AI', 'AIA']\n",
      "['Antarctica', '13120000', 'AQ', 'ATA']\n",
      "['Antigua and Barbuda', '442', 'AG', 'ATG']\n",
      "['Argentina', '2780400', 'AR', 'ARG']\n",
      "['Armenia', '29800', 'AM', 'ARM']\n",
      "['Aruba', '193', 'AW', 'ABW']\n",
      "['Australia', '7741220', 'AU', 'AUS']\n",
      "['Austria', '83859', 'AT', 'AUT']\n",
      "['Azerbaijan', '86600', 'AZ', 'AZE']\n",
      "['Bahamas', '13878', 'BS', 'BHS']\n",
      "['Bahrain', '694', 'BH', 'BHR']\n",
      "['Bangladesh', '143998', 'BD', 'BGD']\n",
      "['Barbados', '430', 'BB', 'BRB']\n",
      "['Belarus', '207600', 'BY', 'BLR']\n",
      "['Belgium', '30518', 'BE', 'BEL']\n",
      "['Belize', '22696', 'BZ', 'BLZ']\n",
      "['Benin', '112622', 'BJ', 'BEN']\n",
      "['Bermuda', '53', 'BM', 'BMU']\n",
      "['Bhutan', '47000', 'BT', 'BTN']\n",
      "['Bolivia', '1098581', 'BO', 'BOL']\n",
      "['Bosnia and Herzegovina', '51197', 'BA', 'BIH']\n",
      "['Botswana', '581730', 'BW', 'BWA']\n",
      "['Bouvet Island', '59', 'BV', 'BVT']\n",
      "['Brazil', '8547403', 'BR', 'BRA']\n",
      "['British Indian Ocean Territory', '78', 'IO', 'IOT']\n",
      "['Brunei', '5765', 'BN', 'BRN']\n",
      "['Bulgaria', '110994', 'BG', 'BGR']\n",
      "['Burkina Faso', '274000', 'BF', 'BFA']\n",
      "['Burundi', '27834', 'BI', 'BDI']\n",
      "['Cambodia', '181035', 'KH', 'KHM']\n",
      "['Cameroon', '475442', 'CM', 'CMR']\n",
      "['Canada', '9970610', 'CA', 'CAN']\n",
      "['Cape Verde', '4033', 'CV', 'CPV']\n",
      "['Cayman Islands', '264', 'KY', 'CYM']\n",
      "['Central African Republic', '622984', 'CF', 'CAF']\n",
      "['Chad', '1284000', 'TD', 'TCD']\n",
      "['Chile', '756626', 'CL', 'CHL']\n",
      "['China', '9572900', 'CN', 'CHN']\n",
      "['Christmas Island', '135', 'CX', 'CXR']\n",
      "['Cocos (Keeling) Islands', '14', 'CC', 'CCK']\n",
      "['Colombia', '1138914', 'CO', 'COL']\n",
      "['Comoros', '1862', 'KM', 'COM']\n",
      "['Congo', '342000', 'CG', 'COG']\n",
      "['Cook Islands', '236', 'CK', 'COK']\n",
      "['Costa Rica', '51100', 'CR', 'CRI']\n",
      "['Côte d’Ivoire', '322463', 'CI', 'CIV']\n",
      "['Croatia', '56538', 'HR', 'HRV']\n",
      "['Cuba', '110861', 'CU', 'CUB']\n",
      "['Cyprus', '9251', 'CY', 'CYP']\n",
      "['Czech Republic', '78866', 'CZ', 'CZE']\n",
      "['Denmark', '43094', 'DK', 'DNK']\n",
      "['Djibouti', '23200', 'DJ', 'DJI']\n",
      "['Dominica', '751', 'DM', 'DMA']\n",
      "['Dominican Republic', '48511', 'DO', 'DOM']\n",
      "['East Timor', '14874', 'TP', 'TMP']\n",
      "['Ecuador', '283561', 'EC', 'ECU']\n",
      "['Egypt', '1001449', 'EG', 'EGY']\n",
      "['El Salvador', '21041', 'SV', 'SLV']\n",
      "['Equatorial Guinea', '28051', 'GQ', 'GNQ']\n",
      "['Eritrea', '117600', 'ER', 'ERI']\n",
      "['Estonia', '45227', 'EE', 'EST']\n",
      "['Ethiopia', '1104300', 'ET', 'ETH']\n",
      "['Falkland Islands', '12173', 'FK', 'FLK']\n",
      "['Faroe Islands', '1399', 'FO', 'FRO']\n",
      "['Federated States of Micronesia', '702', 'FM', 'FSM']\n",
      "['Fiji Islands', '18274', 'FJ', 'FJI']\n",
      "['Finland', '338145', 'FI', 'FIN']\n",
      "['France', '551500', 'FR', 'FRA']\n",
      "['French Guiana', '90000', 'GF', 'GUF']\n",
      "['French Polynesia', '4000', 'PF', 'PYF']\n",
      "['French Southern territories', '7780', 'TF', 'ATF']\n",
      "['Gabon', '267668', 'GA', 'GAB']\n",
      "['Gambia', '11295', 'GM', 'GMB']\n",
      "['Georgia', '69700', 'GE', 'GEO']\n",
      "['Germany', '357022', 'DE', 'DEU']\n",
      "['Ghana', '238533', 'GH', 'GHA']\n",
      "['Gibraltar', '6', 'GI', 'GIB']\n",
      "['Greece', '131626', 'GR', 'GRC']\n",
      "['Greenland', '2166090', 'GL', 'GRL']\n",
      "['Grenada', '344', 'GD', 'GRD']\n",
      "['Guadeloupe', '1705', 'GP', 'GLP']\n",
      "['Guam', '549', 'GU', 'GUM']\n",
      "['Guatemala', '108889', 'GT', 'GTM']\n",
      "['Guinea', '245857', 'GN', 'GIN']\n",
      "['Guinea-Bissau', '36125', 'GW', 'GNB']\n",
      "['Guyana', '214969', 'GY', 'GUY']\n",
      "['Haiti', '27750', 'HT', 'HTI']\n",
      "['Heard Island and McDonald Islands', '359', 'HM', 'HMD']\n",
      "['Holy See (Vatican City State)', '0.4', 'VA', 'VAT']\n",
      "['Honduras', '112088', 'HN', 'HND']\n",
      "['Hong Kong', '1075', 'HK', 'HKG']\n",
      "['Hungary', '93030', 'HU', 'HUN']\n",
      "['Iceland', '103000', 'IS', 'ISL']\n",
      "['India', '3287263', 'IN', 'IND']\n",
      "['Indonesia', '1904569', 'ID', 'IDN']\n",
      "['Iran', '1648195', 'IR', 'IRN']\n",
      "['Iraq', '438317', 'IQ', 'IRQ']\n",
      "['Ireland', '70273', 'IE', 'IRL']\n",
      "['Israel', '21056', 'IL', 'ISR']\n",
      "['Italy', '301316', 'IT', 'ITA']\n",
      "['Jamaica', '10990', 'JM', 'JAM']\n",
      "['Japan', '377829', 'JP', 'JPN']\n",
      "['Jordan', '88946', 'JO', 'JOR']\n",
      "['Kazakstan', '2724900', 'KZ', 'KAZ']\n",
      "['Kenya', '580367', 'KE', 'KEN']\n",
      "['Kiribati', '726', 'KI', 'KIR']\n",
      "['Kuwait', '17818', 'KW', 'KWT']\n",
      "['Kyrgyzstan', '199900', 'KG', 'KGZ']\n",
      "['Laos', '236800', 'LA', 'LAO']\n",
      "['Latvia', '64589', 'LV', 'LVA']\n",
      "['Lebanon', '10400', 'LB', 'LBN']\n",
      "['Lesotho', '30355', 'LS', 'LSO']\n",
      "['Liberia', '111369', 'LR', 'LBR']\n",
      "['Libyan Arab Jamahiriya', '1759540', 'LY', 'LBY']\n",
      "['Liechtenstein', '160', 'LI', 'LIE']\n",
      "['Lithuania', '65301', 'LT', 'LTU']\n",
      "['Luxembourg', '2586', 'LU', 'LUX']\n",
      "['Macao', '18', 'MO', 'MAC']\n",
      "['Macedonia', '25713', 'MK', 'MKD']\n",
      "['Madagascar', '587041', 'MG', 'MDG']\n",
      "['Malawi', '118484', 'MW', 'MWI']\n",
      "['Malaysia', '329758', 'MY', 'MYS']\n",
      "['Maldives', '298', 'MV', 'MDV']\n",
      "['Mali', '1240192', 'ML', 'MLI']\n",
      "['Malta', '316', 'MT', 'MLT']\n",
      "['Marshall Islands', '181', 'MH', 'MHL']\n",
      "['Martinique', '1102', 'MQ', 'MTQ']\n",
      "['Mauritania', '1025520', 'MR', 'MRT']\n",
      "['Mauritius', '2040', 'MU', 'MUS']\n",
      "['Mayotte', '373', 'YT', 'MYT']\n",
      "['Mexico', '1958201', 'MX', 'MEX']\n",
      "['Moldova', '33851', 'MD', 'MDA']\n",
      "['Monaco', '1.5', 'MC', 'MCO']\n",
      "['Mongolia', '1566500', 'MN', 'MNG']\n",
      "['Montserrat', '102', 'MS', 'MSR']\n",
      "['Morocco', '446550', 'MA', 'MAR']\n",
      "['Mozambique', '801590', 'MZ', 'MOZ']\n",
      "['Myanmar', '676578', 'MM', 'MMR']\n",
      "['Namibia', '824292', 'NA', 'NAM']\n",
      "['Nauru', '21', 'NR', 'NRU']\n",
      "['Nepal', '147181', 'NP', 'NPL']\n",
      "['Netherlands', '41526', 'NL', 'NLD']\n",
      "['Netherlands Antilles', '800', 'AN', 'ANT']\n",
      "['New Caledonia', '18575', 'NC', 'NCL']\n",
      "['New Zealand', '270534', 'NZ', 'NZL']\n",
      "['Nicaragua', '130000', 'NI', 'NIC']\n",
      "['Niger', '1267000', 'NE', 'NER']\n",
      "['Nigeria', '923768', 'NG', 'NGA']\n",
      "['Niue', '260', 'NU', 'NIU']\n",
      "['Norfolk Island', '36', 'NF', 'NFK']\n",
      "['North Korea', '120538', 'KP', 'PRK']\n",
      "['Northern Mariana Islands', '464', 'MP', 'MNP']\n",
      "['Norway', '323877', 'NO', 'NOR']\n",
      "['Oman', '309500', 'OM', 'OMN']\n",
      "['Pakistan', '796095', 'PK', 'PAK']\n",
      "['Palau', '459', 'PW', 'PLW']\n",
      "['Palestine', '6257', 'PS', 'PSE']\n",
      "['Panama', '75517', 'PA', 'PAN']\n",
      "['Papua New Guinea', '462840', 'PG', 'PNG']\n",
      "['Paraguay', '406752', 'PY', 'PRY']\n",
      "['Peru', '1285216', 'PE', 'PER']\n",
      "['Philippines', '300000', 'PH', 'PHL']\n",
      "['Pitcairn', '49', 'PN', 'PCN']\n",
      "['Poland', '323250', 'PL', 'POL']\n",
      "['Portugal', '91982', 'PT', 'PRT']\n",
      "['Puerto Rico', '8875', 'PR', 'PRI']\n",
      "['Qatar', '11000', 'QA', 'QAT']\n",
      "['Réunion', '2510', 'RE', 'REU']\n",
      "['Romania', '238391', 'RO', 'ROM']\n",
      "['Russian Federation', '17075400', 'RU', 'RUS']\n",
      "['Rwanda', '26338', 'RW', 'RWA']\n",
      "['Saint Helena', '314', 'SH', 'SHN']\n",
      "['Saint Kitts and Nevis', '261', 'KN', 'KNA']\n",
      "['Saint Lucia', '622', 'LC', 'LCA']\n",
      "['Saint Pierre and Miquelon', '242', 'PM', 'SPM']\n",
      "['Saint Vincent and the Grenadines', '388', 'VC', 'VCT']\n",
      "['Samoa', '2831', 'WS', 'WSM']\n",
      "['San Marino', '61', 'SM', 'SMR']\n",
      "['Sao Tome and Principe', '964', 'ST', 'STP']\n",
      "['Saudi Arabia', '2149690', 'SA', 'SAU']\n",
      "['Senegal', '196722', 'SN', 'SEN']\n",
      "['Seychelles', '455', 'SC', 'SYC']\n",
      "['Sierra Leone', '71740', 'SL', 'SLE']\n",
      "['Singapore', '618', 'SG', 'SGP']\n",
      "['Slovakia', '49012', 'SK', 'SVK']\n",
      "['Slovenia', '20256', 'SI', 'SVN']\n",
      "['Solomon Islands', '28896', 'SB', 'SLB']\n",
      "['Somalia', '637657', 'SO', 'SOM']\n",
      "['South Africa', '1221037', 'ZA', 'ZAF']\n",
      "['South Georgia and the South Sandwich Islands', '3903', 'GS', 'SGS']\n",
      "['South Korea', '99434', 'KR', 'KOR']\n",
      "['Spain', '505992', 'ES', 'ESP']\n",
      "['Sri Lanka', '65610', 'LK', 'LKA']\n",
      "['Sudan', '2505813', 'SD', 'SDN']\n",
      "['Suriname', '163265', 'SR', 'SUR']\n",
      "['Svalbard and Jan Mayen', '62422', 'SJ', 'SJM']\n",
      "['Swaziland', '17364', 'SZ', 'SWZ']\n",
      "['Sweden', '449964', 'SE', 'SWE']\n",
      "['Switzerland', '41284', 'CH', 'CHE']\n",
      "['Syria', '185180', 'SY', 'SYR']\n",
      "['Taiwan', '36188', 'TW', 'TWN']\n",
      "['Tajikistan', '143100', 'TJ', 'TJK']\n",
      "['Tanzania', '883749', 'TZ', 'TZA']\n",
      "['Thailand', '513115', 'TH', 'THA']\n",
      "['The Democratic Republic of the Congo', '2344858', 'CD', 'COD']\n",
      "['Togo', '56785', 'TG', 'TGO']\n",
      "['Tokelau', '12', 'TK', 'TKL']\n",
      "['Tonga', '650', 'TO', 'TON']\n",
      "['Trinidad and Tobago', '5130', 'TT', 'TTO']\n",
      "['Tunisia', '163610', 'TN', 'TUN']\n",
      "['Turkey', '774815', 'TR', 'TUR']\n",
      "['Turkmenistan', '488100', 'TM', 'TKM']\n",
      "['Turks and Caicos Islands', '430', 'TC', 'TCA']\n",
      "['Tuvalu', '26', 'TV', 'TUV']\n",
      "['Uganda', '241038', 'UG', 'UGA']\n",
      "['Ukraine', '603700', 'UA', 'UKR']\n",
      "['United Arab Emirates', '83600', 'AE', 'ARE']\n",
      "['United Kingdom', '242900', 'GB', 'GBR']\n",
      "['United States', '9363520', 'US', 'USA']\n",
      "['United States Minor Outlying Islands', '16', 'UM', 'UMI']\n",
      "['Uruguay', '175016', 'UY', 'URY']\n",
      "['Uzbekistan', '447400', 'UZ', 'UZB']\n",
      "['Vanuatu', '12189', 'VU', 'VUT']\n",
      "['Venezuela', '912050', 'VE', 'VEN']\n",
      "['Vietnam', '331689', 'VN', 'VNM']\n",
      "['Virgin Islands, British', '151', 'VG', 'VGB']\n",
      "['Virgin Islands, U.S.', '347', 'VI', 'VIR']\n",
      "['Wallis and Futuna', '200', 'WF', 'WLF']\n",
      "['Western Sahara', '266000', 'EH', 'ESH']\n",
      "['Yemen', '527968', 'YE', 'YEM']\n",
      "['Yugoslavia', '102173', 'YU', 'YUG']\n",
      "['Zambia', '752618', 'ZM', 'ZMB']\n",
      "['Zimbabwe', '390757', 'ZW', 'ZWE']\n"
     ]
    }
   ],
   "source": [
    "with open('country.csv', encoding=\"utf8\") as f:\n",
    "    csv_reader = csv.reader(f)\n",
    "    for line_no, line in enumerate(csv_reader, 1):\n",
    "        if line_no == 1:\n",
    "            print('Header:')\n",
    "            print(line)  # header\n",
    "            print('Data:')\n",
    "        else:\n",
    "            print(line)  # data"
   ]
  },
  {
   "cell_type": "code",
   "execution_count": 20,
   "metadata": {},
   "outputs": [
    {
     "name": "stdout",
     "output_type": "stream",
     "text": [
      "['Afghanistan', '652090', 'AF', 'AFG']\n",
      "['Albania', '28748', 'AL', 'ALB']\n",
      "['Algeria', '2381741', 'DZ', 'DZA']\n",
      "['American Samoa', '199', 'AS', 'ASM']\n",
      "['Andorra', '468', 'AD', 'AND']\n",
      "['Angola', '1246700', 'AO', 'AGO']\n",
      "['Anguilla', '96', 'AI', 'AIA']\n",
      "['Antarctica', '13120000', 'AQ', 'ATA']\n",
      "['Antigua and Barbuda', '442', 'AG', 'ATG']\n",
      "['Argentina', '2780400', 'AR', 'ARG']\n",
      "['Armenia', '29800', 'AM', 'ARM']\n",
      "['Aruba', '193', 'AW', 'ABW']\n",
      "['Australia', '7741220', 'AU', 'AUS']\n",
      "['Austria', '83859', 'AT', 'AUT']\n",
      "['Azerbaijan', '86600', 'AZ', 'AZE']\n",
      "['Bahamas', '13878', 'BS', 'BHS']\n",
      "['Bahrain', '694', 'BH', 'BHR']\n",
      "['Bangladesh', '143998', 'BD', 'BGD']\n",
      "['Barbados', '430', 'BB', 'BRB']\n",
      "['Belarus', '207600', 'BY', 'BLR']\n",
      "['Belgium', '30518', 'BE', 'BEL']\n",
      "['Belize', '22696', 'BZ', 'BLZ']\n",
      "['Benin', '112622', 'BJ', 'BEN']\n",
      "['Bermuda', '53', 'BM', 'BMU']\n",
      "['Bhutan', '47000', 'BT', 'BTN']\n",
      "['Bolivia', '1098581', 'BO', 'BOL']\n",
      "['Bosnia and Herzegovina', '51197', 'BA', 'BIH']\n",
      "['Botswana', '581730', 'BW', 'BWA']\n",
      "['Bouvet Island', '59', 'BV', 'BVT']\n",
      "['Brazil', '8547403', 'BR', 'BRA']\n",
      "['British Indian Ocean Territory', '78', 'IO', 'IOT']\n",
      "['Brunei', '5765', 'BN', 'BRN']\n",
      "['Bulgaria', '110994', 'BG', 'BGR']\n",
      "['Burkina Faso', '274000', 'BF', 'BFA']\n",
      "['Burundi', '27834', 'BI', 'BDI']\n",
      "['Cambodia', '181035', 'KH', 'KHM']\n",
      "['Cameroon', '475442', 'CM', 'CMR']\n",
      "['Canada', '9970610', 'CA', 'CAN']\n",
      "['Cape Verde', '4033', 'CV', 'CPV']\n",
      "['Cayman Islands', '264', 'KY', 'CYM']\n",
      "['Central African Republic', '622984', 'CF', 'CAF']\n",
      "['Chad', '1284000', 'TD', 'TCD']\n",
      "['Chile', '756626', 'CL', 'CHL']\n",
      "['China', '9572900', 'CN', 'CHN']\n",
      "['Christmas Island', '135', 'CX', 'CXR']\n",
      "['Cocos (Keeling) Islands', '14', 'CC', 'CCK']\n",
      "['Colombia', '1138914', 'CO', 'COL']\n",
      "['Comoros', '1862', 'KM', 'COM']\n",
      "['Congo', '342000', 'CG', 'COG']\n",
      "['Cook Islands', '236', 'CK', 'COK']\n",
      "['Costa Rica', '51100', 'CR', 'CRI']\n",
      "['Côte d’Ivoire', '322463', 'CI', 'CIV']\n",
      "['Croatia', '56538', 'HR', 'HRV']\n",
      "['Cuba', '110861', 'CU', 'CUB']\n",
      "['Cyprus', '9251', 'CY', 'CYP']\n",
      "['Czech Republic', '78866', 'CZ', 'CZE']\n",
      "['Denmark', '43094', 'DK', 'DNK']\n",
      "['Djibouti', '23200', 'DJ', 'DJI']\n",
      "['Dominica', '751', 'DM', 'DMA']\n",
      "['Dominican Republic', '48511', 'DO', 'DOM']\n",
      "['East Timor', '14874', 'TP', 'TMP']\n",
      "['Ecuador', '283561', 'EC', 'ECU']\n",
      "['Egypt', '1001449', 'EG', 'EGY']\n",
      "['El Salvador', '21041', 'SV', 'SLV']\n",
      "['Equatorial Guinea', '28051', 'GQ', 'GNQ']\n",
      "['Eritrea', '117600', 'ER', 'ERI']\n",
      "['Estonia', '45227', 'EE', 'EST']\n",
      "['Ethiopia', '1104300', 'ET', 'ETH']\n",
      "['Falkland Islands', '12173', 'FK', 'FLK']\n",
      "['Faroe Islands', '1399', 'FO', 'FRO']\n",
      "['Federated States of Micronesia', '702', 'FM', 'FSM']\n",
      "['Fiji Islands', '18274', 'FJ', 'FJI']\n",
      "['Finland', '338145', 'FI', 'FIN']\n",
      "['France', '551500', 'FR', 'FRA']\n",
      "['French Guiana', '90000', 'GF', 'GUF']\n",
      "['French Polynesia', '4000', 'PF', 'PYF']\n",
      "['French Southern territories', '7780', 'TF', 'ATF']\n",
      "['Gabon', '267668', 'GA', 'GAB']\n",
      "['Gambia', '11295', 'GM', 'GMB']\n",
      "['Georgia', '69700', 'GE', 'GEO']\n",
      "['Germany', '357022', 'DE', 'DEU']\n",
      "['Ghana', '238533', 'GH', 'GHA']\n",
      "['Gibraltar', '6', 'GI', 'GIB']\n",
      "['Greece', '131626', 'GR', 'GRC']\n",
      "['Greenland', '2166090', 'GL', 'GRL']\n",
      "['Grenada', '344', 'GD', 'GRD']\n",
      "['Guadeloupe', '1705', 'GP', 'GLP']\n",
      "['Guam', '549', 'GU', 'GUM']\n",
      "['Guatemala', '108889', 'GT', 'GTM']\n",
      "['Guinea', '245857', 'GN', 'GIN']\n",
      "['Guinea-Bissau', '36125', 'GW', 'GNB']\n",
      "['Guyana', '214969', 'GY', 'GUY']\n",
      "['Haiti', '27750', 'HT', 'HTI']\n",
      "['Heard Island and McDonald Islands', '359', 'HM', 'HMD']\n",
      "['Holy See (Vatican City State)', '0.4', 'VA', 'VAT']\n",
      "['Honduras', '112088', 'HN', 'HND']\n",
      "['Hong Kong', '1075', 'HK', 'HKG']\n",
      "['Hungary', '93030', 'HU', 'HUN']\n",
      "['Iceland', '103000', 'IS', 'ISL']\n",
      "['India', '3287263', 'IN', 'IND']\n",
      "['Indonesia', '1904569', 'ID', 'IDN']\n",
      "['Iran', '1648195', 'IR', 'IRN']\n",
      "['Iraq', '438317', 'IQ', 'IRQ']\n",
      "['Ireland', '70273', 'IE', 'IRL']\n",
      "['Israel', '21056', 'IL', 'ISR']\n",
      "['Italy', '301316', 'IT', 'ITA']\n",
      "['Jamaica', '10990', 'JM', 'JAM']\n",
      "['Japan', '377829', 'JP', 'JPN']\n",
      "['Jordan', '88946', 'JO', 'JOR']\n",
      "['Kazakstan', '2724900', 'KZ', 'KAZ']\n",
      "['Kenya', '580367', 'KE', 'KEN']\n",
      "['Kiribati', '726', 'KI', 'KIR']\n",
      "['Kuwait', '17818', 'KW', 'KWT']\n",
      "['Kyrgyzstan', '199900', 'KG', 'KGZ']\n",
      "['Laos', '236800', 'LA', 'LAO']\n",
      "['Latvia', '64589', 'LV', 'LVA']\n",
      "['Lebanon', '10400', 'LB', 'LBN']\n",
      "['Lesotho', '30355', 'LS', 'LSO']\n",
      "['Liberia', '111369', 'LR', 'LBR']\n",
      "['Libyan Arab Jamahiriya', '1759540', 'LY', 'LBY']\n",
      "['Liechtenstein', '160', 'LI', 'LIE']\n",
      "['Lithuania', '65301', 'LT', 'LTU']\n",
      "['Luxembourg', '2586', 'LU', 'LUX']\n",
      "['Macao', '18', 'MO', 'MAC']\n",
      "['Macedonia', '25713', 'MK', 'MKD']\n",
      "['Madagascar', '587041', 'MG', 'MDG']\n",
      "['Malawi', '118484', 'MW', 'MWI']\n",
      "['Malaysia', '329758', 'MY', 'MYS']\n",
      "['Maldives', '298', 'MV', 'MDV']\n",
      "['Mali', '1240192', 'ML', 'MLI']\n",
      "['Malta', '316', 'MT', 'MLT']\n",
      "['Marshall Islands', '181', 'MH', 'MHL']\n",
      "['Martinique', '1102', 'MQ', 'MTQ']\n",
      "['Mauritania', '1025520', 'MR', 'MRT']\n",
      "['Mauritius', '2040', 'MU', 'MUS']\n",
      "['Mayotte', '373', 'YT', 'MYT']\n",
      "['Mexico', '1958201', 'MX', 'MEX']\n",
      "['Moldova', '33851', 'MD', 'MDA']\n",
      "['Monaco', '1.5', 'MC', 'MCO']\n",
      "['Mongolia', '1566500', 'MN', 'MNG']\n",
      "['Montserrat', '102', 'MS', 'MSR']\n",
      "['Morocco', '446550', 'MA', 'MAR']\n",
      "['Mozambique', '801590', 'MZ', 'MOZ']\n",
      "['Myanmar', '676578', 'MM', 'MMR']\n",
      "['Namibia', '824292', 'NA', 'NAM']\n",
      "['Nauru', '21', 'NR', 'NRU']\n",
      "['Nepal', '147181', 'NP', 'NPL']\n",
      "['Netherlands', '41526', 'NL', 'NLD']\n",
      "['Netherlands Antilles', '800', 'AN', 'ANT']\n",
      "['New Caledonia', '18575', 'NC', 'NCL']\n",
      "['New Zealand', '270534', 'NZ', 'NZL']\n",
      "['Nicaragua', '130000', 'NI', 'NIC']\n",
      "['Niger', '1267000', 'NE', 'NER']\n",
      "['Nigeria', '923768', 'NG', 'NGA']\n",
      "['Niue', '260', 'NU', 'NIU']\n",
      "['Norfolk Island', '36', 'NF', 'NFK']\n",
      "['North Korea', '120538', 'KP', 'PRK']\n",
      "['Northern Mariana Islands', '464', 'MP', 'MNP']\n",
      "['Norway', '323877', 'NO', 'NOR']\n",
      "['Oman', '309500', 'OM', 'OMN']\n",
      "['Pakistan', '796095', 'PK', 'PAK']\n",
      "['Palau', '459', 'PW', 'PLW']\n",
      "['Palestine', '6257', 'PS', 'PSE']\n",
      "['Panama', '75517', 'PA', 'PAN']\n",
      "['Papua New Guinea', '462840', 'PG', 'PNG']\n",
      "['Paraguay', '406752', 'PY', 'PRY']\n",
      "['Peru', '1285216', 'PE', 'PER']\n",
      "['Philippines', '300000', 'PH', 'PHL']\n",
      "['Pitcairn', '49', 'PN', 'PCN']\n",
      "['Poland', '323250', 'PL', 'POL']\n",
      "['Portugal', '91982', 'PT', 'PRT']\n",
      "['Puerto Rico', '8875', 'PR', 'PRI']\n",
      "['Qatar', '11000', 'QA', 'QAT']\n",
      "['Réunion', '2510', 'RE', 'REU']\n",
      "['Romania', '238391', 'RO', 'ROM']\n",
      "['Russian Federation', '17075400', 'RU', 'RUS']\n",
      "['Rwanda', '26338', 'RW', 'RWA']\n",
      "['Saint Helena', '314', 'SH', 'SHN']\n",
      "['Saint Kitts and Nevis', '261', 'KN', 'KNA']\n",
      "['Saint Lucia', '622', 'LC', 'LCA']\n",
      "['Saint Pierre and Miquelon', '242', 'PM', 'SPM']\n",
      "['Saint Vincent and the Grenadines', '388', 'VC', 'VCT']\n",
      "['Samoa', '2831', 'WS', 'WSM']\n",
      "['San Marino', '61', 'SM', 'SMR']\n",
      "['Sao Tome and Principe', '964', 'ST', 'STP']\n",
      "['Saudi Arabia', '2149690', 'SA', 'SAU']\n",
      "['Senegal', '196722', 'SN', 'SEN']\n",
      "['Seychelles', '455', 'SC', 'SYC']\n",
      "['Sierra Leone', '71740', 'SL', 'SLE']\n",
      "['Singapore', '618', 'SG', 'SGP']\n",
      "['Slovakia', '49012', 'SK', 'SVK']\n",
      "['Slovenia', '20256', 'SI', 'SVN']\n",
      "['Solomon Islands', '28896', 'SB', 'SLB']\n",
      "['Somalia', '637657', 'SO', 'SOM']\n",
      "['South Africa', '1221037', 'ZA', 'ZAF']\n",
      "['South Georgia and the South Sandwich Islands', '3903', 'GS', 'SGS']\n",
      "['South Korea', '99434', 'KR', 'KOR']\n",
      "['Spain', '505992', 'ES', 'ESP']\n",
      "['Sri Lanka', '65610', 'LK', 'LKA']\n",
      "['Sudan', '2505813', 'SD', 'SDN']\n",
      "['Suriname', '163265', 'SR', 'SUR']\n",
      "['Svalbard and Jan Mayen', '62422', 'SJ', 'SJM']\n",
      "['Swaziland', '17364', 'SZ', 'SWZ']\n",
      "['Sweden', '449964', 'SE', 'SWE']\n",
      "['Switzerland', '41284', 'CH', 'CHE']\n",
      "['Syria', '185180', 'SY', 'SYR']\n",
      "['Taiwan', '36188', 'TW', 'TWN']\n",
      "['Tajikistan', '143100', 'TJ', 'TJK']\n",
      "['Tanzania', '883749', 'TZ', 'TZA']\n",
      "['Thailand', '513115', 'TH', 'THA']\n",
      "['The Democratic Republic of the Congo', '2344858', 'CD', 'COD']\n",
      "['Togo', '56785', 'TG', 'TGO']\n",
      "['Tokelau', '12', 'TK', 'TKL']\n",
      "['Tonga', '650', 'TO', 'TON']\n",
      "['Trinidad and Tobago', '5130', 'TT', 'TTO']\n",
      "['Tunisia', '163610', 'TN', 'TUN']\n",
      "['Turkey', '774815', 'TR', 'TUR']\n",
      "['Turkmenistan', '488100', 'TM', 'TKM']\n",
      "['Turks and Caicos Islands', '430', 'TC', 'TCA']\n",
      "['Tuvalu', '26', 'TV', 'TUV']\n",
      "['Uganda', '241038', 'UG', 'UGA']\n",
      "['Ukraine', '603700', 'UA', 'UKR']\n",
      "['United Arab Emirates', '83600', 'AE', 'ARE']\n",
      "['United Kingdom', '242900', 'GB', 'GBR']\n",
      "['United States', '9363520', 'US', 'USA']\n",
      "['United States Minor Outlying Islands', '16', 'UM', 'UMI']\n",
      "['Uruguay', '175016', 'UY', 'URY']\n",
      "['Uzbekistan', '447400', 'UZ', 'UZB']\n",
      "['Vanuatu', '12189', 'VU', 'VUT']\n",
      "['Venezuela', '912050', 'VE', 'VEN']\n",
      "['Vietnam', '331689', 'VN', 'VNM']\n",
      "['Virgin Islands, British', '151', 'VG', 'VGB']\n",
      "['Virgin Islands, U.S.', '347', 'VI', 'VIR']\n",
      "['Wallis and Futuna', '200', 'WF', 'WLF']\n",
      "['Western Sahara', '266000', 'EH', 'ESH']\n",
      "['Yemen', '527968', 'YE', 'YEM']\n",
      "['Yugoslavia', '102173', 'YU', 'YUG']\n",
      "['Zambia', '752618', 'ZM', 'ZMB']\n",
      "['Zimbabwe', '390757', 'ZW', 'ZWE']\n"
     ]
    }
   ],
   "source": [
    "import csv\n",
    "\n",
    "with open('country.csv', encoding=\"utf8\") as f:\n",
    "    csv_reader = csv.reader(f)\n",
    "\n",
    "    # skip the first row\n",
    "    next(csv_reader)\n",
    "\n",
    "    # show the data\n",
    "    for line in csv_reader:\n",
    "        print(line)"
   ]
  },
  {
   "cell_type": "code",
   "execution_count": 21,
   "metadata": {},
   "outputs": [
    {
     "name": "stdout",
     "output_type": "stream",
     "text": [
      "148956306.9\n"
     ]
    }
   ],
   "source": [
    "import csv\n",
    "\n",
    "total_area = 0\n",
    "\n",
    "# calculate the total area of all countries\n",
    "\n",
    "with open('country.csv', encoding=\"utf8\") as f:\n",
    "    csv_reader = csv.reader(f)\n",
    "\n",
    "    # skip the header\n",
    "    next(csv_reader)\n",
    "\n",
    "    # calculate total\n",
    "    for line in csv_reader:\n",
    "        total_area += float(line[1])\n",
    "\n",
    "print(total_area)"
   ]
  },
  {
   "cell_type": "code",
   "execution_count": 22,
   "metadata": {},
   "outputs": [
    {
     "name": "stdout",
     "output_type": "stream",
     "text": [
      "The area of Albania is 28748 km2\n",
      "The area of Algeria is 2381741 km2\n",
      "The area of American Samoa is 199 km2\n",
      "The area of Andorra is 468 km2\n",
      "The area of Angola is 1246700 km2\n",
      "The area of Anguilla is 96 km2\n",
      "The area of Antarctica is 13120000 km2\n",
      "The area of Antigua and Barbuda is 442 km2\n",
      "The area of Argentina is 2780400 km2\n",
      "The area of Armenia is 29800 km2\n",
      "The area of Aruba is 193 km2\n",
      "The area of Australia is 7741220 km2\n",
      "The area of Austria is 83859 km2\n",
      "The area of Azerbaijan is 86600 km2\n",
      "The area of Bahamas is 13878 km2\n",
      "The area of Bahrain is 694 km2\n",
      "The area of Bangladesh is 143998 km2\n",
      "The area of Barbados is 430 km2\n",
      "The area of Belarus is 207600 km2\n",
      "The area of Belgium is 30518 km2\n",
      "The area of Belize is 22696 km2\n",
      "The area of Benin is 112622 km2\n",
      "The area of Bermuda is 53 km2\n",
      "The area of Bhutan is 47000 km2\n",
      "The area of Bolivia is 1098581 km2\n",
      "The area of Bosnia and Herzegovina is 51197 km2\n",
      "The area of Botswana is 581730 km2\n",
      "The area of Bouvet Island is 59 km2\n",
      "The area of Brazil is 8547403 km2\n",
      "The area of British Indian Ocean Territory is 78 km2\n",
      "The area of Brunei is 5765 km2\n",
      "The area of Bulgaria is 110994 km2\n",
      "The area of Burkina Faso is 274000 km2\n",
      "The area of Burundi is 27834 km2\n",
      "The area of Cambodia is 181035 km2\n",
      "The area of Cameroon is 475442 km2\n",
      "The area of Canada is 9970610 km2\n",
      "The area of Cape Verde is 4033 km2\n",
      "The area of Cayman Islands is 264 km2\n",
      "The area of Central African Republic is 622984 km2\n",
      "The area of Chad is 1284000 km2\n",
      "The area of Chile is 756626 km2\n",
      "The area of China is 9572900 km2\n",
      "The area of Christmas Island is 135 km2\n",
      "The area of Cocos (Keeling) Islands is 14 km2\n",
      "The area of Colombia is 1138914 km2\n",
      "The area of Comoros is 1862 km2\n",
      "The area of Congo is 342000 km2\n",
      "The area of Cook Islands is 236 km2\n",
      "The area of Costa Rica is 51100 km2\n",
      "The area of Côte d’Ivoire is 322463 km2\n",
      "The area of Croatia is 56538 km2\n",
      "The area of Cuba is 110861 km2\n",
      "The area of Cyprus is 9251 km2\n",
      "The area of Czech Republic is 78866 km2\n",
      "The area of Denmark is 43094 km2\n",
      "The area of Djibouti is 23200 km2\n",
      "The area of Dominica is 751 km2\n",
      "The area of Dominican Republic is 48511 km2\n",
      "The area of East Timor is 14874 km2\n",
      "The area of Ecuador is 283561 km2\n",
      "The area of Egypt is 1001449 km2\n",
      "The area of El Salvador is 21041 km2\n",
      "The area of Equatorial Guinea is 28051 km2\n",
      "The area of Eritrea is 117600 km2\n",
      "The area of Estonia is 45227 km2\n",
      "The area of Ethiopia is 1104300 km2\n",
      "The area of Falkland Islands is 12173 km2\n",
      "The area of Faroe Islands is 1399 km2\n",
      "The area of Federated States of Micronesia is 702 km2\n",
      "The area of Fiji Islands is 18274 km2\n",
      "The area of Finland is 338145 km2\n",
      "The area of France is 551500 km2\n",
      "The area of French Guiana is 90000 km2\n",
      "The area of French Polynesia is 4000 km2\n",
      "The area of French Southern territories is 7780 km2\n",
      "The area of Gabon is 267668 km2\n",
      "The area of Gambia is 11295 km2\n",
      "The area of Georgia is 69700 km2\n",
      "The area of Germany is 357022 km2\n",
      "The area of Ghana is 238533 km2\n",
      "The area of Gibraltar is 6 km2\n",
      "The area of Greece is 131626 km2\n",
      "The area of Greenland is 2166090 km2\n",
      "The area of Grenada is 344 km2\n",
      "The area of Guadeloupe is 1705 km2\n",
      "The area of Guam is 549 km2\n",
      "The area of Guatemala is 108889 km2\n",
      "The area of Guinea is 245857 km2\n",
      "The area of Guinea-Bissau is 36125 km2\n",
      "The area of Guyana is 214969 km2\n",
      "The area of Haiti is 27750 km2\n",
      "The area of Heard Island and McDonald Islands is 359 km2\n",
      "The area of Holy See (Vatican City State) is 0.4 km2\n",
      "The area of Honduras is 112088 km2\n",
      "The area of Hong Kong is 1075 km2\n",
      "The area of Hungary is 93030 km2\n",
      "The area of Iceland is 103000 km2\n",
      "The area of India is 3287263 km2\n",
      "The area of Indonesia is 1904569 km2\n",
      "The area of Iran is 1648195 km2\n",
      "The area of Iraq is 438317 km2\n",
      "The area of Ireland is 70273 km2\n",
      "The area of Israel is 21056 km2\n",
      "The area of Italy is 301316 km2\n",
      "The area of Jamaica is 10990 km2\n",
      "The area of Japan is 377829 km2\n",
      "The area of Jordan is 88946 km2\n",
      "The area of Kazakstan is 2724900 km2\n",
      "The area of Kenya is 580367 km2\n",
      "The area of Kiribati is 726 km2\n",
      "The area of Kuwait is 17818 km2\n",
      "The area of Kyrgyzstan is 199900 km2\n",
      "The area of Laos is 236800 km2\n",
      "The area of Latvia is 64589 km2\n",
      "The area of Lebanon is 10400 km2\n",
      "The area of Lesotho is 30355 km2\n",
      "The area of Liberia is 111369 km2\n",
      "The area of Libyan Arab Jamahiriya is 1759540 km2\n",
      "The area of Liechtenstein is 160 km2\n",
      "The area of Lithuania is 65301 km2\n",
      "The area of Luxembourg is 2586 km2\n",
      "The area of Macao is 18 km2\n",
      "The area of Macedonia is 25713 km2\n",
      "The area of Madagascar is 587041 km2\n",
      "The area of Malawi is 118484 km2\n",
      "The area of Malaysia is 329758 km2\n",
      "The area of Maldives is 298 km2\n",
      "The area of Mali is 1240192 km2\n",
      "The area of Malta is 316 km2\n",
      "The area of Marshall Islands is 181 km2\n",
      "The area of Martinique is 1102 km2\n",
      "The area of Mauritania is 1025520 km2\n",
      "The area of Mauritius is 2040 km2\n",
      "The area of Mayotte is 373 km2\n",
      "The area of Mexico is 1958201 km2\n",
      "The area of Moldova is 33851 km2\n",
      "The area of Monaco is 1.5 km2\n",
      "The area of Mongolia is 1566500 km2\n",
      "The area of Montserrat is 102 km2\n",
      "The area of Morocco is 446550 km2\n",
      "The area of Mozambique is 801590 km2\n",
      "The area of Myanmar is 676578 km2\n",
      "The area of Namibia is 824292 km2\n",
      "The area of Nauru is 21 km2\n",
      "The area of Nepal is 147181 km2\n",
      "The area of Netherlands is 41526 km2\n",
      "The area of Netherlands Antilles is 800 km2\n",
      "The area of New Caledonia is 18575 km2\n",
      "The area of New Zealand is 270534 km2\n",
      "The area of Nicaragua is 130000 km2\n",
      "The area of Niger is 1267000 km2\n",
      "The area of Nigeria is 923768 km2\n",
      "The area of Niue is 260 km2\n",
      "The area of Norfolk Island is 36 km2\n",
      "The area of North Korea is 120538 km2\n",
      "The area of Northern Mariana Islands is 464 km2\n",
      "The area of Norway is 323877 km2\n",
      "The area of Oman is 309500 km2\n",
      "The area of Pakistan is 796095 km2\n",
      "The area of Palau is 459 km2\n",
      "The area of Palestine is 6257 km2\n",
      "The area of Panama is 75517 km2\n",
      "The area of Papua New Guinea is 462840 km2\n",
      "The area of Paraguay is 406752 km2\n",
      "The area of Peru is 1285216 km2\n",
      "The area of Philippines is 300000 km2\n",
      "The area of Pitcairn is 49 km2\n",
      "The area of Poland is 323250 km2\n",
      "The area of Portugal is 91982 km2\n",
      "The area of Puerto Rico is 8875 km2\n",
      "The area of Qatar is 11000 km2\n",
      "The area of Réunion is 2510 km2\n",
      "The area of Romania is 238391 km2\n",
      "The area of Russian Federation is 17075400 km2\n",
      "The area of Rwanda is 26338 km2\n",
      "The area of Saint Helena is 314 km2\n",
      "The area of Saint Kitts and Nevis is 261 km2\n",
      "The area of Saint Lucia is 622 km2\n",
      "The area of Saint Pierre and Miquelon is 242 km2\n",
      "The area of Saint Vincent and the Grenadines is 388 km2\n",
      "The area of Samoa is 2831 km2\n",
      "The area of San Marino is 61 km2\n",
      "The area of Sao Tome and Principe is 964 km2\n",
      "The area of Saudi Arabia is 2149690 km2\n",
      "The area of Senegal is 196722 km2\n",
      "The area of Seychelles is 455 km2\n",
      "The area of Sierra Leone is 71740 km2\n",
      "The area of Singapore is 618 km2\n",
      "The area of Slovakia is 49012 km2\n",
      "The area of Slovenia is 20256 km2\n",
      "The area of Solomon Islands is 28896 km2\n",
      "The area of Somalia is 637657 km2\n",
      "The area of South Africa is 1221037 km2\n",
      "The area of South Georgia and the South Sandwich Islands is 3903 km2\n",
      "The area of South Korea is 99434 km2\n",
      "The area of Spain is 505992 km2\n",
      "The area of Sri Lanka is 65610 km2\n",
      "The area of Sudan is 2505813 km2\n",
      "The area of Suriname is 163265 km2\n",
      "The area of Svalbard and Jan Mayen is 62422 km2\n",
      "The area of Swaziland is 17364 km2\n",
      "The area of Sweden is 449964 km2\n",
      "The area of Switzerland is 41284 km2\n",
      "The area of Syria is 185180 km2\n",
      "The area of Taiwan is 36188 km2\n",
      "The area of Tajikistan is 143100 km2\n",
      "The area of Tanzania is 883749 km2\n",
      "The area of Thailand is 513115 km2\n",
      "The area of The Democratic Republic of the Congo is 2344858 km2\n",
      "The area of Togo is 56785 km2\n",
      "The area of Tokelau is 12 km2\n",
      "The area of Tonga is 650 km2\n",
      "The area of Trinidad and Tobago is 5130 km2\n",
      "The area of Tunisia is 163610 km2\n",
      "The area of Turkey is 774815 km2\n",
      "The area of Turkmenistan is 488100 km2\n",
      "The area of Turks and Caicos Islands is 430 km2\n",
      "The area of Tuvalu is 26 km2\n",
      "The area of Uganda is 241038 km2\n",
      "The area of Ukraine is 603700 km2\n",
      "The area of United Arab Emirates is 83600 km2\n",
      "The area of United Kingdom is 242900 km2\n",
      "The area of United States is 9363520 km2\n",
      "The area of United States Minor Outlying Islands is 16 km2\n",
      "The area of Uruguay is 175016 km2\n",
      "The area of Uzbekistan is 447400 km2\n",
      "The area of Vanuatu is 12189 km2\n",
      "The area of Venezuela is 912050 km2\n",
      "The area of Vietnam is 331689 km2\n",
      "The area of Virgin Islands, British is 151 km2\n",
      "The area of Virgin Islands, U.S. is 347 km2\n",
      "The area of Wallis and Futuna is 200 km2\n",
      "The area of Western Sahara is 266000 km2\n",
      "The area of Yemen is 527968 km2\n",
      "The area of Yugoslavia is 102173 km2\n",
      "The area of Zambia is 752618 km2\n",
      "The area of Zimbabwe is 390757 km2\n"
     ]
    }
   ],
   "source": [
    "import csv\n",
    "\n",
    "with open('country.csv', encoding=\"utf8\") as f:\n",
    "    csv_reader = csv.DictReader(f)\n",
    "    # skip the header\n",
    "    next(csv_reader)\n",
    "    # show the data\n",
    "    for line in csv_reader:\n",
    "        print(f\"The area of {line['name']} is {line['area']} km2\")"
   ]
  },
  {
   "cell_type": "code",
   "execution_count": 23,
   "metadata": {},
   "outputs": [
    {
     "name": "stdout",
     "output_type": "stream",
     "text": [
      "The area of Afghanistan is 652090 km2\n",
      "The area of Albania is 28748 km2\n",
      "The area of Algeria is 2381741 km2\n",
      "The area of American Samoa is 199 km2\n",
      "The area of Andorra is 468 km2\n",
      "The area of Angola is 1246700 km2\n",
      "The area of Anguilla is 96 km2\n",
      "The area of Antarctica is 13120000 km2\n",
      "The area of Antigua and Barbuda is 442 km2\n",
      "The area of Argentina is 2780400 km2\n",
      "The area of Armenia is 29800 km2\n",
      "The area of Aruba is 193 km2\n",
      "The area of Australia is 7741220 km2\n",
      "The area of Austria is 83859 km2\n",
      "The area of Azerbaijan is 86600 km2\n",
      "The area of Bahamas is 13878 km2\n",
      "The area of Bahrain is 694 km2\n",
      "The area of Bangladesh is 143998 km2\n",
      "The area of Barbados is 430 km2\n",
      "The area of Belarus is 207600 km2\n",
      "The area of Belgium is 30518 km2\n",
      "The area of Belize is 22696 km2\n",
      "The area of Benin is 112622 km2\n",
      "The area of Bermuda is 53 km2\n",
      "The area of Bhutan is 47000 km2\n",
      "The area of Bolivia is 1098581 km2\n",
      "The area of Bosnia and Herzegovina is 51197 km2\n",
      "The area of Botswana is 581730 km2\n",
      "The area of Bouvet Island is 59 km2\n",
      "The area of Brazil is 8547403 km2\n",
      "The area of British Indian Ocean Territory is 78 km2\n",
      "The area of Brunei is 5765 km2\n",
      "The area of Bulgaria is 110994 km2\n",
      "The area of Burkina Faso is 274000 km2\n",
      "The area of Burundi is 27834 km2\n",
      "The area of Cambodia is 181035 km2\n",
      "The area of Cameroon is 475442 km2\n",
      "The area of Canada is 9970610 km2\n",
      "The area of Cape Verde is 4033 km2\n",
      "The area of Cayman Islands is 264 km2\n",
      "The area of Central African Republic is 622984 km2\n",
      "The area of Chad is 1284000 km2\n",
      "The area of Chile is 756626 km2\n",
      "The area of China is 9572900 km2\n",
      "The area of Christmas Island is 135 km2\n",
      "The area of Cocos (Keeling) Islands is 14 km2\n",
      "The area of Colombia is 1138914 km2\n",
      "The area of Comoros is 1862 km2\n",
      "The area of Congo is 342000 km2\n",
      "The area of Cook Islands is 236 km2\n",
      "The area of Costa Rica is 51100 km2\n",
      "The area of Côte d’Ivoire is 322463 km2\n",
      "The area of Croatia is 56538 km2\n",
      "The area of Cuba is 110861 km2\n",
      "The area of Cyprus is 9251 km2\n",
      "The area of Czech Republic is 78866 km2\n",
      "The area of Denmark is 43094 km2\n",
      "The area of Djibouti is 23200 km2\n",
      "The area of Dominica is 751 km2\n",
      "The area of Dominican Republic is 48511 km2\n",
      "The area of East Timor is 14874 km2\n",
      "The area of Ecuador is 283561 km2\n",
      "The area of Egypt is 1001449 km2\n",
      "The area of El Salvador is 21041 km2\n",
      "The area of Equatorial Guinea is 28051 km2\n",
      "The area of Eritrea is 117600 km2\n",
      "The area of Estonia is 45227 km2\n",
      "The area of Ethiopia is 1104300 km2\n",
      "The area of Falkland Islands is 12173 km2\n",
      "The area of Faroe Islands is 1399 km2\n",
      "The area of Federated States of Micronesia is 702 km2\n",
      "The area of Fiji Islands is 18274 km2\n",
      "The area of Finland is 338145 km2\n",
      "The area of France is 551500 km2\n",
      "The area of French Guiana is 90000 km2\n",
      "The area of French Polynesia is 4000 km2\n",
      "The area of French Southern territories is 7780 km2\n",
      "The area of Gabon is 267668 km2\n",
      "The area of Gambia is 11295 km2\n",
      "The area of Georgia is 69700 km2\n",
      "The area of Germany is 357022 km2\n",
      "The area of Ghana is 238533 km2\n",
      "The area of Gibraltar is 6 km2\n",
      "The area of Greece is 131626 km2\n",
      "The area of Greenland is 2166090 km2\n",
      "The area of Grenada is 344 km2\n",
      "The area of Guadeloupe is 1705 km2\n",
      "The area of Guam is 549 km2\n",
      "The area of Guatemala is 108889 km2\n",
      "The area of Guinea is 245857 km2\n",
      "The area of Guinea-Bissau is 36125 km2\n",
      "The area of Guyana is 214969 km2\n",
      "The area of Haiti is 27750 km2\n",
      "The area of Heard Island and McDonald Islands is 359 km2\n",
      "The area of Holy See (Vatican City State) is 0.4 km2\n",
      "The area of Honduras is 112088 km2\n",
      "The area of Hong Kong is 1075 km2\n",
      "The area of Hungary is 93030 km2\n",
      "The area of Iceland is 103000 km2\n",
      "The area of India is 3287263 km2\n",
      "The area of Indonesia is 1904569 km2\n",
      "The area of Iran is 1648195 km2\n",
      "The area of Iraq is 438317 km2\n",
      "The area of Ireland is 70273 km2\n",
      "The area of Israel is 21056 km2\n",
      "The area of Italy is 301316 km2\n",
      "The area of Jamaica is 10990 km2\n",
      "The area of Japan is 377829 km2\n",
      "The area of Jordan is 88946 km2\n",
      "The area of Kazakstan is 2724900 km2\n",
      "The area of Kenya is 580367 km2\n",
      "The area of Kiribati is 726 km2\n",
      "The area of Kuwait is 17818 km2\n",
      "The area of Kyrgyzstan is 199900 km2\n",
      "The area of Laos is 236800 km2\n",
      "The area of Latvia is 64589 km2\n",
      "The area of Lebanon is 10400 km2\n",
      "The area of Lesotho is 30355 km2\n",
      "The area of Liberia is 111369 km2\n",
      "The area of Libyan Arab Jamahiriya is 1759540 km2\n",
      "The area of Liechtenstein is 160 km2\n",
      "The area of Lithuania is 65301 km2\n",
      "The area of Luxembourg is 2586 km2\n",
      "The area of Macao is 18 km2\n",
      "The area of Macedonia is 25713 km2\n",
      "The area of Madagascar is 587041 km2\n",
      "The area of Malawi is 118484 km2\n",
      "The area of Malaysia is 329758 km2\n",
      "The area of Maldives is 298 km2\n",
      "The area of Mali is 1240192 km2\n",
      "The area of Malta is 316 km2\n",
      "The area of Marshall Islands is 181 km2\n",
      "The area of Martinique is 1102 km2\n",
      "The area of Mauritania is 1025520 km2\n",
      "The area of Mauritius is 2040 km2\n",
      "The area of Mayotte is 373 km2\n",
      "The area of Mexico is 1958201 km2\n",
      "The area of Moldova is 33851 km2\n",
      "The area of Monaco is 1.5 km2\n",
      "The area of Mongolia is 1566500 km2\n",
      "The area of Montserrat is 102 km2\n",
      "The area of Morocco is 446550 km2\n",
      "The area of Mozambique is 801590 km2\n",
      "The area of Myanmar is 676578 km2\n",
      "The area of Namibia is 824292 km2\n",
      "The area of Nauru is 21 km2\n",
      "The area of Nepal is 147181 km2\n",
      "The area of Netherlands is 41526 km2\n",
      "The area of Netherlands Antilles is 800 km2\n",
      "The area of New Caledonia is 18575 km2\n",
      "The area of New Zealand is 270534 km2\n",
      "The area of Nicaragua is 130000 km2\n",
      "The area of Niger is 1267000 km2\n",
      "The area of Nigeria is 923768 km2\n",
      "The area of Niue is 260 km2\n",
      "The area of Norfolk Island is 36 km2\n",
      "The area of North Korea is 120538 km2\n",
      "The area of Northern Mariana Islands is 464 km2\n",
      "The area of Norway is 323877 km2\n",
      "The area of Oman is 309500 km2\n",
      "The area of Pakistan is 796095 km2\n",
      "The area of Palau is 459 km2\n",
      "The area of Palestine is 6257 km2\n",
      "The area of Panama is 75517 km2\n",
      "The area of Papua New Guinea is 462840 km2\n",
      "The area of Paraguay is 406752 km2\n",
      "The area of Peru is 1285216 km2\n",
      "The area of Philippines is 300000 km2\n",
      "The area of Pitcairn is 49 km2\n",
      "The area of Poland is 323250 km2\n",
      "The area of Portugal is 91982 km2\n",
      "The area of Puerto Rico is 8875 km2\n",
      "The area of Qatar is 11000 km2\n",
      "The area of Réunion is 2510 km2\n",
      "The area of Romania is 238391 km2\n",
      "The area of Russian Federation is 17075400 km2\n",
      "The area of Rwanda is 26338 km2\n",
      "The area of Saint Helena is 314 km2\n",
      "The area of Saint Kitts and Nevis is 261 km2\n",
      "The area of Saint Lucia is 622 km2\n",
      "The area of Saint Pierre and Miquelon is 242 km2\n",
      "The area of Saint Vincent and the Grenadines is 388 km2\n",
      "The area of Samoa is 2831 km2\n",
      "The area of San Marino is 61 km2\n",
      "The area of Sao Tome and Principe is 964 km2\n",
      "The area of Saudi Arabia is 2149690 km2\n",
      "The area of Senegal is 196722 km2\n",
      "The area of Seychelles is 455 km2\n",
      "The area of Sierra Leone is 71740 km2\n",
      "The area of Singapore is 618 km2\n",
      "The area of Slovakia is 49012 km2\n",
      "The area of Slovenia is 20256 km2\n",
      "The area of Solomon Islands is 28896 km2\n",
      "The area of Somalia is 637657 km2\n",
      "The area of South Africa is 1221037 km2\n",
      "The area of South Georgia and the South Sandwich Islands is 3903 km2\n",
      "The area of South Korea is 99434 km2\n",
      "The area of Spain is 505992 km2\n",
      "The area of Sri Lanka is 65610 km2\n",
      "The area of Sudan is 2505813 km2\n",
      "The area of Suriname is 163265 km2\n",
      "The area of Svalbard and Jan Mayen is 62422 km2\n",
      "The area of Swaziland is 17364 km2\n",
      "The area of Sweden is 449964 km2\n",
      "The area of Switzerland is 41284 km2\n",
      "The area of Syria is 185180 km2\n",
      "The area of Taiwan is 36188 km2\n",
      "The area of Tajikistan is 143100 km2\n",
      "The area of Tanzania is 883749 km2\n",
      "The area of Thailand is 513115 km2\n",
      "The area of The Democratic Republic of the Congo is 2344858 km2\n",
      "The area of Togo is 56785 km2\n",
      "The area of Tokelau is 12 km2\n",
      "The area of Tonga is 650 km2\n",
      "The area of Trinidad and Tobago is 5130 km2\n",
      "The area of Tunisia is 163610 km2\n",
      "The area of Turkey is 774815 km2\n",
      "The area of Turkmenistan is 488100 km2\n",
      "The area of Turks and Caicos Islands is 430 km2\n",
      "The area of Tuvalu is 26 km2\n",
      "The area of Uganda is 241038 km2\n",
      "The area of Ukraine is 603700 km2\n",
      "The area of United Arab Emirates is 83600 km2\n",
      "The area of United Kingdom is 242900 km2\n",
      "The area of United States is 9363520 km2\n",
      "The area of United States Minor Outlying Islands is 16 km2\n",
      "The area of Uruguay is 175016 km2\n",
      "The area of Uzbekistan is 447400 km2\n",
      "The area of Vanuatu is 12189 km2\n",
      "The area of Venezuela is 912050 km2\n",
      "The area of Vietnam is 331689 km2\n",
      "The area of Virgin Islands, British is 151 km2\n",
      "The area of Virgin Islands, U.S. is 347 km2\n",
      "The area of Wallis and Futuna is 200 km2\n",
      "The area of Western Sahara is 266000 km2\n",
      "The area of Yemen is 527968 km2\n",
      "The area of Yugoslavia is 102173 km2\n",
      "The area of Zambia is 752618 km2\n",
      "The area of Zimbabwe is 390757 km2\n"
     ]
    }
   ],
   "source": [
    "import csv\n",
    "\n",
    "fieldnames = ['country_name', 'area', 'code2', 'code3']\n",
    "\n",
    "with open('country.csv', encoding=\"utf8\") as f:\n",
    "    csv_reader = csv.DictReader(f, fieldnames)\n",
    "    next(csv_reader)\n",
    "    for line in csv_reader:\n",
    "        print(f\"The area of {line['country_name']} is {line['area']} km2\")"
   ]
  },
  {
   "cell_type": "code",
   "execution_count": 25,
   "metadata": {},
   "outputs": [],
   "source": [
    "import csv  \n",
    "\n",
    "header = ['name', 'area', 'country_code2', 'country_code3']\n",
    "data = ['Afghanistan', 652090, 'AF', 'AFG']\n",
    "\n",
    "with open('countries.csv', 'w', encoding='UTF8') as f:\n",
    "    writer = csv.writer(f)\n",
    "\n",
    "    # write the header\n",
    "    writer.writerow(header)\n",
    "\n",
    "    # write the data\n",
    "    writer.writerow(data)"
   ]
  },
  {
   "cell_type": "code",
   "execution_count": 26,
   "metadata": {},
   "outputs": [],
   "source": [
    "import csv\n",
    "\n",
    "header = ['name', 'area', 'country_code2', 'country_code3']\n",
    "data = ['Afghanistan', 652090, 'AF', 'AFG']\n",
    "\n",
    "\n",
    "with open('countries.csv', 'w', encoding='UTF8', newline='') as f:\n",
    "    writer = csv.writer(f)\n",
    "\n",
    "    # write the header\n",
    "    writer.writerow(header)\n",
    "\n",
    "    # write the data\n",
    "    writer.writerow(data)"
   ]
  },
  {
   "cell_type": "code",
   "execution_count": 27,
   "metadata": {},
   "outputs": [],
   "source": [
    "import csv\n",
    "\n",
    "header = ['name', 'area', 'country_code2', 'country_code3']\n",
    "data = [\n",
    "    ['Albania', 28748, 'AL', 'ALB'],\n",
    "    ['Algeria', 2381741, 'DZ', 'DZA'],\n",
    "    ['American Samoa', 199, 'AS', 'ASM'],\n",
    "    ['Andorra', 468, 'AD', 'AND'],\n",
    "    ['Angola', 1246700, 'AO', 'AGO']\n",
    "]\n",
    "\n",
    "with open('countries.csv', 'w', encoding='UTF8', newline='') as f:\n",
    "    writer = csv.writer(f)\n",
    "\n",
    "    # write the header\n",
    "    writer.writerow(header)\n",
    "\n",
    "    # write multiple rows\n",
    "    writer.writerows(data)"
   ]
  },
  {
   "cell_type": "code",
   "execution_count": 28,
   "metadata": {},
   "outputs": [],
   "source": [
    "import csv\n",
    "\n",
    "# csv header\n",
    "fieldnames = ['name', 'area', 'country_code2', 'country_code3']\n",
    "\n",
    "# csv data\n",
    "rows = [\n",
    "    {'name': 'Albania',\n",
    "    'area': 28748,\n",
    "    'country_code2': 'AL',\n",
    "    'country_code3': 'ALB'},\n",
    "    {'name': 'Algeria',\n",
    "    'area': 2381741,\n",
    "    'country_code2': 'DZ',\n",
    "    'country_code3': 'DZA'},\n",
    "    {'name': 'American Samoa',\n",
    "    'area': 199,\n",
    "    'country_code2': 'AS',\n",
    "    'country_code3': 'ASM'}\n",
    "]\n",
    "\n",
    "with open('countries.csv', 'w', encoding='UTF8', newline='') as f:\n",
    "    writer = csv.DictWriter(f, fieldnames=fieldnames)\n",
    "    writer.writeheader()\n",
    "    writer.writerows(rows)"
   ]
  },
  {
   "cell_type": "code",
   "execution_count": 29,
   "metadata": {},
   "outputs": [],
   "source": [
    "import os\n",
    "\n",
    "filename = 'readme.txt'\n",
    "if os.path.exists(filename):\n",
    "    os.remove(filename)"
   ]
  },
  {
   "cell_type": "code",
   "execution_count": 30,
   "metadata": {},
   "outputs": [
    {
     "name": "stdout",
     "output_type": "stream",
     "text": [
      "c:\\Users\\austi\\OneDrive\\Desktop\\School Work\\ECE 5831-2024\\ECE 5831-2024-assignments\\02\n"
     ]
    }
   ],
   "source": [
    "import os\n",
    "\n",
    "\n",
    "cwd = os.getcwd()\n",
    "print(cwd)"
   ]
  },
  {
   "cell_type": "code",
   "execution_count": 31,
   "metadata": {},
   "outputs": [
    {
     "name": "stdout",
     "output_type": "stream",
     "text": [
      "C:\\temp\n"
     ]
    }
   ],
   "source": [
    "import os\n",
    "\n",
    "dir = os.path.join(\"C:\\\\\", \"temp\")\n",
    "print(dir)\n",
    "\n",
    "if os.path.exists(dir) or os.path.isdir(dir):\n",
    "    print(f'The {dir} is a directory')"
   ]
  },
  {
   "cell_type": "code",
   "execution_count": 33,
   "metadata": {},
   "outputs": [
    {
     "name": "stdout",
     "output_type": "stream",
     "text": [
      "temp\\python\n",
      "('temp', 'python')\n"
     ]
    }
   ],
   "source": [
    "import os\n",
    "\n",
    "fp = os.path.join('temp', 'python')\n",
    "print(fp)  # temp\\python (on Windows)\n",
    "\n",
    "pc = os.path.split(fp)\n",
    "print(pc)  # ('temp', 'python')"
   ]
  },
  {
   "cell_type": "code",
   "execution_count": 37,
   "metadata": {},
   "outputs": [],
   "source": [
    "import os\n",
    "\n",
    "oldpath = os.path.join(\"C:\\\\\", \"temp\", \"python\")\n",
    "newpath = os.path.join(\"C:\\\\\", \"temp\", \"python3\")\n",
    "\n",
    "if os.path.exists(oldpath) and not os.path.exists(newpath):\n",
    "    os.rename(oldpath, newpath)\n",
    "    print(\"'{0}' was renamed to '{1}'\".format(oldpath, newpath))"
   ]
  },
  {
   "cell_type": "code",
   "execution_count": 39,
   "metadata": {},
   "outputs": [
    {
     "name": "stdout",
     "output_type": "stream",
     "text": [
      "Hello, John!\n"
     ]
    }
   ],
   "source": [
    "name = 'John'\n",
    "s = f'Hello, {name}!'\n",
    "print(s)"
   ]
  },
  {
   "cell_type": "code",
   "execution_count": 40,
   "metadata": {},
   "outputs": [
    {
     "name": "stdout",
     "output_type": "stream",
     "text": [
      "Hello, JOHN!\n"
     ]
    }
   ],
   "source": [
    "name = 'John'\n",
    "s = F'Hello, {name.upper()}!'\n",
    "print(s)"
   ]
  },
  {
   "cell_type": "code",
   "execution_count": 41,
   "metadata": {},
   "outputs": [
    {
     "name": "stdout",
     "output_type": "stream",
     "text": [
      "Hello, John Doe!\n"
     ]
    }
   ],
   "source": [
    "first_name = 'John'\n",
    "last_name = 'Doe'\n",
    "s = F'Hello, {first_name} {last_name}!'\n",
    "print(s)"
   ]
  },
  {
   "cell_type": "code",
   "execution_count": 42,
   "metadata": {},
   "outputs": [
    {
     "name": "stdout",
     "output_type": "stream",
     "text": [
      "Hello, John Doe!\n"
     ]
    }
   ],
   "source": [
    "first_name = 'John'\n",
    "last_name = 'Doe'\n",
    "s = F'Hello, {\" \".join((first_name, last_name))}!'\n",
    "\n",
    "print(s)"
   ]
  },
  {
   "cell_type": "code",
   "execution_count": 43,
   "metadata": {},
   "outputs": [
    {
     "name": "stdout",
     "output_type": "stream",
     "text": [
      "Hello John. You're learning Python at PythonTutorial.net.\n"
     ]
    }
   ],
   "source": [
    "name = 'John'\n",
    "website = 'PythonTutorial.net'\n",
    "\n",
    "message = (\n",
    "    f'Hello {name}. '\n",
    "    f\"You're learning Python at {website}.\" \n",
    ")\n",
    "\n",
    "print(message)"
   ]
  },
  {
   "cell_type": "code",
   "execution_count": 44,
   "metadata": {},
   "outputs": [
    {
     "name": "stdout",
     "output_type": "stream",
     "text": [
      "Hello John. You're learning Python at PythonTutorial.net.\n"
     ]
    }
   ],
   "source": [
    "name = 'John'\n",
    "website = 'PythonTutorial.net'\n",
    "\n",
    "message = f'Hello {name}. ' \\\n",
    "          f\"You're learning Python at {website}.\" \n",
    "\n",
    "print(message)"
   ]
  },
  {
   "cell_type": "code",
   "execution_count": 45,
   "metadata": {},
   "outputs": [
    {
     "name": "stdout",
     "output_type": "stream",
     "text": [
      "Hello John.\n",
      "You're learning Python at PythonTutorial.net.\n"
     ]
    }
   ],
   "source": [
    "name = 'John'\n",
    "website = 'PythonTutorial.net'\n",
    "\n",
    "message = f\"\"\"Hello {name}.\n",
    "You're learning Python at {website}.\"\"\"\n",
    "\n",
    "print(message)"
   ]
  },
  {
   "cell_type": "code",
   "execution_count": 46,
   "metadata": {},
   "outputs": [
    {
     "name": "stdout",
     "output_type": "stream",
     "text": [
      "{1+2}\n"
     ]
    }
   ],
   "source": [
    "s = f'{{1+2}}'\n",
    "print(s)"
   ]
  },
  {
   "cell_type": "code",
   "execution_count": 47,
   "metadata": {},
   "outputs": [
    {
     "name": "stdout",
     "output_type": "stream",
     "text": [
      "{3}\n"
     ]
    }
   ],
   "source": [
    "s = f'{{{1+2}}}'\n",
    "print(s)"
   ]
  },
  {
   "cell_type": "code",
   "execution_count": 48,
   "metadata": {},
   "outputs": [
    {
     "name": "stdout",
     "output_type": "stream",
     "text": [
      "{{1+2}}\n"
     ]
    }
   ],
   "source": [
    "s = f'{{{{1+2}}}}'\n",
    "print(s)"
   ]
  },
  {
   "cell_type": "code",
   "execution_count": 49,
   "metadata": {},
   "outputs": [
    {
     "name": "stdout",
     "output_type": "stream",
     "text": [
      "1,3\n"
     ]
    }
   ],
   "source": [
    "def inc(numbers, value):\n",
    "    numbers[0] += value\n",
    "    return numbers[0]\n",
    "\n",
    "numbers = [0]\n",
    "\n",
    "s = f'{inc(numbers,1)},{inc(numbers,2)}'\n",
    "print(s)"
   ]
  },
  {
   "cell_type": "code",
   "execution_count": 50,
   "metadata": {},
   "outputs": [
    {
     "name": "stdout",
     "output_type": "stream",
     "text": [
      "10\n"
     ]
    }
   ],
   "source": [
    "number = 16\n",
    "s = f'{number:x}'\n",
    "print(s)  # 10"
   ]
  },
  {
   "cell_type": "code",
   "execution_count": 51,
   "metadata": {},
   "outputs": [
    {
     "name": "stdout",
     "output_type": "stream",
     "text": [
      " 00200\n"
     ]
    }
   ],
   "source": [
    "number = 200\n",
    "s = f'{number: 06}'\n",
    "print(s)  # 00200"
   ]
  },
  {
   "cell_type": "code",
   "execution_count": 52,
   "metadata": {},
   "outputs": [
    {
     "name": "stdout",
     "output_type": "stream",
     "text": [
      " 9.99\n"
     ]
    }
   ],
   "source": [
    "number = 9.98567\n",
    "s = f'{number: .2f}'\n",
    "print(s)  # 9.99"
   ]
  },
  {
   "cell_type": "code",
   "execution_count": 53,
   "metadata": {},
   "outputs": [
    {
     "name": "stdout",
     "output_type": "stream",
     "text": [
      " 400,000,000,000\n"
     ]
    }
   ],
   "source": [
    "number = 400000000000\n",
    "s = f'{number: ,}'  # also can use _\n",
    "print(s)  # 400,000,000,000"
   ]
  },
  {
   "cell_type": "code",
   "execution_count": 54,
   "metadata": {},
   "outputs": [
    {
     "name": "stdout",
     "output_type": "stream",
     "text": [
      " 12.59%\n",
      " 12.6%\n"
     ]
    }
   ],
   "source": [
    "number = 0.1259\n",
    "s = f'{number: .2%}'\n",
    "print(s)  # 12.59%\n",
    "\n",
    "s = f'{number: .1%}'\n",
    "print(s)  # 12.5%"
   ]
  },
  {
   "cell_type": "code",
   "execution_count": 55,
   "metadata": {},
   "outputs": [
    {
     "name": "stdout",
     "output_type": "stream",
     "text": [
      "lang\tver\n",
      "Python\t3\n"
     ]
    }
   ],
   "source": [
    "s = 'lang\\tver\\nPython\\t3'\n",
    "print(s)"
   ]
  },
  {
   "cell_type": "code",
   "execution_count": 56,
   "metadata": {},
   "outputs": [
    {
     "name": "stdout",
     "output_type": "stream",
     "text": [
      "lang\\tver\\nPython\\t3\n"
     ]
    }
   ],
   "source": [
    "s = r'lang\\tver\\nPython\\t3'\n",
    "print(s)"
   ]
  },
  {
   "cell_type": "code",
   "execution_count": 57,
   "metadata": {},
   "outputs": [
    {
     "name": "stdout",
     "output_type": "stream",
     "text": [
      "True\n"
     ]
    }
   ],
   "source": [
    "s1 = r'lang\\tver\\nPython\\t3'\n",
    "s2 = 'lang\\\\tver\\\\nPython\\\\t3'\n",
    "\n",
    "print(s1 == s2) # True"
   ]
  },
  {
   "cell_type": "code",
   "execution_count": 58,
   "metadata": {},
   "outputs": [
    {
     "name": "stdout",
     "output_type": "stream",
     "text": [
      "1\n"
     ]
    }
   ],
   "source": [
    "s = '\\n'\n",
    "print(len(s)) # 1"
   ]
  },
  {
   "cell_type": "code",
   "execution_count": 59,
   "metadata": {},
   "outputs": [
    {
     "name": "stdout",
     "output_type": "stream",
     "text": [
      "c:\\user\tasks\n",
      "ew\n"
     ]
    }
   ],
   "source": [
    "dir_path = 'c:\\\\user\\tasks\\new'\n",
    "print(dir_path)"
   ]
  },
  {
   "cell_type": "code",
   "execution_count": 60,
   "metadata": {},
   "outputs": [
    {
     "name": "stdout",
     "output_type": "stream",
     "text": [
      "c:\\user\tasks\n",
      "ew\n"
     ]
    }
   ],
   "source": [
    "dir_path = 'c:\\\\user\\tasks\\new'\n",
    "print(dir_path)"
   ]
  },
  {
   "cell_type": "code",
   "execution_count": 61,
   "metadata": {},
   "outputs": [
    {
     "name": "stdout",
     "output_type": "stream",
     "text": [
      "'\\n'\n"
     ]
    }
   ],
   "source": [
    "s = '\\n'\n",
    "raw_string = repr(s)\n",
    "\n",
    "print(raw_string)"
   ]
  },
  {
   "cell_type": "code",
   "execution_count": 62,
   "metadata": {},
   "outputs": [
    {
     "name": "stdout",
     "output_type": "stream",
     "text": [
      "\\n\n"
     ]
    }
   ],
   "source": [
    "s = '\\n'\n",
    "raw_string = repr(s)[1:-1]\n",
    "print(raw_string)"
   ]
  },
  {
   "cell_type": "code",
   "execution_count": 63,
   "metadata": {},
   "outputs": [
    {
     "name": "stdout",
     "output_type": "stream",
     "text": [
      "Hello,\n",
      " World\n"
     ]
    }
   ],
   "source": [
    "print('Hello,\\n World')"
   ]
  },
  {
   "cell_type": "code",
   "execution_count": 64,
   "metadata": {},
   "outputs": [
    {
     "name": "stdout",
     "output_type": "stream",
     "text": [
      "1\n"
     ]
    }
   ],
   "source": [
    "s = '\\n'\n",
    "print(len(s)) # 1"
   ]
  },
  {
   "cell_type": "code",
   "execution_count": 65,
   "metadata": {},
   "outputs": [
    {
     "name": "stdout",
     "output_type": "stream",
     "text": [
      "\"Python's awesome\" She said\n"
     ]
    }
   ],
   "source": [
    "s = '\"Python\\'s awesome\" She said'\n",
    "print(s)"
   ]
  },
  {
   "cell_type": "code",
   "execution_count": 66,
   "metadata": {},
   "outputs": [
    {
     "name": "stdout",
     "output_type": "stream",
     "text": [
      "The RGB colors are:\n",
      "red\n",
      "green\n",
      "blue\n"
     ]
    }
   ],
   "source": [
    "colors = ['red','green','blue']\n",
    "rgb = '\\n'.join(colors)\n",
    "s = f\"The RGB colors are:\\n{rgb}\"\n",
    "print(s)"
   ]
  },
  {
   "cell_type": "code",
   "execution_count": 67,
   "metadata": {},
   "outputs": [
    {
     "name": "stdout",
     "output_type": "stream",
     "text": [
      "\\n\n"
     ]
    }
   ],
   "source": [
    "s = r'\\n'\n",
    "print(s)"
   ]
  }
 ],
 "metadata": {
  "kernelspec": {
   "display_name": "ece5831-2024",
   "language": "python",
   "name": "python3"
  },
  "language_info": {
   "codemirror_mode": {
    "name": "ipython",
    "version": 3
   },
   "file_extension": ".py",
   "mimetype": "text/x-python",
   "name": "python",
   "nbconvert_exporter": "python",
   "pygments_lexer": "ipython3",
   "version": "3.10.14"
  }
 },
 "nbformat": 4,
 "nbformat_minor": 2
}
