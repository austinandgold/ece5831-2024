{
 "cells": [
  {
   "cell_type": "markdown",
   "metadata": {},
   "source": [
    "#Homework 3\n",
    "#module 3"
   ]
  },
  {
   "cell_type": "markdown",
   "metadata": {},
   "source": [
    "#wrote andgate first, testing this before writing the other gates"
   ]
  },
  {
   "cell_type": "code",
   "execution_count": 57,
   "metadata": {},
   "outputs": [],
   "source": [
    "import numpy as np\n",
    "\n",
    "class LogicGate():\n",
    "    \n",
    "    def __init__(self):\n",
    "        \n",
    "        pass\n",
    "\n",
    "    def andgate (self,x1,x2):\n",
    "        w = np.array([1, 1, 1])          \n",
    "        b = -1.9\n",
    "        X = np.array([x1, x2, b])\n",
    "\n",
    "        y = np.sum(w*X)\n",
    "\n",
    "        if y > 0:\n",
    "            return 1\n",
    "        else:\n",
    "            return 0"
   ]
  },
  {
   "cell_type": "code",
   "execution_count": 60,
   "metadata": {},
   "outputs": [
    {
     "name": "stdout",
     "output_type": "stream",
     "text": [
      "0\n"
     ]
    }
   ],
   "source": [
    "andgatetest = LogicGate()\n",
    "y = andgatetest.andgate(1,0)\n",
    "print(y)"
   ]
  },
  {
   "cell_type": "markdown",
   "metadata": {},
   "source": [
    "#trying orgate for the first time"
   ]
  },
  {
   "cell_type": "code",
   "execution_count": 61,
   "metadata": {},
   "outputs": [],
   "source": [
    "import numpy as np\n",
    "\n",
    "class LogicGate():\n",
    "    \n",
    "    def __init__(self):\n",
    "        \n",
    "        pass\n",
    "\n",
    "        \n",
    "    def orgate (self,x1,x2):\n",
    "        w = np.array([1, 1, 1])          \n",
    "        b = -0.9\n",
    "        X = np.array([x1, x2, b])\n",
    "\n",
    "        y = np.sum(w*X)\n",
    "\n",
    "        if y > 0:\n",
    "            return 1\n",
    "        else:\n",
    "            return 0"
   ]
  },
  {
   "cell_type": "code",
   "execution_count": 62,
   "metadata": {},
   "outputs": [
    {
     "name": "stdout",
     "output_type": "stream",
     "text": [
      "1\n"
     ]
    }
   ],
   "source": [
    "orgatetest = LogicGate()\n",
    "y = orgatetest.orgate(0,1)\n",
    "print(y)"
   ]
  },
  {
   "cell_type": "markdown",
   "metadata": {},
   "source": [
    "#trying nandgate"
   ]
  },
  {
   "cell_type": "code",
   "execution_count": 63,
   "metadata": {},
   "outputs": [],
   "source": [
    "import numpy as np\n",
    "\n",
    "class LogicGate():\n",
    "    \n",
    "    def __init__(self):\n",
    "        \n",
    "        pass\n",
    "\n",
    "    def nandgate (self,x1,x2):\n",
    "        w = np.array([-1, -1, 1])          \n",
    "        b = 1.9\n",
    "        X = np.array([x1, x2, b])\n",
    "\n",
    "        y = np.sum(w*X)\n",
    "\n",
    "        if y > 0:\n",
    "            return 1\n",
    "        else:\n",
    "            return 0"
   ]
  },
  {
   "cell_type": "code",
   "execution_count": 64,
   "metadata": {},
   "outputs": [
    {
     "name": "stdout",
     "output_type": "stream",
     "text": [
      "0\n"
     ]
    }
   ],
   "source": [
    "nandgatetest = LogicGate()\n",
    "y = nandgatetest.nandgate(1,1)\n",
    "print(y)"
   ]
  },
  {
   "cell_type": "markdown",
   "metadata": {},
   "source": [
    "#Testing norgate"
   ]
  },
  {
   "cell_type": "code",
   "execution_count": 68,
   "metadata": {},
   "outputs": [],
   "source": [
    "import numpy as np\n",
    "\n",
    "class LogicGate():\n",
    "    \n",
    "    def __init__(self):\n",
    "        \n",
    "        pass\n",
    "\n",
    "    def norgate (self,x1,x2):\n",
    "        w = np.array([-1, -1, 1])          \n",
    "        b = 0.9\n",
    "        X = np.array([x1, x2, b])\n",
    "\n",
    "        y = np.sum(w*X)\n",
    "\n",
    "        if y > 0:\n",
    "            return 1\n",
    "        else:\n",
    "            return 0"
   ]
  },
  {
   "cell_type": "code",
   "execution_count": 69,
   "metadata": {},
   "outputs": [
    {
     "name": "stdout",
     "output_type": "stream",
     "text": [
      "0\n"
     ]
    }
   ],
   "source": [
    "norgatetest = LogicGate()\n",
    "y = norgatetest.norgate(1,0)\n",
    "print(y)"
   ]
  },
  {
   "cell_type": "markdown",
   "metadata": {},
   "source": [
    "#trying xorgate"
   ]
  },
  {
   "cell_type": "code",
   "execution_count": 70,
   "metadata": {},
   "outputs": [],
   "source": [
    "import numpy as np\n",
    "\n",
    "class LogicGate():\n",
    "    \n",
    "    def __init__(self):\n",
    "        \n",
    "        pass\n",
    "        \n",
    "    def xorgate (self,x1,x2):\n",
    "        w = np.array([0.5, 0.5, 1])          \n",
    "        b = -0.5\n",
    "        X = np.array([x1, x2, b])\n",
    "\n",
    "        y = np.sum(w*X)\n",
    "\n",
    "        if y == 0:\n",
    "            return 1\n",
    "        else:\n",
    "            return 0"
   ]
  },
  {
   "cell_type": "code",
   "execution_count": 71,
   "metadata": {},
   "outputs": [
    {
     "name": "stdout",
     "output_type": "stream",
     "text": [
      "0\n"
     ]
    }
   ],
   "source": [
    "xorgatetest = LogicGate()\n",
    "y = xorgatetest.xorgate(1,1)\n",
    "print(y)"
   ]
  },
  {
   "cell_type": "markdown",
   "metadata": {},
   "source": [
    "#Overall an intersting assignment, tweeking the weights to get the correct outcomes took some time. But, once I did the first 2, it got much easier."
   ]
  }
 ],
 "metadata": {
  "kernelspec": {
   "display_name": "ece5831-2024",
   "language": "python",
   "name": "python3"
  },
  "language_info": {
   "codemirror_mode": {
    "name": "ipython",
    "version": 3
   },
   "file_extension": ".py",
   "mimetype": "text/x-python",
   "name": "python",
   "nbconvert_exporter": "python",
   "pygments_lexer": "ipython3",
   "version": "3.10.14"
  }
 },
 "nbformat": 4,
 "nbformat_minor": 2
}
