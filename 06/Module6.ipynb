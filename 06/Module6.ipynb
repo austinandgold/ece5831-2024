{
 "cells": [
  {
   "cell_type": "code",
   "execution_count": 142,
   "metadata": {},
   "outputs": [],
   "source": [
    "import numpy as np"
   ]
  },
  {
   "cell_type": "markdown",
   "metadata": {},
   "source": [
    "#mean squared error"
   ]
  },
  {
   "cell_type": "code",
   "execution_count": 143,
   "metadata": {},
   "outputs": [],
   "source": [
    "def mean_squared_error(y_hat, y):\n",
    "    return np.sum((y_hat - y)**2)/y.size"
   ]
  },
  {
   "cell_type": "code",
   "execution_count": 144,
   "metadata": {},
   "outputs": [
    {
     "data": {
      "text/plain": [
       "0.025000000000000022"
      ]
     },
     "execution_count": 144,
     "metadata": {},
     "output_type": "execute_result"
    }
   ],
   "source": [
    "y      = np.array([1,   2,   3,    4])\n",
    "y_hat1 = np.array([1.2, 1.9, 2.9,  4.2]) \n",
    "mean_squared_error(y_hat1, y)"
   ]
  },
  {
   "cell_type": "code",
   "execution_count": 145,
   "metadata": {},
   "outputs": [
    {
     "data": {
      "text/plain": [
       "1.0250000000000004"
      ]
     },
     "execution_count": 145,
     "metadata": {},
     "output_type": "execute_result"
    }
   ],
   "source": [
    "y_hat2 = np.array([2.2, 0.9, 2.9,  5.2]) \n",
    "mean_squared_error(y_hat2, y)"
   ]
  },
  {
   "cell_type": "markdown",
   "metadata": {},
   "source": [
    "#cross entropy"
   ]
  },
  {
   "cell_type": "code",
   "execution_count": 146,
   "metadata": {},
   "outputs": [],
   "source": [
    "def cross_entropy_error(y_hat, y):\n",
    "    return -np.sum(y*np.log(y_hat + 1e-7))"
   ]
  },
  {
   "cell_type": "code",
   "execution_count": 147,
   "metadata": {},
   "outputs": [],
   "source": [
    "y = np.array([0, 1, 0, 0, 0])"
   ]
  },
  {
   "cell_type": "code",
   "execution_count": 148,
   "metadata": {},
   "outputs": [],
   "source": [
    "y_hat1 = np.array([0.1, 0.7, 0.1, 0.1, 0])"
   ]
  },
  {
   "cell_type": "code",
   "execution_count": 149,
   "metadata": {},
   "outputs": [
    {
     "data": {
      "text/plain": [
       "0.3566748010815999"
      ]
     },
     "execution_count": 149,
     "metadata": {},
     "output_type": "execute_result"
    }
   ],
   "source": [
    "cross_entropy_error(y_hat1, y)"
   ]
  },
  {
   "cell_type": "code",
   "execution_count": 150,
   "metadata": {},
   "outputs": [],
   "source": [
    "y_hat2 = np.array([0.7, 0.05, 0.05, 0.2, 0])"
   ]
  },
  {
   "cell_type": "code",
   "execution_count": 151,
   "metadata": {},
   "outputs": [
    {
     "data": {
      "text/plain": [
       "2.9957302735559908"
      ]
     },
     "execution_count": 151,
     "metadata": {},
     "output_type": "execute_result"
    }
   ],
   "source": [
    "cross_entropy_error(y_hat2, y)"
   ]
  },
  {
   "cell_type": "markdown",
   "metadata": {},
   "source": [
    "#training"
   ]
  },
  {
   "cell_type": "code",
   "execution_count": 152,
   "metadata": {},
   "outputs": [
    {
     "name": "stdout",
     "output_type": "stream",
     "text": [
      "File: train-images-idx3-ubyte.gz already exists.\n",
      "File: train-labels-idx1-ubyte.gz already exists.\n",
      "File: t10k-images-idx3-ubyte.gz already exists.\n",
      "File: t10k-labels-idx1-ubyte.gz already exists.\n",
      "Pickle: dataset/mnist.pkl already exists.\n",
      "loading....\n",
      "Done\n"
     ]
    }
   ],
   "source": [
    "import mnist\n",
    "\n",
    "my_mnist = mnist.Mnist()"
   ]
  },
  {
   "cell_type": "code",
   "execution_count": 153,
   "metadata": {},
   "outputs": [],
   "source": [
    "(train_images, train_labels), (_, _) = my_mnist.load()"
   ]
  },
  {
   "cell_type": "code",
   "execution_count": 154,
   "metadata": {},
   "outputs": [],
   "source": [
    "train_size = train_images.shape[0]\n",
    "batch_size = 32"
   ]
  },
  {
   "cell_type": "code",
   "execution_count": 155,
   "metadata": {},
   "outputs": [
    {
     "name": "stdout",
     "output_type": "stream",
     "text": [
      "[47579 44117 23876 48805 50682 22121 39638 22561 25073 28565 28571 45196\n",
      " 21894 50550 46302 17622 13704 44863 33570 37368 11539 11149 52424 29836\n",
      " 56897 28341 27940 22523 57575 27466 24832 30862]\n"
     ]
    }
   ],
   "source": [
    "batch_mask = np.random.choice(train_size, batch_size)\n",
    "print(batch_mask)"
   ]
  },
  {
   "cell_type": "code",
   "execution_count": 156,
   "metadata": {},
   "outputs": [
    {
     "data": {
      "text/plain": [
       "60000"
      ]
     },
     "execution_count": 156,
     "metadata": {},
     "output_type": "execute_result"
    }
   ],
   "source": [
    "train_size"
   ]
  },
  {
   "cell_type": "code",
   "execution_count": 157,
   "metadata": {},
   "outputs": [],
   "source": [
    "def cross_entropy_error(y_hat, y):\n",
    "    batch_size = 1 if y_hat.ndim == 1 else y_hat.shape[0]\n",
    "    return -np.sum(y*np.log(y_hat + 1e-7))/batch_size"
   ]
  },
  {
   "cell_type": "code",
   "execution_count": 158,
   "metadata": {},
   "outputs": [],
   "source": [
    "y_hat_batch = np.array([ [0.2, 0.2, 0.3, 0.1, 0.2], [0.1, 0.1, 0.1, 0.1, 0.6]])\n",
    "y_batch =     np.array([ [0,   0,   1,   0,    0],   [0,   0,   0,   0,   1]])"
   ]
  },
  {
   "cell_type": "code",
   "execution_count": 159,
   "metadata": {},
   "outputs": [
    {
     "data": {
      "text/plain": [
       "0.8573989640459981"
      ]
     },
     "execution_count": 159,
     "metadata": {},
     "output_type": "execute_result"
    }
   ],
   "source": [
    "cross_entropy_error(y_hat_batch, y_batch)"
   ]
  },
  {
   "cell_type": "markdown",
   "metadata": {},
   "source": [
    "#numerical difference"
   ]
  },
  {
   "cell_type": "code",
   "execution_count": 160,
   "metadata": {},
   "outputs": [],
   "source": [
    "def numerical_diff(f, x):\n",
    "    h = 10e-50\n",
    "    return (f(x + h) - f(x))/h"
   ]
  },
  {
   "cell_type": "code",
   "execution_count": 161,
   "metadata": {},
   "outputs": [],
   "source": [
    "def func(x):\n",
    "    return x**2 + 0.1*x"
   ]
  },
  {
   "cell_type": "code",
   "execution_count": 162,
   "metadata": {},
   "outputs": [
    {
     "data": {
      "text/plain": [
       "0.0"
      ]
     },
     "execution_count": 162,
     "metadata": {},
     "output_type": "execute_result"
    }
   ],
   "source": [
    "numerical_diff(func, 0.8)"
   ]
  },
  {
   "cell_type": "code",
   "execution_count": 163,
   "metadata": {},
   "outputs": [],
   "source": [
    "def numerical_diff(f, x):\n",
    "    h = 1e-4\n",
    "    return (f(x + h) - f(x - h))/(2*h)"
   ]
  },
  {
   "cell_type": "code",
   "execution_count": 164,
   "metadata": {},
   "outputs": [
    {
     "data": {
      "text/plain": [
       "1.6999999999994797"
      ]
     },
     "execution_count": 164,
     "metadata": {},
     "output_type": "execute_result"
    }
   ],
   "source": [
    "numerical_diff(func, 0.8)"
   ]
  },
  {
   "cell_type": "code",
   "execution_count": 165,
   "metadata": {},
   "outputs": [
    {
     "data": {
      "text/plain": [
       "0.49999999999994493"
      ]
     },
     "execution_count": 165,
     "metadata": {},
     "output_type": "execute_result"
    }
   ],
   "source": [
    "numerical_diff(func, 0.2)"
   ]
  },
  {
   "cell_type": "code",
   "execution_count": 166,
   "metadata": {},
   "outputs": [],
   "source": [
    "def func(x):\n",
    "    return x[0]**2 + x[1]**2\n",
    "\n",
    "def func_tmp1(x0):\n",
    "    return x0**2 + 4.0**2"
   ]
  },
  {
   "cell_type": "code",
   "execution_count": 167,
   "metadata": {},
   "outputs": [
    {
     "data": {
      "text/plain": [
       "6.00000000000378"
      ]
     },
     "execution_count": 167,
     "metadata": {},
     "output_type": "execute_result"
    }
   ],
   "source": [
    "numerical_diff(func_tmp1, 3.0)"
   ]
  },
  {
   "cell_type": "code",
   "execution_count": 168,
   "metadata": {},
   "outputs": [],
   "source": [
    "def func_tmp2(x1):\n",
    "    return 3.0**2 + x1**2"
   ]
  },
  {
   "cell_type": "code",
   "execution_count": 169,
   "metadata": {},
   "outputs": [
    {
     "data": {
      "text/plain": [
       "7.999999999999119"
      ]
     },
     "execution_count": 169,
     "metadata": {},
     "output_type": "execute_result"
    }
   ],
   "source": [
    "numerical_diff(func_tmp2, 4.0)"
   ]
  },
  {
   "cell_type": "markdown",
   "metadata": {},
   "source": [
    "#Numerical Gradient"
   ]
  },
  {
   "cell_type": "code",
   "execution_count": 170,
   "metadata": {},
   "outputs": [],
   "source": [
    "def func2(x):\n",
    "    return x[0]**2 + x[1]**2"
   ]
  },
  {
   "cell_type": "code",
   "execution_count": 171,
   "metadata": {},
   "outputs": [],
   "source": [
    "def func_tmp1(x0):\n",
    "    return x0**2 + 4**2\n",
    "\n",
    "def func_tmp2(x1):\n",
    "    return 3**2 + x1**2"
   ]
  },
  {
   "cell_type": "code",
   "execution_count": 172,
   "metadata": {},
   "outputs": [],
   "source": [
    "def _numerical_diff(f, x):\n",
    "    h = 1e-4\n",
    "    return (f(x + h) - f(x - h))/(2*h)"
   ]
  },
  {
   "cell_type": "code",
   "execution_count": 173,
   "metadata": {},
   "outputs": [],
   "source": [
    "def _numerical_gradient(f, x):\n",
    "    h = 1e-4 # 0.0001\n",
    "    grad = np.zeros_like(x) \n",
    "    \n",
    "    for idx in range(x.size):\n",
    "        tmp_val = x[idx]\n",
    "        \n",
    "        # f(x+h) \n",
    "        x[idx] = float(tmp_val) + h\n",
    "        fxh1 = f(x)\n",
    "        \n",
    "        # f(x-h) \n",
    "        x[idx] = tmp_val - h \n",
    "        fxh2 = f(x) \n",
    "        \n",
    "        grad[idx] = (fxh1 - fxh2) / (2*h)\n",
    "        x[idx] = tmp_val \n",
    "        \n",
    "    return grad"
   ]
  },
  {
   "cell_type": "code",
   "execution_count": 174,
   "metadata": {},
   "outputs": [
    {
     "data": {
      "text/plain": [
       "6.00000000000378"
      ]
     },
     "execution_count": 174,
     "metadata": {},
     "output_type": "execute_result"
    }
   ],
   "source": [
    "_numerical_diff(func_tmp1, 3.0)"
   ]
  },
  {
   "cell_type": "code",
   "execution_count": 175,
   "metadata": {},
   "outputs": [
    {
     "data": {
      "text/plain": [
       "7.999999999999119"
      ]
     },
     "execution_count": 175,
     "metadata": {},
     "output_type": "execute_result"
    }
   ],
   "source": [
    "_numerical_diff(func_tmp2, 4.0)"
   ]
  },
  {
   "cell_type": "code",
   "execution_count": 176,
   "metadata": {},
   "outputs": [
    {
     "data": {
      "text/plain": [
       "array([6., 8.])"
      ]
     },
     "execution_count": 176,
     "metadata": {},
     "output_type": "execute_result"
    }
   ],
   "source": [
    "_numerical_gradient(func2, np.array([3.0, 4.0]))"
   ]
  },
  {
   "cell_type": "code",
   "execution_count": 177,
   "metadata": {},
   "outputs": [],
   "source": [
    "def gradient_descent(f, init_x, lr=0.1, step_num = 100):\n",
    "    x = init_x\n",
    "    for i in range(step_num):\n",
    "        grad = _numerical_gradient(f, x)\n",
    "        x -= lr*grad  # x = x - lr*grad\n",
    "\n",
    "    return x"
   ]
  },
  {
   "cell_type": "code",
   "execution_count": 178,
   "metadata": {},
   "outputs": [
    {
     "data": {
      "text/plain": [
       "array([5.65680105e-06, 2.02028609e-06])"
      ]
     },
     "execution_count": 178,
     "metadata": {},
     "output_type": "execute_result"
    }
   ],
   "source": [
    "init_x = np.array([2800.0, 1000.0])\n",
    "# func2 = x0**2 + x1**2\n",
    "gradient_descent(func2, init_x, step_num=10000, lr=0.001)"
   ]
  },
  {
   "cell_type": "markdown",
   "metadata": {},
   "source": [
    "#SimpleNet"
   ]
  },
  {
   "cell_type": "code",
   "execution_count": 179,
   "metadata": {},
   "outputs": [],
   "source": [
    "class SimpleNet:\n",
    "    def __init__(self):\n",
    "        self.w = np.random.randn(2, 3)\n",
    "\n",
    "\n",
    "    # for multi-dimensional x\n",
    "    def softmax(self, x):\n",
    "        if x.ndim == 2:\n",
    "            x = x.T\n",
    "            x = x - np.max(x, axis=0)\n",
    "            y = np.exp(x) / np.sum(np.exp(x), axis=0)\n",
    "            return y.T \n",
    "\n",
    "        x = x - np.max(x)  \n",
    "        return np.exp(x) / np.sum(np.exp(x))\n",
    "\n",
    "\n",
    "    def cross_entroy_error(self, y, t):\n",
    "        delta = 1e-7\n",
    "        batch_size = 1 if y.ndim == 1 else y.shape[0]\n",
    "\n",
    "        return -np.sum(t*np.log(y + delta)) / batch_size\n",
    "\n",
    "\n",
    "    # for multi-dimensional x\n",
    "    def numerical_gradient(self, f, x):\n",
    "        h = 1e-4 # 0.0001\n",
    "        grad = np.zeros_like(x)\n",
    "        \n",
    "        it = np.nditer(x, flags=['multi_index'], op_flags=['readwrite'])\n",
    "        while not it.finished:\n",
    "            idx = it.multi_index\n",
    "            tmp_val = x[idx]\n",
    "            x[idx] = float(tmp_val) + h\n",
    "            fxh1 = f(x) # f(x+h)\n",
    "            \n",
    "            x[idx] = tmp_val - h \n",
    "            fxh2 = f(x) # f(x-h)\n",
    "            grad[idx] = (fxh1 - fxh2) / (2*h)\n",
    "            \n",
    "            x[idx] = tmp_val \n",
    "            it.iternext()   \n",
    "            \n",
    "        return grad\n",
    "\n",
    "\n",
    "    def predict(self, x):\n",
    "        return np.dot(x, self.w)\n",
    "    \n",
    "\n",
    "    def loss(self, x, y):\n",
    "        z = self.predict(x)\n",
    "        y_hat = self.softmax(z)\n",
    "        loss = self.cross_entroy_error(y_hat, y)\n",
    "\n",
    "        return loss"
   ]
  },
  {
   "cell_type": "code",
   "execution_count": 180,
   "metadata": {},
   "outputs": [
    {
     "name": "stdout",
     "output_type": "stream",
     "text": [
      "[[-0.09406436  0.01923048 -1.40671197]\n",
      " [ 0.98375049 -1.27318397 -0.87087529]]\n"
     ]
    }
   ],
   "source": [
    "net = SimpleNet()\n",
    "print(net.w)"
   ]
  },
  {
   "cell_type": "code",
   "execution_count": 181,
   "metadata": {},
   "outputs": [
    {
     "name": "stdout",
     "output_type": "stream",
     "text": [
      "[ 0.12106754 -0.22844362 -1.15016469]\n"
     ]
    }
   ],
   "source": [
    "x = np.array([0.7, 0.19])\n",
    "p = net.predict(x)\n",
    "print(p)"
   ]
  },
  {
   "cell_type": "markdown",
   "metadata": {},
   "source": [
    "#prediction"
   ]
  },
  {
   "cell_type": "code",
   "execution_count": 182,
   "metadata": {},
   "outputs": [
    {
     "data": {
      "text/plain": [
       "0"
      ]
     },
     "execution_count": 182,
     "metadata": {},
     "output_type": "execute_result"
    }
   ],
   "source": [
    "np.argmax(p)"
   ]
  },
  {
   "cell_type": "code",
   "execution_count": 183,
   "metadata": {},
   "outputs": [
    {
     "data": {
      "text/plain": [
       "1.035390936843271"
      ]
     },
     "execution_count": 183,
     "metadata": {},
     "output_type": "execute_result"
    }
   ],
   "source": [
    "y = np.array([0, 1, 0])\n",
    "net.loss(x, y)"
   ]
  },
  {
   "cell_type": "code",
   "execution_count": 184,
   "metadata": {},
   "outputs": [
    {
     "data": {
      "text/plain": [
       "1.9571115761748636"
      ]
     },
     "execution_count": 184,
     "metadata": {},
     "output_type": "execute_result"
    }
   ],
   "source": [
    "y = np.array([0, 0, 1])\n",
    "net.loss(x, y)"
   ]
  },
  {
   "cell_type": "code",
   "execution_count": 185,
   "metadata": {},
   "outputs": [],
   "source": [
    "def loss_function(w):\n",
    "    return net.loss(x, y)"
   ]
  },
  {
   "cell_type": "code",
   "execution_count": 186,
   "metadata": {},
   "outputs": [
    {
     "name": "stdout",
     "output_type": "stream",
     "text": [
      "[[ 0.35255251  0.24856103 -0.60111354]\n",
      " [ 0.09569282  0.06746657 -0.16315939]]\n"
     ]
    }
   ],
   "source": [
    "dw = net.numerical_gradient(loss_function, net.w)\n",
    "print(dw)"
   ]
  },
  {
   "cell_type": "code",
   "execution_count": 187,
   "metadata": {},
   "outputs": [],
   "source": [
    "loss_function = lambda w: net.loss(x, y)"
   ]
  },
  {
   "cell_type": "code",
   "execution_count": 188,
   "metadata": {},
   "outputs": [
    {
     "name": "stdout",
     "output_type": "stream",
     "text": [
      "[[ 0.35255251  0.24856103 -0.60111354]\n",
      " [ 0.09569282  0.06746657 -0.16315939]]\n"
     ]
    }
   ],
   "source": [
    "dw = net.numerical_gradient(loss_function, net.w)\n",
    "print(dw)"
   ]
  },
  {
   "cell_type": "markdown",
   "metadata": {},
   "source": [
    "#TwoLayerNet class"
   ]
  },
  {
   "cell_type": "code",
   "execution_count": 189,
   "metadata": {},
   "outputs": [],
   "source": [
    "class Activations:\n",
    "    def sigmoid(self, x):\n",
    "        return 1/(1 + np.exp(-x))\n",
    "    \n",
    "    # for multi-dimensional x\n",
    "    def softmax(self, x):\n",
    "        if x.ndim == 2:\n",
    "            x = x.T\n",
    "            x = x - np.max(x, axis=0)\n",
    "            y = np.exp(x) / np.sum(np.exp(x), axis=0)\n",
    "            return y.T \n",
    "\n",
    "        x = x - np.max(x)  \n",
    "        return np.exp(x) / np.sum(np.exp(x))"
   ]
  },
  {
   "cell_type": "code",
   "execution_count": 190,
   "metadata": {},
   "outputs": [],
   "source": [
    "class Errors:\n",
    "    def cross_entroy_error(self, y, t):\n",
    "        delta = 1e-7\n",
    "        batch_size = 1 if y.ndim == 1 else y.shape[0]\n",
    "\n",
    "        return -np.sum(t*np.log(y + delta)) / batch_size"
   ]
  },
  {
   "cell_type": "code",
   "execution_count": 191,
   "metadata": {},
   "outputs": [],
   "source": [
    "import activations\n",
    "import errors"
   ]
  },
  {
   "cell_type": "code",
   "execution_count": 192,
   "metadata": {},
   "outputs": [],
   "source": [
    "class TwoLayerNet:\n",
    "    def __init__(self, input_size, hidden_size, output_size, weight_init_std=0.01):\n",
    "        self.params = {}\n",
    "\n",
    "        self.params['w1'] = weight_init_std*np.random.randn(input_size, hidden_size)\n",
    "        self.params['b1'] = np.zeros(hidden_size)\n",
    "\n",
    "        self.params['w2'] = weight_init_std*np.random.randn(hidden_size, output_size)\n",
    "        self.params['b2'] = np.zeros(output_size)\n",
    "\n",
    "        self.activations = activations.Activations()\n",
    "        self.errors = errors.Errors()\n",
    "\n",
    "    def predict(self, x):\n",
    "        w1, w2 = self.params['w1'], self.params['w2']\n",
    "        b1, b2 = self.params['b1'], self.params['b2']\n",
    "        \n",
    "        a1 = np.dot(x, w1) + b1\n",
    "        z1 = self.activations.sigmoid(a1)\n",
    "        a2 = np.dot(z1, w2) + b2\n",
    "        y = self.activations.softmax(a2)\n",
    "\n",
    "        return y\n",
    "    \n",
    "    def loss(self, x, y):\n",
    "        y_hat = self.predict(x)\n",
    "\n",
    "        return self.errors.cross_entropy_error(y_hat, y)\n",
    "    \n",
    "\n",
    "    def accuracy(self, x, y):\n",
    "        y_hat = self.predict(x)\n",
    "        p = np.argmax(y_hat, axis=1)\n",
    "        y_p = np.argmax(y, axis=1)\n",
    "\n",
    "        return np.sum(p == y_p)/float(x.shape[0])\n",
    "    \n",
    "\n",
    "    # for multi-dimensional x\n",
    "    def _numerical_gradient(self, f, x):\n",
    "        h = 1e-4 # 0.0001\n",
    "        grad = np.zeros_like(x)\n",
    "        \n",
    "        it = np.nditer(x, flags=['multi_index'], op_flags=['readwrite'])\n",
    "        while not it.finished:\n",
    "            idx = it.multi_index\n",
    "            tmp_val = x[idx]\n",
    "            x[idx] = float(tmp_val) + h\n",
    "            fxh1 = f(x) # f(x+h)\n",
    "            \n",
    "            x[idx] = tmp_val - h \n",
    "            fxh2 = f(x) # f(x-h)\n",
    "            grad[idx] = (fxh1 - fxh2) / (2*h)\n",
    "            \n",
    "            x[idx] = tmp_val \n",
    "            it.iternext()   \n",
    "            \n",
    "        return grad\n",
    "    \n",
    "\n",
    "    def numerical_gradient(self, x, y):\n",
    "        loss_w = lambda w: self.loss(x, y)\n",
    "\n",
    "        grads = {}\n",
    "        grads['w1'] = self._numerical_gradient(loss_w, self.params['w1'])\n",
    "        grads['b1'] = self._numerical_gradient(loss_w, self.params['b1'])\n",
    "        grads['w2'] = self._numerical_gradient(loss_w, self.params['w2'])\n",
    "        grads['b2'] = self._numerical_gradient(loss_w, self.params['b2'])\n",
    "\n",
    "        return grads\n",
    "    \n",
    " "
   ]
  },
  {
   "cell_type": "markdown",
   "metadata": {},
   "source": [
    "#Train TwoLayerNet"
   ]
  },
  {
   "cell_type": "code",
   "execution_count": 193,
   "metadata": {},
   "outputs": [],
   "source": [
    "import numpy as np\n",
    "import mnist\n",
    "from two_layer_net import TwoLayerNet\n",
    "\n",
    "import matplotlib.pyplot as plt\n"
   ]
  },
  {
   "cell_type": "code",
   "execution_count": 194,
   "metadata": {},
   "outputs": [
    {
     "name": "stdout",
     "output_type": "stream",
     "text": [
      "File: train-images-idx3-ubyte.gz already exists.\n",
      "File: train-labels-idx1-ubyte.gz already exists.\n",
      "File: t10k-images-idx3-ubyte.gz already exists.\n",
      "File: t10k-labels-idx1-ubyte.gz already exists.\n",
      "Pickle: dataset/mnist.pkl already exists.\n",
      "loading....\n",
      "Done\n"
     ]
    }
   ],
   "source": [
    "my_mnist = mnist.Mnist()"
   ]
  },
  {
   "cell_type": "code",
   "execution_count": 195,
   "metadata": {},
   "outputs": [],
   "source": [
    "(x_train, y_train), (x_test, y_test) = my_mnist.load()"
   ]
  },
  {
   "cell_type": "code",
   "execution_count": 196,
   "metadata": {},
   "outputs": [
    {
     "name": "stdout",
     "output_type": "stream",
     "text": [
      "(60000, 784)\n",
      "(60000, 10)\n",
      "(10000, 784)\n",
      "(10000, 10)\n"
     ]
    }
   ],
   "source": [
    "print(x_train.shape)\n",
    "print(y_train.shape)\n",
    "print(x_test.shape)\n",
    "print(y_test.shape)"
   ]
  },
  {
   "cell_type": "markdown",
   "metadata": {},
   "source": [
    "#define network"
   ]
  },
  {
   "cell_type": "code",
   "execution_count": 197,
   "metadata": {},
   "outputs": [],
   "source": [
    "network = TwoLayerNet(input_size=28*28, hidden_size=100, output_size=10)"
   ]
  },
  {
   "cell_type": "code",
   "execution_count": 198,
   "metadata": {},
   "outputs": [
    {
     "data": {
      "text/plain": [
       "{'w1': array([[ 0.00128444,  0.00837019, -0.00738313, ..., -0.00521836,\n",
       "          0.00432974,  0.01179047],\n",
       "        [ 0.00648153, -0.00470989,  0.00862986, ...,  0.01184683,\n",
       "         -0.00818192, -0.00420214],\n",
       "        [ 0.00846585,  0.00072736,  0.00150663, ..., -0.01750432,\n",
       "         -0.01558465,  0.00295803],\n",
       "        ...,\n",
       "        [ 0.00494999, -0.00368143,  0.01091208, ...,  0.01116316,\n",
       "         -0.00718127,  0.00137239],\n",
       "        [-0.0044248 ,  0.00334588, -0.0127252 , ..., -0.00663747,\n",
       "         -0.00154067, -0.01657423],\n",
       "        [ 0.00690699, -0.00168695, -0.00989715, ...,  0.0173522 ,\n",
       "         -0.00369926, -0.00745678]]),\n",
       " 'b1': array([0., 0., 0., 0., 0., 0., 0., 0., 0., 0., 0., 0., 0., 0., 0., 0., 0.,\n",
       "        0., 0., 0., 0., 0., 0., 0., 0., 0., 0., 0., 0., 0., 0., 0., 0., 0.,\n",
       "        0., 0., 0., 0., 0., 0., 0., 0., 0., 0., 0., 0., 0., 0., 0., 0., 0.,\n",
       "        0., 0., 0., 0., 0., 0., 0., 0., 0., 0., 0., 0., 0., 0., 0., 0., 0.,\n",
       "        0., 0., 0., 0., 0., 0., 0., 0., 0., 0., 0., 0., 0., 0., 0., 0., 0.,\n",
       "        0., 0., 0., 0., 0., 0., 0., 0., 0., 0., 0., 0., 0., 0., 0.]),\n",
       " 'w2': array([[ 7.01656792e-03, -7.71358202e-03, -4.08060527e-03,\n",
       "          4.06994467e-03, -1.24864082e-03, -6.15982428e-03,\n",
       "          4.71625160e-03, -7.33466434e-03, -3.93967152e-03,\n",
       "         -3.67556622e-03],\n",
       "        [-1.46548957e-02, -1.59964397e-03,  4.32844800e-03,\n",
       "         -1.14352058e-02, -4.88054301e-03, -3.84254560e-03,\n",
       "         -3.90124381e-03, -6.59200328e-03, -6.81192017e-03,\n",
       "         -5.04179133e-03],\n",
       "        [ 5.03027661e-03, -1.34268675e-02,  6.91431827e-03,\n",
       "          1.15891114e-02,  1.01163544e-02, -1.04954388e-02,\n",
       "          4.79438683e-03,  8.30081740e-03, -9.34823427e-03,\n",
       "          6.71999525e-03],\n",
       "        [-6.20433131e-03,  9.04297029e-03, -1.31413085e-03,\n",
       "          8.64494234e-03,  7.06733487e-03, -5.95060501e-03,\n",
       "         -5.78550084e-03, -2.10601535e-04, -1.59475283e-02,\n",
       "          9.24194759e-03],\n",
       "        [ 1.24683398e-03, -4.77418997e-03, -1.06223666e-03,\n",
       "         -3.30791590e-03, -4.29524233e-03,  8.54796888e-03,\n",
       "          1.69084176e-03,  5.20516308e-03, -1.48123231e-02,\n",
       "          2.68215032e-03],\n",
       "        [-7.31459604e-03,  6.81883546e-05, -7.11036663e-03,\n",
       "          1.68371016e-02,  3.89975975e-04,  2.71735016e-03,\n",
       "          7.58985095e-03, -3.57888534e-03,  3.45527552e-03,\n",
       "          7.43591693e-03],\n",
       "        [ 5.18760303e-03, -4.73389726e-03,  9.30047491e-03,\n",
       "          2.95426342e-02,  3.65442289e-03, -7.01148309e-03,\n",
       "         -9.76657876e-03, -8.46037341e-04, -8.00990596e-03,\n",
       "         -8.57641890e-03],\n",
       "        [ 6.43535757e-04, -2.36906601e-02,  6.35133121e-03,\n",
       "         -1.12994849e-02,  6.13101324e-03,  3.63902756e-03,\n",
       "          2.62865109e-03,  3.18996615e-03, -1.20374593e-02,\n",
       "         -1.51150037e-02],\n",
       "        [ 1.54399634e-02,  6.49795247e-03,  2.44349649e-02,\n",
       "         -2.50513432e-02, -6.68682045e-03,  7.74396937e-04,\n",
       "         -1.95616733e-03, -1.42554749e-02,  3.52400556e-03,\n",
       "          5.80280135e-03],\n",
       "        [ 3.80970412e-03,  3.66764686e-03, -8.27060836e-03,\n",
       "          2.78687580e-03,  3.17965701e-04, -6.64720601e-03,\n",
       "          1.26281993e-02, -5.44509599e-03,  5.58102197e-03,\n",
       "         -3.66295396e-04],\n",
       "        [-2.53939782e-03, -6.91271164e-03, -9.45190944e-03,\n",
       "         -3.09830968e-03,  3.41918217e-03, -5.24366982e-03,\n",
       "          7.41275276e-04, -4.57544537e-03, -1.13544879e-02,\n",
       "          2.18296766e-02],\n",
       "        [-2.91329704e-03,  1.01888033e-02, -5.65582412e-03,\n",
       "          3.42929993e-03,  1.14492454e-02,  5.66655165e-04,\n",
       "         -3.69332795e-03,  4.61524815e-04,  1.68870665e-03,\n",
       "          9.59370147e-03],\n",
       "        [-3.70278406e-03, -4.75452130e-03, -1.25534698e-02,\n",
       "         -3.05689165e-04, -6.15206939e-03, -3.28268381e-03,\n",
       "         -6.97482846e-03, -7.02452130e-03,  2.10414587e-02,\n",
       "         -1.93124625e-02],\n",
       "        [ 3.67712648e-03, -3.54124789e-02,  5.42125916e-03,\n",
       "          3.82660881e-03, -5.53477656e-04,  8.60331566e-03,\n",
       "          1.38662682e-02, -6.38900021e-03, -1.44925192e-02,\n",
       "          6.31255510e-03],\n",
       "        [ 5.02292509e-03, -3.63277053e-03, -1.53530293e-02,\n",
       "          5.73319982e-03,  5.97154896e-03,  5.55709134e-04,\n",
       "         -4.64605925e-03,  8.45225813e-03, -8.47680745e-03,\n",
       "          8.58208699e-03],\n",
       "        [ 8.75684999e-03, -5.21867647e-03, -1.16493449e-02,\n",
       "         -3.38587542e-03,  4.15811799e-03,  1.36345880e-03,\n",
       "          8.70677499e-04, -1.44363964e-02,  3.15267013e-03,\n",
       "          3.20514450e-06],\n",
       "        [ 1.06425735e-02, -5.02391914e-03,  3.89098218e-03,\n",
       "         -9.75665197e-04,  2.32089504e-03, -5.87202888e-03,\n",
       "          1.11521897e-02,  1.65457480e-02,  1.14983627e-02,\n",
       "         -1.55189381e-02],\n",
       "        [ 5.98078830e-03,  2.64265301e-02,  1.47830627e-02,\n",
       "          8.99295535e-03,  6.21302203e-03,  1.10071374e-02,\n",
       "         -4.93483681e-03,  2.51337279e-02, -1.59912724e-03,\n",
       "          1.44863855e-03],\n",
       "        [ 6.93214308e-03, -1.37130015e-02, -9.98377929e-03,\n",
       "          1.10743938e-02, -8.44861874e-03, -1.07385740e-02,\n",
       "          2.69719810e-02, -3.93636025e-03, -1.78423196e-03,\n",
       "         -7.68035526e-03],\n",
       "        [ 3.19311361e-03,  1.56278650e-02, -2.26019516e-02,\n",
       "          3.80211811e-03,  5.64941815e-03,  1.69727427e-02,\n",
       "          1.01684957e-02, -5.02432369e-03,  6.38755748e-03,\n",
       "         -1.86070134e-02],\n",
       "        [ 1.73631316e-02,  1.10421706e-03, -5.87665601e-03,\n",
       "         -2.52991102e-02,  1.15639076e-02,  2.04821369e-03,\n",
       "          9.79561095e-03,  9.40468260e-03, -8.56684638e-03,\n",
       "         -1.13676909e-02],\n",
       "        [-1.69923651e-02,  9.34008213e-03, -3.76762247e-03,\n",
       "         -1.56068233e-03,  2.95467834e-03, -1.05608520e-02,\n",
       "         -1.04013104e-03,  5.94960979e-03, -1.09369232e-03,\n",
       "         -4.23396961e-03],\n",
       "        [-5.35346970e-03, -8.83269537e-03, -1.72262732e-02,\n",
       "         -1.56447830e-02, -1.99069547e-02,  1.57152415e-03,\n",
       "         -2.42779634e-03,  5.62448128e-03, -1.72596113e-03,\n",
       "          2.08618832e-03],\n",
       "        [ 2.66191895e-03, -7.49517345e-04,  9.90064783e-03,\n",
       "         -1.57055081e-02, -4.65336684e-03,  1.02277497e-02,\n",
       "         -9.38639382e-04, -2.34276270e-02, -1.40549735e-02,\n",
       "          1.86210649e-03],\n",
       "        [ 1.01096490e-02, -8.28770980e-03,  1.12980646e-03,\n",
       "          1.00174783e-02,  5.26559713e-03, -1.39913767e-02,\n",
       "         -7.93735540e-03,  3.87105727e-03, -1.06240946e-02,\n",
       "          4.22870684e-04],\n",
       "        [ 3.98562140e-03,  2.00170787e-02,  1.63798904e-02,\n",
       "         -1.11056512e-02, -6.54342322e-03, -8.62310130e-03,\n",
       "          1.05864117e-02,  5.80775973e-04, -9.31013791e-03,\n",
       "         -5.91996694e-03],\n",
       "        [-1.51189053e-03, -5.78942659e-03, -5.30565467e-03,\n",
       "          3.28695353e-03,  3.03622129e-03, -1.22189276e-02,\n",
       "         -9.04079109e-04,  7.70992963e-03,  1.34280651e-02,\n",
       "          1.02707657e-02],\n",
       "        [-5.42856406e-03, -1.43502846e-02,  1.53081628e-02,\n",
       "          2.81837770e-03,  7.78756285e-03,  1.14773589e-02,\n",
       "          2.61651412e-03,  9.71984838e-03, -8.39963405e-03,\n",
       "         -2.65070773e-03],\n",
       "        [-4.95761949e-03, -1.03443599e-02,  2.33548547e-02,\n",
       "          6.34571608e-03, -5.07570558e-03, -8.92692825e-03,\n",
       "          5.33940044e-03,  9.82861021e-03,  1.68204532e-02,\n",
       "         -7.31591950e-03],\n",
       "        [-4.72891067e-03,  1.02376261e-02,  9.14625179e-03,\n",
       "          1.35828448e-04,  1.98100479e-02,  5.88360920e-03,\n",
       "          4.44444189e-03,  2.89203583e-03, -3.99028174e-03,\n",
       "         -9.82150258e-03],\n",
       "        [-9.66550520e-03, -6.73538213e-03, -6.63341311e-03,\n",
       "         -2.16711497e-03, -2.40059792e-03,  1.02440269e-02,\n",
       "         -1.66239877e-03,  1.00851628e-03, -5.59141738e-03,\n",
       "          1.94272420e-03],\n",
       "        [-1.62929111e-03, -8.38523923e-03,  6.37461339e-03,\n",
       "         -7.39683628e-03,  9.10327820e-03, -7.53388681e-04,\n",
       "         -1.81869842e-02,  8.13742576e-03, -1.44135954e-02,\n",
       "          3.20512616e-03],\n",
       "        [ 1.11437578e-02, -1.05428169e-02,  3.29281714e-02,\n",
       "         -2.97885888e-03, -9.63550362e-03, -1.21332994e-03,\n",
       "          1.30059723e-02,  1.27590504e-02,  3.75624887e-03,\n",
       "         -1.42992326e-02],\n",
       "        [ 3.86151417e-03, -6.30843358e-03, -1.26321939e-02,\n",
       "         -8.80382945e-03, -6.03584912e-03, -3.29526694e-03,\n",
       "         -8.28106457e-03,  1.52274913e-02,  1.30161513e-03,\n",
       "          1.15021927e-02],\n",
       "        [ 4.52648787e-03,  5.51036681e-04, -1.06402921e-02,\n",
       "         -2.16862710e-02,  1.40750916e-02,  5.89652217e-03,\n",
       "         -1.79375952e-02,  1.55165715e-02, -9.79499008e-03,\n",
       "         -1.63477906e-02],\n",
       "        [ 6.53748121e-03,  8.84369013e-03, -8.28481640e-03,\n",
       "         -1.42537891e-02,  2.43888988e-03,  1.15463778e-02,\n",
       "          3.32906665e-03, -2.47275549e-02,  1.46638515e-02,\n",
       "         -4.13692000e-03],\n",
       "        [ 1.38031350e-03, -1.65394051e-03,  4.56040543e-03,\n",
       "         -1.15289828e-02,  1.64296247e-02, -7.67402136e-03,\n",
       "         -8.93685486e-03,  1.19572153e-02, -1.04487724e-02,\n",
       "         -6.72417787e-03],\n",
       "        [ 4.37349596e-03, -6.09266471e-03, -3.32844483e-03,\n",
       "         -4.13647008e-03,  1.92814003e-03,  8.87680953e-03,\n",
       "          6.67880616e-03,  6.42626624e-03, -6.69246640e-03,\n",
       "          3.22207603e-03],\n",
       "        [ 5.48989803e-04,  1.26619281e-02,  3.27212186e-03,\n",
       "         -9.35229739e-03, -9.96282932e-03, -3.45369155e-03,\n",
       "          1.10286962e-02, -5.32494925e-03, -6.54872697e-03,\n",
       "         -3.34723516e-03],\n",
       "        [ 4.44338567e-03, -1.16408266e-02, -1.83492400e-03,\n",
       "          9.24357657e-03,  2.29573581e-04,  5.15107311e-03,\n",
       "         -2.61973460e-03,  8.57474191e-04, -1.99467370e-02,\n",
       "         -1.81752902e-02],\n",
       "        [ 4.78914504e-03, -3.46158343e-04,  7.26550481e-03,\n",
       "          1.60092331e-02, -2.19598121e-03,  9.70075696e-03,\n",
       "         -2.59340677e-03,  8.87599028e-03,  3.85598948e-04,\n",
       "         -4.99302919e-03],\n",
       "        [-8.01074780e-03,  1.22953305e-02, -4.09612073e-03,\n",
       "          9.08716282e-03,  8.81526927e-03, -1.73174517e-02,\n",
       "         -1.17069973e-03, -1.17276439e-02, -1.58985803e-03,\n",
       "          9.32664076e-04],\n",
       "        [-7.85128586e-04,  1.14416748e-02, -1.10962101e-02,\n",
       "          1.10078785e-02, -2.18480278e-03, -2.38938476e-03,\n",
       "          2.32668893e-03, -9.20445007e-03, -1.15346229e-02,\n",
       "          2.30033566e-02],\n",
       "        [ 2.05214583e-02, -1.59249322e-02,  8.51867305e-04,\n",
       "          8.84688658e-03, -5.08686080e-03,  2.51929567e-03,\n",
       "          5.78082684e-03,  2.54701806e-02, -9.22574418e-03,\n",
       "         -2.04734969e-03],\n",
       "        [ 2.61702958e-03,  1.78463073e-02, -6.51173009e-03,\n",
       "         -2.77928112e-03,  3.64298901e-03, -1.42631906e-02,\n",
       "         -1.94619656e-03,  1.26474817e-03,  8.58928695e-03,\n",
       "         -9.34022715e-03],\n",
       "        [-1.99093851e-02, -5.18737415e-03, -4.78965437e-03,\n",
       "         -8.17456562e-03, -1.18680607e-03, -5.39286697e-03,\n",
       "         -4.19027611e-03, -1.29679077e-03, -3.87594827e-03,\n",
       "          1.58756054e-02],\n",
       "        [ 1.43154294e-02,  1.35615551e-02,  1.30874220e-02,\n",
       "          9.95730861e-04, -1.42911781e-02, -2.09647617e-02,\n",
       "         -1.12579711e-02, -4.56653156e-03,  5.59899560e-03,\n",
       "         -8.53061330e-03],\n",
       "        [-7.41340034e-04, -6.55484256e-03, -1.51830959e-03,\n",
       "          1.28171334e-02,  2.20349102e-04,  6.24194434e-03,\n",
       "         -1.80237955e-03, -8.83467279e-03, -1.89304108e-03,\n",
       "         -1.18506123e-03],\n",
       "        [ 6.31456080e-03, -2.27947292e-03,  2.22306776e-03,\n",
       "          7.50059993e-03, -8.65900835e-03,  1.55438385e-02,\n",
       "         -1.61261545e-02, -8.82856193e-04,  4.88111697e-04,\n",
       "         -1.33997276e-02],\n",
       "        [ 1.43450558e-02,  6.20353158e-04,  1.80460636e-03,\n",
       "         -2.61408823e-03,  4.30114486e-03, -1.22128331e-03,\n",
       "          1.17367534e-03, -2.85305085e-03,  1.39131859e-02,\n",
       "          5.56514595e-04],\n",
       "        [-4.61151577e-03,  6.33907815e-03, -2.50884137e-03,\n",
       "         -6.27018697e-03, -2.21701945e-02, -7.59344731e-03,\n",
       "         -1.70193854e-02, -4.14198866e-03, -9.20726443e-03,\n",
       "          6.93207593e-03],\n",
       "        [ 8.39607140e-04, -6.89030855e-03,  2.10295537e-02,\n",
       "          2.25118345e-02, -2.24595000e-02, -1.55171795e-02,\n",
       "         -1.08550269e-02,  5.35661115e-03, -1.64419056e-03,\n",
       "         -8.28696354e-03],\n",
       "        [-8.36167246e-03, -1.79782124e-02,  1.93367674e-02,\n",
       "          1.07313192e-02,  7.26385220e-03,  1.94941977e-02,\n",
       "         -2.07880352e-03, -1.08041972e-02, -7.94216292e-03,\n",
       "          1.24315128e-02],\n",
       "        [ 2.99121092e-03,  6.30443896e-03, -1.07364657e-02,\n",
       "         -1.11996908e-03, -1.46259230e-02, -2.37552896e-02,\n",
       "          5.99322610e-04,  6.25870724e-03, -1.03764829e-03,\n",
       "          1.05391460e-02],\n",
       "        [-1.89078983e-02, -3.18621343e-03, -4.45122337e-03,\n",
       "          2.41536793e-03, -9.80326129e-03, -1.22310875e-03,\n",
       "         -1.84622098e-02,  1.31512248e-03,  1.01376392e-02,\n",
       "         -7.04536637e-03],\n",
       "        [-6.47921540e-03,  2.30998449e-03,  2.83888371e-04,\n",
       "          3.13167119e-03,  1.07921907e-03, -1.18247273e-03,\n",
       "          1.03153587e-02,  5.56639619e-03,  3.88817328e-03,\n",
       "         -8.94228192e-03],\n",
       "        [ 1.51705299e-02,  3.56649111e-03, -1.41894024e-02,\n",
       "         -9.05624726e-03, -5.95731094e-03, -2.05619792e-02,\n",
       "         -1.24410378e-03, -3.52497561e-03,  8.33524404e-03,\n",
       "          2.39632290e-02],\n",
       "        [ 3.14011321e-03, -3.10734995e-03, -2.75062593e-02,\n",
       "          5.21673804e-03, -5.23990352e-03,  9.46184588e-03,\n",
       "          1.56694808e-02, -1.27550790e-03, -3.46798148e-03,\n",
       "          3.47115174e-03],\n",
       "        [ 4.74504844e-03, -2.18708404e-03, -1.65804408e-03,\n",
       "         -1.09075082e-02,  2.64760429e-03,  1.03796440e-02,\n",
       "          1.95586888e-03,  7.93748192e-03,  1.74255313e-02,\n",
       "          1.00543179e-02],\n",
       "        [ 1.45828558e-02,  5.34854432e-03,  9.60234422e-03,\n",
       "          3.57967655e-03,  1.59327899e-02,  5.08669072e-03,\n",
       "         -5.57531938e-03, -5.45311654e-03,  5.63890042e-03,\n",
       "          9.55657765e-04],\n",
       "        [ 5.83204364e-03, -9.31325538e-03, -4.55437561e-03,\n",
       "         -8.71325864e-03, -4.06779998e-03, -8.34275573e-03,\n",
       "          7.53271518e-03,  5.98527166e-03,  6.63200675e-03,\n",
       "          7.01679500e-04],\n",
       "        [-5.04117080e-04, -2.86189151e-03, -4.33578308e-03,\n",
       "         -1.61200939e-02, -8.88538802e-03,  8.94339522e-03,\n",
       "         -1.74506464e-02,  1.72489323e-02, -2.65911995e-03,\n",
       "          6.45862102e-03],\n",
       "        [-2.20648281e-03, -2.00096359e-02, -2.79764436e-03,\n",
       "         -7.72006168e-03,  1.01799444e-02, -7.31345821e-03,\n",
       "          1.30180851e-02, -5.60529037e-03, -1.41179685e-02,\n",
       "          8.73945114e-03],\n",
       "        [-1.71312370e-02, -3.67858972e-03, -7.40258510e-03,\n",
       "         -8.85345646e-03, -2.67930371e-03, -1.75240913e-02,\n",
       "         -1.44431990e-02,  1.23752083e-03,  4.14916436e-03,\n",
       "          9.42039832e-03],\n",
       "        [-1.76781534e-02,  8.46402331e-03, -1.27915891e-02,\n",
       "          5.09966867e-04,  1.11200407e-02, -8.05394712e-03,\n",
       "          1.14583211e-03, -8.47149843e-03, -6.54399408e-03,\n",
       "          2.06031571e-02],\n",
       "        [ 2.01018279e-02, -1.22564623e-02, -1.35688734e-02,\n",
       "          4.05933855e-03, -2.97178257e-03,  4.86871207e-04,\n",
       "          5.86932864e-03, -5.02024294e-04, -1.36093071e-02,\n",
       "         -1.31024577e-03],\n",
       "        [-1.27905636e-02,  2.38933309e-02, -9.36509632e-03,\n",
       "         -7.21774191e-03, -6.18235919e-03, -2.29543875e-03,\n",
       "         -1.22458627e-02,  4.50741550e-03,  6.13512750e-03,\n",
       "          4.79182326e-03],\n",
       "        [-1.15236516e-02,  1.21237834e-02, -8.65752684e-03,\n",
       "          1.08139703e-02,  6.50979708e-03, -8.07562439e-03,\n",
       "         -5.59580435e-03,  1.52439798e-02, -1.92918879e-02,\n",
       "         -2.58075736e-03],\n",
       "        [-2.28374644e-02, -8.24214226e-03,  1.08673438e-02,\n",
       "         -1.35068580e-02,  8.24565979e-03, -1.91056240e-03,\n",
       "          9.99679291e-03,  1.09807637e-02, -5.70164011e-03,\n",
       "         -3.22146632e-03],\n",
       "        [ 1.24984112e-03,  6.85631272e-04,  3.80839934e-03,\n",
       "          3.49692771e-03,  5.34374585e-03,  9.74984849e-03,\n",
       "         -1.98690577e-02,  2.04979280e-02, -7.00733226e-04,\n",
       "         -3.69921565e-03],\n",
       "        [ 1.12858720e-02,  1.27754852e-02,  1.46240535e-02,\n",
       "         -3.15167056e-03,  1.65024883e-03,  9.05446733e-03,\n",
       "         -5.79911087e-03, -2.09400416e-02,  1.13339571e-02,\n",
       "          3.63325095e-03],\n",
       "        [ 7.67697117e-03,  9.16089047e-03, -2.14134970e-04,\n",
       "          1.94534593e-03,  9.17163797e-03,  5.14704459e-03,\n",
       "          5.38656106e-03,  5.82351481e-03, -7.43119171e-03,\n",
       "          5.37697913e-03],\n",
       "        [-1.58446357e-02, -1.51728592e-02, -1.77802670e-02,\n",
       "          1.64909375e-02,  1.03280374e-03,  5.95079577e-04,\n",
       "         -5.61543121e-03, -1.00273632e-02,  4.88960792e-03,\n",
       "          2.45956442e-03],\n",
       "        [-7.96150479e-03,  2.84526281e-03,  1.27228390e-02,\n",
       "          3.20463416e-02, -1.15776092e-02,  1.57980241e-02,\n",
       "          1.14752522e-02,  1.85408684e-02,  3.17047283e-03,\n",
       "         -3.49795316e-03],\n",
       "        [ 8.37522199e-03, -1.89547029e-02, -1.40064989e-02,\n",
       "          6.32960091e-03, -9.41647841e-03, -6.88481938e-03,\n",
       "         -2.16576322e-02,  3.56421912e-03,  1.56275060e-03,\n",
       "         -8.92985658e-03],\n",
       "        [ 1.53423932e-02, -1.69892387e-02, -6.30281924e-03,\n",
       "         -6.02122878e-04, -1.48345818e-03, -4.79534721e-03,\n",
       "         -9.85069763e-04,  1.85489973e-02, -1.00830361e-02,\n",
       "          3.16150398e-03],\n",
       "        [-5.67532824e-03, -2.38059579e-04, -7.10168483e-03,\n",
       "          1.12465393e-02, -3.46475782e-03,  8.65987631e-03,\n",
       "          1.79980438e-02, -1.99058446e-03, -2.54253684e-03,\n",
       "          9.46782694e-03],\n",
       "        [ 1.70420512e-02, -2.02032789e-02,  7.12369339e-03,\n",
       "         -9.69715864e-03, -8.21250947e-03,  2.78882321e-04,\n",
       "         -4.94033596e-03,  2.71756412e-04, -3.99945997e-04,\n",
       "         -1.24190202e-02],\n",
       "        [ 4.64737857e-03, -6.77660154e-03,  3.29137364e-03,\n",
       "         -1.60259484e-03,  6.48243181e-03,  5.55908617e-03,\n",
       "          2.63386474e-03, -8.84521256e-03, -5.74132571e-03,\n",
       "          1.32143739e-02],\n",
       "        [-9.81455916e-03,  1.29611693e-02,  1.67765677e-03,\n",
       "         -3.81929675e-03, -1.71089229e-03,  6.29042913e-04,\n",
       "          2.82829645e-03,  5.45376371e-03,  1.55532788e-02,\n",
       "         -2.97974128e-03],\n",
       "        [ 9.63236686e-04, -1.00946431e-02,  1.46125895e-04,\n",
       "          1.29376227e-02, -6.49203583e-03,  3.01410576e-03,\n",
       "          1.78872448e-02,  3.09627212e-03,  3.28145457e-03,\n",
       "         -1.43828494e-02],\n",
       "        [ 1.26650293e-02,  7.33123395e-03,  5.52757890e-03,\n",
       "         -4.42501977e-03, -1.22606095e-02,  6.53130986e-03,\n",
       "         -1.42842181e-02,  1.17185413e-02,  2.17726835e-02,\n",
       "          1.11921149e-02],\n",
       "        [-5.41576916e-03, -7.78964994e-03,  6.53890755e-03,\n",
       "         -4.86961253e-04,  2.95852055e-02, -1.70003158e-02,\n",
       "         -3.83451990e-04, -4.23282880e-03,  2.22035349e-03,\n",
       "          2.13046691e-03],\n",
       "        [-1.88131850e-02,  1.19201722e-02,  5.65988471e-04,\n",
       "         -2.16015137e-03,  6.02827285e-03,  4.90516950e-04,\n",
       "          6.89634952e-03,  1.31783987e-02, -5.99627606e-03,\n",
       "          1.34814290e-02],\n",
       "        [-2.82482681e-02, -1.07875559e-02,  5.64280336e-04,\n",
       "         -2.52631328e-03, -4.76727060e-03,  2.42380502e-03,\n",
       "         -3.76077028e-03, -3.00633558e-03, -7.37245413e-03,\n",
       "          2.06119262e-02],\n",
       "        [-1.96403351e-02, -5.13079628e-03, -1.03787560e-02,\n",
       "          6.74198882e-03,  1.46396188e-02, -1.88697017e-03,\n",
       "          1.39400258e-02, -2.14358687e-03,  1.46247198e-02,\n",
       "         -1.66136212e-02],\n",
       "        [ 6.96736729e-03, -4.17528894e-03,  2.47578674e-02,\n",
       "          1.25046667e-02,  6.37410087e-03,  8.00111739e-03,\n",
       "          9.37374998e-03,  8.42806694e-03,  1.12496623e-02,\n",
       "         -9.60610317e-04],\n",
       "        [ 9.72405201e-03, -1.07937216e-02,  3.60357076e-02,\n",
       "         -6.49879202e-03, -2.55792489e-04,  1.66106272e-03,\n",
       "         -3.49667544e-03,  6.48420026e-03, -6.44264210e-03,\n",
       "         -3.04901117e-03],\n",
       "        [-6.32705722e-03,  7.75943830e-03, -9.71792437e-03,\n",
       "         -1.83078534e-02, -5.97092691e-03,  4.80775688e-04,\n",
       "          3.79201420e-03, -8.97337976e-03,  1.36545714e-02,\n",
       "         -5.43827720e-03],\n",
       "        [ 3.52752810e-03, -5.39295380e-04,  3.80199669e-03,\n",
       "          9.94633231e-03,  1.69750915e-02,  3.56290973e-04,\n",
       "         -1.49716811e-03,  6.96275259e-03, -3.51544331e-03,\n",
       "         -3.04718865e-03],\n",
       "        [-3.51889847e-03, -3.62006145e-03, -4.55342630e-04,\n",
       "         -1.06374989e-02, -1.82988160e-02,  1.84998522e-03,\n",
       "         -5.99573569e-03, -5.29484015e-03, -1.29634111e-02,\n",
       "          4.57570663e-04],\n",
       "        [-1.01918652e-02,  1.05336230e-03,  6.03833970e-03,\n",
       "         -6.99237435e-03,  5.07298093e-03, -1.39064218e-02,\n",
       "          1.02229395e-02, -1.43458538e-02, -4.64132918e-04,\n",
       "         -1.11824701e-02],\n",
       "        [ 6.78991298e-03,  1.18309154e-02, -1.00297196e-02,\n",
       "         -9.62444694e-04,  2.77043183e-03, -4.23070714e-03,\n",
       "         -2.08698623e-02,  4.33480415e-03,  1.02602894e-02,\n",
       "          1.23569877e-03],\n",
       "        [-4.92851966e-03,  7.61924757e-03, -7.77574978e-03,\n",
       "          1.06293599e-02, -7.08018222e-03,  1.08303395e-02,\n",
       "         -3.20179185e-03, -1.97306893e-03,  1.94077370e-02,\n",
       "          1.00218084e-02],\n",
       "        [ 8.02149609e-03,  2.00634290e-02, -3.42384130e-04,\n",
       "         -8.40258633e-03, -8.07078652e-03,  1.10239014e-02,\n",
       "          1.77898718e-02,  1.35254596e-03, -8.37384296e-03,\n",
       "          8.74986818e-03],\n",
       "        [-7.75085863e-03,  7.71376635e-04, -9.60033229e-03,\n",
       "          5.34391380e-03,  1.43943296e-02, -9.59967246e-03,\n",
       "         -1.23222651e-02,  3.25321079e-03,  4.51258617e-03,\n",
       "         -3.29862993e-03],\n",
       "        [ 6.86462961e-03, -7.82029022e-03, -5.28398730e-03,\n",
       "         -5.68522395e-03, -1.99112872e-03,  2.09177033e-02,\n",
       "         -3.84203525e-03,  7.82982967e-03, -1.08080320e-02,\n",
       "          4.31309760e-03],\n",
       "        [-4.42128341e-03, -1.14532238e-02,  1.19920482e-02,\n",
       "          1.77570060e-02, -6.61939317e-03,  7.54559227e-03,\n",
       "         -4.70826761e-03, -2.61837868e-03,  6.12050644e-03,\n",
       "         -1.29852932e-03],\n",
       "        [-3.20983770e-02,  3.28925206e-03,  9.33416236e-03,\n",
       "         -1.28847591e-02, -3.97201494e-03, -3.82982868e-04,\n",
       "          4.15546995e-03, -5.19114636e-04,  8.57140457e-03,\n",
       "          5.51998785e-03],\n",
       "        [ 2.72990097e-03, -4.14915022e-03,  1.37804506e-02,\n",
       "          2.22692804e-02,  1.06813436e-02,  6.51181651e-03,\n",
       "         -5.56071811e-03, -6.37918523e-03,  1.23084765e-02,\n",
       "         -1.57490316e-04]]),\n",
       " 'b2': array([0., 0., 0., 0., 0., 0., 0., 0., 0., 0.])}"
      ]
     },
     "execution_count": 198,
     "metadata": {},
     "output_type": "execute_result"
    }
   ],
   "source": [
    "network.params"
   ]
  },
  {
   "cell_type": "code",
   "execution_count": 199,
   "metadata": {},
   "outputs": [],
   "source": [
    "iterations = 10 #10000\n",
    "train_size = x_train[:100].shape[0]\n",
    "batch_size = 2 #100\n",
    "lr = 0.1\n",
    "\n",
    "iter_per_ecoph = max(train_size/batch_size, 1)"
   ]
  },
  {
   "cell_type": "code",
   "execution_count": 200,
   "metadata": {},
   "outputs": [],
   "source": [
    "train_losses = []\n",
    "train_accs = []\n",
    "test_accs = []"
   ]
  },
  {
   "cell_type": "markdown",
   "metadata": {},
   "source": [
    "#training vs test accuracy"
   ]
  },
  {
   "cell_type": "code",
   "execution_count": 201,
   "metadata": {},
   "outputs": [
    {
     "name": "stdout",
     "output_type": "stream",
     "text": [
      "train acc, test_acc : 0.09915, 0.1009\n"
     ]
    }
   ],
   "source": [
    "for i in range(iterations):\n",
    "    batch_mask = np.random.choice(train_size, batch_size)\n",
    "    x_batch = x_train[batch_mask]\n",
    "    y_batch = y_train[batch_mask]\n",
    "\n",
    "    grads = network.numerical_gradient(x_batch, y_batch)\n",
    "\n",
    "    for key in ('w1', 'b1', 'w2', 'b2'):\n",
    "        network.params[key] -= lr*grads[key]\n",
    "\n",
    "    # this is for plotting losses over time\n",
    "    train_losses.append(network.loss(x_batch, y_batch))\n",
    "\n",
    "    if i%iter_per_ecoph == 0:\n",
    "        train_acc = network.accuracy(x_train, y_train)\n",
    "        train_accs.append(train_acc)\n",
    "        test_acc = network.accuracy(x_test, y_test)\n",
    "        test_accs.append(test_acc)\n",
    "        print(f'train acc, test_acc : {train_acc}, {test_acc}')"
   ]
  },
  {
   "cell_type": "markdown",
   "metadata": {},
   "source": [
    "#plotting training vs test"
   ]
  },
  {
   "cell_type": "code",
   "execution_count": 202,
   "metadata": {},
   "outputs": [
    {
     "data": {
      "image/png": "[encoded data removed]",
      "text/plain": [
       "<Figure size 640x480 with 1 Axes>"
      ]
     },
     "metadata": {},
     "output_type": "display_data"
    }
   ],
   "source": [
    "markers = {'train': 'o', 'test': 's'}\n",
    "x = np.arange(len(train_accs))\n",
    "plt.plot(x, train_accs, label='train acc')\n",
    "plt.plot(x, test_accs, label='test acc', linestyle='--')\n",
    "plt.xlabel(\"epochs\")\n",
    "plt.ylabel(\"accuracy\")\n",
    "plt.ylim(0, 1.0)\n",
    "plt.legend(loc='lower right')\n",
    "plt.show()"
   ]
  },
  {
   "cell_type": "markdown",
   "metadata": {},
   "source": [
    "#Backpropegation"
   ]
  },
  {
   "cell_type": "code",
   "execution_count": 203,
   "metadata": {},
   "outputs": [],
   "source": [
    "class Relu:\n",
    "    def __init__(self):\n",
    "        self.mask = None\n",
    "\n",
    "    def forward(self, x):\n",
    "        self.mask = (x <= 0)\n",
    "        out = x.copy()\n",
    "        out[self.mask] = 0\n",
    "\n",
    "        return out\n",
    "\n",
    "    def backward(self, dout):\n",
    "        dout[self.mask] = 0\n",
    "        dx = dout\n",
    "\n",
    "        return dx\n",
    "\n",
    "\n",
    "class Sigmoid:\n",
    "    def __init__(self):\n",
    "        self.out = None\n",
    "        self.activations = Activations()\n",
    "\n",
    "    def forward(self, x):\n",
    "        out = self.activations.sigmoid(x)\n",
    "        self.out = out\n",
    "        return out\n",
    "\n",
    "    def backward(self, dout):\n",
    "        dx = dout * (1.0 - self.out) * self.out\n",
    "\n",
    "        return dx\n",
    "    \n",
    "class Affine:\n",
    "    def __init__(self, w, b):\n",
    "        self.w = w\n",
    "        self.b = b\n",
    "        \n",
    "        self.x = None\n",
    "        self.original_x_shape = None\n",
    "\n",
    "        self.dw = None\n",
    "        self.db = None\n",
    "\n",
    "    def forward(self, x):\n",
    "        # \n",
    "        self.original_x_shape = x.shape\n",
    "        x = x.reshape(x.shape[0], -1)\n",
    "        self.x = x\n",
    "\n",
    "        out = np.dot(self.x, self.w) + self.b\n",
    "\n",
    "        return out\n",
    "\n",
    "    def backward(self, dout):\n",
    "        dx = np.dot(dout, self.w.T)\n",
    "        self.dw = np.dot(self.x.T, dout)\n",
    "        self.db = np.sum(dout, axis=0)\n",
    "        \n",
    "        dx = dx.reshape(*self.original_x_shape)  \n",
    "        return dx\n",
    "\n",
    "class SoftmaxWithLoss:\n",
    "    def __init__(self):\n",
    "        self.loss = None \n",
    "        self.y_hat = None    \n",
    "        self.y = None    \n",
    "        self.activations = Activations()\n",
    "        self.errors = Errors()\n",
    "        \n",
    "    def forward(self, x, y):\n",
    "        self.y = y\n",
    "        self.y_hat = self.activations.softmax(x)\n",
    "        self.loss = self.errors.cross_entropy_error(self.y_hat, self.y)\n",
    "        \n",
    "        return self.loss\n",
    "\n",
    "    def backward(self, dout=1):\n",
    "        batch_size = self.y.shape[0]\n",
    "        #if self.y.size == self.y_hat.size: # one hot encoding\n",
    "        \n",
    "        dx = (self.y_hat - self.y) / batch_size\n",
    "        \n",
    "        \"\"\"\n",
    "        else:\n",
    "            dx = self.y_hat.copy()\n",
    "            dx[np.arange(batch_size), self.t] -= 1\n",
    "            dx = dx / batch_size\n",
    "        \"\"\"\n",
    "        return dx"
   ]
  },
  {
   "cell_type": "markdown",
   "metadata": {},
   "source": [
    "#two layer net with back prop"
   ]
  },
  {
   "cell_type": "code",
   "execution_count": 204,
   "metadata": {},
   "outputs": [],
   "source": [
    "import numpy as np\n",
    "from activations import Activations\n",
    "from errors import Errors"
   ]
  },
  {
   "cell_type": "code",
   "execution_count": 205,
   "metadata": {},
   "outputs": [],
   "source": [
    "from collections import OrderedDict"
   ]
  },
  {
   "cell_type": "code",
   "execution_count": 206,
   "metadata": {},
   "outputs": [],
   "source": [
    "class TwoLayerNetWithBackProp:\n",
    "    def __init__(self, input_size, hidden_size, output_size, weight_init_std=0.01):\n",
    "        self.params = {}\n",
    "\n",
    "        self.params['w1'] = weight_init_std*np.random.randn(input_size, hidden_size)\n",
    "        self.params['b1'] = np.zeros(hidden_size)\n",
    "\n",
    "        self.params['w2'] = weight_init_std*np.random.randn(hidden_size, output_size)\n",
    "        self.params['b2'] = np.zeros(output_size)\n",
    "\n",
    "        self.activations = Activations()\n",
    "        self.errors = Errors()\n",
    "\n",
    "        # add layers\n",
    "        self.layers = OrderedDict()\n",
    "        self.update_layers()\n",
    "        self.last_layer = SoftmaxWithLoss()\n",
    "\n",
    "\n",
    "    def update_layers(self):\n",
    "        self.layers['Affine1'] = Affine(self.params['w1'], self.params['b1'])\n",
    "        self.layers['Rele1'] = Relu()\n",
    "        self.layers['Affine2'] = Affine(self.params['w2'], self.params['b2'])\n",
    "\n",
    "\n",
    "    def predict(self, x):\n",
    "        ## new implementation for backprop\n",
    "        for layer in self.layers.values():\n",
    "            x = layer.forward(x)\n",
    "\n",
    "        y = x\n",
    "        return y\n",
    "    \n",
    "    def loss(self, x, y):\n",
    "        y_hat = self.predict(x)\n",
    "\n",
    "        # return self.errors.cross_entropy_error(y_hat, y)\n",
    "        return self.last_layer.forward(y_hat, y)\n",
    "\n",
    "    def accuracy(self, x, y):\n",
    "        y_hat = self.predict(x)\n",
    "        p = np.argmax(y_hat, axis=1)\n",
    "        y_p = np.argmax(y, axis=1)\n",
    "\n",
    "        return np.sum(p == y_p)/float(x.shape[0])\n",
    "    \n",
    "\n",
    "    def gradient(self, x, y):\n",
    "        self.loss(x, y)\n",
    "\n",
    "        dout = 1\n",
    "        dout = self.last_layer.backward(dout)\n",
    "\n",
    "        layers = list(self.layers.values())\n",
    "        layers.reverse()\n",
    "        for layer in layers:\n",
    "            dout = layer.backward(dout)\n",
    "\n",
    "        grads = {}\n",
    "        grads['w1'] = self.layers['Affine1'].dw\n",
    "        grads['b1'] = self.layers['Affine1'].db\n",
    "        grads['w2'] = self.layers['Affine2'].dw\n",
    "        grads['b2'] = self.layers['Affine2'].db\n",
    "      \n",
    "        return grads"
   ]
  },
  {
   "cell_type": "code",
   "execution_count": 207,
   "metadata": {},
   "outputs": [],
   "source": [
    "from mnist import Mnist"
   ]
  },
  {
   "cell_type": "code",
   "execution_count": 208,
   "metadata": {},
   "outputs": [
    {
     "name": "stdout",
     "output_type": "stream",
     "text": [
      "File: train-images-idx3-ubyte.gz already exists.\n",
      "File: train-labels-idx1-ubyte.gz already exists.\n",
      "File: t10k-images-idx3-ubyte.gz already exists.\n",
      "File: t10k-labels-idx1-ubyte.gz already exists.\n",
      "Pickle: dataset/mnist.pkl already exists.\n",
      "loading....\n",
      "Done\n"
     ]
    }
   ],
   "source": [
    "mnist = Mnist()"
   ]
  },
  {
   "cell_type": "code",
   "execution_count": 209,
   "metadata": {},
   "outputs": [],
   "source": [
    "(x_train, y_train), (x_test, y_test) = mnist.load()"
   ]
  },
  {
   "cell_type": "code",
   "execution_count": 210,
   "metadata": {},
   "outputs": [
    {
     "name": "stdout",
     "output_type": "stream",
     "text": [
      "(60000, 784)\n"
     ]
    }
   ],
   "source": [
    "print(x_train.shape)"
   ]
  },
  {
   "cell_type": "code",
   "execution_count": 211,
   "metadata": {},
   "outputs": [],
   "source": [
    "network = TwoLayerNetWithBackProp(input_size=28*28, hidden_size=100, output_size=10)"
   ]
  },
  {
   "cell_type": "markdown",
   "metadata": {},
   "source": [
    "#testing different metrics to see results"
   ]
  },
  {
   "cell_type": "code",
   "execution_count": 212,
   "metadata": {},
   "outputs": [],
   "source": [
    "iterations = 10000\n",
    "train_size = x_train.shape[0]\n",
    "batch_size = 100\n",
    "lr = 0.1\n",
    "\n",
    "iter_per_ecoph = max(train_size/batch_size, 1)"
   ]
  },
  {
   "cell_type": "code",
   "execution_count": 213,
   "metadata": {},
   "outputs": [],
   "source": [
    "train_losses = []\n",
    "train_accs = []\n",
    "test_accs = []"
   ]
  },
  {
   "cell_type": "code",
   "execution_count": 214,
   "metadata": {},
   "outputs": [
    {
     "name": "stdout",
     "output_type": "stream",
     "text": [
      "train acc, test_acc : 0.17005, 0.1724\n",
      "train acc, test_acc : 0.9072833333333333, 0.9099\n",
      "train acc, test_acc : 0.9269833333333334, 0.9301\n",
      "train acc, test_acc : 0.9400833333333334, 0.9384\n",
      "train acc, test_acc : 0.94855, 0.9479\n",
      "train acc, test_acc : 0.9562833333333334, 0.954\n",
      "train acc, test_acc : 0.9616833333333333, 0.9606\n",
      "train acc, test_acc : 0.9638333333333333, 0.9609\n",
      "train acc, test_acc : 0.9688333333333333, 0.9655\n",
      "train acc, test_acc : 0.97185, 0.9684\n",
      "train acc, test_acc : 0.9743833333333334, 0.9679\n",
      "train acc, test_acc : 0.9755833333333334, 0.9686\n",
      "train acc, test_acc : 0.9783166666666666, 0.9705\n",
      "train acc, test_acc : 0.9795833333333334, 0.9726\n",
      "train acc, test_acc : 0.98125, 0.9725\n",
      "train acc, test_acc : 0.9814833333333334, 0.9731\n",
      "train acc, test_acc : 0.9839333333333333, 0.9753\n"
     ]
    }
   ],
   "source": [
    "for i in range(iterations):\n",
    "    batch_mask = np.random.choice(train_size, batch_size)\n",
    "    x_batch = x_train[batch_mask]\n",
    "    y_batch = y_train[batch_mask]\n",
    "\n",
    "    grads = network.gradient(x_batch, y_batch)\n",
    "\n",
    "    for key in ('w1', 'b1', 'w2', 'b2'):\n",
    "        network.params[key] -= lr*grads[key]\n",
    "\n",
    "    ## this is for plotting losses over time\n",
    "    train_losses.append(network.loss(x_batch, y_batch))\n",
    "\n",
    "    if i%iter_per_ecoph == 0:\n",
    "        train_acc = network.accuracy(x_train, y_train)\n",
    "        train_accs.append(train_acc)\n",
    "        test_acc = network.accuracy(x_test, y_test)\n",
    "        test_accs.append(test_acc)\n",
    "        print(f'train acc, test_acc : {train_acc}, {test_acc}')"
   ]
  },
  {
   "cell_type": "code",
   "execution_count": 215,
   "metadata": {},
   "outputs": [
    {
     "data": {
      "image/png": "[encoded data removed]",
      "text/plain": [
       "<Figure size 640x480 with 1 Axes>"
      ]
     },
     "metadata": {},
     "output_type": "display_data"
    }
   ],
   "source": [
    "markers = {'train': 'o', 'test': 's'}\n",
    "x = np.arange(len(train_accs))\n",
    "plt.plot(x, train_accs, label='train acc')\n",
    "plt.plot(x, test_accs, label='test acc', linestyle='--')\n",
    "plt.xlabel(\"epochs\")\n",
    "plt.ylabel(\"accuracy\")\n",
    "plt.ylim(0, 1.0)\n",
    "plt.legend(loc='lower right')\n",
    "plt.show()"
   ]
  },
  {
   "cell_type": "markdown",
   "metadata": {},
   "source": [
    "#testing with other values"
   ]
  },
  {
   "cell_type": "code",
   "execution_count": 216,
   "metadata": {},
   "outputs": [],
   "source": [
    "network = TwoLayerNetWithBackProp(input_size=28*28, hidden_size=100, output_size=10)"
   ]
  },
  {
   "cell_type": "code",
   "execution_count": 217,
   "metadata": {},
   "outputs": [],
   "source": [
    "iterations = 50000\n",
    "train_size = x_train.shape[0]\n",
    "batch_size = 20\n",
    "lr = 0.1\n",
    "\n",
    "iter_per_ecoph = max(train_size/batch_size, 1)"
   ]
  },
  {
   "cell_type": "code",
   "execution_count": 218,
   "metadata": {},
   "outputs": [],
   "source": [
    "train_losses = []\n",
    "train_accs = []\n",
    "test_accs = []"
   ]
  },
  {
   "cell_type": "code",
   "execution_count": 219,
   "metadata": {},
   "outputs": [
    {
     "name": "stdout",
     "output_type": "stream",
     "text": [
      "train acc, test_acc : 0.12041666666666667, 0.1254\n",
      "train acc, test_acc : 0.9514333333333334, 0.9488\n",
      "train acc, test_acc : 0.9675, 0.9626\n",
      "train acc, test_acc : 0.9762333333333333, 0.9693\n",
      "train acc, test_acc : 0.9817333333333333, 0.9721\n",
      "train acc, test_acc : 0.9832166666666666, 0.974\n",
      "train acc, test_acc : 0.9851166666666666, 0.973\n",
      "train acc, test_acc : 0.98655, 0.9739\n",
      "train acc, test_acc : 0.9902, 0.9742\n",
      "train acc, test_acc : 0.9909833333333333, 0.9761\n",
      "train acc, test_acc : 0.9910166666666667, 0.9744\n",
      "train acc, test_acc : 0.9943666666666666, 0.9785\n",
      "train acc, test_acc : 0.9945833333333334, 0.9776\n",
      "train acc, test_acc : 0.9964, 0.9792\n",
      "train acc, test_acc : 0.9971833333333333, 0.98\n",
      "train acc, test_acc : 0.9966833333333334, 0.9795\n",
      "train acc, test_acc : 0.9973666666666666, 0.9794\n"
     ]
    }
   ],
   "source": [
    "for i in range(iterations):\n",
    "    batch_mask = np.random.choice(train_size, batch_size)\n",
    "    x_batch = x_train[batch_mask]\n",
    "    y_batch = y_train[batch_mask]\n",
    "\n",
    "    grads = network.gradient(x_batch, y_batch)\n",
    "\n",
    "    for key in ('w1', 'b1', 'w2', 'b2'):\n",
    "        network.params[key] -= lr*grads[key]\n",
    "\n",
    "    ## this is for plotting losses over time\n",
    "    train_losses.append(network.loss(x_batch, y_batch))\n",
    "\n",
    "    if i%iter_per_ecoph == 0:\n",
    "        train_acc = network.accuracy(x_train, y_train)\n",
    "        train_accs.append(train_acc)\n",
    "        test_acc = network.accuracy(x_test, y_test)\n",
    "        test_accs.append(test_acc)\n",
    "        print(f'train acc, test_acc : {train_acc}, {test_acc}')"
   ]
  },
  {
   "cell_type": "code",
   "execution_count": 220,
   "metadata": {},
   "outputs": [
    {
     "data": {
      "text/plain": [
       "{'w1': array([[-0.00840617,  0.01023681,  0.00115429, ...,  0.00686942,\n",
       "         -0.00321119,  0.00451298],\n",
       "        [ 0.0035597 , -0.00013016, -0.00599288, ..., -0.00646952,\n",
       "         -0.00499339, -0.00285655],\n",
       "        [-0.00667133,  0.00010538,  0.00057169, ..., -0.01041405,\n",
       "          0.01995618,  0.000369  ],\n",
       "        ...,\n",
       "        [ 0.00461379,  0.0068772 ,  0.01075046, ..., -0.00450856,\n",
       "         -0.00303521, -0.01815172],\n",
       "        [ 0.01703022,  0.0114973 ,  0.01828538, ...,  0.00787598,\n",
       "         -0.00710312,  0.01872319],\n",
       "        [-0.00410318, -0.01094059,  0.01213262, ..., -0.00108248,\n",
       "          0.00076394,  0.00703992]]),\n",
       " 'b1': array([ 0.05265035,  0.04802144,  0.20966773, -0.38150937,  0.1294036 ,\n",
       "         0.13728964,  0.18140583,  0.20877747,  0.55181676, -0.08579345,\n",
       "         0.03654556, -0.03499311, -0.05445442, -0.14695885,  0.11025895,\n",
       "         0.09655346,  0.34398271, -0.11325401, -0.2186571 , -0.01022358,\n",
       "        -0.02847077, -0.01647247,  0.38029722, -0.03295569, -0.1227613 ,\n",
       "        -0.07043758, -0.07693864, -0.12263759,  0.11749379, -0.03860634,\n",
       "         0.20797946, -0.00448536,  0.34222284,  0.09380168, -0.01659444,\n",
       "         0.0198266 , -0.05528302,  0.22305881,  0.27537001,  0.08198413,\n",
       "         0.30470071, -0.03180123,  0.02855303,  0.06688352,  0.03714719,\n",
       "         0.18052394, -0.0127959 ,  0.11337163,  0.15606644,  0.06302499,\n",
       "        -0.01612467,  0.33148901,  0.07006672, -0.12188652,  0.04690048,\n",
       "         0.22383277,  0.25320709, -0.04367439,  0.06746807, -0.08023308,\n",
       "        -0.00250189,  0.05257318, -0.03329364,  0.11411085, -0.10827188,\n",
       "         0.10190264, -0.23915129, -0.1237846 ,  0.01962939, -0.22871865,\n",
       "         0.08781004,  0.35047569, -0.09865407,  0.14317303, -0.13886127,\n",
       "        -0.18092888,  0.06311317, -0.23568639, -0.13530098,  0.27470141,\n",
       "         0.05570317,  0.33665429, -0.02272207,  0.11892171,  0.22944775,\n",
       "         0.31369968,  0.06851222,  0.09593383,  0.08434169,  0.09495399,\n",
       "         0.22378016,  0.14129637, -0.0395235 , -0.03440276,  0.1450414 ,\n",
       "         0.04715206, -0.18268649, -0.36058814, -0.05376602, -0.1371838 ]),\n",
       " 'w2': array([[-1.10848237e-01, -2.45232340e-01,  1.17575264e+00,\n",
       "          1.73048712e-01, -1.49199352e-01,  1.53642898e-01,\n",
       "         -1.08765482e-01,  3.12711148e-01, -8.59395945e-01,\n",
       "         -3.70608700e-01],\n",
       "        [-6.52342720e-01,  2.39731772e-01,  4.25134022e-01,\n",
       "         -8.47974278e-01,  3.42242495e-01, -1.10969953e+00,\n",
       "          1.95027068e-01,  6.64344878e-01,  9.81256546e-01,\n",
       "         -2.35293867e-01],\n",
       "        [-1.26397162e+00, -6.00662610e-03, -5.25920247e-01,\n",
       "          4.59333085e-01,  6.73635592e-01,  4.85788401e-01,\n",
       "          2.29009533e-01, -1.74051156e-01,  3.02512076e-01,\n",
       "         -2.16584380e-01],\n",
       "        [-2.98040923e-01,  5.81606367e-01, -7.18203325e-01,\n",
       "          9.37979654e-01,  7.12270108e-02,  5.07734356e-01,\n",
       "         -2.28840246e-02, -3.67514449e-01, -7.20009191e-01,\n",
       "         -5.82522366e-03],\n",
       "        [-7.06097722e-01,  2.08180800e-01,  4.76727770e-02,\n",
       "          4.90619040e-01,  7.48363467e-02,  4.54633109e-01,\n",
       "         -1.96504697e-01, -1.03017576e-01, -6.45317939e-01,\n",
       "          3.63227308e-01],\n",
       "        [-2.41624594e-01,  2.58299882e-01,  3.49972345e-01,\n",
       "         -3.82323117e-01,  8.85023027e-02,  1.96362501e-01,\n",
       "          4.95119563e-01,  9.94616261e-03,  4.69742522e-01,\n",
       "         -1.24353356e+00],\n",
       "        [ 7.06547213e-01,  1.31880769e-01,  9.36607271e-01,\n",
       "          6.83789188e-02, -5.14502107e-01,  4.89406019e-01,\n",
       "          2.22658817e-01,  2.72515454e-02, -4.80710825e-01,\n",
       "         -1.57787734e+00],\n",
       "        [-1.60211652e-01,  6.97921699e-01, -1.17011707e-01,\n",
       "         -1.51433613e-01, -1.11081291e-01,  6.87373093e-01,\n",
       "          7.54856735e-01, -7.49891568e-01, -6.33713640e-01,\n",
       "         -2.41611328e-01],\n",
       "        [ 1.15540532e-01, -3.24212324e-01, -8.70220850e-01,\n",
       "          1.32383812e-01,  8.84887412e-01,  5.36686675e-01,\n",
       "          2.73022420e-01,  5.95123113e-01, -3.17479736e-01,\n",
       "         -1.09002443e+00],\n",
       "        [-4.29537736e-01, -3.10940043e-02, -1.35472189e-01,\n",
       "          3.98301899e-01, -1.75306953e-01,  1.69044817e-01,\n",
       "          3.62633717e-01, -1.10698238e+00,  5.68360057e-01,\n",
       "          3.72929722e-01],\n",
       "        [-3.01025862e-01,  8.41177276e-01,  7.04684232e-01,\n",
       "         -1.11145170e+00,  4.38200984e-01, -7.60414749e-01,\n",
       "          9.81474428e-02,  3.51160519e-01,  5.04651273e-01,\n",
       "         -7.98004914e-01],\n",
       "        [ 1.10802084e-01,  2.11294452e-01, -2.19233808e-01,\n",
       "         -1.04872384e+00,  8.86757780e-01,  4.39171607e-01,\n",
       "         -1.56585731e-01,  3.04248970e-02,  3.53827459e-01,\n",
       "         -5.68385057e-01],\n",
       "        [ 4.48082746e-01, -4.65537002e-01, -1.26768636e-01,\n",
       "          2.61910857e-01, -1.40386722e+00,  6.76154845e-01,\n",
       "         -7.86153993e-01,  6.86782104e-01,  3.17670360e-01,\n",
       "          3.79318334e-01],\n",
       "        [ 6.61849129e-01, -6.41397429e-01, -2.70649432e-01,\n",
       "          6.66086373e-01, -1.10773629e+00,  3.84974618e-01,\n",
       "          6.01917188e-01, -6.83954316e-01,  2.44371347e-01,\n",
       "          1.18435766e-01],\n",
       "        [-2.98207373e-01, -4.51044136e-02, -4.13816689e-01,\n",
       "          5.31355438e-01, -2.99977344e-01,  2.79269008e-01,\n",
       "         -8.67199553e-01,  1.43584725e-01,  1.89325948e-01,\n",
       "          7.58481581e-01],\n",
       "        [-1.28559904e-01, -1.15363373e-01,  6.30361230e-01,\n",
       "          3.18129767e-01, -2.22824638e-01, -4.97083391e-03,\n",
       "         -2.37832471e-02,  1.86409324e-02, -2.02772399e-01,\n",
       "         -2.49285935e-01],\n",
       "        [-6.41434075e-01,  5.67923002e-01,  9.33849022e-01,\n",
       "         -2.29493782e-01, -5.57406147e-02, -3.27370416e-01,\n",
       "          2.70908021e-01,  5.07916321e-01,  2.55510967e-01,\n",
       "         -1.30527868e+00],\n",
       "        [ 8.43317489e-02, -2.49086343e-01,  5.29482952e-01,\n",
       "          3.20301329e-01, -5.28010488e-01,  4.92872617e-01,\n",
       "         -2.16466097e-01, -9.28110181e-01,  5.94266122e-01,\n",
       "         -7.49822671e-02],\n",
       "        [-2.30978496e-01,  4.51298974e-01,  4.66091842e-03,\n",
       "          6.83667450e-01,  2.12830273e-01, -1.29518298e+00,\n",
       "          3.69456881e-01,  2.16646481e-01,  6.21838326e-02,\n",
       "         -4.82143393e-01],\n",
       "        [-4.20380328e-02,  1.19992110e-01, -2.48236080e-02,\n",
       "         -8.93668956e-02,  2.23651398e-02,  2.50426452e-02,\n",
       "         -5.11409722e-03, -1.94003233e-02,  3.00966169e-02,\n",
       "         -1.96455699e-02],\n",
       "        [ 2.33014341e-01, -7.96300721e-02, -1.65532720e-01,\n",
       "         -5.32127043e-02,  2.85633004e-01,  2.98605361e-01,\n",
       "         -3.61983696e-02,  1.47721882e-01, -3.04672034e-01,\n",
       "         -3.46843657e-01],\n",
       "        [-1.47730527e-01,  4.35168472e-02,  2.98763490e-01,\n",
       "         -2.22218007e-01,  1.49324232e-01,  1.80727702e-01,\n",
       "         -2.58506625e-02,  7.02006885e-02, -2.79517648e-01,\n",
       "         -5.30119285e-02],\n",
       "        [ 5.78391173e-01, -1.63873646e-01, -1.01508841e+00,\n",
       "         -4.75686195e-01,  9.19436726e-02, -3.58368790e-02,\n",
       "          7.33690169e-02,  1.26276444e+00,  7.02740287e-03,\n",
       "         -3.21128855e-01],\n",
       "        [-9.40937353e-01, -4.90103967e-02, -7.20948653e-01,\n",
       "          9.26323954e-01,  8.65313800e-01,  1.69466846e-01,\n",
       "         -1.16826848e+00, -5.39227849e-02,  3.48352103e-01,\n",
       "          6.59663379e-01],\n",
       "        [ 9.64641563e-02,  5.40331875e-01,  1.12582929e+00,\n",
       "         -8.50830883e-01, -1.75458148e-01, -4.98231458e-01,\n",
       "         -1.90215024e-01,  3.73781158e-01, -1.25384143e-01,\n",
       "         -2.46302659e-01],\n",
       "        [-4.99109781e-01,  7.23940990e-01, -5.66336963e-02,\n",
       "          6.01098478e-01,  6.82888885e-01, -5.91199162e-01,\n",
       "         -5.67688008e-01,  6.03774726e-01, -8.57384603e-01,\n",
       "         -9.27436465e-02],\n",
       "        [ 3.62123712e-02, -4.40750321e-01, -2.51365674e-02,\n",
       "          2.35992626e-01, -4.04080148e-01, -5.26615630e-02,\n",
       "          5.12326105e-01, -5.65133649e-01,  4.04137752e-01,\n",
       "          2.89531113e-01],\n",
       "        [ 6.10163008e-01, -5.81629494e-01, -2.15403010e-01,\n",
       "         -3.77272866e-01,  4.06694669e-01, -8.91714949e-01,\n",
       "          3.08751028e-01, -6.54510864e-03,  2.05320501e-01,\n",
       "          4.90946327e-01],\n",
       "        [-4.55956282e-03,  4.19522903e-02, -4.25150053e-01,\n",
       "         -4.25480802e-01, -1.21261781e-01,  1.00160229e+00,\n",
       "          2.08811993e-01,  2.64948878e-01, -4.95517988e-01,\n",
       "         -4.46518636e-02],\n",
       "        [ 4.71467778e-02, -1.23381708e-01,  4.97244426e-01,\n",
       "         -9.12638453e-02,  1.28766255e-01, -6.64009223e-02,\n",
       "         -2.07094569e-01,  7.36073698e-02,  3.87457734e-01,\n",
       "         -6.33149644e-01],\n",
       "        [-5.78062380e-01, -2.90928966e-01, -2.22049388e-01,\n",
       "          6.38277828e-01,  6.36323349e-01,  7.10371587e-01,\n",
       "         -3.90847841e-01, -2.40860189e-01, -1.22473435e+00,\n",
       "          9.51830833e-01],\n",
       "        [-2.72366056e-01, -2.86751245e-01,  4.90646183e-02,\n",
       "         -1.62301265e-01, -3.66920779e-01,  7.32422484e-01,\n",
       "          2.58669950e-02, -1.45690322e-01,  6.46153241e-03,\n",
       "          4.02489508e-01],\n",
       "        [-5.60531789e-01, -5.32023474e-01, -2.16678929e-01,\n",
       "          3.96973709e-01,  6.21490434e-01,  6.00100241e-01,\n",
       "         -1.46196219e+00,  7.50319147e-01, -4.60038668e-01,\n",
       "          7.96917429e-01],\n",
       "        [-4.47200432e-02,  3.11928740e-01, -1.39686617e+00,\n",
       "          1.67452156e-01,  2.45645286e-02,  2.40391810e-01,\n",
       "         -2.46153669e-02,  1.08444939e-01, -6.87373052e-03,\n",
       "          5.61600898e-01],\n",
       "        [-1.42981861e-01, -1.32775553e-03, -1.76452657e-01,\n",
       "          3.46861249e-01, -2.53173982e-01,  6.61672876e-01,\n",
       "         -2.89073226e-02,  8.53780232e-02, -4.14858717e-01,\n",
       "         -1.05622384e-01],\n",
       "        [ 8.08067453e-01, -1.93853585e-01,  2.58290120e-01,\n",
       "         -9.67768270e-01, -2.00890495e-01, -3.87011535e-01,\n",
       "          6.62214837e-01,  2.28714068e-02, -2.00778678e-01,\n",
       "          2.08825040e-01],\n",
       "        [ 4.32220280e-01, -4.06739466e-01,  1.09056941e-02,\n",
       "         -2.16600292e-01, -6.38453636e-01,  2.44519859e-01,\n",
       "          1.94840371e-01, -4.50023054e-01,  1.81499703e-02,\n",
       "          8.58692668e-01],\n",
       "        [-3.59842550e-01, -1.16241485e-01, -1.90353490e-01,\n",
       "         -1.43730871e-01, -6.88105093e-01,  1.19041284e+00,\n",
       "          1.93442329e-01,  2.73386005e-01,  8.31540178e-02,\n",
       "         -2.32622835e-01],\n",
       "        [ 1.79030503e-01, -6.09141834e-01,  6.93114558e-01,\n",
       "          3.34262071e-01, -9.27606909e-01, -1.18078305e-01,\n",
       "         -5.02545996e-01,  1.05143833e+00, -7.37006349e-01,\n",
       "          6.19759858e-01],\n",
       "        [-8.28803203e-01, -2.01698518e-01,  6.22175499e-01,\n",
       "          1.19197517e-01, -2.36507038e-01,  7.20833159e-04,\n",
       "         -8.07801250e-01,  4.93951991e-01,  4.18165255e-01,\n",
       "          4.12161812e-01],\n",
       "        [ 3.25351776e-01, -1.34682566e-01,  3.05406282e-01,\n",
       "         -3.79114171e-01,  4.65449624e-01,  4.38987608e-01,\n",
       "         -5.23681148e-01, -3.30528746e-01,  4.58970882e-01,\n",
       "         -5.75336228e-01],\n",
       "        [ 1.51614431e-01, -3.78780433e-01, -9.61375770e-02,\n",
       "          2.00379192e-01,  1.14976027e-01, -8.65946407e-01,\n",
       "          5.09111324e-01,  3.50002988e-01, -5.12756776e-02,\n",
       "          5.47830791e-02],\n",
       "        [-3.86525903e-03, -1.24779994e-01,  4.79052808e-01,\n",
       "         -1.90543147e-01, -3.41235396e-01, -4.39359561e-02,\n",
       "          1.35421602e-01, -4.27866339e-01,  3.37533149e-01,\n",
       "          1.84208060e-01],\n",
       "        [ 3.00250986e-02,  1.88272753e-01, -4.52906217e-01,\n",
       "         -8.52730264e-01,  4.61859517e-01,  4.83646999e-01,\n",
       "         -5.45258107e-01,  5.98094921e-01, -9.46812509e-01,\n",
       "          1.01680866e+00],\n",
       "        [-6.97856179e-02, -2.60477428e-01, -3.91683187e-01,\n",
       "          3.83218446e-01,  7.09599310e-02,  4.75236061e-01,\n",
       "          1.17416513e-01,  5.96043748e-01, -1.37691800e-01,\n",
       "         -8.41187918e-01],\n",
       "        [ 3.44997934e-01,  6.23443088e-02,  3.61357339e-01,\n",
       "         -7.44208598e-01,  4.97665633e-01, -7.34116686e-01,\n",
       "          1.37305263e-01, -6.07940877e-01,  7.06246098e-01,\n",
       "         -1.79790376e-02],\n",
       "        [-9.35870536e-01,  5.64419841e-01, -1.34458363e-01,\n",
       "          4.87468122e-01,  1.76198446e-01,  6.31858884e-01,\n",
       "         -6.81138596e-01,  3.30149878e-02, -4.49814242e-01,\n",
       "          2.90252647e-01],\n",
       "        [-2.40861875e-01, -2.76863434e-02, -1.01691891e+00,\n",
       "         -3.31891541e-01,  3.44895085e-01,  2.84830140e-01,\n",
       "         -1.18873820e-01,  1.18322355e-01,  4.45293957e-01,\n",
       "          5.17626414e-01],\n",
       "        [ 3.95560683e-01, -1.93072478e-01,  1.53642243e-01,\n",
       "          3.74184975e-01, -5.50296824e-01,  4.02218204e-01,\n",
       "          2.62892147e-02,  2.78537040e-01, -7.42728079e-01,\n",
       "         -8.17895215e-02],\n",
       "        [-1.05413182e-01,  4.44921283e-01, -5.03065812e-02,\n",
       "          5.58785684e-02,  4.00686657e-01, -3.16523576e-01,\n",
       "          4.85358225e-02,  1.46971893e-01, -2.43832508e-01,\n",
       "         -3.68442710e-01],\n",
       "        [-2.53464348e-01,  9.08807661e-01,  2.27718515e-01,\n",
       "          7.55755114e-01, -2.30667460e-01, -3.15375882e-01,\n",
       "         -1.19785946e-01,  8.05878036e-01, -9.02142914e-01,\n",
       "         -9.22231626e-01],\n",
       "        [-4.10456591e-01,  1.27110579e-01, -7.64124757e-01,\n",
       "         -3.86295178e-01,  7.52855821e-01,  1.50546524e-01,\n",
       "         -5.88199117e-01, -2.73961436e-01,  6.19333213e-01,\n",
       "          7.29859092e-01],\n",
       "        [-8.79291398e-01, -8.46308464e-01, -2.85453142e-01,\n",
       "         -8.05896261e-01,  8.44597968e-01,  9.41537858e-01,\n",
       "         -3.31171054e-01,  1.36425104e-01,  8.20307607e-01,\n",
       "          4.16027369e-01],\n",
       "        [-5.11283827e-02, -1.95243170e-01, -2.51917632e-02,\n",
       "         -4.78999977e-01, -6.42687307e-01,  7.53594343e-01,\n",
       "          3.69084963e-01, -6.35443867e-02,  1.20696421e-01,\n",
       "          2.63248412e-01],\n",
       "        [-4.98030695e-02, -3.05715214e-02, -9.26557363e-01,\n",
       "         -2.77797094e-01,  3.09102058e-01,  3.44321335e-01,\n",
       "          2.18562906e-01, -2.24491767e-01,  2.06029562e-01,\n",
       "          4.18438462e-01],\n",
       "        [ 5.42835225e-01,  1.32109213e-02,  4.23344749e-01,\n",
       "         -1.16060694e+00,  5.56788196e-01, -5.59434757e-01,\n",
       "         -9.65947050e-02,  5.49868488e-01, -6.49698953e-01,\n",
       "          3.67082503e-01],\n",
       "        [ 1.11979249e+00, -1.09021871e+00, -4.47303880e-02,\n",
       "          5.00100558e-01, -1.09967721e+00,  6.04937180e-01,\n",
       "          4.70888368e-01, -1.09268133e+00,  5.13898964e-01,\n",
       "          1.24964857e-01],\n",
       "        [ 2.03775375e-01, -1.06810448e-01,  4.92407993e-01,\n",
       "          7.27234793e-01, -1.36245742e+00, -7.85281116e-01,\n",
       "         -5.57273025e-01,  4.67941502e-01,  1.57755632e-01,\n",
       "          7.14072222e-01],\n",
       "        [ 4.47523953e-01, -3.03760132e-01, -3.19705034e-01,\n",
       "         -3.00143512e-02,  5.29590654e-01,  5.43495831e-02,\n",
       "          2.54109870e-01,  6.33483967e-02, -1.18066341e+00,\n",
       "          4.66305421e-01],\n",
       "        [-2.13623914e-01,  4.76424947e-01, -6.44571776e-01,\n",
       "         -1.40638341e-01, -3.32024807e-01, -1.20103144e-01,\n",
       "          1.15743930e+00, -1.95478378e-01, -2.04893289e-02,\n",
       "          3.71279709e-02],\n",
       "        [-5.63412149e-02,  5.56139370e-01,  3.75379460e-01,\n",
       "         -1.63357836e-03,  7.78686034e-01, -1.35048638e+00,\n",
       "         -9.68404186e-01, -1.78838377e-02,  1.79581235e-01,\n",
       "          5.25188708e-01],\n",
       "        [-6.97525578e-01,  1.28551132e+00,  3.84321088e-01,\n",
       "          4.61083408e-01, -2.89834608e-01, -4.36574190e-01,\n",
       "         -3.63559621e-02,  5.11783886e-01, -6.11722235e-01,\n",
       "         -5.86479272e-01],\n",
       "        [-2.44512171e-01, -2.98376708e-01,  8.61052690e-01,\n",
       "          7.82518936e-01, -4.28712785e-01, -1.05011362e-01,\n",
       "         -3.77498215e-01,  7.25797320e-01, -3.13366686e-01,\n",
       "         -6.08825832e-01],\n",
       "        [ 5.96154915e-01, -7.68540880e-01, -1.55991756e-01,\n",
       "         -6.92790047e-01,  1.21043990e-01,  2.07543278e-01,\n",
       "          6.88339748e-01, -5.61852011e-01,  5.42852439e-01,\n",
       "          1.52610576e-03],\n",
       "        [ 3.51167022e-01, -2.71467166e-01,  6.04097467e-01,\n",
       "          4.85147509e-01, -1.10311460e+00,  1.62932326e-01,\n",
       "         -8.11466213e-01,  3.92121783e-01,  4.71027697e-01,\n",
       "         -2.93289298e-01],\n",
       "        [-6.18716583e-01,  4.04494186e-01,  3.99149858e-01,\n",
       "          6.94024612e-02, -6.57563925e-01,  4.98765224e-01,\n",
       "          7.13738526e-01, -4.83001664e-01,  8.05225718e-01,\n",
       "         -1.16926532e+00],\n",
       "        [-6.05607434e-02, -1.92277354e-01,  4.25974707e-01,\n",
       "          7.32317186e-01,  7.33195853e-02, -1.74502599e+00,\n",
       "         -6.18810840e-01,  2.42992594e-01,  4.91218617e-01,\n",
       "          6.51552497e-01],\n",
       "        [ 2.90935897e-01,  1.80160654e-01, -4.78076719e-01,\n",
       "         -2.76287725e-02,  2.15823572e-01,  3.22950194e-02,\n",
       "          1.95311427e-01,  4.13294665e-01, -9.02771710e-01,\n",
       "          7.14630989e-02],\n",
       "        [-1.11456586e-02,  1.32736176e-01, -3.76456449e-02,\n",
       "         -3.49920575e-02,  1.61195191e-01,  4.51528811e-02,\n",
       "         -2.38741105e-02, -6.07908482e-02, -5.15010638e-02,\n",
       "         -1.08803015e-01],\n",
       "        [ 8.36550559e-01, -7.17596001e-01, -7.24437236e-02,\n",
       "          8.67391275e-01, -1.26360667e-01, -2.18612696e-01,\n",
       "          6.20591127e-01, -9.27042580e-01, -4.62413536e-02,\n",
       "         -2.20686225e-01],\n",
       "        [ 6.18620115e-02, -3.04624416e-02,  9.24196254e-02,\n",
       "         -1.22591006e-01, -3.77893130e-01,  2.39079903e-01,\n",
       "         -9.70010838e-02,  2.65056726e-01,  4.48184166e-02,\n",
       "         -1.39955325e-02],\n",
       "        [ 1.20038930e-01, -3.23151054e-01,  1.22099569e+00,\n",
       "         -4.98831558e-01,  7.45370459e-01, -1.42922527e-01,\n",
       "          4.02706995e-01, -1.03335941e+00, -8.27056928e-01,\n",
       "          3.23638478e-01],\n",
       "        [-1.11968242e-01,  3.98943939e-01, -3.57425456e-01,\n",
       "         -6.16698334e-02,  7.12231556e-01,  9.75176465e-02,\n",
       "          3.21733060e-02,  5.30488438e-03, -1.01196277e-01,\n",
       "         -5.91840932e-01],\n",
       "        [ 4.31544769e-01,  9.85994031e-01, -6.29653117e-01,\n",
       "          6.90851759e-02, -7.26180762e-01,  8.32961496e-01,\n",
       "         -2.54665602e-01,  6.63803801e-02, -6.42754686e-01,\n",
       "         -1.14535951e-01],\n",
       "        [-4.06332758e-01, -3.21748213e-01,  4.69366062e-01,\n",
       "         -3.55739098e-01, -3.73560724e-02,  6.94727936e-01,\n",
       "          3.08489361e-01,  4.06000794e-01,  1.44892708e-01,\n",
       "         -8.97480440e-01],\n",
       "        [-2.75266303e-01,  4.99800271e-03, -2.87170943e-02,\n",
       "          4.77014327e-01,  2.63834299e-01, -4.48017542e-01,\n",
       "          3.63880448e-01,  5.24075083e-01,  1.30194285e-03,\n",
       "         -8.71425330e-01],\n",
       "        [ 5.13151740e-02,  7.95483822e-02,  2.02466245e-01,\n",
       "         -4.16184572e-02, -5.05918620e-02,  3.39833009e-02,\n",
       "         -1.10075627e-01, -3.35623055e-04, -1.24584731e-01,\n",
       "         -2.78487457e-02],\n",
       "        [-6.87406737e-01,  1.34957368e-01,  1.08334940e+00,\n",
       "          2.90452664e-01, -1.97965339e-01,  1.38619638e-02,\n",
       "         -5.46127501e-01,  7.87737981e-01,  3.03584233e-01,\n",
       "         -1.18536838e+00],\n",
       "        [-3.01154996e-01,  7.48861152e-01, -7.20270828e-01,\n",
       "         -9.01250293e-01, -7.43210943e-01,  1.27727811e+00,\n",
       "          3.24721264e-01,  1.87387265e-01, -1.69173800e-01,\n",
       "          2.77856408e-01],\n",
       "        [ 8.64837330e-02, -6.65059796e-01,  8.79426678e-01,\n",
       "          2.02934030e-01, -1.01621609e+00, -1.35707513e-01,\n",
       "          7.78971893e-01,  2.17871981e-01, -5.02235694e-01,\n",
       "          1.68764197e-01],\n",
       "        [-3.70456614e-02,  8.04998862e-02,  8.73867820e-02,\n",
       "         -2.05540349e-01,  8.35272172e-02,  2.20325368e-01,\n",
       "          1.38868612e-01,  2.54386701e-01, -2.30081367e-01,\n",
       "         -4.60728724e-01],\n",
       "        [-2.92688026e-01, -1.07430798e-01,  4.70666728e-01,\n",
       "          1.33703377e-01, -8.19017054e-01,  6.33637761e-01,\n",
       "          7.61747071e-01, -1.87973352e-01,  9.06172487e-02,\n",
       "         -6.92666064e-01],\n",
       "        [ 3.36874163e-01, -4.30435194e-02,  6.15551635e-01,\n",
       "         -2.59416019e-01,  5.96332531e-01, -7.31909899e-01,\n",
       "         -5.50555521e-01,  3.40360210e-01, -1.13101889e+00,\n",
       "          8.31705649e-01],\n",
       "        [ 4.45402579e-02,  3.16522600e-01, -4.08282380e-01,\n",
       "         -3.06768833e-01, -4.53635641e-01,  2.98520921e-01,\n",
       "          1.89825633e-01,  3.50453276e-01, -1.32742794e-01,\n",
       "          1.41984506e-01],\n",
       "        [-3.21009259e-01,  4.88527120e-01, -3.52552275e-01,\n",
       "         -1.29013147e+00,  8.31688386e-02,  3.49352823e-01,\n",
       "          6.10422457e-01, -3.99382517e-01,  4.04818757e-03,\n",
       "          8.40208355e-01],\n",
       "        [-1.75762139e-02,  3.47610395e-01, -3.50755916e-02,\n",
       "         -4.20614055e-01,  7.22081318e-01, -9.48577935e-01,\n",
       "          3.56208105e-01,  1.07429302e+00, -6.13755698e-01,\n",
       "         -4.40790065e-01],\n",
       "        [ 6.41960378e-02,  3.90760957e-01, -2.01061056e-01,\n",
       "         -3.82127831e-01,  1.56109722e-01,  1.29991586e-01,\n",
       "          5.09637768e-01,  1.40459339e-01, -7.51979779e-01,\n",
       "         -6.62953143e-02],\n",
       "        [-2.52205662e-02, -2.88398177e-01, -1.58312252e-01,\n",
       "         -8.75660271e-02, -1.84879025e-01,  1.25980816e-01,\n",
       "          1.08312433e-01, -2.33293238e-01,  1.22515741e-01,\n",
       "          6.48144215e-01],\n",
       "        [ 5.99090858e-01, -3.25462594e-01,  4.52412669e-02,\n",
       "          5.30573306e-01, -1.03093058e-01,  8.80245810e-02,\n",
       "          2.96672120e-01, -7.59214612e-01,  4.24398881e-01,\n",
       "         -7.90677378e-01],\n",
       "        [-2.49065565e-01, -4.01738880e-02, -2.28774781e-01,\n",
       "          2.96424940e-01, -4.48373409e-01,  9.22566958e-01,\n",
       "          5.95242724e-01,  3.41296227e-02, -7.99100143e-01,\n",
       "         -8.07673935e-02],\n",
       "        [ 4.97854718e-02,  2.34752968e-01, -2.38455548e-01,\n",
       "          1.99547240e-01, -6.66428407e-01,  4.21713751e-01,\n",
       "          3.20952892e-01, -1.01651818e+00,  5.92950633e-01,\n",
       "          7.85714899e-02],\n",
       "        [ 6.40363872e-01,  6.51285557e-01,  4.09292720e-01,\n",
       "          3.51361783e-01, -5.89497969e-01,  6.03250441e-01,\n",
       "         -6.45108075e-01, -4.12324452e-01, -8.75815680e-01,\n",
       "         -1.02705687e-01],\n",
       "        [ 5.68942090e-01, -4.29100205e-01, -3.57525360e-02,\n",
       "         -1.51066668e-01, -1.58076851e+00,  2.03518672e-01,\n",
       "          4.43117204e-01,  6.05271080e-01,  3.28631454e-01,\n",
       "          3.10311229e-02],\n",
       "        [ 5.49733798e-01, -3.84798023e-01, -3.99420451e-01,\n",
       "         -5.08683765e-02,  3.96328654e-01, -4.34719356e-01,\n",
       "         -5.41563041e-02,  2.83641299e-01,  1.03989247e-02,\n",
       "          3.61472903e-02],\n",
       "        [-5.76682291e-01,  9.38785682e-01, -1.76595953e-01,\n",
       "         -3.72089597e-02, -5.26117172e-01, -2.57794329e-01,\n",
       "          5.21617157e-01,  5.37838113e-02, -1.47960019e-01,\n",
       "          1.46463751e-01],\n",
       "        [ 9.42590280e-02, -4.81514599e-01, -4.18214219e-01,\n",
       "          1.43380444e-01,  1.80596039e-01, -2.34990496e-01,\n",
       "         -8.17138492e-01,  4.19900060e-01,  6.43117898e-01,\n",
       "          4.67321787e-01],\n",
       "        [ 4.85605459e-01, -2.93311511e-01, -3.55827800e-01,\n",
       "          6.18745532e-01, -6.71640929e-01,  2.72777479e-01,\n",
       "         -4.99983638e-01, -2.36930183e-01,  5.43833804e-01,\n",
       "          3.94626662e-02],\n",
       "        [-7.76154117e-01,  7.68132110e-01,  2.08502317e-01,\n",
       "          1.88739808e-01,  2.43806049e-01,  5.19189944e-01,\n",
       "         -4.85301415e-01,  8.54720836e-01, -4.05884551e-01,\n",
       "         -1.10358945e+00],\n",
       "        [-8.98808445e-01, -4.50718053e-01,  7.06833418e-01,\n",
       "          1.21381621e+00, -5.16315208e-01,  2.94190959e-02,\n",
       "         -9.97610995e-01,  2.36021020e-01,  3.73834166e-01,\n",
       "          3.27597058e-01],\n",
       "        [-5.96837052e-01, -1.05210662e-01,  5.03940275e-01,\n",
       "          3.73614227e-01, -2.07188531e-01,  4.67276894e-01,\n",
       "         -1.52605902e-01, -1.25543983e+00,  7.51261867e-01,\n",
       "          2.76254817e-01]]),\n",
       " 'b2': array([-0.32470326,  0.13978883, -0.15868531, -0.23468763,  0.42826409,\n",
       "         0.26285031, -0.09676724, -0.25752844,  0.24211826, -0.00064961])}"
      ]
     },
     "execution_count": 220,
     "metadata": {},
     "output_type": "execute_result"
    }
   ],
   "source": [
    "network.params"
   ]
  },
  {
   "cell_type": "code",
   "execution_count": 221,
   "metadata": {},
   "outputs": [
    {
     "data": {
      "image/png": "[encoded data removed]",
      "text/plain": [
       "<Figure size 640x480 with 1 Axes>"
      ]
     },
     "metadata": {},
     "output_type": "display_data"
    }
   ],
   "source": [
    "markers = {'train': 'o', 'test': 's'}\n",
    "x = np.arange(len(train_accs))\n",
    "plt.plot(x, train_accs, label='train acc')\n",
    "plt.plot(x, test_accs, label='test acc', linestyle='--')\n",
    "plt.xlabel(\"epochs\")\n",
    "plt.ylabel(\"accuracy\")\n",
    "plt.ylim(0, 1.0)\n",
    "plt.legend(loc='lower right')\n",
    "plt.show()"
   ]
  },
  {
   "cell_type": "markdown",
   "metadata": {},
   "source": [
    "#noticing a trend of smaller batch sizes = getting better guesses faster, definitely a trade off with performance"
   ]
  },
  {
   "cell_type": "code",
   "execution_count": 222,
   "metadata": {},
   "outputs": [],
   "source": [
    "network = TwoLayerNetWithBackProp(input_size=28*28, hidden_size=100, output_size=10)"
   ]
  },
  {
   "cell_type": "code",
   "execution_count": 223,
   "metadata": {},
   "outputs": [],
   "source": [
    "iterations = 10000\n",
    "train_size = x_train.shape[0]\n",
    "batch_size = 16\n",
    "lr = 0.01\n",
    "\n",
    "iter_per_ecoph = max(train_size/batch_size, 1)"
   ]
  },
  {
   "cell_type": "code",
   "execution_count": 224,
   "metadata": {},
   "outputs": [],
   "source": [
    "train_losses = []\n",
    "train_accs = []\n",
    "test_accs = []"
   ]
  },
  {
   "cell_type": "code",
   "execution_count": 225,
   "metadata": {},
   "outputs": [
    {
     "name": "stdout",
     "output_type": "stream",
     "text": [
      "train acc, test_acc : 0.11321666666666666, 0.1148\n",
      "train acc, test_acc : 0.8935166666666666, 0.8984\n",
      "train acc, test_acc : 0.9124333333333333, 0.9177\n"
     ]
    }
   ],
   "source": [
    "for i in range(iterations):\n",
    "    batch_mask = np.random.choice(train_size, batch_size)\n",
    "    x_batch = x_train[batch_mask]\n",
    "    y_batch = y_train[batch_mask]\n",
    "\n",
    "    grads = network.gradient(x_batch, y_batch)\n",
    "\n",
    "    for key in ('w1', 'b1', 'w2', 'b2'):\n",
    "        network.params[key] -= lr*grads[key]\n",
    "\n",
    "    ## this is for plotting losses over time\n",
    "    train_losses.append(network.loss(x_batch, y_batch))\n",
    "\n",
    "    if i%iter_per_ecoph == 0:\n",
    "        train_acc = network.accuracy(x_train, y_train)\n",
    "        train_accs.append(train_acc)\n",
    "        test_acc = network.accuracy(x_test, y_test)\n",
    "        test_accs.append(test_acc)\n",
    "        print(f'train acc, test_acc : {train_acc}, {test_acc}')"
   ]
  },
  {
   "cell_type": "code",
   "execution_count": 226,
   "metadata": {},
   "outputs": [
    {
     "data": {
      "image/png": "[encoded data removed]",
      "text/plain": [
       "<Figure size 640x480 with 1 Axes>"
      ]
     },
     "metadata": {},
     "output_type": "display_data"
    }
   ],
   "source": [
    "markers = {'train': 'o', 'test': 's'}\n",
    "x = np.arange(len(train_accs))\n",
    "plt.plot(x, train_accs, label='train acc')\n",
    "plt.plot(x, test_accs, label='test acc', linestyle='--')\n",
    "plt.xlabel(\"epochs\")\n",
    "plt.ylabel(\"accuracy\")\n",
    "plt.ylim(0, 1.0)\n",
    "plt.legend(loc='lower right')\n",
    "plt.show()"
   ]
  },
  {
   "cell_type": "markdown",
   "metadata": {},
   "source": [
    "#creating a weight pkl file"
   ]
  },
  {
   "cell_type": "code",
   "execution_count": 227,
   "metadata": {},
   "outputs": [],
   "source": [
    "import numpy as np\n",
    "import pickle\n",
    "\n",
    "my_weight_pkl_file = 'Moore_mnist_model.pkl'"
   ]
  },
  {
   "cell_type": "code",
   "execution_count": 228,
   "metadata": {},
   "outputs": [
    {
     "name": "stdout",
     "output_type": "stream",
     "text": [
      "Pickle: Moore_mnist_model.pkl is being created.\n",
      "Done.\n"
     ]
    }
   ],
   "source": [
    "with open(f'{my_weight_pkl_file}', 'wb') as f:\n",
    "    print(f'Pickle: {my_weight_pkl_file} is being created.')\n",
    "    pickle.dump(network.params, f)\n",
    "    print('Done.') "
   ]
  },
  {
   "cell_type": "code",
   "execution_count": 229,
   "metadata": {},
   "outputs": [],
   "source": [
    "network.params = None"
   ]
  },
  {
   "cell_type": "markdown",
   "metadata": {},
   "source": [
    "#Using your own TwoLayerNet model"
   ]
  },
  {
   "cell_type": "code",
   "execution_count": 230,
   "metadata": {},
   "outputs": [],
   "source": [
    "network = TwoLayerNetWithBackProp(input_size=28*28, hidden_size=100, output_size=10)"
   ]
  },
  {
   "cell_type": "code",
   "execution_count": 231,
   "metadata": {},
   "outputs": [],
   "source": [
    "with open(f'{my_weight_pkl_file}', 'rb') as f:\n",
    "    network.params = pickle.load(f)\n",
    "\n",
    "network.update_layers()"
   ]
  },
  {
   "cell_type": "code",
   "execution_count": 232,
   "metadata": {},
   "outputs": [],
   "source": [
    "from mnist import Mnist"
   ]
  },
  {
   "cell_type": "code",
   "execution_count": 233,
   "metadata": {},
   "outputs": [
    {
     "name": "stdout",
     "output_type": "stream",
     "text": [
      "File: train-images-idx3-ubyte.gz already exists.\n",
      "File: train-labels-idx1-ubyte.gz already exists.\n",
      "File: t10k-images-idx3-ubyte.gz already exists.\n",
      "File: t10k-labels-idx1-ubyte.gz already exists.\n",
      "Pickle: dataset/mnist.pkl already exists.\n",
      "loading....\n",
      "Done\n"
     ]
    }
   ],
   "source": [
    "mnist = Mnist()\n",
    "(_, _), (x_test, y_test) = mnist.load()"
   ]
  },
  {
   "cell_type": "code",
   "execution_count": 234,
   "metadata": {},
   "outputs": [],
   "source": [
    "import matplotlib.pyplot as plt"
   ]
  },
  {
   "cell_type": "code",
   "execution_count": 235,
   "metadata": {},
   "outputs": [],
   "source": [
    "y_hat = network.predict(x_test[0:100])"
   ]
  },
  {
   "cell_type": "markdown",
   "metadata": {},
   "source": [
    "#testing images by printing them"
   ]
  },
  {
   "cell_type": "code",
   "execution_count": 236,
   "metadata": {},
   "outputs": [
    {
     "data": {
      "text/plain": [
       "<matplotlib.image.AxesImage at 0x28782466f50>"
      ]
     },
     "execution_count": 236,
     "metadata": {},
     "output_type": "execute_result"
    },
    {
     "data": {
      "image/png": "[encoded data removed]",
      "text/plain": [
       "<Figure size 640x480 with 1 Axes>"
      ]
     },
     "metadata": {},
     "output_type": "display_data"
    }
   ],
   "source": [
    "plt.imshow(x_test[20].reshape(28,28))"
   ]
  },
  {
   "cell_type": "code",
   "execution_count": 237,
   "metadata": {},
   "outputs": [
    {
     "data": {
      "text/plain": [
       "array([-3.01131016, -6.69312448, -5.37874981,  1.3465978 ,  3.45104884,\n",
       "        0.84592079, -7.93615081,  7.44960656,  1.37205108,  8.63853081])"
      ]
     },
     "execution_count": 237,
     "metadata": {},
     "output_type": "execute_result"
    }
   ],
   "source": [
    "y_hat[20]"
   ]
  },
  {
   "cell_type": "markdown",
   "metadata": {},
   "source": [
    "#prediction"
   ]
  },
  {
   "cell_type": "code",
   "execution_count": 238,
   "metadata": {},
   "outputs": [
    {
     "data": {
      "text/plain": [
       "9"
      ]
     },
     "execution_count": 238,
     "metadata": {},
     "output_type": "execute_result"
    }
   ],
   "source": [
    "np.argmax(y_hat[20])"
   ]
  },
  {
   "cell_type": "markdown",
   "metadata": {},
   "source": [
    "#label"
   ]
  },
  {
   "cell_type": "code",
   "execution_count": 239,
   "metadata": {},
   "outputs": [
    {
     "data": {
      "text/plain": [
       "9"
      ]
     },
     "execution_count": 239,
     "metadata": {},
     "output_type": "execute_result"
    }
   ],
   "source": [
    "np.argmax(y_test[20])"
   ]
  },
  {
   "cell_type": "code",
   "execution_count": 240,
   "metadata": {},
   "outputs": [],
   "source": [
    "from PIL import Image"
   ]
  },
  {
   "cell_type": "markdown",
   "metadata": {},
   "source": [
    "#Testing handwritten numbers"
   ]
  },
  {
   "cell_type": "code",
   "execution_count": 241,
   "metadata": {},
   "outputs": [],
   "source": [
    "img = Image.open(\"Custom MNIST Sample/Digit 9/9_4.png\").convert('L')\n",
    "img = img.resize((28,28))\n",
    "img = np.array(img)\n",
    "img = 255.0 - img\n",
    "img = (img - np.min(img))*(255/(np.max(img)-np.min(img)))\n",
    "img = img.astype(np.float32)/255\n",
    "img = img.flatten()"
   ]
  },
  {
   "cell_type": "code",
   "execution_count": 242,
   "metadata": {},
   "outputs": [
    {
     "data": {
      "text/plain": [
       "<matplotlib.image.AxesImage at 0x287ff4b8c70>"
      ]
     },
     "execution_count": 242,
     "metadata": {},
     "output_type": "execute_result"
    },
    {
     "data": {
      "image/png": "[encoded data removed]",
      "text/plain": [
       "<Figure size 640x480 with 1 Axes>"
      ]
     },
     "metadata": {},
     "output_type": "display_data"
    }
   ],
   "source": [
    "plt.imshow(img.reshape(28,28))"
   ]
  },
  {
   "cell_type": "markdown",
   "metadata": {},
   "source": [
    "#creating array of images "
   ]
  },
  {
   "cell_type": "code",
   "execution_count": 243,
   "metadata": {},
   "outputs": [
    {
     "name": "stdout",
     "output_type": "stream",
     "text": [
      "Processing file: 0_0.png\n",
      "Processing file: 0_1.png\n",
      "Processing file: 0_2.png\n",
      "Processing file: 0_3.png\n",
      "Processing file: 0_4.png\n",
      "Processing file: 1_0.png\n",
      "Processing file: 1_1.png\n",
      "Processing file: 1_2.png\n",
      "Processing file: 1_3.png\n",
      "Processing file: 1_4.png\n",
      "Processing file: 2_0.png\n",
      "Processing file: 2_1.png\n",
      "Processing file: 2_2.png\n",
      "Processing file: 2_3.png\n",
      "Processing file: 2_4.png\n",
      "Processing file: 3_0.png\n",
      "Processing file: 3_1.png\n",
      "Processing file: 3_2.png\n",
      "Processing file: 3_3.png\n",
      "Processing file: 3_4.png\n",
      "Processing file: 4_0.png\n",
      "Processing file: 4_1.png\n",
      "Processing file: 4_2.png\n",
      "Processing file: 4_3.png\n",
      "Processing file: 4_4.png\n",
      "Processing file: 5_0.png\n",
      "Processing file: 5_1.png\n",
      "Processing file: 5_2.png\n",
      "Processing file: 5_3.png\n",
      "Processing file: 5_4.png\n",
      "Processing file: 6_0.png\n",
      "Processing file: 6_1.png\n",
      "Processing file: 6_2.png\n",
      "Processing file: 6_3.png\n",
      "Processing file: 6_4.png\n",
      "Processing file: 7_0.png\n",
      "Processing file: 7_1.png\n",
      "Processing file: 7_2.png\n",
      "Processing file: 7_3.png\n",
      "Processing file: 7_4.png\n",
      "Processing file: 8_0.png\n",
      "Processing file: 8_1.png\n",
      "Processing file: 8_2.png\n",
      "Processing file: 8_3.png\n",
      "Processing file: 8_4.png\n",
      "Processing file: 9_0.png\n",
      "Processing file: 9_1.png\n",
      "Processing file: 9_2.png\n",
      "Processing file: 9_3.png\n",
      "Processing file: 9_4.png\n",
      "Processed 50 images.\n"
     ]
    },
    {
     "data": {
      "image/png": "[encoded data removed]",
      "text/plain": [
       "<Figure size 640x480 with 1 Axes>"
      ]
     },
     "metadata": {},
     "output_type": "display_data"
    },
    {
     "name": "stdout",
     "output_type": "stream",
     "text": [
      "Shape of image_numpy: (50, 784)\n",
      "First image (flattened): [0.17567568 0.17567568 0.16216217 0.1891892  0.14864865 0.14864865\n",
      " 0.16216217 0.14864865 0.17567568 0.1891892  0.21621622 0.22972973\n",
      " 0.21621622 0.2027027  0.2027027  0.22972973 0.22972973 0.21621622\n",
      " 0.2027027  0.1891892  0.1891892  0.2027027  0.22972973 0.24324325\n",
      " 0.24324325 0.22972973 0.22972973 0.22972973 0.16216217 0.16216217\n",
      " 0.16216217 0.16216217 0.14864865 0.14864865 0.14864865 0.14864865\n",
      " 0.17567568 0.2027027  0.2027027  0.21621622 0.1891892  0.1891892\n",
      " 0.21621622 0.25675678 0.22972973 0.2027027  0.2027027  0.2027027\n",
      " 0.2027027  0.2027027  0.2027027  0.21621622 0.21621622 0.21621622\n",
      " 0.22972973 0.21621622 0.13513514 0.14864865 0.16216217 0.16216217\n",
      " 0.17567568 0.17567568 0.16216217 0.16216217 0.1891892  0.21621622\n",
      " 0.21621622 0.2027027  0.17567568 0.1891892  0.1891892  0.21621622\n",
      " 0.2027027  0.2027027  0.21621622 0.21621622 0.2027027  0.2027027\n",
      " 0.21621622 0.1891892  0.17567568 0.16216217 0.1891892  0.2027027\n",
      " 0.14864865 0.13513514 0.13513514 0.16216217 0.1891892  0.1891892\n",
      " 0.17567568 0.17567568 0.2027027  0.22972973 0.21621622 0.1891892\n",
      " 0.1891892  0.2027027  0.22972973 0.2027027  0.1891892  0.2027027\n",
      " 0.21621622 0.2027027  0.21621622 0.21621622 0.1891892  0.16216217\n",
      " 0.17567568 0.2027027  0.2027027  0.1891892  0.14864865 0.13513514\n",
      " 0.16216217 0.1891892  0.1891892  0.1891892  0.1891892  0.2027027\n",
      " 0.21621622 0.2027027  0.2027027  0.21621622 0.2027027  0.2027027\n",
      " 0.1891892  0.17567568 0.17567568 0.17567568 0.2027027  0.1891892\n",
      " 0.17567568 0.16216217 0.16216217 0.16216217 0.1891892  0.1891892\n",
      " 0.21621622 0.2027027  0.12162162 0.16216217 0.17567568 0.16216217\n",
      " 0.16216217 0.17567568 0.16216217 0.17567568 0.1891892  0.17567568\n",
      " 0.17567568 0.2027027  0.14864865 0.14864865 0.13513514 0.10810811\n",
      " 0.10810811 0.13513514 0.17567568 0.17567568 0.14864865 0.14864865\n",
      " 0.14864865 0.16216217 0.17567568 0.17567568 0.17567568 0.2027027\n",
      " 0.13513514 0.12162162 0.14864865 0.14864865 0.16216217 0.16216217\n",
      " 0.16216217 0.16216217 0.14864865 0.14864865 0.12162162 0.16216217\n",
      " 0.31081083 0.1891892  0.24324325 0.45945945 0.5675676  0.5405406\n",
      " 0.2972973  0.10810811 0.14864865 0.16216217 0.16216217 0.16216217\n",
      " 0.16216217 0.1891892  0.2027027  0.2027027  0.12162162 0.13513514\n",
      " 0.13513514 0.14864865 0.14864865 0.16216217 0.16216217 0.16216217\n",
      " 0.13513514 0.08108108 0.33783785 0.554054   0.7972973  1.\n",
      " 0.7837838  0.6351351  0.527027   0.527027   0.7432432  0.62162167\n",
      " 0.1891892  0.13513514 0.16216217 0.16216217 0.16216217 0.1891892\n",
      " 0.1891892  0.1891892  0.12162162 0.13513514 0.14864865 0.14864865\n",
      " 0.14864865 0.13513514 0.14864865 0.12162162 0.08108108 0.5405406\n",
      " 0.527027   0.5405406  0.7972973  0.43243244 0.17567568 0.1891892\n",
      " 0.17567568 0.12162162 0.10810811 0.3783784  0.8648649  0.24324325\n",
      " 0.16216217 0.16216217 0.16216217 0.17567568 0.1891892  0.1891892\n",
      " 0.12162162 0.13513514 0.13513514 0.13513514 0.13513514 0.12162162\n",
      " 0.10810811 0.06756757 0.5        0.5945946  0.12162162 0.5405406\n",
      " 0.1891892  0.13513514 0.16216217 0.14864865 0.14864865 0.16216217\n",
      " 0.14864865 0.0945946  0.3783784  0.8243243  0.16216217 0.16216217\n",
      " 0.16216217 0.17567568 0.2027027  0.2027027  0.13513514 0.10810811\n",
      " 0.10810811 0.0945946  0.0945946  0.10810811 0.08108108 0.35135135\n",
      " 0.6891892  0.12162162 0.14864865 0.13513514 0.16216217 0.16216217\n",
      " 0.14864865 0.13513514 0.14864865 0.16216217 0.14864865 0.16216217\n",
      " 0.10810811 0.7432432  0.32432434 0.16216217 0.17567568 0.17567568\n",
      " 0.17567568 0.1891892  0.12162162 0.08108108 0.06756757 0.08108108\n",
      " 0.0945946  0.0945946  0.10810811 0.7027027  0.1891892  0.10810811\n",
      " 0.13513514 0.14864865 0.14864865 0.14864865 0.13513514 0.14864865\n",
      " 0.16216217 0.14864865 0.14864865 0.16216217 0.10810811 0.5810811\n",
      " 0.35135135 0.14864865 0.17567568 0.16216217 0.16216217 0.16216217\n",
      " 0.13513514 0.12162162 0.0945946  0.08108108 0.0945946  0.06756757\n",
      " 0.2702703  0.6621621  0.08108108 0.12162162 0.12162162 0.10810811\n",
      " 0.12162162 0.13513514 0.12162162 0.13513514 0.16216217 0.14864865\n",
      " 0.10810811 0.12162162 0.08108108 0.6891892  0.2027027  0.16216217\n",
      " 0.1891892  0.17567568 0.1891892  0.1891892  0.10810811 0.12162162\n",
      " 0.13513514 0.12162162 0.10810811 0.06756757 0.43243244 0.44594595\n",
      " 0.10810811 0.13513514 0.12162162 0.12162162 0.12162162 0.12162162\n",
      " 0.12162162 0.10810811 0.13513514 0.12162162 0.12162162 0.0945946\n",
      " 0.3648649  0.7837838  0.12162162 0.17567568 0.1891892  0.16216217\n",
      " 0.21621622 0.21621622 0.0945946  0.10810811 0.13513514 0.10810811\n",
      " 0.10810811 0.08108108 0.44594595 0.33783785 0.08108108 0.10810811\n",
      " 0.10810811 0.12162162 0.12162162 0.10810811 0.08108108 0.08108108\n",
      " 0.10810811 0.12162162 0.12162162 0.08108108 0.7297298  0.2837838\n",
      " 0.13513514 0.16216217 0.14864865 0.14864865 0.2027027  0.22972973\n",
      " 0.08108108 0.06756757 0.0945946  0.0945946  0.0945946  0.05405406\n",
      " 0.3783784  0.4054054  0.06756757 0.10810811 0.10810811 0.10810811\n",
      " 0.10810811 0.12162162 0.0945946  0.08108108 0.0945946  0.13513514\n",
      " 0.06756757 0.43243244 0.5675676  0.0945946  0.13513514 0.13513514\n",
      " 0.14864865 0.17567568 0.2027027  0.2027027  0.06756757 0.0945946\n",
      " 0.10810811 0.0945946  0.0945946  0.05405406 0.22972973 0.5810811\n",
      " 0.04054054 0.08108108 0.08108108 0.08108108 0.0945946  0.0945946\n",
      " 0.0945946  0.06756757 0.06756757 0.05405406 0.2972973  0.7702702\n",
      " 0.13513514 0.12162162 0.13513514 0.13513514 0.14864865 0.16216217\n",
      " 0.1891892  0.2027027  0.05405406 0.0945946  0.10810811 0.06756757\n",
      " 0.06756757 0.0945946  0.06756757 0.6351351  0.32432434 0.02702703\n",
      " 0.08108108 0.08108108 0.08108108 0.0945946  0.08108108 0.04054054\n",
      " 0.         0.35135135 0.7162162  0.17567568 0.12162162 0.13513514\n",
      " 0.13513514 0.13513514 0.13513514 0.12162162 0.14864865 0.1891892\n",
      " 0.06756757 0.08108108 0.08108108 0.05405406 0.05405406 0.0945946\n",
      " 0.10810811 0.10810811 0.7567568  0.44594595 0.08108108 0.02702703\n",
      " 0.04054054 0.05405406 0.04054054 0.2027027  0.6351351  0.5945946\n",
      " 0.0945946  0.10810811 0.13513514 0.16216217 0.14864865 0.14864865\n",
      " 0.13513514 0.12162162 0.16216217 0.17567568 0.06756757 0.08108108\n",
      " 0.08108108 0.05405406 0.06756757 0.08108108 0.08108108 0.06756757\n",
      " 0.08108108 0.5405406  0.7297298  0.5810811  0.472973   0.51351357\n",
      " 0.6621621  0.6351351  0.31081083 0.06756757 0.08108108 0.10810811\n",
      " 0.13513514 0.16216217 0.16216217 0.16216217 0.16216217 0.13513514\n",
      " 0.16216217 0.17567568 0.05405406 0.06756757 0.06756757 0.08108108\n",
      " 0.08108108 0.0945946  0.08108108 0.08108108 0.08108108 0.05405406\n",
      " 0.0945946  0.25675678 0.3648649  0.31081083 0.14864865 0.06756757\n",
      " 0.06756757 0.10810811 0.10810811 0.10810811 0.12162162 0.13513514\n",
      " 0.13513514 0.13513514 0.13513514 0.13513514 0.12162162 0.12162162\n",
      " 0.05405406 0.06756757 0.0945946  0.0945946  0.06756757 0.0945946\n",
      " 0.0945946  0.06756757 0.06756757 0.06756757 0.08108108 0.0945946\n",
      " 0.0945946  0.08108108 0.08108108 0.08108108 0.0945946  0.12162162\n",
      " 0.12162162 0.12162162 0.12162162 0.13513514 0.13513514 0.10810811\n",
      " 0.08108108 0.10810811 0.12162162 0.13513514 0.05405406 0.05405406\n",
      " 0.10810811 0.08108108 0.05405406 0.06756757 0.08108108 0.0945946\n",
      " 0.08108108 0.08108108 0.0945946  0.12162162 0.10810811 0.08108108\n",
      " 0.08108108 0.08108108 0.08108108 0.0945946  0.12162162 0.12162162\n",
      " 0.12162162 0.14864865 0.13513514 0.13513514 0.10810811 0.13513514\n",
      " 0.13513514 0.16216217 0.02702703 0.02702703 0.05405406 0.05405406\n",
      " 0.04054054 0.05405406 0.05405406 0.06756757 0.08108108 0.0945946\n",
      " 0.0945946  0.08108108 0.08108108 0.08108108 0.06756757 0.08108108\n",
      " 0.08108108 0.06756757 0.08108108 0.0945946  0.0945946  0.12162162\n",
      " 0.14864865 0.13513514 0.14864865 0.16216217 0.16216217 0.14864865\n",
      " 0.04054054 0.04054054 0.05405406 0.05405406 0.05405406 0.05405406\n",
      " 0.05405406 0.06756757 0.0945946  0.06756757 0.05405406 0.06756757\n",
      " 0.08108108 0.08108108 0.08108108 0.08108108 0.08108108 0.08108108\n",
      " 0.08108108 0.08108108 0.0945946  0.10810811 0.10810811 0.12162162\n",
      " 0.12162162 0.10810811 0.14864865 0.12162162 0.02702703 0.01351351\n",
      " 0.02702703 0.05405406 0.05405406 0.05405406 0.06756757 0.06756757\n",
      " 0.06756757 0.05405406 0.05405406 0.08108108 0.08108108 0.06756757\n",
      " 0.06756757 0.06756757 0.08108108 0.0945946  0.0945946  0.0945946\n",
      " 0.0945946  0.08108108 0.06756757 0.08108108 0.0945946  0.08108108\n",
      " 0.12162162 0.10810811 0.01351351 0.01351351 0.04054054 0.05405406\n",
      " 0.06756757 0.08108108 0.06756757 0.05405406 0.05405406 0.05405406\n",
      " 0.06756757 0.06756757 0.06756757 0.06756757 0.06756757 0.05405406\n",
      " 0.08108108 0.08108108 0.0945946  0.08108108 0.08108108 0.06756757\n",
      " 0.06756757 0.06756757 0.08108108 0.08108108 0.08108108 0.10810811\n",
      " 0.         0.04054054 0.04054054 0.05405406 0.08108108 0.10810811\n",
      " 0.05405406 0.04054054 0.05405406 0.05405406 0.05405406 0.06756757\n",
      " 0.06756757 0.06756757 0.06756757 0.06756757 0.08108108 0.06756757\n",
      " 0.05405406 0.06756757 0.08108108 0.08108108 0.06756757 0.06756757\n",
      " 0.08108108 0.08108108 0.08108108 0.10810811]\n",
      "First image reshaped (28x28):\n",
      " [[0.17567568 0.17567568 0.16216217 0.1891892  0.14864865 0.14864865\n",
      "  0.16216217 0.14864865 0.17567568 0.1891892  0.21621622 0.22972973\n",
      "  0.21621622 0.2027027  0.2027027  0.22972973 0.22972973 0.21621622\n",
      "  0.2027027  0.1891892  0.1891892  0.2027027  0.22972973 0.24324325\n",
      "  0.24324325 0.22972973 0.22972973 0.22972973]\n",
      " [0.16216217 0.16216217 0.16216217 0.16216217 0.14864865 0.14864865\n",
      "  0.14864865 0.14864865 0.17567568 0.2027027  0.2027027  0.21621622\n",
      "  0.1891892  0.1891892  0.21621622 0.25675678 0.22972973 0.2027027\n",
      "  0.2027027  0.2027027  0.2027027  0.2027027  0.2027027  0.21621622\n",
      "  0.21621622 0.21621622 0.22972973 0.21621622]\n",
      " [0.13513514 0.14864865 0.16216217 0.16216217 0.17567568 0.17567568\n",
      "  0.16216217 0.16216217 0.1891892  0.21621622 0.21621622 0.2027027\n",
      "  0.17567568 0.1891892  0.1891892  0.21621622 0.2027027  0.2027027\n",
      "  0.21621622 0.21621622 0.2027027  0.2027027  0.21621622 0.1891892\n",
      "  0.17567568 0.16216217 0.1891892  0.2027027 ]\n",
      " [0.14864865 0.13513514 0.13513514 0.16216217 0.1891892  0.1891892\n",
      "  0.17567568 0.17567568 0.2027027  0.22972973 0.21621622 0.1891892\n",
      "  0.1891892  0.2027027  0.22972973 0.2027027  0.1891892  0.2027027\n",
      "  0.21621622 0.2027027  0.21621622 0.21621622 0.1891892  0.16216217\n",
      "  0.17567568 0.2027027  0.2027027  0.1891892 ]\n",
      " [0.14864865 0.13513514 0.16216217 0.1891892  0.1891892  0.1891892\n",
      "  0.1891892  0.2027027  0.21621622 0.2027027  0.2027027  0.21621622\n",
      "  0.2027027  0.2027027  0.1891892  0.17567568 0.17567568 0.17567568\n",
      "  0.2027027  0.1891892  0.17567568 0.16216217 0.16216217 0.16216217\n",
      "  0.1891892  0.1891892  0.21621622 0.2027027 ]\n",
      " [0.12162162 0.16216217 0.17567568 0.16216217 0.16216217 0.17567568\n",
      "  0.16216217 0.17567568 0.1891892  0.17567568 0.17567568 0.2027027\n",
      "  0.14864865 0.14864865 0.13513514 0.10810811 0.10810811 0.13513514\n",
      "  0.17567568 0.17567568 0.14864865 0.14864865 0.14864865 0.16216217\n",
      "  0.17567568 0.17567568 0.17567568 0.2027027 ]\n",
      " [0.13513514 0.12162162 0.14864865 0.14864865 0.16216217 0.16216217\n",
      "  0.16216217 0.16216217 0.14864865 0.14864865 0.12162162 0.16216217\n",
      "  0.31081083 0.1891892  0.24324325 0.45945945 0.5675676  0.5405406\n",
      "  0.2972973  0.10810811 0.14864865 0.16216217 0.16216217 0.16216217\n",
      "  0.16216217 0.1891892  0.2027027  0.2027027 ]\n",
      " [0.12162162 0.13513514 0.13513514 0.14864865 0.14864865 0.16216217\n",
      "  0.16216217 0.16216217 0.13513514 0.08108108 0.33783785 0.554054\n",
      "  0.7972973  1.         0.7837838  0.6351351  0.527027   0.527027\n",
      "  0.7432432  0.62162167 0.1891892  0.13513514 0.16216217 0.16216217\n",
      "  0.16216217 0.1891892  0.1891892  0.1891892 ]\n",
      " [0.12162162 0.13513514 0.14864865 0.14864865 0.14864865 0.13513514\n",
      "  0.14864865 0.12162162 0.08108108 0.5405406  0.527027   0.5405406\n",
      "  0.7972973  0.43243244 0.17567568 0.1891892  0.17567568 0.12162162\n",
      "  0.10810811 0.3783784  0.8648649  0.24324325 0.16216217 0.16216217\n",
      "  0.16216217 0.17567568 0.1891892  0.1891892 ]\n",
      " [0.12162162 0.13513514 0.13513514 0.13513514 0.13513514 0.12162162\n",
      "  0.10810811 0.06756757 0.5        0.5945946  0.12162162 0.5405406\n",
      "  0.1891892  0.13513514 0.16216217 0.14864865 0.14864865 0.16216217\n",
      "  0.14864865 0.0945946  0.3783784  0.8243243  0.16216217 0.16216217\n",
      "  0.16216217 0.17567568 0.2027027  0.2027027 ]\n",
      " [0.13513514 0.10810811 0.10810811 0.0945946  0.0945946  0.10810811\n",
      "  0.08108108 0.35135135 0.6891892  0.12162162 0.14864865 0.13513514\n",
      "  0.16216217 0.16216217 0.14864865 0.13513514 0.14864865 0.16216217\n",
      "  0.14864865 0.16216217 0.10810811 0.7432432  0.32432434 0.16216217\n",
      "  0.17567568 0.17567568 0.17567568 0.1891892 ]\n",
      " [0.12162162 0.08108108 0.06756757 0.08108108 0.0945946  0.0945946\n",
      "  0.10810811 0.7027027  0.1891892  0.10810811 0.13513514 0.14864865\n",
      "  0.14864865 0.14864865 0.13513514 0.14864865 0.16216217 0.14864865\n",
      "  0.14864865 0.16216217 0.10810811 0.5810811  0.35135135 0.14864865\n",
      "  0.17567568 0.16216217 0.16216217 0.16216217]\n",
      " [0.13513514 0.12162162 0.0945946  0.08108108 0.0945946  0.06756757\n",
      "  0.2702703  0.6621621  0.08108108 0.12162162 0.12162162 0.10810811\n",
      "  0.12162162 0.13513514 0.12162162 0.13513514 0.16216217 0.14864865\n",
      "  0.10810811 0.12162162 0.08108108 0.6891892  0.2027027  0.16216217\n",
      "  0.1891892  0.17567568 0.1891892  0.1891892 ]\n",
      " [0.10810811 0.12162162 0.13513514 0.12162162 0.10810811 0.06756757\n",
      "  0.43243244 0.44594595 0.10810811 0.13513514 0.12162162 0.12162162\n",
      "  0.12162162 0.12162162 0.12162162 0.10810811 0.13513514 0.12162162\n",
      "  0.12162162 0.0945946  0.3648649  0.7837838  0.12162162 0.17567568\n",
      "  0.1891892  0.16216217 0.21621622 0.21621622]\n",
      " [0.0945946  0.10810811 0.13513514 0.10810811 0.10810811 0.08108108\n",
      "  0.44594595 0.33783785 0.08108108 0.10810811 0.10810811 0.12162162\n",
      "  0.12162162 0.10810811 0.08108108 0.08108108 0.10810811 0.12162162\n",
      "  0.12162162 0.08108108 0.7297298  0.2837838  0.13513514 0.16216217\n",
      "  0.14864865 0.14864865 0.2027027  0.22972973]\n",
      " [0.08108108 0.06756757 0.0945946  0.0945946  0.0945946  0.05405406\n",
      "  0.3783784  0.4054054  0.06756757 0.10810811 0.10810811 0.10810811\n",
      "  0.10810811 0.12162162 0.0945946  0.08108108 0.0945946  0.13513514\n",
      "  0.06756757 0.43243244 0.5675676  0.0945946  0.13513514 0.13513514\n",
      "  0.14864865 0.17567568 0.2027027  0.2027027 ]\n",
      " [0.06756757 0.0945946  0.10810811 0.0945946  0.0945946  0.05405406\n",
      "  0.22972973 0.5810811  0.04054054 0.08108108 0.08108108 0.08108108\n",
      "  0.0945946  0.0945946  0.0945946  0.06756757 0.06756757 0.05405406\n",
      "  0.2972973  0.7702702  0.13513514 0.12162162 0.13513514 0.13513514\n",
      "  0.14864865 0.16216217 0.1891892  0.2027027 ]\n",
      " [0.05405406 0.0945946  0.10810811 0.06756757 0.06756757 0.0945946\n",
      "  0.06756757 0.6351351  0.32432434 0.02702703 0.08108108 0.08108108\n",
      "  0.08108108 0.0945946  0.08108108 0.04054054 0.         0.35135135\n",
      "  0.7162162  0.17567568 0.12162162 0.13513514 0.13513514 0.13513514\n",
      "  0.13513514 0.12162162 0.14864865 0.1891892 ]\n",
      " [0.06756757 0.08108108 0.08108108 0.05405406 0.05405406 0.0945946\n",
      "  0.10810811 0.10810811 0.7567568  0.44594595 0.08108108 0.02702703\n",
      "  0.04054054 0.05405406 0.04054054 0.2027027  0.6351351  0.5945946\n",
      "  0.0945946  0.10810811 0.13513514 0.16216217 0.14864865 0.14864865\n",
      "  0.13513514 0.12162162 0.16216217 0.17567568]\n",
      " [0.06756757 0.08108108 0.08108108 0.05405406 0.06756757 0.08108108\n",
      "  0.08108108 0.06756757 0.08108108 0.5405406  0.7297298  0.5810811\n",
      "  0.472973   0.51351357 0.6621621  0.6351351  0.31081083 0.06756757\n",
      "  0.08108108 0.10810811 0.13513514 0.16216217 0.16216217 0.16216217\n",
      "  0.16216217 0.13513514 0.16216217 0.17567568]\n",
      " [0.05405406 0.06756757 0.06756757 0.08108108 0.08108108 0.0945946\n",
      "  0.08108108 0.08108108 0.08108108 0.05405406 0.0945946  0.25675678\n",
      "  0.3648649  0.31081083 0.14864865 0.06756757 0.06756757 0.10810811\n",
      "  0.10810811 0.10810811 0.12162162 0.13513514 0.13513514 0.13513514\n",
      "  0.13513514 0.13513514 0.12162162 0.12162162]\n",
      " [0.05405406 0.06756757 0.0945946  0.0945946  0.06756757 0.0945946\n",
      "  0.0945946  0.06756757 0.06756757 0.06756757 0.08108108 0.0945946\n",
      "  0.0945946  0.08108108 0.08108108 0.08108108 0.0945946  0.12162162\n",
      "  0.12162162 0.12162162 0.12162162 0.13513514 0.13513514 0.10810811\n",
      "  0.08108108 0.10810811 0.12162162 0.13513514]\n",
      " [0.05405406 0.05405406 0.10810811 0.08108108 0.05405406 0.06756757\n",
      "  0.08108108 0.0945946  0.08108108 0.08108108 0.0945946  0.12162162\n",
      "  0.10810811 0.08108108 0.08108108 0.08108108 0.08108108 0.0945946\n",
      "  0.12162162 0.12162162 0.12162162 0.14864865 0.13513514 0.13513514\n",
      "  0.10810811 0.13513514 0.13513514 0.16216217]\n",
      " [0.02702703 0.02702703 0.05405406 0.05405406 0.04054054 0.05405406\n",
      "  0.05405406 0.06756757 0.08108108 0.0945946  0.0945946  0.08108108\n",
      "  0.08108108 0.08108108 0.06756757 0.08108108 0.08108108 0.06756757\n",
      "  0.08108108 0.0945946  0.0945946  0.12162162 0.14864865 0.13513514\n",
      "  0.14864865 0.16216217 0.16216217 0.14864865]\n",
      " [0.04054054 0.04054054 0.05405406 0.05405406 0.05405406 0.05405406\n",
      "  0.05405406 0.06756757 0.0945946  0.06756757 0.05405406 0.06756757\n",
      "  0.08108108 0.08108108 0.08108108 0.08108108 0.08108108 0.08108108\n",
      "  0.08108108 0.08108108 0.0945946  0.10810811 0.10810811 0.12162162\n",
      "  0.12162162 0.10810811 0.14864865 0.12162162]\n",
      " [0.02702703 0.01351351 0.02702703 0.05405406 0.05405406 0.05405406\n",
      "  0.06756757 0.06756757 0.06756757 0.05405406 0.05405406 0.08108108\n",
      "  0.08108108 0.06756757 0.06756757 0.06756757 0.08108108 0.0945946\n",
      "  0.0945946  0.0945946  0.0945946  0.08108108 0.06756757 0.08108108\n",
      "  0.0945946  0.08108108 0.12162162 0.10810811]\n",
      " [0.01351351 0.01351351 0.04054054 0.05405406 0.06756757 0.08108108\n",
      "  0.06756757 0.05405406 0.05405406 0.05405406 0.06756757 0.06756757\n",
      "  0.06756757 0.06756757 0.06756757 0.05405406 0.08108108 0.08108108\n",
      "  0.0945946  0.08108108 0.08108108 0.06756757 0.06756757 0.06756757\n",
      "  0.08108108 0.08108108 0.08108108 0.10810811]\n",
      " [0.         0.04054054 0.04054054 0.05405406 0.08108108 0.10810811\n",
      "  0.05405406 0.04054054 0.05405406 0.05405406 0.05405406 0.06756757\n",
      "  0.06756757 0.06756757 0.06756757 0.06756757 0.08108108 0.06756757\n",
      "  0.05405406 0.06756757 0.08108108 0.08108108 0.06756757 0.06756757\n",
      "  0.08108108 0.08108108 0.08108108 0.10810811]]\n"
     ]
    }
   ],
   "source": [
    "import os\n",
    "import numpy as np\n",
    "import matplotlib.pyplot as plt\n",
    "from PIL import Image\n",
    "\n",
    "def increase_contrast(image):\n",
    "    \"\"\"Increase contrast using contrast stretching.\"\"\"\n",
    "    # Find the minimum and maximum pixel values in the image\n",
    "    min_pixel = np.min(image)\n",
    "    max_pixel = np.max(image)\n",
    "    \n",
    "    # Apply contrast stretching (stretching pixel values to full [0, 255] range)\n",
    "    contrast_image = (image - min_pixel) * (255.0 / (max_pixel - min_pixel))\n",
    "    \n",
    "    # Clip values to ensure they remain within the valid range [0, 255]\n",
    "    contrast_image = np.clip(contrast_image, 0, 255)\n",
    "    \n",
    "    return contrast_image\n",
    "\n",
    "def load_images_from_subfolders(image_folder, target_size=(28, 28)):\n",
    "    # List to hold all image arrays\n",
    "    image_arrays = []\n",
    "\n",
    "    # Loop through the folders and files recursively\n",
    "    for subdir, _, files in os.walk(image_folder):\n",
    "        for filename in files:\n",
    "            # Only process files that end with '.PNG' (case-sensitive)\n",
    "            if filename.endswith('.png'):\n",
    "                print(f\"Processing file: {filename}\")  # Debugging line\n",
    "                # Create the full path to the image file\n",
    "                image_path = os.path.join(subdir, filename)\n",
    "\n",
    "                try:\n",
    "                    # Open the image using PIL and convert it to grayscale ('L' mode)\n",
    "                    image = Image.open(image_path).convert('L')  # Convert to grayscale\n",
    "\n",
    "                    # Resize the image to the target size (e.g., 28x28)\n",
    "                    image = image.resize(target_size)\n",
    "\n",
    "                    # Convert the resized image to a numpy array\n",
    "                    image = np.array(image)\n",
    "\n",
    "                    # Invert the image colors (255 - pixel value)\n",
    "                    image = 255.0 - image\n",
    "\n",
    "                    # Increase the contrast of the image\n",
    "                    image = increase_contrast(image)\n",
    "\n",
    "                    # Normalize the image to range [0, 255]\n",
    "                    image = (image - np.min(image)) * (255 / (np.max(image) - np.min(image)))\n",
    "\n",
    "                    # Convert to float32 and scale the values to [0, 1]\n",
    "                    image = image.astype(np.float32) / 255.0\n",
    "\n",
    "                    # Flatten the image\n",
    "                    image = image.flatten()\n",
    "\n",
    "                    # Append the processed image to the list\n",
    "                    image_arrays.append(image)\n",
    "                except Exception as e:\n",
    "                    print(f\"Failed to process {filename}: {e}\")  # Print any error\n",
    "\n",
    "    # Convert the list of image arrays into a single NumPy array (shape: num_images, flattened_pixels)\n",
    "    if len(image_arrays) == 0:\n",
    "        print(\"No images were processed.\")\n",
    "    else:\n",
    "        print(f\"Processed {len(image_arrays)} images.\")\n",
    "\n",
    "    images_numpy = np.array(image_arrays)\n",
    "\n",
    "    return images_numpy\n",
    "\n",
    "def display_image(image_numpy, index=0):\n",
    "    \"\"\"Displays an image using matplotlib.\"\"\"\n",
    "    # Check if the image_numpy array has any images\n",
    "    if image_numpy.size == 0:\n",
    "        print(\"No images to display.\")\n",
    "        return\n",
    "\n",
    "    # Select an image by index from the numpy array\n",
    "    img_to_display = image_numpy[index].reshape(28, 28)  # Grayscale images have shape (28, 28)\n",
    "\n",
    "    # Display the image using matplotlib\n",
    "    plt.imshow(img_to_display, cmap='gray')  # Use 'gray' colormap for grayscale images\n",
    "    plt.axis('off')  # Hide the axes for better presentation\n",
    "    plt.show()\n",
    "\n",
    "# Example usage:\n",
    "image_folder = 'Custom MNIST Sample'  # Replace with the path to your image folder\n",
    "images = load_images_from_subfolders(image_folder)\n",
    "\n",
    "# Display the first image from the array (you can change the index to display a different image)\n",
    "display_image(images, index=0)\n",
    "\n",
    "# Access the image_numpy array directly\n",
    "print(\"Shape of image_numpy:\", images.shape)  # Prints the shape of the image_numpy array\n",
    "\n",
    "# Access the first image (flattened) directly:\n",
    "first_image = images[0]\n",
    "print(\"First image (flattened):\", first_image)\n",
    "\n",
    "# Access the first image in original shape (28x28)\n",
    "first_image_reshaped = first_image.reshape(28, 28)\n",
    "print(\"First image reshaped (28x28):\\n\", first_image_reshaped)\n"
   ]
  },
  {
   "cell_type": "markdown",
   "metadata": {},
   "source": [
    "#showing test images"
   ]
  },
  {
   "cell_type": "code",
   "execution_count": 244,
   "metadata": {},
   "outputs": [
    {
     "data": {
      "text/plain": [
       "<matplotlib.image.AxesImage at 0x287feb26770>"
      ]
     },
     "execution_count": 244,
     "metadata": {},
     "output_type": "execute_result"
    },
    {
     "data": {
      "image/png": "[encoded data removed]",
      "text/plain": [
       "<Figure size 640x480 with 1 Axes>"
      ]
     },
     "metadata": {},
     "output_type": "display_data"
    }
   ],
   "source": [
    "plt.imshow(images[2].reshape(28,28))"
   ]
  },
  {
   "cell_type": "code",
   "execution_count": 245,
   "metadata": {},
   "outputs": [],
   "source": [
    "y_hat = network.predict(images[0:50])"
   ]
  },
  {
   "cell_type": "code",
   "execution_count": 246,
   "metadata": {},
   "outputs": [
    {
     "data": {
      "text/plain": [
       "array([ 2.42487548, -4.74014943,  1.09288457,  0.8759952 , -2.61499752,\n",
       "        1.72040351, -3.06586512,  1.99884513,  1.1451947 ,  0.9284838 ])"
      ]
     },
     "execution_count": 246,
     "metadata": {},
     "output_type": "execute_result"
    }
   ],
   "source": [
    "y_hat[2]"
   ]
  },
  {
   "cell_type": "code",
   "execution_count": 247,
   "metadata": {},
   "outputs": [
    {
     "data": {
      "text/plain": [
       "0"
      ]
     },
     "execution_count": 247,
     "metadata": {},
     "output_type": "execute_result"
    }
   ],
   "source": [
    "np.argmax(y_hat[2])"
   ]
  },
  {
   "cell_type": "markdown",
   "metadata": {},
   "source": [
    "#batch predict"
   ]
  },
  {
   "cell_type": "code",
   "execution_count": 248,
   "metadata": {},
   "outputs": [
    {
     "name": "stdout",
     "output_type": "stream",
     "text": [
      "[0 0 0 0 0 5 5 5 3 3 5 5 2 2 3 3]\n",
      "[3 5 3 3 3 3 4 4 4 5 5 5 5 5 5 5]\n",
      "[2 5 2 5 1 3 3 7 5 5 5 5 5 3 3 5]\n",
      "[3 5]\n"
     ]
    }
   ],
   "source": [
    "batch_size = 16\n",
    "x = images[0:50]\n",
    "#y = test_labels[0:10]\n",
    "\n",
    "for i in range(0, len(x), batch_size):\n",
    "    x_batch = x[i:i+batch_size]\n",
    "    y_hat_batch = network.predict(x_batch)\n",
    "    p = np.argmax(y_hat_batch, axis=1)\n",
    "    print(p)"
   ]
  }
 ],
 "metadata": {
  "kernelspec": {
   "display_name": "ece5831-2024",
   "language": "python",
   "name": "python3"
  },
  "language_info": {
   "codemirror_mode": {
    "name": "ipython",
    "version": 3
   },
   "file_extension": ".py",
   "mimetype": "text/x-python",
   "name": "python",
   "nbconvert_exporter": "python",
   "pygments_lexer": "ipython3",
   "version": "3.10.13"
  }
 },
 "nbformat": 4,
 "nbformat_minor": 2
}
