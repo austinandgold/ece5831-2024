{
 "cells": [
  {
   "cell_type": "code",
   "execution_count": 67,
   "metadata": {},
   "outputs": [],
   "source": [
    "import numpy as np"
   ]
  },
  {
   "cell_type": "code",
   "execution_count": 2,
   "metadata": {},
   "outputs": [],
   "source": [
    "def mean_squared_error(y_hat, y):\n",
    "    return np.sum((y_hat - y)**2)/y.size"
   ]
  },
  {
   "cell_type": "code",
   "execution_count": 3,
   "metadata": {},
   "outputs": [
    {
     "data": {
      "text/plain": [
       "0.025000000000000022"
      ]
     },
     "execution_count": 3,
     "metadata": {},
     "output_type": "execute_result"
    }
   ],
   "source": [
    "y      = np.array([1,   2,   3,    4])\n",
    "y_hat1 = np.array([1.2, 1.9, 2.9,  4.2]) \n",
    "mean_squared_error(y_hat1, y)"
   ]
  },
  {
   "cell_type": "code",
   "execution_count": 132,
   "metadata": {},
   "outputs": [
    {
     "data": {
      "text/plain": [
       "1.0250000000000004"
      ]
     },
     "execution_count": 132,
     "metadata": {},
     "output_type": "execute_result"
    }
   ],
   "source": [
    "y_hat2 = np.array([2.2, 0.9, 2.9,  5.2]) \n",
    "mean_squared_error(y_hat2, y)"
   ]
  },
  {
   "cell_type": "code",
   "execution_count": 4,
   "metadata": {},
   "outputs": [],
   "source": [
    "def cross_entropy_error(y_hat, y):\n",
    "    return -np.sum(y*np.log(y_hat + 1e-7))"
   ]
  },
  {
   "cell_type": "code",
   "execution_count": 5,
   "metadata": {},
   "outputs": [],
   "source": [
    "y = np.array([0, 1, 0, 0, 0])"
   ]
  },
  {
   "cell_type": "code",
   "execution_count": 6,
   "metadata": {},
   "outputs": [],
   "source": [
    "y_hat1 = np.array([0.1, 0.7, 0.1, 0.1, 0])"
   ]
  },
  {
   "cell_type": "code",
   "execution_count": 7,
   "metadata": {},
   "outputs": [
    {
     "data": {
      "text/plain": [
       "0.3566748010815999"
      ]
     },
     "execution_count": 7,
     "metadata": {},
     "output_type": "execute_result"
    }
   ],
   "source": [
    "cross_entropy_error(y_hat1, y)"
   ]
  },
  {
   "cell_type": "code",
   "execution_count": 8,
   "metadata": {},
   "outputs": [],
   "source": [
    "y_hat2 = np.array([0.7, 0.05, 0.05, 0.2, 0])"
   ]
  },
  {
   "cell_type": "code",
   "execution_count": 9,
   "metadata": {},
   "outputs": [
    {
     "data": {
      "text/plain": [
       "2.9957302735559908"
      ]
     },
     "execution_count": 9,
     "metadata": {},
     "output_type": "execute_result"
    }
   ],
   "source": [
    "cross_entropy_error(y_hat2, y)"
   ]
  },
  {
   "cell_type": "code",
   "execution_count": 10,
   "metadata": {},
   "outputs": [
    {
     "name": "stdout",
     "output_type": "stream",
     "text": [
      "File: train-images-idx3-ubyte.gz already exists.\n",
      "File: train-labels-idx1-ubyte.gz already exists.\n",
      "File: t10k-images-idx3-ubyte.gz already exists.\n",
      "File: t10k-labels-idx1-ubyte.gz already exists.\n",
      "Pickle: dataset/mnist.pkl already exists.\n",
      "loading....\n",
      "Done\n"
     ]
    }
   ],
   "source": [
    "import mnist\n",
    "\n",
    "my_mnist = mnist.Mnist()"
   ]
  },
  {
   "cell_type": "code",
   "execution_count": 11,
   "metadata": {},
   "outputs": [],
   "source": [
    "(train_images, train_labels), (_, _) = my_mnist.load()"
   ]
  },
  {
   "cell_type": "code",
   "execution_count": 12,
   "metadata": {},
   "outputs": [],
   "source": [
    "train_size = train_images.shape[0]\n",
    "batch_size = 32"
   ]
  },
  {
   "cell_type": "code",
   "execution_count": 13,
   "metadata": {},
   "outputs": [
    {
     "name": "stdout",
     "output_type": "stream",
     "text": [
      "[34273 50198 50207 48204 39354 48255 32082 42201 19827 43441 14937 49955\n",
      "  2930  1701   756 40732  3730 20885 28841 33258 33113  9885 38837 11512\n",
      " 52767  5284 12874  6015 27340 53637 18988 50902]\n"
     ]
    }
   ],
   "source": [
    "batch_mask = np.random.choice(train_size, batch_size)\n",
    "print(batch_mask)"
   ]
  },
  {
   "cell_type": "code",
   "execution_count": 14,
   "metadata": {},
   "outputs": [
    {
     "data": {
      "text/plain": [
       "60000"
      ]
     },
     "execution_count": 14,
     "metadata": {},
     "output_type": "execute_result"
    }
   ],
   "source": [
    "train_size"
   ]
  },
  {
   "cell_type": "code",
   "execution_count": 15,
   "metadata": {},
   "outputs": [],
   "source": [
    "def cross_entropy_error(y_hat, y):\n",
    "    batch_size = 1 if y_hat.ndim == 1 else y_hat.shape[0]\n",
    "    return -np.sum(y*np.log(y_hat + 1e-7))/batch_size"
   ]
  },
  {
   "cell_type": "code",
   "execution_count": 16,
   "metadata": {},
   "outputs": [],
   "source": [
    "y_hat_batch = np.array([ [0.2, 0.2, 0.3, 0.1, 0.2], [0.1, 0.1, 0.1, 0.1, 0.6]])\n",
    "y_batch =     np.array([ [0,   0,   1,   0,    0],   [0,   0,   0,   0,   1]])"
   ]
  },
  {
   "cell_type": "code",
   "execution_count": 17,
   "metadata": {},
   "outputs": [
    {
     "data": {
      "text/plain": [
       "0.8573989640459981"
      ]
     },
     "execution_count": 17,
     "metadata": {},
     "output_type": "execute_result"
    }
   ],
   "source": [
    "cross_entropy_error(y_hat_batch, y_batch)"
   ]
  },
  {
   "cell_type": "code",
   "execution_count": 18,
   "metadata": {},
   "outputs": [],
   "source": [
    "def numerical_diff(f, x):\n",
    "    h = 10e-50\n",
    "    return (f(x + h) - f(x))/h"
   ]
  },
  {
   "cell_type": "code",
   "execution_count": 19,
   "metadata": {},
   "outputs": [],
   "source": [
    "def func(x):\n",
    "    return x**2 + 0.1*x"
   ]
  },
  {
   "cell_type": "code",
   "execution_count": 20,
   "metadata": {},
   "outputs": [
    {
     "data": {
      "text/plain": [
       "0.0"
      ]
     },
     "execution_count": 20,
     "metadata": {},
     "output_type": "execute_result"
    }
   ],
   "source": [
    "numerical_diff(func, 0.8)"
   ]
  },
  {
   "cell_type": "code",
   "execution_count": 21,
   "metadata": {},
   "outputs": [],
   "source": [
    "def numerical_diff(f, x):\n",
    "    h = 1e-4\n",
    "    return (f(x + h) - f(x - h))/(2*h)"
   ]
  },
  {
   "cell_type": "code",
   "execution_count": 22,
   "metadata": {},
   "outputs": [
    {
     "data": {
      "text/plain": [
       "1.6999999999994797"
      ]
     },
     "execution_count": 22,
     "metadata": {},
     "output_type": "execute_result"
    }
   ],
   "source": [
    "numerical_diff(func, 0.8)"
   ]
  },
  {
   "cell_type": "code",
   "execution_count": 23,
   "metadata": {},
   "outputs": [
    {
     "data": {
      "text/plain": [
       "0.49999999999994493"
      ]
     },
     "execution_count": 23,
     "metadata": {},
     "output_type": "execute_result"
    }
   ],
   "source": [
    "numerical_diff(func, 0.2)"
   ]
  },
  {
   "cell_type": "code",
   "execution_count": 24,
   "metadata": {},
   "outputs": [],
   "source": [
    "def func(x):\n",
    "    return x[0]**2 + x[1]**2\n",
    "\n",
    "def func_tmp1(x0):\n",
    "    return x0**2 + 4.0**2"
   ]
  },
  {
   "cell_type": "code",
   "execution_count": 25,
   "metadata": {},
   "outputs": [
    {
     "data": {
      "text/plain": [
       "6.00000000000378"
      ]
     },
     "execution_count": 25,
     "metadata": {},
     "output_type": "execute_result"
    }
   ],
   "source": [
    "numerical_diff(func_tmp1, 3.0)"
   ]
  },
  {
   "cell_type": "code",
   "execution_count": 26,
   "metadata": {},
   "outputs": [],
   "source": [
    "def func_tmp2(x1):\n",
    "    return 3.0**2 + x1**2"
   ]
  },
  {
   "cell_type": "code",
   "execution_count": 27,
   "metadata": {},
   "outputs": [
    {
     "data": {
      "text/plain": [
       "7.999999999999119"
      ]
     },
     "execution_count": 27,
     "metadata": {},
     "output_type": "execute_result"
    }
   ],
   "source": [
    "numerical_diff(func_tmp2, 4.0)"
   ]
  },
  {
   "cell_type": "markdown",
   "metadata": {},
   "source": [
    "#Numerical Gradient"
   ]
  },
  {
   "cell_type": "code",
   "execution_count": 28,
   "metadata": {},
   "outputs": [],
   "source": [
    "def func2(x):\n",
    "    return x[0]**2 + x[1]**2"
   ]
  },
  {
   "cell_type": "code",
   "execution_count": 29,
   "metadata": {},
   "outputs": [],
   "source": [
    "def func_tmp1(x0):\n",
    "    return x0**2 + 4**2\n",
    "\n",
    "def func_tmp2(x1):\n",
    "    return 3**2 + x1**2"
   ]
  },
  {
   "cell_type": "code",
   "execution_count": 30,
   "metadata": {},
   "outputs": [],
   "source": [
    "def _numerical_diff(f, x):\n",
    "    h = 1e-4\n",
    "    return (f(x + h) - f(x - h))/(2*h)"
   ]
  },
  {
   "cell_type": "code",
   "execution_count": 31,
   "metadata": {},
   "outputs": [],
   "source": [
    "def _numerical_gradient(f, x):\n",
    "    h = 1e-4 # 0.0001\n",
    "    grad = np.zeros_like(x) \n",
    "    \n",
    "    for idx in range(x.size):\n",
    "        tmp_val = x[idx]\n",
    "        \n",
    "        # f(x+h) \n",
    "        x[idx] = float(tmp_val) + h\n",
    "        fxh1 = f(x)\n",
    "        \n",
    "        # f(x-h) \n",
    "        x[idx] = tmp_val - h \n",
    "        fxh2 = f(x) \n",
    "        \n",
    "        grad[idx] = (fxh1 - fxh2) / (2*h)\n",
    "        x[idx] = tmp_val \n",
    "        \n",
    "    return grad"
   ]
  },
  {
   "cell_type": "code",
   "execution_count": 32,
   "metadata": {},
   "outputs": [
    {
     "data": {
      "text/plain": [
       "6.00000000000378"
      ]
     },
     "execution_count": 32,
     "metadata": {},
     "output_type": "execute_result"
    }
   ],
   "source": [
    "_numerical_diff(func_tmp1, 3.0)"
   ]
  },
  {
   "cell_type": "code",
   "execution_count": 33,
   "metadata": {},
   "outputs": [
    {
     "data": {
      "text/plain": [
       "7.999999999999119"
      ]
     },
     "execution_count": 33,
     "metadata": {},
     "output_type": "execute_result"
    }
   ],
   "source": [
    "_numerical_diff(func_tmp2, 4.0)"
   ]
  },
  {
   "cell_type": "code",
   "execution_count": 34,
   "metadata": {},
   "outputs": [
    {
     "data": {
      "text/plain": [
       "array([6., 8.])"
      ]
     },
     "execution_count": 34,
     "metadata": {},
     "output_type": "execute_result"
    }
   ],
   "source": [
    "_numerical_gradient(func2, np.array([3.0, 4.0]))"
   ]
  },
  {
   "cell_type": "code",
   "execution_count": 35,
   "metadata": {},
   "outputs": [],
   "source": [
    "def gradient_descent(f, init_x, lr=0.1, step_num = 100):\n",
    "    x = init_x\n",
    "    for i in range(step_num):\n",
    "        grad = _numerical_gradient(f, x)\n",
    "        x -= lr*grad  # x = x - lr*grad\n",
    "\n",
    "    return x"
   ]
  },
  {
   "cell_type": "code",
   "execution_count": 36,
   "metadata": {},
   "outputs": [
    {
     "data": {
      "text/plain": [
       "array([5.65680105e-06, 2.02028609e-06])"
      ]
     },
     "execution_count": 36,
     "metadata": {},
     "output_type": "execute_result"
    }
   ],
   "source": [
    "init_x = np.array([2800.0, 1000.0])\n",
    "# func2 = x0**2 + x1**2\n",
    "gradient_descent(func2, init_x, step_num=10000, lr=0.001)"
   ]
  },
  {
   "cell_type": "markdown",
   "metadata": {},
   "source": [
    "#SimpleNet"
   ]
  },
  {
   "cell_type": "code",
   "execution_count": 40,
   "metadata": {},
   "outputs": [],
   "source": [
    "class SimpleNet:\n",
    "    def __init__(self):\n",
    "        self.w = np.random.randn(2, 3)\n",
    "\n",
    "\n",
    "    # for multi-dimensional x\n",
    "    def softmax(self, x):\n",
    "        if x.ndim == 2:\n",
    "            x = x.T\n",
    "            x = x - np.max(x, axis=0)\n",
    "            y = np.exp(x) / np.sum(np.exp(x), axis=0)\n",
    "            return y.T \n",
    "\n",
    "        x = x - np.max(x)  \n",
    "        return np.exp(x) / np.sum(np.exp(x))\n",
    "\n",
    "\n",
    "    def cross_entroy_error(self, y, t):\n",
    "        delta = 1e-7\n",
    "        batch_size = 1 if y.ndim == 1 else y.shape[0]\n",
    "\n",
    "        return -np.sum(t*np.log(y + delta)) / batch_size\n",
    "\n",
    "\n",
    "    # for multi-dimensional x\n",
    "    def numerical_gradient(self, f, x):\n",
    "        h = 1e-4 # 0.0001\n",
    "        grad = np.zeros_like(x)\n",
    "        \n",
    "        it = np.nditer(x, flags=['multi_index'], op_flags=['readwrite'])\n",
    "        while not it.finished:\n",
    "            idx = it.multi_index\n",
    "            tmp_val = x[idx]\n",
    "            x[idx] = float(tmp_val) + h\n",
    "            fxh1 = f(x) # f(x+h)\n",
    "            \n",
    "            x[idx] = tmp_val - h \n",
    "            fxh2 = f(x) # f(x-h)\n",
    "            grad[idx] = (fxh1 - fxh2) / (2*h)\n",
    "            \n",
    "            x[idx] = tmp_val \n",
    "            it.iternext()   \n",
    "            \n",
    "        return grad\n",
    "\n",
    "\n",
    "    def predict(self, x):\n",
    "        return np.dot(x, self.w)\n",
    "    \n",
    "\n",
    "    def loss(self, x, y):\n",
    "        z = self.predict(x)\n",
    "        y_hat = self.softmax(z)\n",
    "        loss = self.cross_entroy_error(y_hat, y)\n",
    "\n",
    "        return loss"
   ]
  },
  {
   "cell_type": "code",
   "execution_count": 41,
   "metadata": {},
   "outputs": [
    {
     "name": "stdout",
     "output_type": "stream",
     "text": [
      "[[ 0.35290519 -0.76294904  0.37085037]\n",
      " [ 0.30146929  0.19240449  0.67984147]]\n"
     ]
    }
   ],
   "source": [
    "net = SimpleNet()\n",
    "print(net.w)"
   ]
  },
  {
   "cell_type": "code",
   "execution_count": 42,
   "metadata": {},
   "outputs": [
    {
     "name": "stdout",
     "output_type": "stream",
     "text": [
      "[ 0.3043128  -0.49750748  0.38876514]\n"
     ]
    }
   ],
   "source": [
    "x = np.array([0.7, 0.19])\n",
    "p = net.predict(x)\n",
    "print(p)"
   ]
  },
  {
   "cell_type": "code",
   "execution_count": 43,
   "metadata": {},
   "outputs": [
    {
     "data": {
      "text/plain": [
       "2"
      ]
     },
     "execution_count": 43,
     "metadata": {},
     "output_type": "execute_result"
    }
   ],
   "source": [
    "np.argmax(p)"
   ]
  },
  {
   "cell_type": "code",
   "execution_count": 44,
   "metadata": {},
   "outputs": [
    {
     "data": {
      "text/plain": [
       "1.732657235166521"
      ]
     },
     "execution_count": 44,
     "metadata": {},
     "output_type": "execute_result"
    }
   ],
   "source": [
    "y = np.array([0, 1, 0])\n",
    "net.loss(x, y)"
   ]
  },
  {
   "cell_type": "code",
   "execution_count": 45,
   "metadata": {},
   "outputs": [
    {
     "data": {
      "text/plain": [
       "0.846384953433088"
      ]
     },
     "execution_count": 45,
     "metadata": {},
     "output_type": "execute_result"
    }
   ],
   "source": [
    "y = np.array([0, 0, 1])\n",
    "net.loss(x, y)"
   ]
  },
  {
   "cell_type": "code",
   "execution_count": 46,
   "metadata": {},
   "outputs": [],
   "source": [
    "def loss_function(w):\n",
    "    return net.loss(x, y)"
   ]
  },
  {
   "cell_type": "code",
   "execution_count": 47,
   "metadata": {},
   "outputs": [
    {
     "name": "stdout",
     "output_type": "stream",
     "text": [
      "[[ 0.27595631  0.12376967 -0.39972598]\n",
      " [ 0.07490243  0.03359462 -0.10849705]]\n"
     ]
    }
   ],
   "source": [
    "dw = net.numerical_gradient(loss_function, net.w)\n",
    "print(dw)"
   ]
  },
  {
   "cell_type": "code",
   "execution_count": 48,
   "metadata": {},
   "outputs": [],
   "source": [
    "loss_function = lambda w: net.loss(x, y)"
   ]
  },
  {
   "cell_type": "code",
   "execution_count": 49,
   "metadata": {},
   "outputs": [
    {
     "name": "stdout",
     "output_type": "stream",
     "text": [
      "[[ 0.27595631  0.12376967 -0.39972598]\n",
      " [ 0.07490243  0.03359462 -0.10849705]]\n"
     ]
    }
   ],
   "source": [
    "dw = net.numerical_gradient(loss_function, net.w)\n",
    "print(dw)"
   ]
  },
  {
   "cell_type": "markdown",
   "metadata": {},
   "source": [
    "#TwoLayerNet class"
   ]
  },
  {
   "cell_type": "code",
   "execution_count": 51,
   "metadata": {},
   "outputs": [],
   "source": [
    "class Activations:\n",
    "    def sigmoid(self, x):\n",
    "        return 1/(1 + np.exp(-x))\n",
    "    \n",
    "    # for multi-dimensional x\n",
    "    def softmax(self, x):\n",
    "        if x.ndim == 2:\n",
    "            x = x.T\n",
    "            x = x - np.max(x, axis=0)\n",
    "            y = np.exp(x) / np.sum(np.exp(x), axis=0)\n",
    "            return y.T \n",
    "\n",
    "        x = x - np.max(x)  \n",
    "        return np.exp(x) / np.sum(np.exp(x))"
   ]
  },
  {
   "cell_type": "code",
   "execution_count": 52,
   "metadata": {},
   "outputs": [],
   "source": [
    "class Errors:\n",
    "    def cross_entroy_error(self, y, t):\n",
    "        delta = 1e-7\n",
    "        batch_size = 1 if y.ndim == 1 else y.shape[0]\n",
    "\n",
    "        return -np.sum(t*np.log(y + delta)) / batch_size"
   ]
  },
  {
   "cell_type": "code",
   "execution_count": 7,
   "metadata": {},
   "outputs": [],
   "source": [
    "import activations\n",
    "import errors"
   ]
  },
  {
   "cell_type": "code",
   "execution_count": 10,
   "metadata": {},
   "outputs": [],
   "source": [
    "class TwoLayerNet:\n",
    "    def __init__(self, input_size, hidden_size, output_size, weight_init_std=0.01):\n",
    "        self.params = {}\n",
    "\n",
    "        self.params['w1'] = weight_init_std*np.random.randn(input_size, hidden_size)\n",
    "        self.params['b1'] = np.zeros(hidden_size)\n",
    "\n",
    "        self.params['w2'] = weight_init_std*np.random.randn(hidden_size, output_size)\n",
    "        self.params['b2'] = np.zeros(output_size)\n",
    "\n",
    "        self.activations = activations.Activations()\n",
    "        self.errors = errors.Errors()\n",
    "\n",
    "    def predict(self, x):\n",
    "        w1, w2 = self.params['w1'], self.params['w2']\n",
    "        b1, b2 = self.params['b1'], self.params['b2']\n",
    "        \n",
    "        a1 = np.dot(x, w1) + b1\n",
    "        z1 = self.activations.sigmoid(a1)\n",
    "        a2 = np.dot(z1, w2) + b2\n",
    "        y = self.activations.softmax(a2)\n",
    "\n",
    "        return y\n",
    "    \n",
    "    def loss(self, x, y):\n",
    "        y_hat = self.predict(x)\n",
    "\n",
    "        return self.errors.cross_entropy_error(y_hat, y)\n",
    "    \n",
    "\n",
    "    def accuracy(self, x, y):\n",
    "        y_hat = self.predict(x)\n",
    "        p = np.argmax(y_hat, axis=1)\n",
    "        y_p = np.argmax(y, axis=1)\n",
    "\n",
    "        return np.sum(p == y_p)/float(x.shape[0])\n",
    "    \n",
    "\n",
    "    # for multi-dimensional x\n",
    "    def _numerical_gradient(self, f, x):\n",
    "        h = 1e-4 # 0.0001\n",
    "        grad = np.zeros_like(x)\n",
    "        \n",
    "        it = np.nditer(x, flags=['multi_index'], op_flags=['readwrite'])\n",
    "        while not it.finished:\n",
    "            idx = it.multi_index\n",
    "            tmp_val = x[idx]\n",
    "            x[idx] = float(tmp_val) + h\n",
    "            fxh1 = f(x) # f(x+h)\n",
    "            \n",
    "            x[idx] = tmp_val - h \n",
    "            fxh2 = f(x) # f(x-h)\n",
    "            grad[idx] = (fxh1 - fxh2) / (2*h)\n",
    "            \n",
    "            x[idx] = tmp_val \n",
    "            it.iternext()   \n",
    "            \n",
    "        return grad\n",
    "    \n",
    "\n",
    "    def numerical_gradient(self, x, y):\n",
    "        loss_w = lambda w: self.loss(x, y)\n",
    "\n",
    "        grads = {}\n",
    "        grads['w1'] = self._numerical_gradient(loss_w, self.params['w1'])\n",
    "        grads['b1'] = self._numerical_gradient(loss_w, self.params['b1'])\n",
    "        grads['w2'] = self._numerical_gradient(loss_w, self.params['w2'])\n",
    "        grads['b2'] = self._numerical_gradient(loss_w, self.params['b2'])\n",
    "\n",
    "        return grads\n",
    "    \n",
    " "
   ]
  },
  {
   "cell_type": "markdown",
   "metadata": {},
   "source": [
    "#Train TwoLayerNet"
   ]
  },
  {
   "cell_type": "code",
   "execution_count": 1,
   "metadata": {},
   "outputs": [],
   "source": [
    "import numpy as np\n",
    "import mnist\n",
    "from two_layer_net import TwoLayerNet\n",
    "\n",
    "import matplotlib.pyplot as plt\n"
   ]
  },
  {
   "cell_type": "code",
   "execution_count": 2,
   "metadata": {},
   "outputs": [
    {
     "name": "stdout",
     "output_type": "stream",
     "text": [
      "File: train-images-idx3-ubyte.gz already exists.\n",
      "File: train-labels-idx1-ubyte.gz already exists.\n",
      "File: t10k-images-idx3-ubyte.gz already exists.\n",
      "File: t10k-labels-idx1-ubyte.gz already exists.\n",
      "Pickle: dataset/mnist.pkl already exists.\n",
      "loading....\n",
      "Done\n"
     ]
    }
   ],
   "source": [
    "my_mnist = mnist.Mnist()"
   ]
  },
  {
   "cell_type": "code",
   "execution_count": 3,
   "metadata": {},
   "outputs": [],
   "source": [
    "(x_train, y_train), (x_test, y_test) = my_mnist.load()"
   ]
  },
  {
   "cell_type": "code",
   "execution_count": 5,
   "metadata": {},
   "outputs": [
    {
     "name": "stdout",
     "output_type": "stream",
     "text": [
      "(60000, 784)\n",
      "(60000, 10)\n",
      "(10000, 784)\n",
      "(10000, 10)\n"
     ]
    }
   ],
   "source": [
    "print(x_train.shape)\n",
    "print(y_train.shape)\n",
    "print(x_test.shape)\n",
    "print(y_test.shape)"
   ]
  },
  {
   "cell_type": "code",
   "execution_count": 11,
   "metadata": {},
   "outputs": [],
   "source": [
    "network = TwoLayerNet(input_size=28*28, hidden_size=100, output_size=10)"
   ]
  },
  {
   "cell_type": "code",
   "execution_count": 12,
   "metadata": {},
   "outputs": [
    {
     "data": {
      "text/plain": [
       "{'w1': array([[-0.00302928,  0.00473432,  0.01680218, ...,  0.0111888 ,\n",
       "          0.00189124,  0.01692891],\n",
       "        [ 0.01977142,  0.00983023, -0.01610206, ..., -0.02294623,\n",
       "          0.00853678,  0.00011609],\n",
       "        [-0.00606599,  0.01258069,  0.0024503 , ...,  0.00325707,\n",
       "          0.00414444,  0.01072886],\n",
       "        ...,\n",
       "        [ 0.0036787 , -0.00816988,  0.01049916, ..., -0.00317924,\n",
       "          0.00765429,  0.00921063],\n",
       "        [ 0.00757741,  0.01225088, -0.00721949, ..., -0.00481698,\n",
       "          0.01300768,  0.01205332],\n",
       "        [ 0.01483452, -0.02278116,  0.00371304, ..., -0.00144401,\n",
       "          0.00933456,  0.00823516]]),\n",
       " 'b1': array([0., 0., 0., 0., 0., 0., 0., 0., 0., 0., 0., 0., 0., 0., 0., 0., 0.,\n",
       "        0., 0., 0., 0., 0., 0., 0., 0., 0., 0., 0., 0., 0., 0., 0., 0., 0.,\n",
       "        0., 0., 0., 0., 0., 0., 0., 0., 0., 0., 0., 0., 0., 0., 0., 0., 0.,\n",
       "        0., 0., 0., 0., 0., 0., 0., 0., 0., 0., 0., 0., 0., 0., 0., 0., 0.,\n",
       "        0., 0., 0., 0., 0., 0., 0., 0., 0., 0., 0., 0., 0., 0., 0., 0., 0.,\n",
       "        0., 0., 0., 0., 0., 0., 0., 0., 0., 0., 0., 0., 0., 0., 0.]),\n",
       " 'w2': array([[ 2.75282823e-03, -7.04576654e-03,  8.35219482e-03,\n",
       "          1.08076545e-03,  4.94387677e-03,  1.12045675e-02,\n",
       "          1.07692792e-02, -2.96530525e-03,  5.98499037e-03,\n",
       "         -5.91748116e-03],\n",
       "        [ 7.48371358e-03,  1.55646610e-03,  4.73708274e-03,\n",
       "          2.55382481e-04,  4.78751172e-03, -2.26010106e-03,\n",
       "         -1.06748318e-02,  6.97219249e-03,  7.57596510e-03,\n",
       "         -1.03812738e-02],\n",
       "        [ 9.28893242e-03,  1.18721061e-02, -4.44874739e-03,\n",
       "         -5.63732143e-03, -1.57090679e-03,  4.15632336e-03,\n",
       "          2.35902975e-04,  9.17294516e-03, -3.07853894e-03,\n",
       "         -5.43822520e-03],\n",
       "        [ 7.35510338e-03, -4.96203935e-03,  1.31365184e-03,\n",
       "          4.29407437e-03, -7.68938667e-03,  1.01832189e-02,\n",
       "         -9.49818628e-03, -6.26323958e-03, -1.51044752e-03,\n",
       "         -3.78964767e-03],\n",
       "        [-6.25533577e-03, -8.50687577e-03, -1.33499281e-02,\n",
       "          1.43570394e-02, -1.63971597e-02,  1.31910501e-02,\n",
       "         -4.92964969e-04, -2.31913190e-03, -2.79820105e-03,\n",
       "          1.93969042e-02],\n",
       "        [ 3.16955833e-03,  8.10269682e-03, -6.65781991e-03,\n",
       "         -7.36687335e-03, -7.13386276e-03, -8.11740863e-03,\n",
       "          7.84128954e-03, -2.29849738e-04, -5.53560819e-03,\n",
       "          2.15155444e-03],\n",
       "        [ 3.46209148e-04, -1.99078781e-03, -1.21250547e-02,\n",
       "         -8.27046764e-03, -7.21032456e-03, -6.07962470e-03,\n",
       "         -2.10077287e-02,  5.18623527e-03, -4.16351585e-03,\n",
       "         -7.14081439e-03],\n",
       "        [-1.89328667e-02,  7.61698314e-03,  1.42955060e-02,\n",
       "          3.74255500e-03, -8.48089562e-03, -1.42752233e-03,\n",
       "         -8.77006807e-03, -3.12124233e-03, -2.99352798e-03,\n",
       "         -1.91716289e-02],\n",
       "        [ 1.23018459e-02, -3.85247657e-03,  3.21334182e-03,\n",
       "         -9.95143302e-03,  2.14398852e-03, -1.22802768e-03,\n",
       "          2.57559497e-03, -2.12628622e-04,  1.95627182e-02,\n",
       "         -5.87072554e-03],\n",
       "        [ 3.25926902e-02,  1.28428655e-02, -6.23676677e-03,\n",
       "          6.89110816e-03, -2.10295452e-02,  1.65459778e-02,\n",
       "          6.81340184e-04, -5.73126230e-04,  1.10132801e-02,\n",
       "         -1.89696025e-02],\n",
       "        [ 6.82147787e-03,  1.50762565e-02, -1.25638594e-02,\n",
       "          1.00766654e-02, -1.81615647e-03,  6.81985499e-04,\n",
       "          1.62752503e-03,  3.90485044e-03,  1.41938746e-02,\n",
       "         -1.23930504e-02],\n",
       "        [-1.11099204e-02,  3.58953935e-03,  2.17093721e-06,\n",
       "          6.59025893e-03, -3.17367691e-03, -4.99129046e-03,\n",
       "          1.78648597e-03,  1.10782105e-02,  2.22960883e-03,\n",
       "          1.24892616e-02],\n",
       "        [ 3.23973515e-03,  5.97468832e-03,  1.47632478e-03,\n",
       "         -6.25908562e-03,  1.29215450e-02,  7.43090815e-03,\n",
       "         -7.31262672e-03,  7.31953495e-03,  3.07348030e-03,\n",
       "         -5.91524789e-03],\n",
       "        [-8.06631365e-03,  1.99413835e-02,  1.88603823e-02,\n",
       "         -6.73756495e-03, -1.37355881e-02, -1.86594156e-03,\n",
       "         -2.05826028e-03, -5.79846844e-03,  1.04800608e-02,\n",
       "         -5.86345140e-03],\n",
       "        [ 1.57832936e-02,  7.37988514e-03,  6.88187137e-03,\n",
       "         -4.36466371e-03,  1.99554528e-02,  8.13481445e-04,\n",
       "          5.17881938e-03,  1.62655877e-02, -5.09540192e-03,\n",
       "          8.19722031e-03],\n",
       "        [ 2.05838734e-04,  1.09784013e-02, -2.95284673e-03,\n",
       "          1.95616531e-02, -3.93620490e-03, -1.07334369e-02,\n",
       "          6.88620128e-03, -1.10722648e-02,  3.22112076e-03,\n",
       "         -1.47824839e-03],\n",
       "        [ 1.08036423e-02,  1.37046195e-03,  4.88081188e-03,\n",
       "          2.77302242e-03, -6.20907272e-03, -2.40546670e-02,\n",
       "          2.20969291e-02, -6.51880909e-03, -2.22146107e-02,\n",
       "         -3.06296387e-03],\n",
       "        [-7.76970639e-03,  9.04965707e-03, -1.46063305e-02,\n",
       "          8.01716712e-04,  5.92176883e-03,  6.88500607e-03,\n",
       "          8.10123606e-03, -8.48465556e-03,  6.16483846e-03,\n",
       "         -2.06984378e-02],\n",
       "        [-7.08295529e-03,  1.54737364e-02,  5.13160862e-04,\n",
       "          3.21154321e-03, -5.35419609e-03,  1.39310683e-02,\n",
       "         -4.86102100e-03, -9.83059344e-03, -3.24333437e-03,\n",
       "          1.23563853e-02],\n",
       "        [-4.17064278e-03,  1.70793102e-02,  1.65339430e-02,\n",
       "          8.35721989e-04,  1.52406505e-02,  5.84146490e-03,\n",
       "         -9.40986390e-03, -6.67402534e-05, -4.79699350e-03,\n",
       "          2.56305592e-03],\n",
       "        [ 1.78745475e-03,  4.86425099e-03,  1.79971148e-02,\n",
       "         -9.75507214e-03, -2.10419176e-02,  9.48075983e-04,\n",
       "         -3.35610106e-03, -9.72312467e-03,  1.53174416e-03,\n",
       "          4.81009154e-03],\n",
       "        [-6.99304940e-04, -9.88549469e-03, -1.39957852e-02,\n",
       "          6.93134002e-03,  4.64347364e-03,  1.58377452e-03,\n",
       "         -1.85627280e-03, -1.13582262e-02,  2.61138156e-02,\n",
       "          1.01660259e-02],\n",
       "        [ 4.72711992e-03,  2.00893478e-02, -2.32636755e-02,\n",
       "         -4.73790709e-03,  8.99225348e-03,  1.76135977e-04,\n",
       "         -6.71282187e-03, -2.08858834e-02,  1.11184220e-02,\n",
       "         -4.24831904e-03],\n",
       "        [-2.35819162e-03, -1.97301990e-02, -1.07529402e-02,\n",
       "          1.06754620e-02,  6.82404460e-03,  4.06034708e-03,\n",
       "         -7.19793099e-03,  2.93230570e-03, -1.71504597e-02,\n",
       "          4.94673991e-03],\n",
       "        [-3.64846816e-03, -2.51205711e-02,  3.97918330e-03,\n",
       "         -4.98130557e-03, -8.49507397e-03,  1.33219408e-02,\n",
       "         -4.42693924e-03, -1.19467967e-02,  5.67173409e-03,\n",
       "         -5.97068359e-03],\n",
       "        [ 6.91248138e-03,  1.89931234e-04,  2.32418611e-03,\n",
       "          9.70513360e-03, -2.59449163e-03,  8.08767855e-03,\n",
       "          3.83997319e-03,  8.97543610e-03, -1.52529816e-02,\n",
       "         -2.86808168e-02],\n",
       "        [ 1.21705180e-02,  5.91602969e-03, -1.56908345e-02,\n",
       "          5.15206658e-03, -1.11266679e-02, -1.80328984e-02,\n",
       "         -4.29793506e-03,  1.94956636e-03, -5.53399227e-03,\n",
       "          9.74212610e-04],\n",
       "        [ 3.35681433e-03,  5.81559053e-03, -9.85813733e-03,\n",
       "          7.77565104e-03, -1.55111265e-02,  1.02563722e-03,\n",
       "          1.17769148e-02, -3.62103434e-03,  2.60656225e-03,\n",
       "         -1.89834615e-03],\n",
       "        [ 6.86085135e-03, -2.60786887e-03, -2.58008251e-02,\n",
       "          9.66580881e-04,  1.45826784e-03,  1.17471709e-02,\n",
       "         -2.07656706e-02, -3.04378720e-03, -6.26517828e-04,\n",
       "         -1.52877969e-02],\n",
       "        [ 7.08548137e-03,  3.52339127e-03,  8.79528536e-03,\n",
       "         -5.99249074e-03,  4.40566784e-03,  1.51354054e-02,\n",
       "         -2.06480599e-02,  1.49426987e-02, -6.65064063e-06,\n",
       "          1.27023829e-02],\n",
       "        [ 5.79190159e-03, -4.53620082e-03, -2.34562517e-03,\n",
       "         -5.17838765e-03, -2.78324791e-03, -1.80425951e-02,\n",
       "         -1.97155002e-02, -1.39816153e-03,  9.44878224e-03,\n",
       "         -8.67505212e-03],\n",
       "        [ 5.59665444e-04, -5.13895856e-04,  1.96388443e-02,\n",
       "         -1.49410624e-02, -9.14196654e-05,  9.31389581e-04,\n",
       "         -2.59555748e-03, -8.34629569e-03, -5.40858039e-04,\n",
       "          2.92413449e-03],\n",
       "        [-3.76514081e-03,  1.66661790e-03,  6.15989441e-03,\n",
       "          3.86323482e-03, -6.28439017e-03,  3.11599655e-03,\n",
       "         -3.80415783e-03,  9.19908749e-04, -1.36546830e-02,\n",
       "         -1.83901419e-02],\n",
       "        [ 2.56031064e-03, -1.77047873e-03,  8.81050100e-03,\n",
       "          1.30115311e-02, -4.34614687e-03,  1.97421314e-03,\n",
       "          6.07395407e-03,  5.02104897e-03, -1.38871485e-02,\n",
       "         -2.63232535e-03],\n",
       "        [-3.33984702e-02, -3.18330275e-03, -1.74923702e-02,\n",
       "          1.64551457e-02,  1.65618867e-03, -5.52751134e-03,\n",
       "         -1.63068353e-03, -1.30661458e-02,  5.49097047e-03,\n",
       "          7.16838633e-03],\n",
       "        [-6.73363394e-03,  6.88349455e-03, -9.35521942e-03,\n",
       "          7.45503135e-03, -9.73263941e-03, -9.18617602e-03,\n",
       "          1.06611980e-02,  1.36561911e-02,  3.16673263e-02,\n",
       "          8.61557495e-03],\n",
       "        [-6.97072188e-03, -6.57962288e-03, -6.63599364e-03,\n",
       "         -6.28209265e-03, -7.58877975e-04,  1.39241016e-02,\n",
       "         -1.06429328e-02, -4.00869088e-03,  1.36028032e-02,\n",
       "          4.59800108e-03],\n",
       "        [-1.77244328e-02,  1.40437872e-02,  1.45236757e-02,\n",
       "         -6.45832648e-03,  2.27776523e-02,  4.34285244e-03,\n",
       "          1.88610073e-02,  2.10016708e-02,  9.64994915e-03,\n",
       "         -1.71223029e-03],\n",
       "        [ 1.51233794e-03, -5.05912485e-05, -1.75176380e-02,\n",
       "         -4.92722160e-03,  7.14472257e-04, -1.46839483e-02,\n",
       "          4.51812921e-03, -2.99321238e-03,  5.57661043e-03,\n",
       "         -6.98232329e-03],\n",
       "        [-2.20546745e-04, -5.87701018e-03,  2.16594708e-03,\n",
       "          7.18561672e-03,  2.69960399e-03,  2.59361584e-03,\n",
       "          1.07580957e-02,  1.29983076e-02,  6.65057790e-04,\n",
       "         -5.35910610e-03],\n",
       "        [-4.23891117e-03,  2.87843016e-02, -7.18090681e-03,\n",
       "         -1.88458051e-02,  1.04464633e-02,  1.05545533e-02,\n",
       "         -5.52697860e-03,  7.80085550e-03, -4.89956887e-03,\n",
       "         -1.48092736e-04],\n",
       "        [ 5.81203510e-03, -8.55621537e-03,  2.73835167e-02,\n",
       "          2.30099838e-02, -2.19504692e-04,  5.65524682e-03,\n",
       "          9.15059712e-04,  3.44825051e-03, -7.42090449e-03,\n",
       "         -3.24915084e-03],\n",
       "        [-1.15242950e-03,  1.32927868e-02, -2.61020615e-03,\n",
       "         -2.47933947e-02,  8.21513902e-03, -1.39671441e-02,\n",
       "          1.80545355e-02, -5.21806174e-03, -7.48182788e-03,\n",
       "         -1.10522015e-02],\n",
       "        [ 1.47806038e-02, -1.29645007e-03,  6.84059919e-04,\n",
       "         -1.60662179e-03,  5.29739832e-03, -6.43089581e-03,\n",
       "         -6.62011631e-03,  4.72433015e-03, -6.07552431e-03,\n",
       "          1.94289614e-02],\n",
       "        [-2.65750441e-03,  5.49408920e-04, -5.39919162e-03,\n",
       "         -2.42336319e-03, -1.66202909e-02, -2.05404888e-02,\n",
       "          5.03382237e-03,  1.48768048e-02,  4.51944412e-03,\n",
       "          7.58779268e-03],\n",
       "        [-1.52286060e-02,  9.81163564e-03,  8.97598050e-03,\n",
       "         -6.47761861e-03, -3.53830219e-03,  1.11619054e-02,\n",
       "         -7.32983039e-03, -1.80268486e-02, -1.49383827e-02,\n",
       "          6.86932908e-04],\n",
       "        [-5.39597851e-03,  2.96822437e-04,  5.55961798e-03,\n",
       "         -9.57853577e-03,  8.62834569e-03, -1.09089086e-02,\n",
       "         -8.65892264e-03,  7.83991928e-03,  1.04004215e-03,\n",
       "          5.66975026e-03],\n",
       "        [ 4.99378206e-03, -3.91394609e-04, -1.48933062e-02,\n",
       "         -5.72949967e-03, -1.64327466e-02,  5.44362407e-03,\n",
       "          4.32730658e-03,  4.02202602e-03, -1.24006021e-02,\n",
       "         -4.35392449e-03],\n",
       "        [ 4.49835370e-04,  5.53721546e-03,  8.28541095e-03,\n",
       "         -2.94567518e-03, -2.67884768e-04, -6.20036889e-03,\n",
       "          6.90965418e-03,  1.65746624e-02, -1.32076391e-02,\n",
       "          1.24112383e-02],\n",
       "        [ 2.47985378e-02,  9.02826106e-03,  2.66691886e-03,\n",
       "         -4.24018444e-03,  9.49075689e-03,  1.61633596e-02,\n",
       "          6.68040772e-04, -1.62583127e-02,  1.70756197e-02,\n",
       "          1.01290518e-02],\n",
       "        [-2.14287944e-02,  1.85901516e-02,  2.51003368e-02,\n",
       "          5.76190379e-03,  8.75575670e-04, -8.74487983e-03,\n",
       "          5.78921210e-03,  9.35522772e-03, -5.47881122e-03,\n",
       "          5.05994259e-03],\n",
       "        [ 1.59437037e-02, -8.27560612e-03,  4.57124702e-03,\n",
       "         -8.86247251e-03, -1.23989670e-02, -1.27879439e-02,\n",
       "         -3.86320169e-03, -1.43515356e-04,  2.76117121e-04,\n",
       "         -1.73866372e-02],\n",
       "        [-6.82072230e-03, -5.11765844e-03, -1.13411502e-02,\n",
       "          1.83057529e-03,  2.30547950e-03,  5.72974988e-03,\n",
       "         -3.64960287e-03,  9.34250909e-03,  1.44362017e-03,\n",
       "          1.70919661e-02],\n",
       "        [-2.02234316e-02, -5.94306958e-03,  3.68237886e-03,\n",
       "          6.13652082e-03, -1.23049325e-02, -9.14155210e-04,\n",
       "         -5.33927560e-03, -2.12093040e-03, -5.95790704e-03,\n",
       "          9.05811071e-03],\n",
       "        [ 4.12234968e-03,  6.52840542e-03, -8.25045182e-03,\n",
       "          1.39612683e-02, -4.81076536e-03, -7.13976294e-03,\n",
       "         -2.95317517e-03, -1.43123343e-02, -5.59676887e-03,\n",
       "          6.00619675e-03],\n",
       "        [-1.17690175e-03, -4.33241434e-03, -1.99850639e-03,\n",
       "         -9.54422029e-03,  2.07218078e-03, -1.90101121e-02,\n",
       "         -1.36206521e-02,  5.76821845e-03, -1.33388251e-02,\n",
       "          2.16452598e-03],\n",
       "        [-2.77986545e-03, -3.38036324e-03, -3.36195251e-04,\n",
       "         -6.57325844e-03,  1.59369479e-02,  7.22971461e-03,\n",
       "         -1.45879704e-02, -3.01413247e-03,  1.87070986e-03,\n",
       "          8.38417401e-03],\n",
       "        [ 1.34909981e-02,  1.69514918e-02, -8.69322585e-03,\n",
       "          1.20680446e-02,  3.54604630e-02,  1.23390898e-02,\n",
       "          8.00844231e-03,  2.15797249e-02,  1.21230428e-02,\n",
       "          3.84233798e-03],\n",
       "        [ 2.25135366e-02,  1.10795927e-02, -1.37135992e-02,\n",
       "          4.73159137e-03, -3.07218360e-03, -1.57498773e-04,\n",
       "         -1.52761061e-02,  3.03955772e-03,  8.32059730e-03,\n",
       "          1.81831297e-02],\n",
       "        [-6.60230185e-03, -1.39984392e-02, -1.16212018e-02,\n",
       "          1.13971302e-02, -1.40446305e-02, -1.03015764e-02,\n",
       "          1.84784481e-03, -1.26125659e-02, -1.73430833e-03,\n",
       "          4.76577819e-03],\n",
       "        [ 6.65290445e-03,  1.90682405e-03,  6.25118015e-03,\n",
       "          3.38362948e-03, -3.94815558e-03, -2.34729640e-03,\n",
       "         -1.60060267e-02,  4.74824650e-03, -5.69554874e-04,\n",
       "         -4.60446685e-03],\n",
       "        [ 1.14724519e-02,  4.93900180e-03, -8.49399229e-04,\n",
       "          1.88993290e-02, -1.88763604e-03, -1.05093217e-03,\n",
       "          1.28342968e-03, -7.32157329e-03, -8.51232400e-03,\n",
       "          1.00166421e-02],\n",
       "        [ 6.94246666e-03, -2.01149775e-02, -4.75244398e-03,\n",
       "          2.46485496e-04,  2.33013970e-02, -8.13572248e-03,\n",
       "          5.01364801e-03, -2.30794834e-03,  8.70001557e-03,\n",
       "          3.69152221e-03],\n",
       "        [ 2.45080662e-03,  5.62536478e-03,  1.15826895e-02,\n",
       "          2.04924170e-03, -1.87812134e-02, -1.37775241e-02,\n",
       "          4.12662248e-03,  2.54790505e-03,  1.02642769e-03,\n",
       "         -1.77344066e-02],\n",
       "        [-1.34217284e-02,  1.32676543e-02,  1.38249811e-02,\n",
       "         -1.76776851e-02, -8.52935706e-03,  8.60898907e-03,\n",
       "          1.24187664e-03, -4.74770980e-03,  5.23495236e-03,\n",
       "         -4.40447207e-03],\n",
       "        [-2.43220478e-04,  3.16083761e-03, -2.88578061e-03,\n",
       "         -7.03016887e-03, -7.86351583e-03,  1.16148709e-02,\n",
       "          5.79303730e-05, -1.02052924e-02,  4.06066090e-03,\n",
       "          4.15960856e-03],\n",
       "        [-1.90222056e-03, -1.76577164e-02,  5.77282016e-03,\n",
       "         -2.33034902e-02, -7.51301347e-03,  1.57550209e-02,\n",
       "         -6.57103575e-03, -2.95043760e-03, -3.27358968e-03,\n",
       "         -5.30511414e-03],\n",
       "        [-5.58664292e-03, -1.36654797e-02, -7.18440247e-03,\n",
       "         -2.69395472e-03, -9.50628299e-04, -4.85538458e-03,\n",
       "         -1.38828507e-02, -6.62619486e-03,  1.77150993e-03,\n",
       "          1.20232942e-02],\n",
       "        [-4.26506702e-03, -5.59725103e-03,  1.13992527e-02,\n",
       "         -2.12044706e-02, -5.11370142e-03,  2.19337338e-02,\n",
       "          2.10837220e-02,  1.00361033e-02,  8.44849093e-03,\n",
       "          5.09314027e-03],\n",
       "        [ 1.39676644e-02,  2.06010403e-02, -6.10623928e-03,\n",
       "          2.66130922e-03, -8.37010660e-03,  4.90469104e-03,\n",
       "         -1.39517739e-03,  5.41284113e-03, -1.07173408e-02,\n",
       "          1.78836107e-03],\n",
       "        [-5.95493426e-03, -6.03803428e-03,  8.27855807e-03,\n",
       "          3.22927839e-03, -4.18572436e-03,  5.93599816e-04,\n",
       "          1.07787472e-02, -2.05986064e-02,  4.74843699e-03,\n",
       "          1.05350293e-02],\n",
       "        [ 7.31054688e-03,  2.37763817e-03, -5.92326950e-03,\n",
       "          6.65264009e-03,  2.92468067e-03, -1.36728959e-03,\n",
       "         -2.68197330e-02, -4.31969019e-03, -9.59085643e-03,\n",
       "         -1.59732085e-03],\n",
       "        [-1.47407009e-03,  7.64318963e-03, -1.08932034e-02,\n",
       "          7.58665816e-03,  5.59950328e-03,  6.41766444e-03,\n",
       "         -1.46293799e-02,  8.30551728e-03,  4.08624984e-04,\n",
       "          1.12562888e-02],\n",
       "        [ 1.05628073e-02, -2.47209313e-03,  1.19238479e-02,\n",
       "          5.83487496e-03, -1.45788936e-02,  4.61169180e-03,\n",
       "          9.05531079e-04,  8.43301063e-03,  8.84676732e-03,\n",
       "         -2.42818371e-02],\n",
       "        [ 9.28294283e-04,  9.68175465e-03,  7.56689715e-03,\n",
       "          7.76932709e-04, -1.28061351e-02,  2.12298184e-03,\n",
       "          1.94857011e-03,  8.92686800e-04,  4.60800145e-03,\n",
       "          7.44987682e-03],\n",
       "        [-1.83384000e-02, -3.79739004e-03,  5.28083308e-04,\n",
       "         -3.31722936e-03, -6.81785366e-03,  1.96624147e-02,\n",
       "          1.09931153e-02, -2.16235445e-02,  4.09776785e-03,\n",
       "          2.58227277e-03],\n",
       "        [ 1.37515569e-02,  3.35365095e-03,  8.24741273e-03,\n",
       "         -5.34770749e-03,  5.11959031e-03, -4.63317018e-04,\n",
       "         -1.72610628e-03, -1.56717559e-02, -2.14753932e-02,\n",
       "         -1.03784846e-02],\n",
       "        [-7.53261051e-03,  3.69319644e-03,  1.48055666e-02,\n",
       "         -9.45658250e-03, -1.13445382e-02, -1.58065471e-03,\n",
       "         -2.42650322e-02,  3.56663239e-02,  2.79671745e-03,\n",
       "          1.57558161e-02],\n",
       "        [-1.21907906e-02,  2.40585520e-02, -7.35840537e-04,\n",
       "          3.09120202e-03,  2.11976361e-03, -8.91456102e-03,\n",
       "          1.60722568e-02, -1.39389974e-02,  2.68315524e-03,\n",
       "         -8.51764215e-03],\n",
       "        [ 6.39611098e-03, -4.50656206e-03,  3.30851808e-03,\n",
       "          1.12498987e-02,  8.37208886e-03,  6.13650104e-03,\n",
       "         -5.41143646e-03,  1.48669026e-03, -1.60132389e-02,\n",
       "         -1.09386742e-02],\n",
       "        [ 6.36870403e-03,  1.20912158e-02,  6.15523069e-03,\n",
       "          1.32555080e-02, -3.92243485e-03,  5.78505852e-04,\n",
       "          4.79749628e-03, -5.21863060e-03, -7.98173083e-03,\n",
       "          1.31894526e-02],\n",
       "        [ 1.98626111e-03,  3.15429672e-03, -2.07870949e-03,\n",
       "         -2.62960154e-03,  1.54273543e-02, -8.02590467e-03,\n",
       "         -7.98034864e-03,  1.30137694e-02, -1.24182499e-03,\n",
       "         -1.32428444e-02],\n",
       "        [-1.00011080e-03, -4.92090930e-03, -5.60388292e-03,\n",
       "          2.88868298e-03, -2.49168256e-02,  2.37699381e-03,\n",
       "          2.53910556e-03,  1.35172480e-02, -4.18301047e-03,\n",
       "         -1.25582799e-02],\n",
       "        [ 4.98303229e-03,  6.75502573e-03, -4.34824425e-03,\n",
       "          1.43866313e-02, -1.09881612e-02, -1.90572283e-03,\n",
       "          9.44460980e-04,  1.60675544e-02,  5.99536464e-03,\n",
       "         -5.25487444e-03],\n",
       "        [ 2.00143884e-02,  2.07630445e-03,  8.01397828e-03,\n",
       "          1.40834273e-04,  1.32278249e-03, -3.53593891e-03,\n",
       "         -8.61629583e-03,  6.02477086e-03, -2.29908410e-02,\n",
       "         -3.52496146e-03],\n",
       "        [-6.10234189e-03,  1.40101200e-02, -1.03289837e-02,\n",
       "          7.37668501e-03,  9.93606903e-03, -2.09248241e-03,\n",
       "          2.25971630e-02, -5.11926800e-03,  7.43461367e-03,\n",
       "          6.41179408e-03],\n",
       "        [ 1.05873578e-02,  1.01020182e-02, -6.16318111e-03,\n",
       "         -8.34823437e-03,  7.98347402e-03,  1.17046615e-02,\n",
       "          2.14760568e-03, -1.60348094e-03,  4.68208976e-03,\n",
       "          2.93960154e-03],\n",
       "        [ 1.64233384e-02,  3.01613301e-03, -6.98814086e-03,\n",
       "          8.27241290e-03,  7.27439058e-03, -6.77870460e-03,\n",
       "          1.37996581e-02, -9.89958093e-03,  1.46558844e-02,\n",
       "         -5.42700024e-03],\n",
       "        [-5.37935924e-03,  1.56775693e-02, -3.60493312e-03,\n",
       "         -1.44236168e-02, -6.43798492e-03, -7.28787066e-03,\n",
       "          2.39839539e-03, -7.19888407e-04, -4.28017235e-03,\n",
       "         -1.23597049e-02],\n",
       "        [ 1.55756322e-02,  9.97112742e-03, -1.48670816e-02,\n",
       "         -6.72566853e-03, -3.98134007e-03,  1.17942984e-02,\n",
       "          9.45856941e-03,  1.53650314e-02, -9.74570547e-03,\n",
       "          1.14201003e-02],\n",
       "        [-9.45903755e-04,  6.20005954e-03, -9.83996469e-03,\n",
       "         -2.55029180e-02, -9.63744631e-03,  9.34084739e-03,\n",
       "          9.12148017e-03, -3.58730330e-03, -7.96417929e-03,\n",
       "         -3.23541924e-03],\n",
       "        [ 1.34536796e-03, -8.39205091e-03, -1.46930652e-02,\n",
       "         -1.06040579e-03,  8.24236050e-03,  5.26378045e-03,\n",
       "         -1.28111502e-02,  5.88546650e-03, -9.72706639e-03,\n",
       "          6.52071499e-03],\n",
       "        [ 6.32985242e-03, -1.83707576e-03, -1.37588950e-03,\n",
       "          1.93117587e-03, -8.29054416e-03, -8.31051151e-03,\n",
       "          6.59198145e-04,  1.36470929e-02, -7.50517253e-03,\n",
       "          4.66881799e-03],\n",
       "        [ 8.14869150e-03, -2.54155249e-03,  1.22792696e-03,\n",
       "         -8.09631403e-03, -2.03639375e-02,  6.75155783e-03,\n",
       "          7.07121544e-03,  9.85026730e-03,  2.86677976e-03,\n",
       "         -8.04142720e-03],\n",
       "        [ 9.46946320e-03, -1.35945052e-02, -3.43380229e-03,\n",
       "         -1.29173319e-03,  4.30184426e-03,  1.47784824e-02,\n",
       "         -5.61485202e-03, -5.87830008e-04,  1.27766821e-03,\n",
       "          9.77441829e-03],\n",
       "        [-7.59173783e-04, -4.10843042e-03, -4.56576916e-03,\n",
       "         -3.49221234e-03,  5.21000213e-03, -5.22905723e-03,\n",
       "          4.83061371e-04,  1.18284981e-02, -5.17022644e-03,\n",
       "         -8.66972773e-03],\n",
       "        [ 5.95407172e-03, -1.94200792e-02, -4.64870483e-03,\n",
       "         -1.34369285e-02, -1.44073254e-02,  7.38196164e-03,\n",
       "          8.09058453e-03,  2.54880223e-03, -1.69651825e-02,\n",
       "          1.69438054e-02],\n",
       "        [-4.17578287e-03,  1.68627412e-02,  7.21257611e-03,\n",
       "         -1.06773074e-02, -1.03723838e-02,  6.08492612e-03,\n",
       "         -1.77121148e-02, -6.46801947e-03,  6.43626839e-03,\n",
       "          4.06452150e-04],\n",
       "        [ 1.77791287e-02,  3.67843742e-03,  8.72520544e-03,\n",
       "          1.61016570e-03,  7.26330770e-03, -5.43713347e-03,\n",
       "         -7.08338495e-03, -9.56823811e-03,  3.84327909e-03,\n",
       "         -6.99635358e-04],\n",
       "        [ 7.46181147e-03, -1.28506231e-02, -4.59961655e-03,\n",
       "          2.00540203e-02, -1.98737200e-03,  6.33148691e-03,\n",
       "         -9.54008236e-03,  2.37742198e-03,  8.18990011e-03,\n",
       "          7.01131998e-03]]),\n",
       " 'b2': array([0., 0., 0., 0., 0., 0., 0., 0., 0., 0.])}"
      ]
     },
     "execution_count": 12,
     "metadata": {},
     "output_type": "execute_result"
    }
   ],
   "source": [
    "network.params"
   ]
  },
  {
   "cell_type": "code",
   "execution_count": 13,
   "metadata": {},
   "outputs": [],
   "source": [
    "iterations = 10 #10000\n",
    "train_size = x_train[:100].shape[0]\n",
    "batch_size = 2 #100\n",
    "lr = 0.1\n",
    "\n",
    "iter_per_ecoph = max(train_size/batch_size, 1)"
   ]
  },
  {
   "cell_type": "code",
   "execution_count": 14,
   "metadata": {},
   "outputs": [],
   "source": [
    "train_losses = []\n",
    "train_accs = []\n",
    "test_accs = []"
   ]
  },
  {
   "cell_type": "code",
   "execution_count": 15,
   "metadata": {},
   "outputs": [
    {
     "name": "stdout",
     "output_type": "stream",
     "text": [
      "train acc, test_acc : 0.09871666666666666, 0.098\n"
     ]
    },
    {
     "ename": "KeyboardInterrupt",
     "evalue": "",
     "output_type": "error",
     "traceback": [
      "\u001b[1;31m---------------------------------------------------------------------------\u001b[0m",
      "\u001b[1;31mKeyboardInterrupt\u001b[0m                         Traceback (most recent call last)",
      "Cell \u001b[1;32mIn[15], line 6\u001b[0m\n\u001b[0;32m      3\u001b[0m x_batch \u001b[38;5;241m=\u001b[39m x_train[batch_mask]\n\u001b[0;32m      4\u001b[0m y_batch \u001b[38;5;241m=\u001b[39m y_train[batch_mask]\n\u001b[1;32m----> 6\u001b[0m grads \u001b[38;5;241m=\u001b[39m \u001b[43mnetwork\u001b[49m\u001b[38;5;241;43m.\u001b[39;49m\u001b[43mnumerical_gradient\u001b[49m\u001b[43m(\u001b[49m\u001b[43mx_batch\u001b[49m\u001b[43m,\u001b[49m\u001b[43m \u001b[49m\u001b[43my_batch\u001b[49m\u001b[43m)\u001b[49m\n\u001b[0;32m      8\u001b[0m \u001b[38;5;28;01mfor\u001b[39;00m key \u001b[38;5;129;01min\u001b[39;00m (\u001b[38;5;124m'\u001b[39m\u001b[38;5;124mw1\u001b[39m\u001b[38;5;124m'\u001b[39m, \u001b[38;5;124m'\u001b[39m\u001b[38;5;124mb1\u001b[39m\u001b[38;5;124m'\u001b[39m, \u001b[38;5;124m'\u001b[39m\u001b[38;5;124mw2\u001b[39m\u001b[38;5;124m'\u001b[39m, \u001b[38;5;124m'\u001b[39m\u001b[38;5;124mb2\u001b[39m\u001b[38;5;124m'\u001b[39m):\n\u001b[0;32m      9\u001b[0m     network\u001b[38;5;241m.\u001b[39mparams[key] \u001b[38;5;241m-\u001b[39m\u001b[38;5;241m=\u001b[39m lr\u001b[38;5;241m*\u001b[39mgrads[key]\n",
      "Cell \u001b[1;32mIn[10], line 65\u001b[0m, in \u001b[0;36mTwoLayerNet.numerical_gradient\u001b[1;34m(self, x, y)\u001b[0m\n\u001b[0;32m     62\u001b[0m loss_w \u001b[38;5;241m=\u001b[39m \u001b[38;5;28;01mlambda\u001b[39;00m w: \u001b[38;5;28mself\u001b[39m\u001b[38;5;241m.\u001b[39mloss(x, y)\n\u001b[0;32m     64\u001b[0m grads \u001b[38;5;241m=\u001b[39m {}\n\u001b[1;32m---> 65\u001b[0m grads[\u001b[38;5;124m'\u001b[39m\u001b[38;5;124mw1\u001b[39m\u001b[38;5;124m'\u001b[39m] \u001b[38;5;241m=\u001b[39m \u001b[38;5;28;43mself\u001b[39;49m\u001b[38;5;241;43m.\u001b[39;49m\u001b[43m_numerical_gradient\u001b[49m\u001b[43m(\u001b[49m\u001b[43mloss_w\u001b[49m\u001b[43m,\u001b[49m\u001b[43m \u001b[49m\u001b[38;5;28;43mself\u001b[39;49m\u001b[38;5;241;43m.\u001b[39;49m\u001b[43mparams\u001b[49m\u001b[43m[\u001b[49m\u001b[38;5;124;43m'\u001b[39;49m\u001b[38;5;124;43mw1\u001b[39;49m\u001b[38;5;124;43m'\u001b[39;49m\u001b[43m]\u001b[49m\u001b[43m)\u001b[49m\n\u001b[0;32m     66\u001b[0m grads[\u001b[38;5;124m'\u001b[39m\u001b[38;5;124mb1\u001b[39m\u001b[38;5;124m'\u001b[39m] \u001b[38;5;241m=\u001b[39m \u001b[38;5;28mself\u001b[39m\u001b[38;5;241m.\u001b[39m_numerical_gradient(loss_w, \u001b[38;5;28mself\u001b[39m\u001b[38;5;241m.\u001b[39mparams[\u001b[38;5;124m'\u001b[39m\u001b[38;5;124mb1\u001b[39m\u001b[38;5;124m'\u001b[39m])\n\u001b[0;32m     67\u001b[0m grads[\u001b[38;5;124m'\u001b[39m\u001b[38;5;124mw2\u001b[39m\u001b[38;5;124m'\u001b[39m] \u001b[38;5;241m=\u001b[39m \u001b[38;5;28mself\u001b[39m\u001b[38;5;241m.\u001b[39m_numerical_gradient(loss_w, \u001b[38;5;28mself\u001b[39m\u001b[38;5;241m.\u001b[39mparams[\u001b[38;5;124m'\u001b[39m\u001b[38;5;124mw2\u001b[39m\u001b[38;5;124m'\u001b[39m])\n",
      "Cell \u001b[1;32mIn[10], line 49\u001b[0m, in \u001b[0;36mTwoLayerNet._numerical_gradient\u001b[1;34m(self, f, x)\u001b[0m\n\u001b[0;32m     47\u001b[0m tmp_val \u001b[38;5;241m=\u001b[39m x[idx]\n\u001b[0;32m     48\u001b[0m x[idx] \u001b[38;5;241m=\u001b[39m \u001b[38;5;28mfloat\u001b[39m(tmp_val) \u001b[38;5;241m+\u001b[39m h\n\u001b[1;32m---> 49\u001b[0m fxh1 \u001b[38;5;241m=\u001b[39m \u001b[43mf\u001b[49m\u001b[43m(\u001b[49m\u001b[43mx\u001b[49m\u001b[43m)\u001b[49m \u001b[38;5;66;03m# f(x+h)\u001b[39;00m\n\u001b[0;32m     51\u001b[0m x[idx] \u001b[38;5;241m=\u001b[39m tmp_val \u001b[38;5;241m-\u001b[39m h \n\u001b[0;32m     52\u001b[0m fxh2 \u001b[38;5;241m=\u001b[39m f(x) \u001b[38;5;66;03m# f(x-h)\u001b[39;00m\n",
      "Cell \u001b[1;32mIn[10], line 62\u001b[0m, in \u001b[0;36mTwoLayerNet.numerical_gradient.<locals>.<lambda>\u001b[1;34m(w)\u001b[0m\n\u001b[0;32m     61\u001b[0m \u001b[38;5;28;01mdef\u001b[39;00m \u001b[38;5;21mnumerical_gradient\u001b[39m(\u001b[38;5;28mself\u001b[39m, x, y):\n\u001b[1;32m---> 62\u001b[0m     loss_w \u001b[38;5;241m=\u001b[39m \u001b[38;5;28;01mlambda\u001b[39;00m w: \u001b[38;5;28;43mself\u001b[39;49m\u001b[38;5;241;43m.\u001b[39;49m\u001b[43mloss\u001b[49m\u001b[43m(\u001b[49m\u001b[43mx\u001b[49m\u001b[43m,\u001b[49m\u001b[43m \u001b[49m\u001b[43my\u001b[49m\u001b[43m)\u001b[49m\n\u001b[0;32m     64\u001b[0m     grads \u001b[38;5;241m=\u001b[39m {}\n\u001b[0;32m     65\u001b[0m     grads[\u001b[38;5;124m'\u001b[39m\u001b[38;5;124mw1\u001b[39m\u001b[38;5;124m'\u001b[39m] \u001b[38;5;241m=\u001b[39m \u001b[38;5;28mself\u001b[39m\u001b[38;5;241m.\u001b[39m_numerical_gradient(loss_w, \u001b[38;5;28mself\u001b[39m\u001b[38;5;241m.\u001b[39mparams[\u001b[38;5;124m'\u001b[39m\u001b[38;5;124mw1\u001b[39m\u001b[38;5;124m'\u001b[39m])\n",
      "Cell \u001b[1;32mIn[10], line 26\u001b[0m, in \u001b[0;36mTwoLayerNet.loss\u001b[1;34m(self, x, y)\u001b[0m\n\u001b[0;32m     25\u001b[0m \u001b[38;5;28;01mdef\u001b[39;00m \u001b[38;5;21mloss\u001b[39m(\u001b[38;5;28mself\u001b[39m, x, y):\n\u001b[1;32m---> 26\u001b[0m     y_hat \u001b[38;5;241m=\u001b[39m \u001b[38;5;28;43mself\u001b[39;49m\u001b[38;5;241;43m.\u001b[39;49m\u001b[43mpredict\u001b[49m\u001b[43m(\u001b[49m\u001b[43mx\u001b[49m\u001b[43m)\u001b[49m\n\u001b[0;32m     28\u001b[0m     \u001b[38;5;28;01mreturn\u001b[39;00m \u001b[38;5;28mself\u001b[39m\u001b[38;5;241m.\u001b[39merrors\u001b[38;5;241m.\u001b[39mcross_entropy_error(y_hat, y)\n",
      "Cell \u001b[1;32mIn[10], line 18\u001b[0m, in \u001b[0;36mTwoLayerNet.predict\u001b[1;34m(self, x)\u001b[0m\n\u001b[0;32m     15\u001b[0m w1, w2 \u001b[38;5;241m=\u001b[39m \u001b[38;5;28mself\u001b[39m\u001b[38;5;241m.\u001b[39mparams[\u001b[38;5;124m'\u001b[39m\u001b[38;5;124mw1\u001b[39m\u001b[38;5;124m'\u001b[39m], \u001b[38;5;28mself\u001b[39m\u001b[38;5;241m.\u001b[39mparams[\u001b[38;5;124m'\u001b[39m\u001b[38;5;124mw2\u001b[39m\u001b[38;5;124m'\u001b[39m]\n\u001b[0;32m     16\u001b[0m b1, b2 \u001b[38;5;241m=\u001b[39m \u001b[38;5;28mself\u001b[39m\u001b[38;5;241m.\u001b[39mparams[\u001b[38;5;124m'\u001b[39m\u001b[38;5;124mb1\u001b[39m\u001b[38;5;124m'\u001b[39m], \u001b[38;5;28mself\u001b[39m\u001b[38;5;241m.\u001b[39mparams[\u001b[38;5;124m'\u001b[39m\u001b[38;5;124mb2\u001b[39m\u001b[38;5;124m'\u001b[39m]\n\u001b[1;32m---> 18\u001b[0m a1 \u001b[38;5;241m=\u001b[39m \u001b[43mnp\u001b[49m\u001b[38;5;241;43m.\u001b[39;49m\u001b[43mdot\u001b[49m\u001b[43m(\u001b[49m\u001b[43mx\u001b[49m\u001b[43m,\u001b[49m\u001b[43m \u001b[49m\u001b[43mw1\u001b[49m\u001b[43m)\u001b[49m \u001b[38;5;241m+\u001b[39m b1\n\u001b[0;32m     19\u001b[0m z1 \u001b[38;5;241m=\u001b[39m \u001b[38;5;28mself\u001b[39m\u001b[38;5;241m.\u001b[39mactivations\u001b[38;5;241m.\u001b[39msigmoid(a1)\n\u001b[0;32m     20\u001b[0m a2 \u001b[38;5;241m=\u001b[39m np\u001b[38;5;241m.\u001b[39mdot(z1, w2) \u001b[38;5;241m+\u001b[39m b2\n",
      "\u001b[1;31mKeyboardInterrupt\u001b[0m: "
     ]
    }
   ],
   "source": [
    "for i in range(iterations):\n",
    "    batch_mask = np.random.choice(train_size, batch_size)\n",
    "    x_batch = x_train[batch_mask]\n",
    "    y_batch = y_train[batch_mask]\n",
    "\n",
    "    grads = network.numerical_gradient(x_batch, y_batch)\n",
    "\n",
    "    for key in ('w1', 'b1', 'w2', 'b2'):\n",
    "        network.params[key] -= lr*grads[key]\n",
    "\n",
    "    ## this is for plotting losses over time\n",
    "    train_losses.append(network.loss(x_batch, y_batch))\n",
    "\n",
    "    if i%iter_per_ecoph == 0:\n",
    "        train_acc = network.accuracy(x_train, y_train)\n",
    "        train_accs.append(train_acc)\n",
    "        test_acc = network.accuracy(x_test, y_test)\n",
    "        test_accs.append(test_acc)\n",
    "        print(f'train acc, test_acc : {train_acc}, {test_acc}')"
   ]
  },
  {
   "cell_type": "code",
   "execution_count": 16,
   "metadata": {},
   "outputs": [
    {
     "data": {
      "image/png": "[encoded data removed]",
      "text/plain": [
       "<Figure size 640x480 with 1 Axes>"
      ]
     },
     "metadata": {},
     "output_type": "display_data"
    }
   ],
   "source": [
    "markers = {'train': 'o', 'test': 's'}\n",
    "x = np.arange(len(train_accs))\n",
    "plt.plot(x, train_accs, label='train acc')\n",
    "plt.plot(x, test_accs, label='test acc', linestyle='--')\n",
    "plt.xlabel(\"epochs\")\n",
    "plt.ylabel(\"accuracy\")\n",
    "plt.ylim(0, 1.0)\n",
    "plt.legend(loc='lower right')\n",
    "plt.show()"
   ]
  },
  {
   "cell_type": "markdown",
   "metadata": {},
   "source": [
    "#Backpropegation"
   ]
  },
  {
   "cell_type": "code",
   "execution_count": 17,
   "metadata": {},
   "outputs": [],
   "source": [
    "class Relu:\n",
    "    def __init__(self):\n",
    "        self.mask = None\n",
    "\n",
    "    def forward(self, x):\n",
    "        self.mask = (x <= 0)\n",
    "        out = x.copy()\n",
    "        out[self.mask] = 0\n",
    "\n",
    "        return out\n",
    "\n",
    "    def backward(self, dout):\n",
    "        dout[self.mask] = 0\n",
    "        dx = dout\n",
    "\n",
    "        return dx\n",
    "\n",
    "\n",
    "class Sigmoid:\n",
    "    def __init__(self):\n",
    "        self.out = None\n",
    "        self.activations = Activations()\n",
    "\n",
    "    def forward(self, x):\n",
    "        out = self.activations.sigmoid(x)\n",
    "        self.out = out\n",
    "        return out\n",
    "\n",
    "    def backward(self, dout):\n",
    "        dx = dout * (1.0 - self.out) * self.out\n",
    "\n",
    "        return dx\n",
    "    \n",
    "class Affine:\n",
    "    def __init__(self, w, b):\n",
    "        self.w = w\n",
    "        self.b = b\n",
    "        \n",
    "        self.x = None\n",
    "        self.original_x_shape = None\n",
    "\n",
    "        self.dw = None\n",
    "        self.db = None\n",
    "\n",
    "    def forward(self, x):\n",
    "        # \n",
    "        self.original_x_shape = x.shape\n",
    "        x = x.reshape(x.shape[0], -1)\n",
    "        self.x = x\n",
    "\n",
    "        out = np.dot(self.x, self.w) + self.b\n",
    "\n",
    "        return out\n",
    "\n",
    "    def backward(self, dout):\n",
    "        dx = np.dot(dout, self.w.T)\n",
    "        self.dw = np.dot(self.x.T, dout)\n",
    "        self.db = np.sum(dout, axis=0)\n",
    "        \n",
    "        dx = dx.reshape(*self.original_x_shape)  \n",
    "        return dx\n",
    "\n",
    "class SoftmaxWithLoss:\n",
    "    def __init__(self):\n",
    "        self.loss = None \n",
    "        self.y_hat = None    \n",
    "        self.y = None    \n",
    "        self.activations = Activations()\n",
    "        self.errors = Errors()\n",
    "        \n",
    "    def forward(self, x, y):\n",
    "        self.y = y\n",
    "        self.y_hat = self.activations.softmax(x)\n",
    "        self.loss = self.errors.cross_entropy_error(self.y_hat, self.y)\n",
    "        \n",
    "        return self.loss\n",
    "\n",
    "    def backward(self, dout=1):\n",
    "        batch_size = self.y.shape[0]\n",
    "        #if self.y.size == self.y_hat.size: # one hot encoding\n",
    "        \n",
    "        dx = (self.y_hat - self.y) / batch_size\n",
    "        \n",
    "        \"\"\"\n",
    "        else:\n",
    "            dx = self.y_hat.copy()\n",
    "            dx[np.arange(batch_size), self.t] -= 1\n",
    "            dx = dx / batch_size\n",
    "        \"\"\"\n",
    "        return dx"
   ]
  },
  {
   "cell_type": "code",
   "execution_count": 18,
   "metadata": {},
   "outputs": [],
   "source": [
    "import numpy as np\n",
    "from activations import Activations\n",
    "from errors import Errors"
   ]
  },
  {
   "cell_type": "code",
   "execution_count": 19,
   "metadata": {},
   "outputs": [],
   "source": [
    "from collections import OrderedDict"
   ]
  },
  {
   "cell_type": "code",
   "execution_count": 20,
   "metadata": {},
   "outputs": [],
   "source": [
    "class TwoLayerNetWithBackProp:\n",
    "    def __init__(self, input_size, hidden_size, output_size, weight_init_std=0.01):\n",
    "        self.params = {}\n",
    "\n",
    "        self.params['w1'] = weight_init_std*np.random.randn(input_size, hidden_size)\n",
    "        self.params['b1'] = np.zeros(hidden_size)\n",
    "\n",
    "        self.params['w2'] = weight_init_std*np.random.randn(hidden_size, output_size)\n",
    "        self.params['b2'] = np.zeros(output_size)\n",
    "\n",
    "        self.activations = Activations()\n",
    "        self.errors = Errors()\n",
    "\n",
    "        # add layers\n",
    "        self.layers = OrderedDict()\n",
    "        self.update_layers()\n",
    "        self.last_layer = SoftmaxWithLoss()\n",
    "\n",
    "\n",
    "    def update_layers(self):\n",
    "        self.layers['Affine1'] = Affine(self.params['w1'], self.params['b1'])\n",
    "        self.layers['Rele1'] = Relu()\n",
    "        self.layers['Affine2'] = Affine(self.params['w2'], self.params['b2'])\n",
    "\n",
    "\n",
    "    def predict(self, x):\n",
    "        ## new implementation for backprop\n",
    "        for layer in self.layers.values():\n",
    "            x = layer.forward(x)\n",
    "\n",
    "        y = x\n",
    "        return y\n",
    "    \n",
    "    def loss(self, x, y):\n",
    "        y_hat = self.predict(x)\n",
    "\n",
    "        # return self.errors.cross_entropy_error(y_hat, y)\n",
    "        return self.last_layer.forward(y_hat, y)\n",
    "\n",
    "    def accuracy(self, x, y):\n",
    "        y_hat = self.predict(x)\n",
    "        p = np.argmax(y_hat, axis=1)\n",
    "        y_p = np.argmax(y, axis=1)\n",
    "\n",
    "        return np.sum(p == y_p)/float(x.shape[0])\n",
    "    \n",
    "\n",
    "    def gradient(self, x, y):\n",
    "        self.loss(x, y)\n",
    "\n",
    "        dout = 1\n",
    "        dout = self.last_layer.backward(dout)\n",
    "\n",
    "        layers = list(self.layers.values())\n",
    "        layers.reverse()\n",
    "        for layer in layers:\n",
    "            dout = layer.backward(dout)\n",
    "\n",
    "        grads = {}\n",
    "        grads['w1'] = self.layers['Affine1'].dw\n",
    "        grads['b1'] = self.layers['Affine1'].db\n",
    "        grads['w2'] = self.layers['Affine2'].dw\n",
    "        grads['b2'] = self.layers['Affine2'].db\n",
    "      \n",
    "        return grads"
   ]
  },
  {
   "cell_type": "code",
   "execution_count": 21,
   "metadata": {},
   "outputs": [],
   "source": [
    "from mnist import Mnist"
   ]
  },
  {
   "cell_type": "code",
   "execution_count": 22,
   "metadata": {},
   "outputs": [
    {
     "name": "stdout",
     "output_type": "stream",
     "text": [
      "File: train-images-idx3-ubyte.gz already exists.\n",
      "File: train-labels-idx1-ubyte.gz already exists.\n",
      "File: t10k-images-idx3-ubyte.gz already exists.\n",
      "File: t10k-labels-idx1-ubyte.gz already exists.\n",
      "Pickle: dataset/mnist.pkl already exists.\n",
      "loading....\n",
      "Done\n"
     ]
    }
   ],
   "source": [
    "mnist = Mnist()"
   ]
  },
  {
   "cell_type": "code",
   "execution_count": 23,
   "metadata": {},
   "outputs": [],
   "source": [
    "(x_train, y_train), (x_test, y_test) = mnist.load()"
   ]
  },
  {
   "cell_type": "code",
   "execution_count": 24,
   "metadata": {},
   "outputs": [
    {
     "name": "stdout",
     "output_type": "stream",
     "text": [
      "(60000, 784)\n"
     ]
    }
   ],
   "source": [
    "print(x_train.shape)"
   ]
  },
  {
   "cell_type": "code",
   "execution_count": 25,
   "metadata": {},
   "outputs": [],
   "source": [
    "network = TwoLayerNetWithBackProp(input_size=28*28, hidden_size=100, output_size=10)"
   ]
  },
  {
   "cell_type": "code",
   "execution_count": 26,
   "metadata": {},
   "outputs": [],
   "source": [
    "iterations = 10000\n",
    "train_size = x_train.shape[0]\n",
    "batch_size = 100\n",
    "lr = 0.1\n",
    "\n",
    "iter_per_ecoph = max(train_size/batch_size, 1)"
   ]
  },
  {
   "cell_type": "code",
   "execution_count": 27,
   "metadata": {},
   "outputs": [],
   "source": [
    "train_losses = []\n",
    "train_accs = []\n",
    "test_accs = []"
   ]
  },
  {
   "cell_type": "code",
   "execution_count": 28,
   "metadata": {},
   "outputs": [
    {
     "name": "stdout",
     "output_type": "stream",
     "text": [
      "train acc, test_acc : 0.11911666666666666, 0.1192\n",
      "train acc, test_acc : 0.9061166666666667, 0.9065\n",
      "train acc, test_acc : 0.9263833333333333, 0.9274\n",
      "train acc, test_acc : 0.9404666666666667, 0.938\n",
      "train acc, test_acc : 0.9504166666666667, 0.9476\n",
      "train acc, test_acc : 0.9551833333333334, 0.9527\n",
      "train acc, test_acc : 0.96115, 0.9552\n",
      "train acc, test_acc : 0.9635666666666667, 0.9586\n",
      "train acc, test_acc : 0.9683333333333334, 0.9634\n",
      "train acc, test_acc : 0.97135, 0.965\n",
      "train acc, test_acc : 0.9749333333333333, 0.9684\n",
      "train acc, test_acc : 0.9758166666666667, 0.9688\n",
      "train acc, test_acc : 0.9785, 0.9717\n",
      "train acc, test_acc : 0.9798833333333333, 0.9723\n",
      "train acc, test_acc : 0.98095, 0.9719\n",
      "train acc, test_acc : 0.9822833333333333, 0.9744\n",
      "train acc, test_acc : 0.9836666666666667, 0.9739\n"
     ]
    }
   ],
   "source": [
    "for i in range(iterations):\n",
    "    batch_mask = np.random.choice(train_size, batch_size)\n",
    "    x_batch = x_train[batch_mask]\n",
    "    y_batch = y_train[batch_mask]\n",
    "\n",
    "    grads = network.gradient(x_batch, y_batch)\n",
    "\n",
    "    for key in ('w1', 'b1', 'w2', 'b2'):\n",
    "        network.params[key] -= lr*grads[key]\n",
    "\n",
    "    ## this is for plotting losses over time\n",
    "    train_losses.append(network.loss(x_batch, y_batch))\n",
    "\n",
    "    if i%iter_per_ecoph == 0:\n",
    "        train_acc = network.accuracy(x_train, y_train)\n",
    "        train_accs.append(train_acc)\n",
    "        test_acc = network.accuracy(x_test, y_test)\n",
    "        test_accs.append(test_acc)\n",
    "        print(f'train acc, test_acc : {train_acc}, {test_acc}')"
   ]
  },
  {
   "cell_type": "code",
   "execution_count": 29,
   "metadata": {},
   "outputs": [
    {
     "data": {
      "image/png": "[encoded data removed]",
      "text/plain": [
       "<Figure size 640x480 with 1 Axes>"
      ]
     },
     "metadata": {},
     "output_type": "display_data"
    }
   ],
   "source": [
    "markers = {'train': 'o', 'test': 's'}\n",
    "x = np.arange(len(train_accs))\n",
    "plt.plot(x, train_accs, label='train acc')\n",
    "plt.plot(x, test_accs, label='test acc', linestyle='--')\n",
    "plt.xlabel(\"epochs\")\n",
    "plt.ylabel(\"accuracy\")\n",
    "plt.ylim(0, 1.0)\n",
    "plt.legend(loc='lower right')\n",
    "plt.show()"
   ]
  },
  {
   "cell_type": "markdown",
   "metadata": {},
   "source": [
    "#testing with other values"
   ]
  },
  {
   "cell_type": "code",
   "execution_count": 88,
   "metadata": {},
   "outputs": [],
   "source": [
    "network = TwoLayerNetWithBackProp(input_size=28*28, hidden_size=100, output_size=10)"
   ]
  },
  {
   "cell_type": "code",
   "execution_count": 91,
   "metadata": {},
   "outputs": [],
   "source": [
    "iterations = 50000\n",
    "train_size = x_train.shape[0]\n",
    "batch_size = 20\n",
    "lr = 0.1\n",
    "\n",
    "iter_per_ecoph = max(train_size/batch_size, 1)"
   ]
  },
  {
   "cell_type": "code",
   "execution_count": 92,
   "metadata": {},
   "outputs": [],
   "source": [
    "train_losses = []\n",
    "train_accs = []\n",
    "test_accs = []"
   ]
  },
  {
   "cell_type": "code",
   "execution_count": 93,
   "metadata": {},
   "outputs": [
    {
     "name": "stdout",
     "output_type": "stream",
     "text": [
      "train acc, test_acc : 0.11993333333333334, 0.1175\n",
      "train acc, test_acc : 0.9463833333333334, 0.9453\n",
      "train acc, test_acc : 0.9686666666666667, 0.9643\n",
      "train acc, test_acc : 0.9762166666666666, 0.9699\n",
      "train acc, test_acc : 0.9772166666666666, 0.9698\n",
      "train acc, test_acc : 0.9830166666666666, 0.971\n",
      "train acc, test_acc : 0.98635, 0.9754\n",
      "train acc, test_acc : 0.9871666666666666, 0.9749\n",
      "train acc, test_acc : 0.9903, 0.9771\n",
      "train acc, test_acc : 0.9929, 0.9769\n",
      "train acc, test_acc : 0.9918, 0.9762\n",
      "train acc, test_acc : 0.99245, 0.9745\n",
      "train acc, test_acc : 0.996, 0.9777\n",
      "train acc, test_acc : 0.9964833333333334, 0.9792\n",
      "train acc, test_acc : 0.9970833333333333, 0.979\n",
      "train acc, test_acc : 0.99685, 0.977\n",
      "train acc, test_acc : 0.9979, 0.9786\n"
     ]
    }
   ],
   "source": [
    "for i in range(iterations):\n",
    "    batch_mask = np.random.choice(train_size, batch_size)\n",
    "    x_batch = x_train[batch_mask]\n",
    "    y_batch = y_train[batch_mask]\n",
    "\n",
    "    grads = network.gradient(x_batch, y_batch)\n",
    "\n",
    "    for key in ('w1', 'b1', 'w2', 'b2'):\n",
    "        network.params[key] -= lr*grads[key]\n",
    "\n",
    "    ## this is for plotting losses over time\n",
    "    train_losses.append(network.loss(x_batch, y_batch))\n",
    "\n",
    "    if i%iter_per_ecoph == 0:\n",
    "        train_acc = network.accuracy(x_train, y_train)\n",
    "        train_accs.append(train_acc)\n",
    "        test_acc = network.accuracy(x_test, y_test)\n",
    "        test_accs.append(test_acc)\n",
    "        print(f'train acc, test_acc : {train_acc}, {test_acc}')"
   ]
  },
  {
   "cell_type": "code",
   "execution_count": 94,
   "metadata": {},
   "outputs": [
    {
     "data": {
      "image/png": "[encoded data removed]",
      "text/plain": [
       "<Figure size 640x480 with 1 Axes>"
      ]
     },
     "metadata": {},
     "output_type": "display_data"
    }
   ],
   "source": [
    "markers = {'train': 'o', 'test': 's'}\n",
    "x = np.arange(len(train_accs))\n",
    "plt.plot(x, train_accs, label='train acc')\n",
    "plt.plot(x, test_accs, label='test acc', linestyle='--')\n",
    "plt.xlabel(\"epochs\")\n",
    "plt.ylabel(\"accuracy\")\n",
    "plt.ylim(0, 1.0)\n",
    "plt.legend(loc='lower right')\n",
    "plt.show()"
   ]
  },
  {
   "cell_type": "markdown",
   "metadata": {},
   "source": [
    "#noticing a trend of smaller batch sizes = getting better guesses faster, definitely a trade off with performance"
   ]
  },
  {
   "cell_type": "code",
   "execution_count": 82,
   "metadata": {},
   "outputs": [],
   "source": [
    "network = TwoLayerNetWithBackProp(input_size=28*28, hidden_size=100, output_size=10)"
   ]
  },
  {
   "cell_type": "code",
   "execution_count": 84,
   "metadata": {},
   "outputs": [],
   "source": [
    "iterations = 20000\n",
    "train_size = x_train.shape[0]\n",
    "batch_size = 200\n",
    "lr = 0.1\n",
    "\n",
    "iter_per_ecoph = max(train_size/batch_size, 1)"
   ]
  },
  {
   "cell_type": "code",
   "execution_count": 85,
   "metadata": {},
   "outputs": [],
   "source": [
    "train_losses = []\n",
    "train_accs = []\n",
    "test_accs = []"
   ]
  },
  {
   "cell_type": "code",
   "execution_count": 86,
   "metadata": {},
   "outputs": [
    {
     "name": "stdout",
     "output_type": "stream",
     "text": [
      "train acc, test_acc : 0.10913333333333333, 0.1071\n",
      "train acc, test_acc : 0.8876166666666667, 0.8915\n",
      "train acc, test_acc : 0.9078833333333334, 0.9108\n",
      "train acc, test_acc : 0.9176, 0.9214\n",
      "train acc, test_acc : 0.9257166666666666, 0.927\n",
      "train acc, test_acc : 0.9332666666666667, 0.9347\n",
      "train acc, test_acc : 0.9393666666666667, 0.9386\n",
      "train acc, test_acc : 0.9440166666666666, 0.9416\n",
      "train acc, test_acc : 0.94825, 0.9448\n",
      "train acc, test_acc : 0.95145, 0.9479\n",
      "train acc, test_acc : 0.9550833333333333, 0.9515\n",
      "train acc, test_acc : 0.9585166666666667, 0.9558\n",
      "train acc, test_acc : 0.96095, 0.9574\n",
      "train acc, test_acc : 0.9627666666666667, 0.9583\n",
      "train acc, test_acc : 0.9649166666666666, 0.9608\n",
      "train acc, test_acc : 0.9668333333333333, 0.9617\n",
      "train acc, test_acc : 0.9693, 0.9649\n",
      "train acc, test_acc : 0.9711833333333333, 0.9662\n",
      "train acc, test_acc : 0.9719, 0.9674\n",
      "train acc, test_acc : 0.9732666666666666, 0.9681\n",
      "train acc, test_acc : 0.97425, 0.9681\n",
      "train acc, test_acc : 0.9757, 0.97\n",
      "train acc, test_acc : 0.9764833333333334, 0.9687\n",
      "train acc, test_acc : 0.9779, 0.9722\n",
      "train acc, test_acc : 0.9783333333333334, 0.9709\n",
      "train acc, test_acc : 0.9796666666666667, 0.9726\n",
      "train acc, test_acc : 0.9802833333333333, 0.9728\n",
      "train acc, test_acc : 0.98045, 0.9735\n",
      "train acc, test_acc : 0.9815666666666667, 0.973\n",
      "train acc, test_acc : 0.9825666666666667, 0.9745\n",
      "train acc, test_acc : 0.9828833333333333, 0.9742\n",
      "train acc, test_acc : 0.9835, 0.9741\n",
      "train acc, test_acc : 0.9833166666666666, 0.9739\n",
      "train acc, test_acc : 0.9845833333333334, 0.975\n",
      "train acc, test_acc : 0.98525, 0.9745\n",
      "train acc, test_acc : 0.98515, 0.9758\n",
      "train acc, test_acc : 0.9867166666666667, 0.9749\n",
      "train acc, test_acc : 0.9868333333333333, 0.9752\n",
      "train acc, test_acc : 0.9869, 0.9755\n",
      "train acc, test_acc : 0.9875666666666667, 0.9769\n",
      "train acc, test_acc : 0.9881333333333333, 0.9758\n",
      "train acc, test_acc : 0.9885666666666667, 0.9761\n",
      "train acc, test_acc : 0.9887166666666667, 0.9769\n",
      "train acc, test_acc : 0.9894, 0.9762\n",
      "train acc, test_acc : 0.9895666666666667, 0.9768\n",
      "train acc, test_acc : 0.9901666666666666, 0.9777\n",
      "train acc, test_acc : 0.9901166666666666, 0.9778\n",
      "train acc, test_acc : 0.9902333333333333, 0.9763\n",
      "train acc, test_acc : 0.9910333333333333, 0.9774\n",
      "train acc, test_acc : 0.9911666666666666, 0.9781\n",
      "train acc, test_acc : 0.99145, 0.9769\n",
      "train acc, test_acc : 0.9916, 0.9764\n",
      "train acc, test_acc : 0.99195, 0.9783\n",
      "train acc, test_acc : 0.99235, 0.9779\n",
      "train acc, test_acc : 0.9926833333333334, 0.9772\n",
      "train acc, test_acc : 0.9929, 0.9791\n",
      "train acc, test_acc : 0.9929833333333333, 0.9779\n",
      "train acc, test_acc : 0.9932166666666666, 0.9784\n",
      "train acc, test_acc : 0.9934333333333333, 0.9776\n",
      "train acc, test_acc : 0.9938333333333333, 0.9793\n",
      "train acc, test_acc : 0.9940333333333333, 0.979\n"
     ]
    },
    {
     "ename": "KeyboardInterrupt",
     "evalue": "",
     "output_type": "error",
     "traceback": [
      "\u001b[1;31m---------------------------------------------------------------------------\u001b[0m",
      "\u001b[1;31mKeyboardInterrupt\u001b[0m                         Traceback (most recent call last)",
      "Cell \u001b[1;32mIn[86], line 6\u001b[0m\n\u001b[0;32m      3\u001b[0m x_batch \u001b[38;5;241m=\u001b[39m x_train[batch_mask]\n\u001b[0;32m      4\u001b[0m y_batch \u001b[38;5;241m=\u001b[39m y_train[batch_mask]\n\u001b[1;32m----> 6\u001b[0m grads \u001b[38;5;241m=\u001b[39m \u001b[43mnetwork\u001b[49m\u001b[38;5;241;43m.\u001b[39;49m\u001b[43mgradient\u001b[49m\u001b[43m(\u001b[49m\u001b[43mx_batch\u001b[49m\u001b[43m,\u001b[49m\u001b[43m \u001b[49m\u001b[43my_batch\u001b[49m\u001b[43m)\u001b[49m\n\u001b[0;32m      8\u001b[0m \u001b[38;5;28;01mfor\u001b[39;00m key \u001b[38;5;129;01min\u001b[39;00m (\u001b[38;5;124m'\u001b[39m\u001b[38;5;124mw1\u001b[39m\u001b[38;5;124m'\u001b[39m, \u001b[38;5;124m'\u001b[39m\u001b[38;5;124mb1\u001b[39m\u001b[38;5;124m'\u001b[39m, \u001b[38;5;124m'\u001b[39m\u001b[38;5;124mw2\u001b[39m\u001b[38;5;124m'\u001b[39m, \u001b[38;5;124m'\u001b[39m\u001b[38;5;124mb2\u001b[39m\u001b[38;5;124m'\u001b[39m):\n\u001b[0;32m      9\u001b[0m     network\u001b[38;5;241m.\u001b[39mparams[key] \u001b[38;5;241m-\u001b[39m\u001b[38;5;241m=\u001b[39m lr\u001b[38;5;241m*\u001b[39mgrads[key]\n",
      "Cell \u001b[1;32mIn[20], line 49\u001b[0m, in \u001b[0;36mTwoLayerNetWithBackProp.gradient\u001b[1;34m(self, x, y)\u001b[0m\n\u001b[0;32m     48\u001b[0m \u001b[38;5;28;01mdef\u001b[39;00m \u001b[38;5;21mgradient\u001b[39m(\u001b[38;5;28mself\u001b[39m, x, y):\n\u001b[1;32m---> 49\u001b[0m     \u001b[38;5;28;43mself\u001b[39;49m\u001b[38;5;241;43m.\u001b[39;49m\u001b[43mloss\u001b[49m\u001b[43m(\u001b[49m\u001b[43mx\u001b[49m\u001b[43m,\u001b[49m\u001b[43m \u001b[49m\u001b[43my\u001b[49m\u001b[43m)\u001b[49m\n\u001b[0;32m     51\u001b[0m     dout \u001b[38;5;241m=\u001b[39m \u001b[38;5;241m1\u001b[39m\n\u001b[0;32m     52\u001b[0m     dout \u001b[38;5;241m=\u001b[39m \u001b[38;5;28mself\u001b[39m\u001b[38;5;241m.\u001b[39mlast_layer\u001b[38;5;241m.\u001b[39mbackward(dout)\n",
      "Cell \u001b[1;32mIn[20], line 35\u001b[0m, in \u001b[0;36mTwoLayerNetWithBackProp.loss\u001b[1;34m(self, x, y)\u001b[0m\n\u001b[0;32m     34\u001b[0m \u001b[38;5;28;01mdef\u001b[39;00m \u001b[38;5;21mloss\u001b[39m(\u001b[38;5;28mself\u001b[39m, x, y):\n\u001b[1;32m---> 35\u001b[0m     y_hat \u001b[38;5;241m=\u001b[39m \u001b[38;5;28;43mself\u001b[39;49m\u001b[38;5;241;43m.\u001b[39;49m\u001b[43mpredict\u001b[49m\u001b[43m(\u001b[49m\u001b[43mx\u001b[49m\u001b[43m)\u001b[49m\n\u001b[0;32m     37\u001b[0m     \u001b[38;5;66;03m# return self.errors.cross_entropy_error(y_hat, y)\u001b[39;00m\n\u001b[0;32m     38\u001b[0m     \u001b[38;5;28;01mreturn\u001b[39;00m \u001b[38;5;28mself\u001b[39m\u001b[38;5;241m.\u001b[39mlast_layer\u001b[38;5;241m.\u001b[39mforward(y_hat, y)\n",
      "Cell \u001b[1;32mIn[20], line 29\u001b[0m, in \u001b[0;36mTwoLayerNetWithBackProp.predict\u001b[1;34m(self, x)\u001b[0m\n\u001b[0;32m     26\u001b[0m \u001b[38;5;28;01mdef\u001b[39;00m \u001b[38;5;21mpredict\u001b[39m(\u001b[38;5;28mself\u001b[39m, x):\n\u001b[0;32m     27\u001b[0m     \u001b[38;5;66;03m## new implementation for backprop\u001b[39;00m\n\u001b[0;32m     28\u001b[0m     \u001b[38;5;28;01mfor\u001b[39;00m layer \u001b[38;5;129;01min\u001b[39;00m \u001b[38;5;28mself\u001b[39m\u001b[38;5;241m.\u001b[39mlayers\u001b[38;5;241m.\u001b[39mvalues():\n\u001b[1;32m---> 29\u001b[0m         x \u001b[38;5;241m=\u001b[39m \u001b[43mlayer\u001b[49m\u001b[38;5;241;43m.\u001b[39;49m\u001b[43mforward\u001b[49m\u001b[43m(\u001b[49m\u001b[43mx\u001b[49m\u001b[43m)\u001b[49m\n\u001b[0;32m     31\u001b[0m     y \u001b[38;5;241m=\u001b[39m x\n\u001b[0;32m     32\u001b[0m     \u001b[38;5;28;01mreturn\u001b[39;00m y\n",
      "\u001b[1;31mKeyboardInterrupt\u001b[0m: "
     ]
    }
   ],
   "source": [
    "for i in range(iterations):\n",
    "    batch_mask = np.random.choice(train_size, batch_size)\n",
    "    x_batch = x_train[batch_mask]\n",
    "    y_batch = y_train[batch_mask]\n",
    "\n",
    "    grads = network.gradient(x_batch, y_batch)\n",
    "\n",
    "    for key in ('w1', 'b1', 'w2', 'b2'):\n",
    "        network.params[key] -= lr*grads[key]\n",
    "\n",
    "    ## this is for plotting losses over time\n",
    "    train_losses.append(network.loss(x_batch, y_batch))\n",
    "\n",
    "    if i%iter_per_ecoph == 0:\n",
    "        train_acc = network.accuracy(x_train, y_train)\n",
    "        train_accs.append(train_acc)\n",
    "        test_acc = network.accuracy(x_test, y_test)\n",
    "        test_accs.append(test_acc)\n",
    "        print(f'train acc, test_acc : {train_acc}, {test_acc}')"
   ]
  },
  {
   "cell_type": "code",
   "execution_count": 87,
   "metadata": {},
   "outputs": [
    {
     "data": {
      "image/png": "[encoded data removed]",
      "text/plain": [
       "<Figure size 640x480 with 1 Axes>"
      ]
     },
     "metadata": {},
     "output_type": "display_data"
    }
   ],
   "source": [
    "markers = {'train': 'o', 'test': 's'}\n",
    "x = np.arange(len(train_accs))\n",
    "plt.plot(x, train_accs, label='train acc')\n",
    "plt.plot(x, test_accs, label='test acc', linestyle='--')\n",
    "plt.xlabel(\"epochs\")\n",
    "plt.ylabel(\"accuracy\")\n",
    "plt.ylim(0, 1.0)\n",
    "plt.legend(loc='lower right')\n",
    "plt.show()"
   ]
  },
  {
   "cell_type": "code",
   "execution_count": null,
   "metadata": {},
   "outputs": [],
   "source": [
    "import numpy as np\n",
    "import pickle\n",
    "\n",
    "my_weight_pkl_file = 'Moore_mnist_model.pkl'"
   ]
  },
  {
   "cell_type": "code",
   "execution_count": 31,
   "metadata": {},
   "outputs": [
    {
     "name": "stdout",
     "output_type": "stream",
     "text": [
      "Pickle: jaerock_weights.pkl is being created.\n",
      "Done.\n"
     ]
    }
   ],
   "source": [
    "with open(f'{my_weight_pkl_file}', 'wb') as f:\n",
    "    print(f'Pickle: {my_weight_pkl_file} is being created.')\n",
    "    pickle.dump(network.params, f)\n",
    "    print('Done.') "
   ]
  },
  {
   "cell_type": "code",
   "execution_count": 32,
   "metadata": {},
   "outputs": [],
   "source": [
    "network.params = None"
   ]
  },
  {
   "cell_type": "markdown",
   "metadata": {},
   "source": [
    "#Using your own TwoLayerNet model"
   ]
  },
  {
   "cell_type": "code",
   "execution_count": 33,
   "metadata": {},
   "outputs": [],
   "source": [
    "network = TwoLayerNetWithBackProp(input_size=28*28, hidden_size=100, output_size=10)"
   ]
  },
  {
   "cell_type": "code",
   "execution_count": 34,
   "metadata": {},
   "outputs": [],
   "source": [
    "with open(f'{my_weight_pkl_file}', 'rb') as f:\n",
    "    network.params = pickle.load(f)\n",
    "\n",
    "network.update_layers()"
   ]
  },
  {
   "cell_type": "code",
   "execution_count": 35,
   "metadata": {},
   "outputs": [],
   "source": [
    "from mnist import Mnist"
   ]
  },
  {
   "cell_type": "code",
   "execution_count": 36,
   "metadata": {},
   "outputs": [
    {
     "name": "stdout",
     "output_type": "stream",
     "text": [
      "File: train-images-idx3-ubyte.gz already exists.\n",
      "File: train-labels-idx1-ubyte.gz already exists.\n",
      "File: t10k-images-idx3-ubyte.gz already exists.\n",
      "File: t10k-labels-idx1-ubyte.gz already exists.\n",
      "Pickle: dataset/mnist.pkl already exists.\n",
      "loading....\n",
      "Done\n"
     ]
    }
   ],
   "source": [
    "mnist = Mnist()\n",
    "(_, _), (x_test, y_test) = mnist.load()"
   ]
  },
  {
   "cell_type": "code",
   "execution_count": 37,
   "metadata": {},
   "outputs": [],
   "source": [
    "import matplotlib.pyplot as plt"
   ]
  },
  {
   "cell_type": "code",
   "execution_count": 57,
   "metadata": {},
   "outputs": [],
   "source": [
    "y_hat = network.predict(x_test[0:100])"
   ]
  },
  {
   "cell_type": "code",
   "execution_count": 39,
   "metadata": {},
   "outputs": [
    {
     "data": {
      "text/plain": [
       "<matplotlib.image.AxesImage at 0x1fb8eab6050>"
      ]
     },
     "execution_count": 39,
     "metadata": {},
     "output_type": "execute_result"
    },
    {
     "data": {
      "image/png": "[encoded data removed]",
      "text/plain": [
       "<Figure size 640x480 with 1 Axes>"
      ]
     },
     "metadata": {},
     "output_type": "display_data"
    }
   ],
   "source": [
    "plt.imshow(x_test[10].reshape(28,28))"
   ]
  },
  {
   "cell_type": "code",
   "execution_count": 40,
   "metadata": {},
   "outputs": [
    {
     "data": {
      "text/plain": [
       "array([13.35846378, -4.0343346 ,  5.18381186, -1.73975728, -8.14171292,\n",
       "       -0.27401666,  1.36983358, -2.43598307, -4.8036962 ,  1.37918309])"
      ]
     },
     "execution_count": 40,
     "metadata": {},
     "output_type": "execute_result"
    }
   ],
   "source": [
    "y_hat[10]"
   ]
  },
  {
   "cell_type": "code",
   "execution_count": 41,
   "metadata": {},
   "outputs": [
    {
     "data": {
      "text/plain": [
       "0"
      ]
     },
     "execution_count": 41,
     "metadata": {},
     "output_type": "execute_result"
    }
   ],
   "source": [
    "np.argmax(y_hat[10])"
   ]
  },
  {
   "cell_type": "code",
   "execution_count": 42,
   "metadata": {},
   "outputs": [
    {
     "data": {
      "text/plain": [
       "0"
      ]
     },
     "execution_count": 42,
     "metadata": {},
     "output_type": "execute_result"
    }
   ],
   "source": [
    "np.argmax(y_test[10])"
   ]
  },
  {
   "cell_type": "code",
   "execution_count": 44,
   "metadata": {},
   "outputs": [],
   "source": [
    "from PIL import Image"
   ]
  },
  {
   "cell_type": "markdown",
   "metadata": {},
   "source": [
    "#Testing handwritten numbers"
   ]
  },
  {
   "cell_type": "code",
   "execution_count": 45,
   "metadata": {},
   "outputs": [],
   "source": [
    "img = Image.open(\"Custom MNIST Sample/Digit 9/9_4.png\").convert('L')\n",
    "img = img.resize((28,28))\n",
    "img = np.array(img)\n",
    "img = 255.0 - img\n",
    "img = (img - np.min(img))*(255/(np.max(img)-np.min(img)))\n",
    "img = img.astype(np.float32)/255\n",
    "img = img.flatten()"
   ]
  },
  {
   "cell_type": "code",
   "execution_count": 46,
   "metadata": {},
   "outputs": [
    {
     "data": {
      "text/plain": [
       "<matplotlib.image.AxesImage at 0x1fb8eb94550>"
      ]
     },
     "execution_count": 46,
     "metadata": {},
     "output_type": "execute_result"
    },
    {
     "data": {
      "image/png": "[encoded data removed]",
      "text/plain": [
       "<Figure size 640x480 with 1 Axes>"
      ]
     },
     "metadata": {},
     "output_type": "display_data"
    }
   ],
   "source": [
    "plt.imshow(img.reshape(28,28))"
   ]
  },
  {
   "cell_type": "code",
   "execution_count": 55,
   "metadata": {},
   "outputs": [
    {
     "ename": "ValueError",
     "evalue": "shapes (784,1) and (784,100) not aligned: 1 (dim 1) != 784 (dim 0)",
     "output_type": "error",
     "traceback": [
      "\u001b[1;31m---------------------------------------------------------------------------\u001b[0m",
      "\u001b[1;31mValueError\u001b[0m                                Traceback (most recent call last)",
      "Cell \u001b[1;32mIn[55], line 1\u001b[0m\n\u001b[1;32m----> 1\u001b[0m y_hat \u001b[38;5;241m=\u001b[39m \u001b[43mnetwork\u001b[49m\u001b[38;5;241;43m.\u001b[39;49m\u001b[43mpredict\u001b[49m\u001b[43m(\u001b[49m\u001b[43mimg\u001b[49m\u001b[43m)\u001b[49m\n",
      "Cell \u001b[1;32mIn[20], line 29\u001b[0m, in \u001b[0;36mTwoLayerNetWithBackProp.predict\u001b[1;34m(self, x)\u001b[0m\n\u001b[0;32m     26\u001b[0m \u001b[38;5;28;01mdef\u001b[39;00m \u001b[38;5;21mpredict\u001b[39m(\u001b[38;5;28mself\u001b[39m, x):\n\u001b[0;32m     27\u001b[0m     \u001b[38;5;66;03m## new implementation for backprop\u001b[39;00m\n\u001b[0;32m     28\u001b[0m     \u001b[38;5;28;01mfor\u001b[39;00m layer \u001b[38;5;129;01min\u001b[39;00m \u001b[38;5;28mself\u001b[39m\u001b[38;5;241m.\u001b[39mlayers\u001b[38;5;241m.\u001b[39mvalues():\n\u001b[1;32m---> 29\u001b[0m         x \u001b[38;5;241m=\u001b[39m \u001b[43mlayer\u001b[49m\u001b[38;5;241;43m.\u001b[39;49m\u001b[43mforward\u001b[49m\u001b[43m(\u001b[49m\u001b[43mx\u001b[49m\u001b[43m)\u001b[49m\n\u001b[0;32m     31\u001b[0m     y \u001b[38;5;241m=\u001b[39m x\n\u001b[0;32m     32\u001b[0m     \u001b[38;5;28;01mreturn\u001b[39;00m y\n",
      "Cell \u001b[1;32mIn[17], line 51\u001b[0m, in \u001b[0;36mAffine.forward\u001b[1;34m(self, x)\u001b[0m\n\u001b[0;32m     48\u001b[0m x \u001b[38;5;241m=\u001b[39m x\u001b[38;5;241m.\u001b[39mreshape(x\u001b[38;5;241m.\u001b[39mshape[\u001b[38;5;241m0\u001b[39m], \u001b[38;5;241m-\u001b[39m\u001b[38;5;241m1\u001b[39m)\n\u001b[0;32m     49\u001b[0m \u001b[38;5;28mself\u001b[39m\u001b[38;5;241m.\u001b[39mx \u001b[38;5;241m=\u001b[39m x\n\u001b[1;32m---> 51\u001b[0m out \u001b[38;5;241m=\u001b[39m \u001b[43mnp\u001b[49m\u001b[38;5;241;43m.\u001b[39;49m\u001b[43mdot\u001b[49m\u001b[43m(\u001b[49m\u001b[38;5;28;43mself\u001b[39;49m\u001b[38;5;241;43m.\u001b[39;49m\u001b[43mx\u001b[49m\u001b[43m,\u001b[49m\u001b[43m \u001b[49m\u001b[38;5;28;43mself\u001b[39;49m\u001b[38;5;241;43m.\u001b[39;49m\u001b[43mw\u001b[49m\u001b[43m)\u001b[49m \u001b[38;5;241m+\u001b[39m \u001b[38;5;28mself\u001b[39m\u001b[38;5;241m.\u001b[39mb\n\u001b[0;32m     53\u001b[0m \u001b[38;5;28;01mreturn\u001b[39;00m out\n",
      "\u001b[1;31mValueError\u001b[0m: shapes (784,1) and (784,100) not aligned: 1 (dim 1) != 784 (dim 0)"
     ]
    }
   ],
   "source": [
    "y_hat = network.predict(img)"
   ]
  },
  {
   "cell_type": "code",
   "execution_count": null,
   "metadata": {},
   "outputs": [
    {
     "ename": "ValueError",
     "evalue": "cannot reshape array of size 784 into shape (784,100)",
     "output_type": "error",
     "traceback": [
      "\u001b[1;31m---------------------------------------------------------------------------\u001b[0m",
      "\u001b[1;31mValueError\u001b[0m                                Traceback (most recent call last)",
      "Cell \u001b[1;32mIn[53], line 1\u001b[0m\n\u001b[1;32m----> 1\u001b[0m y_hat \u001b[38;5;241m=\u001b[39m network\u001b[38;5;241m.\u001b[39mpredict(\u001b[43mimg\u001b[49m\u001b[38;5;241;43m.\u001b[39;49m\u001b[43mreshape\u001b[49m\u001b[43m(\u001b[49m\u001b[38;5;241;43m784\u001b[39;49m\u001b[43m,\u001b[49m\u001b[38;5;241;43m100\u001b[39;49m\u001b[43m)\u001b[49m)\n",
      "\u001b[1;31mValueError\u001b[0m: cannot reshape array of size 784 into shape (784,100)"
     ]
    }
   ],
   "source": [
    "y_hat = network.predict(img)"
   ]
  }
 ],
 "metadata": {
  "kernelspec": {
   "display_name": "ece5831-2024",
   "language": "python",
   "name": "python3"
  },
  "language_info": {
   "codemirror_mode": {
    "name": "ipython",
    "version": 3
   },
   "file_extension": ".py",
   "mimetype": "text/x-python",
   "name": "python",
   "nbconvert_exporter": "python",
   "pygments_lexer": "ipython3",
   "version": "3.10.13"
  }
 },
 "nbformat": 4,
 "nbformat_minor": 2
}
