{
 "cells": [
  {
   "cell_type": "code",
   "execution_count": 1,
   "metadata": {},
   "outputs": [],
   "source": [
    "import numpy as np"
   ]
  },
  {
   "cell_type": "code",
   "execution_count": 2,
   "metadata": {},
   "outputs": [],
   "source": [
    "def mean_squared_error(y_hat, y):\n",
    "    return np.sum((y_hat - y)**2)/y.size"
   ]
  },
  {
   "cell_type": "code",
   "execution_count": 3,
   "metadata": {},
   "outputs": [
    {
     "data": {
      "text/plain": [
       "0.025000000000000022"
      ]
     },
     "execution_count": 3,
     "metadata": {},
     "output_type": "execute_result"
    }
   ],
   "source": [
    "y      = np.array([1,   2,   3,    4])\n",
    "y_hat1 = np.array([1.2, 1.9, 2.9,  4.2]) \n",
    "mean_squared_error(y_hat1, y)"
   ]
  },
  {
   "cell_type": "code",
   "execution_count": 4,
   "metadata": {},
   "outputs": [
    {
     "data": {
      "text/plain": [
       "1.0250000000000004"
      ]
     },
     "execution_count": 4,
     "metadata": {},
     "output_type": "execute_result"
    }
   ],
   "source": [
    "y_hat2 = np.array([2.2, 0.9, 2.9,  5.2]) \n",
    "mean_squared_error(y_hat2, y)"
   ]
  },
  {
   "cell_type": "code",
   "execution_count": 5,
   "metadata": {},
   "outputs": [],
   "source": [
    "def cross_entropy_error(y_hat, y):\n",
    "    return -np.sum(y*np.log(y_hat + 1e-7))"
   ]
  },
  {
   "cell_type": "code",
   "execution_count": 6,
   "metadata": {},
   "outputs": [],
   "source": [
    "y = np.array([0, 1, 0, 0, 0])"
   ]
  },
  {
   "cell_type": "code",
   "execution_count": 7,
   "metadata": {},
   "outputs": [],
   "source": [
    "y_hat1 = np.array([0.1, 0.7, 0.1, 0.1, 0])"
   ]
  },
  {
   "cell_type": "code",
   "execution_count": 8,
   "metadata": {},
   "outputs": [
    {
     "data": {
      "text/plain": [
       "0.3566748010815999"
      ]
     },
     "execution_count": 8,
     "metadata": {},
     "output_type": "execute_result"
    }
   ],
   "source": [
    "cross_entropy_error(y_hat1, y)"
   ]
  },
  {
   "cell_type": "code",
   "execution_count": 9,
   "metadata": {},
   "outputs": [],
   "source": [
    "y_hat2 = np.array([0.7, 0.05, 0.05, 0.2, 0])"
   ]
  },
  {
   "cell_type": "code",
   "execution_count": 10,
   "metadata": {},
   "outputs": [
    {
     "data": {
      "text/plain": [
       "2.9957302735559908"
      ]
     },
     "execution_count": 10,
     "metadata": {},
     "output_type": "execute_result"
    }
   ],
   "source": [
    "cross_entropy_error(y_hat2, y)"
   ]
  },
  {
   "cell_type": "code",
   "execution_count": 11,
   "metadata": {},
   "outputs": [
    {
     "name": "stdout",
     "output_type": "stream",
     "text": [
      "File: train-images-idx3-ubyte.gz already exists.\n",
      "File: train-labels-idx1-ubyte.gz already exists.\n",
      "File: t10k-images-idx3-ubyte.gz already exists.\n",
      "File: t10k-labels-idx1-ubyte.gz already exists.\n",
      "Pickle: dataset/mnist.pkl already exists.\n",
      "loading....\n",
      "Done\n"
     ]
    }
   ],
   "source": [
    "import mnist\n",
    "\n",
    "my_mnist = mnist.Mnist()"
   ]
  },
  {
   "cell_type": "code",
   "execution_count": 12,
   "metadata": {},
   "outputs": [],
   "source": [
    "(train_images, train_labels), (_, _) = my_mnist.load()"
   ]
  },
  {
   "cell_type": "code",
   "execution_count": 13,
   "metadata": {},
   "outputs": [],
   "source": [
    "train_size = train_images.shape[0]\n",
    "batch_size = 32"
   ]
  },
  {
   "cell_type": "code",
   "execution_count": 14,
   "metadata": {},
   "outputs": [
    {
     "name": "stdout",
     "output_type": "stream",
     "text": [
      "[27365 29060 40825 51933  3335 37257 10742 39769  2803  1164 52361 24096\n",
      " 40370 49970 11882 24152 55629 49986 55029 22866 26618 29741 40736 41619\n",
      " 25943   118 53765 29843  3978 26579 11275 55641]\n"
     ]
    }
   ],
   "source": [
    "batch_mask = np.random.choice(train_size, batch_size)\n",
    "print(batch_mask)"
   ]
  },
  {
   "cell_type": "code",
   "execution_count": 15,
   "metadata": {},
   "outputs": [
    {
     "data": {
      "text/plain": [
       "60000"
      ]
     },
     "execution_count": 15,
     "metadata": {},
     "output_type": "execute_result"
    }
   ],
   "source": [
    "train_size"
   ]
  },
  {
   "cell_type": "code",
   "execution_count": 16,
   "metadata": {},
   "outputs": [],
   "source": [
    "def cross_entropy_error(y_hat, y):\n",
    "    batch_size = 1 if y_hat.ndim == 1 else y_hat.shape[0]\n",
    "    return -np.sum(y*np.log(y_hat + 1e-7))/batch_size"
   ]
  },
  {
   "cell_type": "code",
   "execution_count": 17,
   "metadata": {},
   "outputs": [],
   "source": [
    "y_hat_batch = np.array([ [0.2, 0.2, 0.3, 0.1, 0.2], [0.1, 0.1, 0.1, 0.1, 0.6]])\n",
    "y_batch =     np.array([ [0,   0,   1,   0,    0],   [0,   0,   0,   0,   1]])"
   ]
  },
  {
   "cell_type": "code",
   "execution_count": 18,
   "metadata": {},
   "outputs": [
    {
     "data": {
      "text/plain": [
       "0.8573989640459981"
      ]
     },
     "execution_count": 18,
     "metadata": {},
     "output_type": "execute_result"
    }
   ],
   "source": [
    "cross_entropy_error(y_hat_batch, y_batch)"
   ]
  },
  {
   "cell_type": "code",
   "execution_count": 19,
   "metadata": {},
   "outputs": [],
   "source": [
    "def numerical_diff(f, x):\n",
    "    h = 10e-50\n",
    "    return (f(x + h) - f(x))/h"
   ]
  },
  {
   "cell_type": "code",
   "execution_count": 20,
   "metadata": {},
   "outputs": [],
   "source": [
    "def func(x):\n",
    "    return x**2 + 0.1*x"
   ]
  },
  {
   "cell_type": "code",
   "execution_count": 21,
   "metadata": {},
   "outputs": [
    {
     "data": {
      "text/plain": [
       "0.0"
      ]
     },
     "execution_count": 21,
     "metadata": {},
     "output_type": "execute_result"
    }
   ],
   "source": [
    "numerical_diff(func, 0.8)"
   ]
  },
  {
   "cell_type": "code",
   "execution_count": 22,
   "metadata": {},
   "outputs": [],
   "source": [
    "def numerical_diff(f, x):\n",
    "    h = 1e-4\n",
    "    return (f(x + h) - f(x - h))/(2*h)"
   ]
  },
  {
   "cell_type": "code",
   "execution_count": 23,
   "metadata": {},
   "outputs": [
    {
     "data": {
      "text/plain": [
       "1.6999999999994797"
      ]
     },
     "execution_count": 23,
     "metadata": {},
     "output_type": "execute_result"
    }
   ],
   "source": [
    "numerical_diff(func, 0.8)"
   ]
  },
  {
   "cell_type": "code",
   "execution_count": 24,
   "metadata": {},
   "outputs": [
    {
     "data": {
      "text/plain": [
       "0.49999999999994493"
      ]
     },
     "execution_count": 24,
     "metadata": {},
     "output_type": "execute_result"
    }
   ],
   "source": [
    "numerical_diff(func, 0.2)"
   ]
  },
  {
   "cell_type": "code",
   "execution_count": 25,
   "metadata": {},
   "outputs": [],
   "source": [
    "def func(x):\n",
    "    return x[0]**2 + x[1]**2\n",
    "\n",
    "def func_tmp1(x0):\n",
    "    return x0**2 + 4.0**2"
   ]
  },
  {
   "cell_type": "code",
   "execution_count": 26,
   "metadata": {},
   "outputs": [
    {
     "data": {
      "text/plain": [
       "6.00000000000378"
      ]
     },
     "execution_count": 26,
     "metadata": {},
     "output_type": "execute_result"
    }
   ],
   "source": [
    "numerical_diff(func_tmp1, 3.0)"
   ]
  },
  {
   "cell_type": "code",
   "execution_count": 27,
   "metadata": {},
   "outputs": [],
   "source": [
    "def func_tmp2(x1):\n",
    "    return 3.0**2 + x1**2"
   ]
  },
  {
   "cell_type": "code",
   "execution_count": 28,
   "metadata": {},
   "outputs": [
    {
     "data": {
      "text/plain": [
       "7.999999999999119"
      ]
     },
     "execution_count": 28,
     "metadata": {},
     "output_type": "execute_result"
    }
   ],
   "source": [
    "numerical_diff(func_tmp2, 4.0)"
   ]
  },
  {
   "cell_type": "markdown",
   "metadata": {},
   "source": [
    "#Numerical Gradient"
   ]
  },
  {
   "cell_type": "code",
   "execution_count": 29,
   "metadata": {},
   "outputs": [],
   "source": [
    "def func2(x):\n",
    "    return x[0]**2 + x[1]**2"
   ]
  },
  {
   "cell_type": "code",
   "execution_count": 30,
   "metadata": {},
   "outputs": [],
   "source": [
    "def func_tmp1(x0):\n",
    "    return x0**2 + 4**2\n",
    "\n",
    "def func_tmp2(x1):\n",
    "    return 3**2 + x1**2"
   ]
  },
  {
   "cell_type": "code",
   "execution_count": 31,
   "metadata": {},
   "outputs": [],
   "source": [
    "def _numerical_diff(f, x):\n",
    "    h = 1e-4\n",
    "    return (f(x + h) - f(x - h))/(2*h)"
   ]
  },
  {
   "cell_type": "code",
   "execution_count": 32,
   "metadata": {},
   "outputs": [],
   "source": [
    "def _numerical_gradient(f, x):\n",
    "    h = 1e-4 # 0.0001\n",
    "    grad = np.zeros_like(x) \n",
    "    \n",
    "    for idx in range(x.size):\n",
    "        tmp_val = x[idx]\n",
    "        \n",
    "        # f(x+h) \n",
    "        x[idx] = float(tmp_val) + h\n",
    "        fxh1 = f(x)\n",
    "        \n",
    "        # f(x-h) \n",
    "        x[idx] = tmp_val - h \n",
    "        fxh2 = f(x) \n",
    "        \n",
    "        grad[idx] = (fxh1 - fxh2) / (2*h)\n",
    "        x[idx] = tmp_val \n",
    "        \n",
    "    return grad"
   ]
  },
  {
   "cell_type": "code",
   "execution_count": 33,
   "metadata": {},
   "outputs": [
    {
     "data": {
      "text/plain": [
       "6.00000000000378"
      ]
     },
     "execution_count": 33,
     "metadata": {},
     "output_type": "execute_result"
    }
   ],
   "source": [
    "_numerical_diff(func_tmp1, 3.0)"
   ]
  },
  {
   "cell_type": "code",
   "execution_count": 34,
   "metadata": {},
   "outputs": [
    {
     "data": {
      "text/plain": [
       "7.999999999999119"
      ]
     },
     "execution_count": 34,
     "metadata": {},
     "output_type": "execute_result"
    }
   ],
   "source": [
    "_numerical_diff(func_tmp2, 4.0)"
   ]
  },
  {
   "cell_type": "code",
   "execution_count": 35,
   "metadata": {},
   "outputs": [
    {
     "data": {
      "text/plain": [
       "array([6., 8.])"
      ]
     },
     "execution_count": 35,
     "metadata": {},
     "output_type": "execute_result"
    }
   ],
   "source": [
    "_numerical_gradient(func2, np.array([3.0, 4.0]))"
   ]
  },
  {
   "cell_type": "code",
   "execution_count": 36,
   "metadata": {},
   "outputs": [],
   "source": [
    "def gradient_descent(f, init_x, lr=0.1, step_num = 100):\n",
    "    x = init_x\n",
    "    for i in range(step_num):\n",
    "        grad = _numerical_gradient(f, x)\n",
    "        x -= lr*grad  # x = x - lr*grad\n",
    "\n",
    "    return x"
   ]
  },
  {
   "cell_type": "code",
   "execution_count": 37,
   "metadata": {},
   "outputs": [
    {
     "data": {
      "text/plain": [
       "array([5.65680105e-06, 2.02028609e-06])"
      ]
     },
     "execution_count": 37,
     "metadata": {},
     "output_type": "execute_result"
    }
   ],
   "source": [
    "init_x = np.array([2800.0, 1000.0])\n",
    "# func2 = x0**2 + x1**2\n",
    "gradient_descent(func2, init_x, step_num=10000, lr=0.001)"
   ]
  },
  {
   "cell_type": "markdown",
   "metadata": {},
   "source": [
    "#SimpleNet"
   ]
  },
  {
   "cell_type": "code",
   "execution_count": 38,
   "metadata": {},
   "outputs": [],
   "source": [
    "class SimpleNet:\n",
    "    def __init__(self):\n",
    "        self.w = np.random.randn(2, 3)\n",
    "\n",
    "\n",
    "    # for multi-dimensional x\n",
    "    def softmax(self, x):\n",
    "        if x.ndim == 2:\n",
    "            x = x.T\n",
    "            x = x - np.max(x, axis=0)\n",
    "            y = np.exp(x) / np.sum(np.exp(x), axis=0)\n",
    "            return y.T \n",
    "\n",
    "        x = x - np.max(x)  \n",
    "        return np.exp(x) / np.sum(np.exp(x))\n",
    "\n",
    "\n",
    "    def cross_entroy_error(self, y, t):\n",
    "        delta = 1e-7\n",
    "        batch_size = 1 if y.ndim == 1 else y.shape[0]\n",
    "\n",
    "        return -np.sum(t*np.log(y + delta)) / batch_size\n",
    "\n",
    "\n",
    "    # for multi-dimensional x\n",
    "    def numerical_gradient(self, f, x):\n",
    "        h = 1e-4 # 0.0001\n",
    "        grad = np.zeros_like(x)\n",
    "        \n",
    "        it = np.nditer(x, flags=['multi_index'], op_flags=['readwrite'])\n",
    "        while not it.finished:\n",
    "            idx = it.multi_index\n",
    "            tmp_val = x[idx]\n",
    "            x[idx] = float(tmp_val) + h\n",
    "            fxh1 = f(x) # f(x+h)\n",
    "            \n",
    "            x[idx] = tmp_val - h \n",
    "            fxh2 = f(x) # f(x-h)\n",
    "            grad[idx] = (fxh1 - fxh2) / (2*h)\n",
    "            \n",
    "            x[idx] = tmp_val \n",
    "            it.iternext()   \n",
    "            \n",
    "        return grad\n",
    "\n",
    "\n",
    "    def predict(self, x):\n",
    "        return np.dot(x, self.w)\n",
    "    \n",
    "\n",
    "    def loss(self, x, y):\n",
    "        z = self.predict(x)\n",
    "        y_hat = self.softmax(z)\n",
    "        loss = self.cross_entroy_error(y_hat, y)\n",
    "\n",
    "        return loss"
   ]
  },
  {
   "cell_type": "code",
   "execution_count": 39,
   "metadata": {},
   "outputs": [
    {
     "name": "stdout",
     "output_type": "stream",
     "text": [
      "[[-0.48987614 -0.72258367  0.60716633]\n",
      " [-1.18336105  0.81924252  0.36826661]]\n"
     ]
    }
   ],
   "source": [
    "net = SimpleNet()\n",
    "print(net.w)"
   ]
  },
  {
   "cell_type": "code",
   "execution_count": 40,
   "metadata": {},
   "outputs": [
    {
     "name": "stdout",
     "output_type": "stream",
     "text": [
      "[-0.5677519  -0.35015249  0.49498709]\n"
     ]
    }
   ],
   "source": [
    "x = np.array([0.7, 0.19])\n",
    "p = net.predict(x)\n",
    "print(p)"
   ]
  },
  {
   "cell_type": "code",
   "execution_count": 41,
   "metadata": {},
   "outputs": [
    {
     "data": {
      "text/plain": [
       "2"
      ]
     },
     "execution_count": 41,
     "metadata": {},
     "output_type": "execute_result"
    }
   ],
   "source": [
    "np.argmax(p)"
   ]
  },
  {
   "cell_type": "code",
   "execution_count": 42,
   "metadata": {},
   "outputs": [
    {
     "data": {
      "text/plain": [
       "1.418942727949089"
      ]
     },
     "execution_count": 42,
     "metadata": {},
     "output_type": "execute_result"
    }
   ],
   "source": [
    "y = np.array([0, 1, 0])\n",
    "net.loss(x, y)"
   ]
  },
  {
   "cell_type": "code",
   "execution_count": 43,
   "metadata": {},
   "outputs": [
    {
     "data": {
      "text/plain": [
       "0.5738033887662625"
      ]
     },
     "execution_count": 43,
     "metadata": {},
     "output_type": "execute_result"
    }
   ],
   "source": [
    "y = np.array([0, 0, 1])\n",
    "net.loss(x, y)"
   ]
  },
  {
   "cell_type": "code",
   "execution_count": 44,
   "metadata": {},
   "outputs": [],
   "source": [
    "def loss_function(w):\n",
    "    return net.loss(x, y)"
   ]
  },
  {
   "cell_type": "code",
   "execution_count": 45,
   "metadata": {},
   "outputs": [
    {
     "name": "stdout",
     "output_type": "stream",
     "text": [
      "[[ 0.13625629  0.1693787  -0.30563499]\n",
      " [ 0.03698385  0.04597422 -0.08295807]]\n"
     ]
    }
   ],
   "source": [
    "dw = net.numerical_gradient(loss_function, net.w)\n",
    "print(dw)"
   ]
  },
  {
   "cell_type": "code",
   "execution_count": 46,
   "metadata": {},
   "outputs": [],
   "source": [
    "loss_function = lambda w: net.loss(x, y)"
   ]
  },
  {
   "cell_type": "code",
   "execution_count": 47,
   "metadata": {},
   "outputs": [
    {
     "name": "stdout",
     "output_type": "stream",
     "text": [
      "[[ 0.13625629  0.1693787  -0.30563499]\n",
      " [ 0.03698385  0.04597422 -0.08295807]]\n"
     ]
    }
   ],
   "source": [
    "dw = net.numerical_gradient(loss_function, net.w)\n",
    "print(dw)"
   ]
  },
  {
   "cell_type": "markdown",
   "metadata": {},
   "source": [
    "#TwoLayerNet class"
   ]
  },
  {
   "cell_type": "code",
   "execution_count": 48,
   "metadata": {},
   "outputs": [],
   "source": [
    "class Activations:\n",
    "    def sigmoid(self, x):\n",
    "        return 1/(1 + np.exp(-x))\n",
    "    \n",
    "    # for multi-dimensional x\n",
    "    def softmax(self, x):\n",
    "        if x.ndim == 2:\n",
    "            x = x.T\n",
    "            x = x - np.max(x, axis=0)\n",
    "            y = np.exp(x) / np.sum(np.exp(x), axis=0)\n",
    "            return y.T \n",
    "\n",
    "        x = x - np.max(x)  \n",
    "        return np.exp(x) / np.sum(np.exp(x))"
   ]
  },
  {
   "cell_type": "code",
   "execution_count": 49,
   "metadata": {},
   "outputs": [],
   "source": [
    "class Errors:\n",
    "    def cross_entroy_error(self, y, t):\n",
    "        delta = 1e-7\n",
    "        batch_size = 1 if y.ndim == 1 else y.shape[0]\n",
    "\n",
    "        return -np.sum(t*np.log(y + delta)) / batch_size"
   ]
  },
  {
   "cell_type": "code",
   "execution_count": 50,
   "metadata": {},
   "outputs": [],
   "source": [
    "import activations\n",
    "import errors"
   ]
  },
  {
   "cell_type": "code",
   "execution_count": 51,
   "metadata": {},
   "outputs": [],
   "source": [
    "class TwoLayerNet:\n",
    "    def __init__(self, input_size, hidden_size, output_size, weight_init_std=0.01):\n",
    "        self.params = {}\n",
    "\n",
    "        self.params['w1'] = weight_init_std*np.random.randn(input_size, hidden_size)\n",
    "        self.params['b1'] = np.zeros(hidden_size)\n",
    "\n",
    "        self.params['w2'] = weight_init_std*np.random.randn(hidden_size, output_size)\n",
    "        self.params['b2'] = np.zeros(output_size)\n",
    "\n",
    "        self.activations = activations.Activations()\n",
    "        self.errors = errors.Errors()\n",
    "\n",
    "    def predict(self, x):\n",
    "        w1, w2 = self.params['w1'], self.params['w2']\n",
    "        b1, b2 = self.params['b1'], self.params['b2']\n",
    "        \n",
    "        a1 = np.dot(x, w1) + b1\n",
    "        z1 = self.activations.sigmoid(a1)\n",
    "        a2 = np.dot(z1, w2) + b2\n",
    "        y = self.activations.softmax(a2)\n",
    "\n",
    "        return y\n",
    "    \n",
    "    def loss(self, x, y):\n",
    "        y_hat = self.predict(x)\n",
    "\n",
    "        return self.errors.cross_entropy_error(y_hat, y)\n",
    "    \n",
    "\n",
    "    def accuracy(self, x, y):\n",
    "        y_hat = self.predict(x)\n",
    "        p = np.argmax(y_hat, axis=1)\n",
    "        y_p = np.argmax(y, axis=1)\n",
    "\n",
    "        return np.sum(p == y_p)/float(x.shape[0])\n",
    "    \n",
    "\n",
    "    # for multi-dimensional x\n",
    "    def _numerical_gradient(self, f, x):\n",
    "        h = 1e-4 # 0.0001\n",
    "        grad = np.zeros_like(x)\n",
    "        \n",
    "        it = np.nditer(x, flags=['multi_index'], op_flags=['readwrite'])\n",
    "        while not it.finished:\n",
    "            idx = it.multi_index\n",
    "            tmp_val = x[idx]\n",
    "            x[idx] = float(tmp_val) + h\n",
    "            fxh1 = f(x) # f(x+h)\n",
    "            \n",
    "            x[idx] = tmp_val - h \n",
    "            fxh2 = f(x) # f(x-h)\n",
    "            grad[idx] = (fxh1 - fxh2) / (2*h)\n",
    "            \n",
    "            x[idx] = tmp_val \n",
    "            it.iternext()   \n",
    "            \n",
    "        return grad\n",
    "    \n",
    "\n",
    "    def numerical_gradient(self, x, y):\n",
    "        loss_w = lambda w: self.loss(x, y)\n",
    "\n",
    "        grads = {}\n",
    "        grads['w1'] = self._numerical_gradient(loss_w, self.params['w1'])\n",
    "        grads['b1'] = self._numerical_gradient(loss_w, self.params['b1'])\n",
    "        grads['w2'] = self._numerical_gradient(loss_w, self.params['w2'])\n",
    "        grads['b2'] = self._numerical_gradient(loss_w, self.params['b2'])\n",
    "\n",
    "        return grads\n",
    "    \n",
    " "
   ]
  },
  {
   "cell_type": "markdown",
   "metadata": {},
   "source": [
    "#Train TwoLayerNet"
   ]
  },
  {
   "cell_type": "code",
   "execution_count": 52,
   "metadata": {},
   "outputs": [],
   "source": [
    "import numpy as np\n",
    "import mnist\n",
    "from two_layer_net import TwoLayerNet\n",
    "\n",
    "import matplotlib.pyplot as plt\n"
   ]
  },
  {
   "cell_type": "code",
   "execution_count": 53,
   "metadata": {},
   "outputs": [
    {
     "name": "stdout",
     "output_type": "stream",
     "text": [
      "File: train-images-idx3-ubyte.gz already exists.\n",
      "File: train-labels-idx1-ubyte.gz already exists.\n",
      "File: t10k-images-idx3-ubyte.gz already exists.\n",
      "File: t10k-labels-idx1-ubyte.gz already exists.\n",
      "Pickle: dataset/mnist.pkl already exists.\n",
      "loading....\n",
      "Done\n"
     ]
    }
   ],
   "source": [
    "my_mnist = mnist.Mnist()"
   ]
  },
  {
   "cell_type": "code",
   "execution_count": 54,
   "metadata": {},
   "outputs": [],
   "source": [
    "(x_train, y_train), (x_test, y_test) = my_mnist.load()"
   ]
  },
  {
   "cell_type": "code",
   "execution_count": 55,
   "metadata": {},
   "outputs": [
    {
     "name": "stdout",
     "output_type": "stream",
     "text": [
      "(60000, 784)\n",
      "(60000, 10)\n",
      "(10000, 784)\n",
      "(10000, 10)\n"
     ]
    }
   ],
   "source": [
    "print(x_train.shape)\n",
    "print(y_train.shape)\n",
    "print(x_test.shape)\n",
    "print(y_test.shape)"
   ]
  },
  {
   "cell_type": "code",
   "execution_count": 56,
   "metadata": {},
   "outputs": [],
   "source": [
    "network = TwoLayerNet(input_size=28*28, hidden_size=100, output_size=10)"
   ]
  },
  {
   "cell_type": "code",
   "execution_count": 57,
   "metadata": {},
   "outputs": [
    {
     "data": {
      "text/plain": [
       "{'w1': array([[-0.00986424, -0.00526498,  0.00106022, ...,  0.00694022,\n",
       "         -0.01240261,  0.00535087],\n",
       "        [-0.03158577,  0.01656019, -0.00645272, ...,  0.00222107,\n",
       "          0.00576053,  0.00318236],\n",
       "        [ 0.01910083, -0.0156997 ,  0.00694481, ..., -0.00420146,\n",
       "          0.02327813, -0.01562829],\n",
       "        ...,\n",
       "        [ 0.0132382 , -0.00377344,  0.01259679, ...,  0.00520457,\n",
       "          0.00127684, -0.00548439],\n",
       "        [-0.02710162, -0.00328758, -0.00346452, ...,  0.00574311,\n",
       "         -0.00341303, -0.00830517],\n",
       "        [ 0.00781297,  0.00010894, -0.01612527, ..., -0.01231027,\n",
       "          0.00392937,  0.00507152]]),\n",
       " 'b1': array([0., 0., 0., 0., 0., 0., 0., 0., 0., 0., 0., 0., 0., 0., 0., 0., 0.,\n",
       "        0., 0., 0., 0., 0., 0., 0., 0., 0., 0., 0., 0., 0., 0., 0., 0., 0.,\n",
       "        0., 0., 0., 0., 0., 0., 0., 0., 0., 0., 0., 0., 0., 0., 0., 0., 0.,\n",
       "        0., 0., 0., 0., 0., 0., 0., 0., 0., 0., 0., 0., 0., 0., 0., 0., 0.,\n",
       "        0., 0., 0., 0., 0., 0., 0., 0., 0., 0., 0., 0., 0., 0., 0., 0., 0.,\n",
       "        0., 0., 0., 0., 0., 0., 0., 0., 0., 0., 0., 0., 0., 0., 0.]),\n",
       " 'w2': array([[-1.11943351e-02,  1.91704292e-03, -1.92648750e-02,\n",
       "         -2.37333295e-02,  4.07719491e-03, -5.42437099e-03,\n",
       "          2.23366977e-03,  4.93711939e-03,  8.97957229e-03,\n",
       "         -5.62217068e-03],\n",
       "        [ 1.50056638e-02,  3.22380404e-03, -7.30883645e-03,\n",
       "         -3.51853103e-03,  2.77306164e-03, -1.06897568e-03,\n",
       "         -4.10482372e-03,  2.24761210e-03, -5.50652238e-03,\n",
       "          7.11899924e-03],\n",
       "        [-7.76686251e-03,  1.53911808e-02,  2.07020134e-03,\n",
       "         -1.77477066e-02, -9.98407525e-03, -2.06088144e-03,\n",
       "         -5.07860436e-03,  1.31282906e-02,  5.25693397e-03,\n",
       "          8.61540119e-06],\n",
       "        [-8.37798300e-03,  3.19692389e-03,  8.49432285e-03,\n",
       "          1.97375374e-02, -1.80218479e-04,  1.09633189e-02,\n",
       "         -2.29955627e-02, -4.64907370e-04,  2.01464120e-03,\n",
       "         -2.40599506e-03],\n",
       "        [ 8.74607915e-03, -1.62759178e-02,  8.76658893e-03,\n",
       "          1.09062251e-02,  5.69469604e-03,  7.32294049e-03,\n",
       "         -9.95548898e-03, -1.37602083e-02, -1.54969789e-02,\n",
       "          6.33932896e-03],\n",
       "        [ 9.36999382e-04,  1.21320674e-02, -6.50636263e-03,\n",
       "          1.02656037e-02,  3.87661529e-03,  7.06644080e-03,\n",
       "         -1.05272782e-02,  8.56657839e-03,  6.08862649e-03,\n",
       "          3.87989372e-03],\n",
       "        [ 4.65771540e-03, -2.59352743e-02, -1.76437260e-03,\n",
       "         -9.25128932e-03,  1.30228754e-02,  1.06603394e-02,\n",
       "         -1.03756810e-02,  1.84290994e-03, -1.45516953e-02,\n",
       "          2.09241805e-02],\n",
       "        [-1.24101043e-02, -7.64497777e-03,  1.27832372e-03,\n",
       "         -1.76715879e-02,  2.41383255e-03, -1.73298259e-03,\n",
       "          5.35611672e-05,  4.27072007e-03,  9.80057521e-04,\n",
       "          1.17320734e-02],\n",
       "        [-8.37184122e-03, -1.30331320e-02,  3.14334241e-03,\n",
       "         -9.86065633e-03, -1.68848551e-02, -1.16258227e-02,\n",
       "         -1.08321329e-02,  1.64149008e-03,  7.91541849e-03,\n",
       "         -6.27314740e-03],\n",
       "        [-7.79405416e-03, -2.53260326e-03, -1.21160043e-03,\n",
       "          1.40424461e-02,  9.41073366e-03, -7.29475788e-03,\n",
       "         -2.88295926e-03,  1.30049063e-02,  1.77812154e-03,\n",
       "         -7.17458947e-04],\n",
       "        [-9.79148613e-03, -9.87429874e-03, -4.43533831e-03,\n",
       "          2.93590551e-03, -2.54294200e-03, -1.94490893e-02,\n",
       "         -1.46409012e-03,  3.24721712e-03, -2.42641326e-02,\n",
       "         -3.33832246e-03],\n",
       "        [ 7.16461950e-03, -2.53628992e-03, -1.32040813e-03,\n",
       "         -1.34014415e-02,  1.52701707e-02, -1.51211417e-02,\n",
       "         -1.31211644e-02, -1.43505452e-02, -1.28294086e-02,\n",
       "          7.52964472e-03],\n",
       "        [-5.35434569e-03,  6.31727214e-03, -4.03001287e-03,\n",
       "         -1.33782412e-02,  1.18792422e-02, -3.97626353e-03,\n",
       "          5.16311049e-03, -1.31069707e-02, -1.11190589e-03,\n",
       "         -4.15110400e-04],\n",
       "        [ 2.39862805e-03,  2.35766431e-02,  1.31933494e-02,\n",
       "         -1.10909796e-02,  6.46800928e-03,  7.03825936e-04,\n",
       "          9.85616252e-04, -5.85841238e-03,  1.05640170e-02,\n",
       "         -3.46539213e-03],\n",
       "        [-5.65669532e-03,  2.21722090e-03, -2.69343564e-03,\n",
       "          1.02826065e-02,  7.45935044e-03, -2.25819373e-04,\n",
       "          1.62240200e-02,  6.95589147e-04,  1.00977250e-02,\n",
       "          1.42498869e-02],\n",
       "        [ 7.06290017e-03, -2.79750922e-03, -8.08446587e-04,\n",
       "          1.03864805e-02, -1.23354488e-02,  1.84035288e-02,\n",
       "         -1.99851836e-02,  5.88116730e-03,  1.01171289e-02,\n",
       "          5.86008151e-03],\n",
       "        [ 1.10252756e-02, -1.53029161e-02,  2.13392787e-02,\n",
       "          1.18878675e-02,  1.19475923e-03, -1.67886327e-02,\n",
       "          7.45747825e-04, -5.22100111e-04, -1.09633290e-02,\n",
       "          8.27848619e-04],\n",
       "        [ 4.29062815e-03,  9.82753483e-03,  5.50151892e-03,\n",
       "          4.85066790e-03,  3.71761442e-03,  9.97056496e-03,\n",
       "         -1.14264775e-02,  1.43827131e-04, -8.58942523e-03,\n",
       "         -1.44695278e-03],\n",
       "        [ 2.00567373e-03, -4.19223443e-03,  1.62130040e-03,\n",
       "          1.15251957e-02, -4.25339804e-03, -1.49837633e-02,\n",
       "         -1.48180030e-02, -1.06951627e-02, -4.21647449e-03,\n",
       "          3.49453964e-03],\n",
       "        [-2.76972048e-03, -1.09206797e-02,  4.08682072e-04,\n",
       "         -1.41986710e-03, -3.16277887e-04, -1.85887534e-02,\n",
       "         -4.98590055e-03, -1.37866789e-02,  1.22506262e-02,\n",
       "         -5.68697697e-03],\n",
       "        [ 2.71105810e-05,  1.06309718e-03,  1.32334594e-03,\n",
       "         -3.09773710e-03,  9.91379051e-03, -2.70994619e-02,\n",
       "         -5.86324101e-03, -3.07065143e-03,  1.26646626e-02,\n",
       "          1.63163496e-02],\n",
       "        [ 7.32913877e-03,  2.15629645e-03,  1.74211626e-02,\n",
       "         -5.19281140e-03, -1.30620000e-02,  1.61602046e-03,\n",
       "         -1.30897621e-02, -1.84064670e-02, -4.12875393e-03,\n",
       "         -7.73755856e-03],\n",
       "        [-1.55010340e-02,  4.53856756e-03, -4.91850889e-03,\n",
       "         -2.15301041e-02, -2.63991761e-02, -8.19363966e-03,\n",
       "          1.83122130e-02,  2.52444813e-03,  5.00478513e-03,\n",
       "          1.89107026e-02],\n",
       "        [ 1.33711833e-02, -3.16732666e-03, -4.19431520e-03,\n",
       "         -1.39762446e-02, -1.28784138e-03, -8.23260181e-03,\n",
       "         -6.89520258e-03,  1.53425267e-02,  3.90400247e-04,\n",
       "          1.26083625e-03],\n",
       "        [-7.10003058e-03, -1.19425520e-02,  3.80889403e-03,\n",
       "          5.94856713e-03, -9.00475108e-04,  8.55736020e-03,\n",
       "          1.19620123e-02, -9.40990554e-03,  7.88511092e-03,\n",
       "         -1.66665399e-02],\n",
       "        [ 1.59474583e-03, -7.85429200e-03,  1.64068761e-02,\n",
       "         -1.58258363e-02, -3.26643240e-03,  4.07875446e-03,\n",
       "         -1.06012282e-02, -2.22236452e-03,  6.19048562e-03,\n",
       "         -3.03146338e-03],\n",
       "        [ 8.53158866e-03,  2.04151650e-03, -6.41272759e-03,\n",
       "          2.50440096e-03,  1.14496200e-02,  1.59219656e-03,\n",
       "          1.72341367e-02, -1.87696548e-02,  4.35777024e-03,\n",
       "          1.03276201e-02],\n",
       "        [-1.72147257e-03, -1.21460026e-02, -1.33779782e-02,\n",
       "          1.35093951e-02, -2.04867656e-02,  2.15254962e-03,\n",
       "          1.26043521e-02,  9.88986811e-03, -6.33910417e-03,\n",
       "         -5.76099670e-03],\n",
       "        [-9.21278226e-03,  9.76580698e-03,  1.72302841e-02,\n",
       "          6.42872881e-03, -1.50543393e-03,  1.07274352e-03,\n",
       "         -1.70274739e-03,  7.38072460e-04, -3.57499703e-03,\n",
       "         -1.44118629e-02],\n",
       "        [-1.30463692e-02,  1.50111019e-02, -5.11460619e-03,\n",
       "         -6.63750274e-03, -8.68432181e-03,  1.61917997e-02,\n",
       "         -1.24520002e-02,  1.34163723e-03, -4.95128494e-03,\n",
       "          1.57080943e-03],\n",
       "        [-9.73143416e-03, -3.77437229e-03, -1.72380467e-02,\n",
       "          6.83638085e-03, -1.21448840e-02,  4.94320890e-03,\n",
       "         -8.26753125e-03,  8.98838707e-03, -1.47468048e-03,\n",
       "          1.53683599e-02],\n",
       "        [-2.94305775e-03,  1.41845470e-02, -1.21168764e-02,\n",
       "          5.13282121e-03, -4.65853060e-03,  3.25717399e-03,\n",
       "         -3.09282919e-04,  2.06963340e-02,  9.77213891e-03,\n",
       "         -4.38222756e-04],\n",
       "        [ 1.12557219e-03,  2.47225504e-02, -1.86491335e-03,\n",
       "          1.58520521e-02, -1.49561465e-02,  6.36765786e-03,\n",
       "         -1.62252637e-02,  1.50256569e-02,  1.39693403e-03,\n",
       "          6.56554251e-04],\n",
       "        [-3.47174606e-04, -2.83030134e-02,  1.72426676e-02,\n",
       "         -1.41894294e-02,  7.07773197e-03, -2.93681503e-03,\n",
       "          5.17185003e-03, -6.49257482e-03, -8.74014521e-03,\n",
       "         -5.10936643e-03],\n",
       "        [-3.51487970e-03,  8.67987689e-03,  5.83539079e-03,\n",
       "         -9.39854871e-03,  5.98760123e-03, -1.34183526e-03,\n",
       "          1.44878360e-02,  3.30269354e-03, -4.95947189e-03,\n",
       "          2.38224497e-02],\n",
       "        [-1.22292495e-02, -8.30867835e-03, -8.53602142e-03,\n",
       "         -1.39174980e-02, -5.35485454e-03,  1.60344881e-03,\n",
       "          3.37959213e-03,  2.82547968e-03,  2.61965160e-03,\n",
       "         -8.73907338e-03],\n",
       "        [-8.93378875e-03, -5.75617429e-03,  1.39883873e-02,\n",
       "         -9.26697694e-05,  9.53540413e-03, -9.21965211e-03,\n",
       "          1.28658193e-02,  1.09467330e-02, -8.13517200e-03,\n",
       "         -3.30663534e-03],\n",
       "        [-2.02368980e-03,  1.99925500e-03, -4.25329910e-03,\n",
       "         -1.34887003e-03, -2.52770294e-04,  3.99301572e-03,\n",
       "         -1.41269027e-03,  2.51877591e-03, -1.63091990e-02,\n",
       "         -6.46635325e-03],\n",
       "        [ 4.90125826e-04, -3.19935229e-03,  8.02693186e-03,\n",
       "          2.19145419e-03,  1.36634615e-03, -1.01839960e-02,\n",
       "          4.63609107e-03,  1.22116338e-02,  9.15288944e-04,\n",
       "         -7.26625901e-03],\n",
       "        [-5.56003753e-03, -1.68660725e-02,  1.04845556e-02,\n",
       "         -2.03301807e-02, -2.32841888e-03, -1.72615291e-03,\n",
       "          1.35046331e-02,  2.10200390e-02,  8.45315996e-03,\n",
       "         -2.97162124e-04],\n",
       "        [ 1.63300424e-02,  5.77117446e-03,  1.09003758e-02,\n",
       "         -1.00723682e-02, -7.54494343e-03,  6.57898959e-03,\n",
       "         -1.58453836e-03,  1.09566710e-02,  1.08892283e-02,\n",
       "         -1.24422306e-02],\n",
       "        [ 8.30885638e-03, -2.08560359e-03, -8.79979876e-03,\n",
       "         -8.77584486e-03, -2.07327689e-02, -4.09192330e-03,\n",
       "         -9.49542254e-03, -5.33399895e-03,  1.90488856e-02,\n",
       "         -4.75951561e-03],\n",
       "        [-1.00380988e-02,  1.72254070e-02,  1.31776868e-02,\n",
       "          1.39043275e-03, -5.31712388e-03, -1.17659776e-02,\n",
       "          4.92859426e-03, -3.04913669e-05, -2.50560003e-03,\n",
       "          5.45473046e-03],\n",
       "        [ 1.98389417e-02, -9.75708406e-03,  1.01919173e-02,\n",
       "         -6.88170749e-03, -1.30486886e-02, -1.18060732e-02,\n",
       "         -3.49979222e-03,  5.09135104e-03, -2.56127018e-03,\n",
       "          5.87787589e-04],\n",
       "        [ 1.10127939e-02, -1.68662400e-03,  3.91340461e-03,\n",
       "          6.00283477e-04, -1.57262824e-02,  1.06136596e-03,\n",
       "         -1.85360499e-03, -1.09966035e-02, -8.26795326e-03,\n",
       "         -1.30993906e-02],\n",
       "        [ 1.15033342e-02,  1.23342945e-03, -5.83190626e-03,\n",
       "          8.20122996e-03,  1.76248339e-02, -5.55169904e-03,\n",
       "          1.27063429e-02, -9.73378010e-03, -2.12239509e-02,\n",
       "          3.79239203e-03],\n",
       "        [ 3.12755927e-03,  3.32529735e-03,  1.18638174e-02,\n",
       "         -1.80554815e-02,  9.48150526e-03, -1.05447206e-02,\n",
       "          1.06805996e-02, -8.47165486e-03, -4.00030974e-03,\n",
       "          2.98824448e-02],\n",
       "        [-1.25859154e-02, -4.90375379e-03,  1.42047619e-02,\n",
       "         -2.59112958e-04, -1.22403840e-02, -9.63032516e-03,\n",
       "          2.04709691e-03, -1.53559251e-02,  9.68285549e-03,\n",
       "         -2.94862522e-03],\n",
       "        [-1.19907481e-02,  1.19629816e-02, -1.10050782e-03,\n",
       "         -2.40583653e-03,  1.04541875e-03, -3.75837880e-03,\n",
       "          9.91343504e-04,  4.69507064e-03,  1.02902060e-02,\n",
       "         -2.28162738e-02],\n",
       "        [-4.10770056e-04,  1.34859931e-02, -1.26982242e-02,\n",
       "         -8.41624365e-03, -1.35997114e-02, -8.00723488e-03,\n",
       "          3.40106588e-03,  1.63311515e-03,  1.58110043e-02,\n",
       "         -3.83011331e-03],\n",
       "        [ 3.34805528e-03, -1.55544137e-02, -1.44977991e-02,\n",
       "          3.06219557e-03,  1.10931826e-02, -1.97350228e-03,\n",
       "          1.34118384e-02, -1.59814160e-03,  7.57300881e-03,\n",
       "          6.38984572e-03],\n",
       "        [ 1.55928380e-02, -1.33153709e-02,  9.09289895e-03,\n",
       "          1.15450989e-02, -4.36305417e-03,  1.22663652e-02,\n",
       "          6.24761322e-03, -5.49963494e-03,  5.18344180e-03,\n",
       "          6.36137292e-03],\n",
       "        [-1.01949006e-02, -1.47643158e-02,  1.77557450e-02,\n",
       "          5.12301488e-03,  2.81034883e-03,  1.41434374e-02,\n",
       "          1.31619686e-02,  5.42608128e-03,  5.69196098e-03,\n",
       "         -7.30387940e-03],\n",
       "        [-1.02413033e-02, -2.55715213e-03,  6.74231032e-03,\n",
       "         -2.73233410e-02, -1.11643534e-02, -7.19695732e-03,\n",
       "          3.01970031e-03, -1.24349336e-02,  1.72390532e-03,\n",
       "         -8.36834033e-03],\n",
       "        [-1.28386911e-03,  9.80560024e-03, -2.80290702e-03,\n",
       "         -1.20397010e-02,  6.01286559e-04, -6.83200119e-04,\n",
       "         -3.25546716e-03, -9.22186371e-03, -6.12843694e-03,\n",
       "         -1.22514216e-03],\n",
       "        [-7.18929262e-04, -3.47498530e-02, -1.53599485e-03,\n",
       "          6.37900475e-03, -5.55644190e-05,  1.73347288e-02,\n",
       "          4.68286618e-03, -2.34670692e-02,  6.44695826e-03,\n",
       "         -2.16942942e-02],\n",
       "        [ 9.73540224e-03,  3.57789177e-04,  1.17495984e-02,\n",
       "          6.21522783e-03,  3.65377843e-04, -1.00573606e-03,\n",
       "          7.82582332e-03, -1.71587345e-02, -4.88275289e-03,\n",
       "          9.42752110e-03],\n",
       "        [-9.22600555e-03,  4.89944906e-03, -1.32728309e-02,\n",
       "         -7.48335690e-03, -9.77322557e-03,  9.05467393e-03,\n",
       "         -6.73003931e-03,  1.96538401e-02, -5.22398754e-03,\n",
       "         -1.49462682e-02],\n",
       "        [ 7.33109844e-03, -2.71175442e-03,  6.77976111e-03,\n",
       "          1.47215608e-02, -4.59041406e-03,  8.02563191e-03,\n",
       "         -3.14209650e-03,  6.72637609e-04, -9.85082151e-03,\n",
       "         -6.00375361e-03],\n",
       "        [ 1.58490207e-04,  5.65043475e-03, -8.79016691e-04,\n",
       "         -1.61420464e-02, -2.00727577e-02,  1.07338498e-02,\n",
       "          2.25503519e-03,  1.77682061e-02, -4.92204454e-03,\n",
       "         -1.43654427e-03],\n",
       "        [-1.73160948e-02,  3.40096417e-03, -2.19439893e-02,\n",
       "         -5.16631646e-03, -2.13422738e-02, -2.67471258e-02,\n",
       "         -2.35850838e-03,  2.74241354e-03, -1.54375140e-02,\n",
       "          3.59943667e-03],\n",
       "        [-1.20073414e-02,  1.53104169e-02, -6.63218614e-03,\n",
       "         -2.09630074e-03,  1.98497417e-03,  1.74521141e-02,\n",
       "         -1.31232965e-02,  6.65842497e-03, -8.80991824e-03,\n",
       "          9.19790887e-04],\n",
       "        [ 1.83861840e-02,  9.82836560e-03, -1.50072283e-02,\n",
       "          5.40138022e-03,  1.83326035e-02, -9.12324956e-03,\n",
       "          1.58830940e-02, -1.76493475e-03,  1.47099270e-03,\n",
       "          2.31080779e-03],\n",
       "        [-1.17944407e-03,  3.63270737e-03, -1.08351842e-03,\n",
       "          1.63026340e-02, -1.67030635e-02,  1.54064187e-02,\n",
       "         -5.51626289e-03,  2.60957162e-03,  1.11004120e-02,\n",
       "         -2.90636019e-03],\n",
       "        [-1.30557419e-02,  5.97988881e-03, -1.53079753e-03,\n",
       "         -2.27978562e-03,  8.27926829e-03,  5.56998306e-03,\n",
       "          9.71908925e-04,  9.95246099e-03, -6.45954737e-03,\n",
       "         -2.15658469e-02],\n",
       "        [ 2.25161669e-03,  8.14155291e-03, -3.14188176e-03,\n",
       "          6.07834004e-03, -2.50788115e-03,  2.68658411e-03,\n",
       "          1.32576641e-02,  7.78883949e-04, -4.77534789e-03,\n",
       "          1.33169531e-02],\n",
       "        [ 1.36795671e-02,  1.75758933e-02, -1.07974706e-02,\n",
       "          2.64123469e-04, -5.47692263e-03,  8.60711243e-03,\n",
       "          1.19338594e-02, -2.97931117e-03,  2.62816745e-03,\n",
       "          5.20192137e-03],\n",
       "        [-9.75428931e-03, -2.92859613e-03,  8.58639955e-03,\n",
       "         -8.95921334e-03, -8.22233925e-03, -2.82253097e-03,\n",
       "          2.07826128e-02,  3.15986079e-03,  1.13134767e-02,\n",
       "          1.05561192e-03],\n",
       "        [ 9.56015773e-03,  9.48332919e-03,  1.15566110e-02,\n",
       "         -1.11368535e-02, -2.27014527e-03,  3.50631027e-03,\n",
       "          6.29610465e-03,  4.64540718e-03, -3.41474503e-03,\n",
       "          1.28844059e-02],\n",
       "        [ 6.66484031e-03, -8.75312196e-03,  4.82857969e-03,\n",
       "          1.63837562e-02, -1.08088396e-02, -6.07724086e-05,\n",
       "          9.55891371e-04,  4.35770207e-03,  9.02940868e-03,\n",
       "         -7.78220196e-03],\n",
       "        [-9.15953925e-03, -2.44472131e-02,  7.34593008e-03,\n",
       "         -6.07320682e-03,  1.32497335e-02,  1.08941866e-02,\n",
       "         -1.58617344e-03,  7.84769167e-04,  1.44015337e-02,\n",
       "          4.28964042e-04],\n",
       "        [ 1.19977441e-02, -9.28112883e-03,  8.06481915e-03,\n",
       "          1.23686346e-02,  6.75542540e-03,  6.35026856e-03,\n",
       "          4.95543481e-03, -4.74426177e-03,  5.84754473e-03,\n",
       "         -7.19103609e-03],\n",
       "        [ 1.79474024e-02, -1.00536744e-03,  1.41432163e-02,\n",
       "         -2.02110897e-02,  1.21750513e-03, -1.89589236e-02,\n",
       "         -3.72971963e-02,  3.82979834e-03,  6.63091400e-03,\n",
       "          7.74122079e-03],\n",
       "        [-1.69609866e-03, -1.05763968e-02, -5.64735615e-03,\n",
       "          1.48477853e-02,  3.68448242e-02, -4.52975260e-03,\n",
       "          1.59635287e-02,  5.26526353e-03, -2.54135282e-02,\n",
       "          7.01017682e-03],\n",
       "        [-2.64219733e-03,  4.04890745e-03,  3.11113100e-03,\n",
       "          4.90639270e-03,  1.08357875e-02,  5.23341484e-03,\n",
       "          1.06164139e-02,  1.05580756e-02, -3.46349091e-03,\n",
       "         -1.01807800e-02],\n",
       "        [ 4.43678692e-03, -7.20188508e-03, -8.56870791e-03,\n",
       "          3.01848524e-04,  2.24660168e-03,  1.05487704e-02,\n",
       "          1.58551018e-02, -1.73232840e-03, -1.94620604e-02,\n",
       "          4.55987984e-03],\n",
       "        [ 9.76058080e-03,  6.81971665e-03,  6.97274514e-04,\n",
       "         -5.09590052e-03, -7.32940591e-03, -9.69458779e-03,\n",
       "          8.86341594e-03, -1.14470569e-02,  1.22639487e-02,\n",
       "         -2.58039865e-03],\n",
       "        [-2.35598394e-02,  3.71922181e-03, -1.19782405e-02,\n",
       "          8.32656418e-03, -8.92276103e-03,  1.37569328e-03,\n",
       "         -1.79934691e-03, -5.54326558e-03, -8.03086726e-03,\n",
       "          1.62715956e-02],\n",
       "        [ 2.00708998e-03,  3.35619209e-03,  2.20233690e-02,\n",
       "          8.42925048e-03, -2.20003698e-03,  3.99134450e-03,\n",
       "         -4.10198525e-04,  1.72165495e-02,  4.06662667e-03,\n",
       "          3.30576665e-03],\n",
       "        [-1.70051519e-04, -2.98293783e-03, -1.44152600e-02,\n",
       "         -1.75755831e-02, -6.55336279e-03,  1.00742321e-02,\n",
       "         -1.62594828e-03,  1.18537319e-02, -4.29926488e-03,\n",
       "         -2.19554667e-02],\n",
       "        [ 8.38687906e-03, -3.48774693e-03,  1.19727266e-02,\n",
       "         -9.60581496e-03,  4.80072941e-04, -1.63260982e-02,\n",
       "          2.73266475e-03,  1.21619136e-02,  1.42950373e-02,\n",
       "          8.41340336e-03],\n",
       "        [ 3.02173375e-03,  5.14859036e-03, -3.86122609e-03,\n",
       "         -1.41648299e-02,  1.33008777e-03,  4.31060559e-03,\n",
       "          5.55636661e-04, -3.00040571e-03,  5.36684149e-03,\n",
       "          1.77237637e-02],\n",
       "        [ 2.60164523e-02,  8.09431011e-03,  6.28483964e-03,\n",
       "          3.50333849e-03, -1.73017821e-03,  6.36451512e-03,\n",
       "          2.35451800e-03, -6.20136507e-03,  7.51780571e-03,\n",
       "          1.07051708e-02],\n",
       "        [-1.02965429e-03, -9.62191904e-04, -1.98719220e-02,\n",
       "          2.42713126e-03,  6.58348849e-05, -2.33664054e-02,\n",
       "         -1.55063832e-02,  1.08480177e-02, -7.20098545e-03,\n",
       "         -5.60289713e-03],\n",
       "        [ 2.99663456e-03, -1.82028992e-02, -1.15699095e-02,\n",
       "          1.08345384e-02, -2.26969080e-02, -2.08354788e-03,\n",
       "          2.31794098e-03, -6.93290500e-03, -9.20973358e-03,\n",
       "          6.83941409e-03],\n",
       "        [-9.78698085e-03, -1.04722805e-02,  1.84200944e-03,\n",
       "         -1.28392334e-03,  9.92801438e-03, -1.39209680e-02,\n",
       "         -6.26220520e-03,  1.73181772e-03, -5.13402678e-03,\n",
       "          2.81457626e-03],\n",
       "        [-8.91216502e-04, -4.93465197e-03,  1.29116443e-02,\n",
       "         -1.46564552e-02, -9.22950906e-03, -3.12461585e-03,\n",
       "         -3.19589892e-03,  1.65318905e-02, -6.75668429e-03,\n",
       "          1.92468340e-02],\n",
       "        [-1.13940248e-03, -1.94268484e-02, -1.25789654e-02,\n",
       "          1.01243375e-02,  1.00991893e-02,  5.46620099e-03,\n",
       "         -9.49107226e-03,  2.50725188e-03,  1.77825834e-03,\n",
       "          4.38496903e-03],\n",
       "        [ 2.63381100e-03, -1.65333220e-02,  2.49844087e-03,\n",
       "          1.00323773e-02, -1.05406279e-02,  1.24293421e-02,\n",
       "         -7.08857442e-05, -7.36024941e-03, -4.28983107e-03,\n",
       "         -2.10527780e-02],\n",
       "        [ 1.76973878e-02,  1.47210434e-02,  2.01708870e-03,\n",
       "         -9.45813350e-04, -1.72882517e-04,  6.63169760e-03,\n",
       "         -1.45687516e-03, -2.94486980e-03, -3.57907866e-03,\n",
       "         -1.23995713e-02],\n",
       "        [ 1.53137681e-02, -1.00522693e-03, -1.46113002e-02,\n",
       "         -1.70026838e-02, -5.01678551e-03, -4.03199653e-03,\n",
       "         -2.04305141e-02, -2.01445480e-02, -5.80149880e-03,\n",
       "          5.50289950e-03],\n",
       "        [ 1.74673153e-02, -7.69988717e-03, -1.62232833e-02,\n",
       "          3.60239766e-03, -1.30898881e-02, -3.13319673e-03,\n",
       "         -9.53122590e-04,  1.35464952e-02, -4.11745654e-03,\n",
       "          8.50957845e-03],\n",
       "        [-2.66178781e-04, -3.13461833e-03, -9.31936482e-03,\n",
       "         -6.89439141e-03,  4.31181607e-03, -7.95450034e-03,\n",
       "         -5.26667160e-03,  2.11838560e-02, -2.23997658e-03,\n",
       "         -2.61450466e-03],\n",
       "        [-9.89179342e-03, -2.27727440e-02,  2.05998765e-03,\n",
       "         -4.69134570e-03,  1.55030011e-02, -1.13193526e-02,\n",
       "         -8.99546685e-03, -9.77161160e-03,  6.67294246e-03,\n",
       "         -1.44410578e-02],\n",
       "        [ 2.16678748e-02, -1.91044271e-03, -2.49946114e-03,\n",
       "         -7.82487948e-03, -2.93857248e-03, -1.89082266e-02,\n",
       "         -1.60066632e-02,  2.86284202e-03,  2.03660316e-02,\n",
       "          9.91307661e-03],\n",
       "        [ 1.26177086e-02, -1.95032345e-02, -1.35567924e-03,\n",
       "          1.45526598e-02, -1.68296258e-02,  5.74852322e-05,\n",
       "          1.23777110e-02,  1.21339619e-02, -4.31116759e-04,\n",
       "         -9.81067321e-03],\n",
       "        [ 8.14696668e-04,  1.80204266e-02,  4.75784806e-03,\n",
       "         -1.70456308e-03,  3.82973591e-03,  4.20886219e-04,\n",
       "          1.89873616e-02, -3.54674548e-03,  1.14830090e-03,\n",
       "          5.92126011e-03],\n",
       "        [ 1.79405733e-02, -1.14215076e-03, -4.31745547e-03,\n",
       "          2.36408578e-02, -4.15777028e-03, -8.63110859e-03,\n",
       "         -9.02036513e-03,  1.15548708e-02,  1.64089898e-02,\n",
       "         -6.89174025e-03],\n",
       "        [-4.39544079e-03, -1.22994805e-02,  1.11980951e-02,\n",
       "         -1.13254504e-02,  5.26997083e-03,  3.43202572e-03,\n",
       "         -2.11973798e-02,  7.79326525e-03, -3.16129470e-03,\n",
       "          3.65997525e-03],\n",
       "        [ 4.03136208e-03,  7.49853486e-03,  9.53755761e-03,\n",
       "         -1.51104302e-02,  6.22021790e-03, -1.55017556e-02,\n",
       "          7.89056158e-03, -7.17550734e-03,  8.72852002e-03,\n",
       "          2.05701624e-03]]),\n",
       " 'b2': array([0., 0., 0., 0., 0., 0., 0., 0., 0., 0.])}"
      ]
     },
     "execution_count": 57,
     "metadata": {},
     "output_type": "execute_result"
    }
   ],
   "source": [
    "network.params"
   ]
  },
  {
   "cell_type": "code",
   "execution_count": 58,
   "metadata": {},
   "outputs": [],
   "source": [
    "iterations = 10 #10000\n",
    "train_size = x_train[:100].shape[0]\n",
    "batch_size = 2 #100\n",
    "lr = 0.1\n",
    "\n",
    "iter_per_ecoph = max(train_size/batch_size, 1)"
   ]
  },
  {
   "cell_type": "code",
   "execution_count": null,
   "metadata": {},
   "outputs": [
    {
     "ename": "",
     "evalue": "",
     "output_type": "error",
     "traceback": [
      "\u001b[1;31mThe Kernel crashed while executing code in the current cell or a previous cell. \n",
      "\u001b[1;31mPlease review the code in the cell(s) to identify a possible cause of the failure. \n",
      "\u001b[1;31mClick <a href='https://aka.ms/vscodeJupyterKernelCrash'>here</a> for more info. \n",
      "\u001b[1;31mView Jupyter <a href='command:jupyter.viewOutput'>log</a> for further details."
     ]
    }
   ],
   "source": [
    "train_losses = []\n",
    "train_accs = []\n",
    "test_accs = []"
   ]
  },
  {
   "cell_type": "code",
   "execution_count": null,
   "metadata": {},
   "outputs": [
    {
     "name": "stdout",
     "output_type": "stream",
     "text": [
      "train acc, test_acc : 0.09871666666666666, 0.098\n"
     ]
    }
   ],
   "source": [
    "for i in range(iterations):\n",
    "    batch_mask = np.random.choice(train_size, batch_size)\n",
    "    x_batch = x_train[batch_mask]\n",
    "    y_batch = y_train[batch_mask]\n",
    "\n",
    "    grads = network.numerical_gradient(x_batch, y_batch)\n",
    "\n",
    "    for key in ('w1', 'b1', 'w2', 'b2'):\n",
    "        network.params[key] -= lr*grads[key]\n",
    "\n",
    "    ## this is for plotting losses over time\n",
    "    train_losses.append(network.loss(x_batch, y_batch))\n",
    "\n",
    "    if i%iter_per_ecoph == 0:\n",
    "        train_acc = network.accuracy(x_train, y_train)\n",
    "        train_accs.append(train_acc)\n",
    "        test_acc = network.accuracy(x_test, y_test)\n",
    "        test_accs.append(test_acc)\n",
    "        print(f'train acc, test_acc : {train_acc}, {test_acc}')"
   ]
  },
  {
   "cell_type": "code",
   "execution_count": null,
   "metadata": {},
   "outputs": [
    {
     "data": {
      "image/png": "[encoded data removed]",
      "text/plain": [
       "<Figure size 640x480 with 1 Axes>"
      ]
     },
     "metadata": {},
     "output_type": "display_data"
    }
   ],
   "source": [
    "markers = {'train': 'o', 'test': 's'}\n",
    "x = np.arange(len(train_accs))\n",
    "plt.plot(x, train_accs, label='train acc')\n",
    "plt.plot(x, test_accs, label='test acc', linestyle='--')\n",
    "plt.xlabel(\"epochs\")\n",
    "plt.ylabel(\"accuracy\")\n",
    "plt.ylim(0, 1.0)\n",
    "plt.legend(loc='lower right')\n",
    "plt.show()"
   ]
  },
  {
   "cell_type": "markdown",
   "metadata": {},
   "source": [
    "#Backpropegation"
   ]
  },
  {
   "cell_type": "code",
   "execution_count": 1,
   "metadata": {},
   "outputs": [],
   "source": [
    "class Relu:\n",
    "    def __init__(self):\n",
    "        self.mask = None\n",
    "\n",
    "    def forward(self, x):\n",
    "        self.mask = (x <= 0)\n",
    "        out = x.copy()\n",
    "        out[self.mask] = 0\n",
    "\n",
    "        return out\n",
    "\n",
    "    def backward(self, dout):\n",
    "        dout[self.mask] = 0\n",
    "        dx = dout\n",
    "\n",
    "        return dx\n",
    "\n",
    "\n",
    "class Sigmoid:\n",
    "    def __init__(self):\n",
    "        self.out = None\n",
    "        self.activations = Activations()\n",
    "\n",
    "    def forward(self, x):\n",
    "        out = self.activations.sigmoid(x)\n",
    "        self.out = out\n",
    "        return out\n",
    "\n",
    "    def backward(self, dout):\n",
    "        dx = dout * (1.0 - self.out) * self.out\n",
    "\n",
    "        return dx\n",
    "    \n",
    "class Affine:\n",
    "    def __init__(self, w, b):\n",
    "        self.w = w\n",
    "        self.b = b\n",
    "        \n",
    "        self.x = None\n",
    "        self.original_x_shape = None\n",
    "\n",
    "        self.dw = None\n",
    "        self.db = None\n",
    "\n",
    "    def forward(self, x):\n",
    "        # \n",
    "        self.original_x_shape = x.shape\n",
    "        x = x.reshape(x.shape[0], -1)\n",
    "        self.x = x\n",
    "\n",
    "        out = np.dot(self.x, self.w) + self.b\n",
    "\n",
    "        return out\n",
    "\n",
    "    def backward(self, dout):\n",
    "        dx = np.dot(dout, self.w.T)\n",
    "        self.dw = np.dot(self.x.T, dout)\n",
    "        self.db = np.sum(dout, axis=0)\n",
    "        \n",
    "        dx = dx.reshape(*self.original_x_shape)  \n",
    "        return dx\n",
    "\n",
    "class SoftmaxWithLoss:\n",
    "    def __init__(self):\n",
    "        self.loss = None \n",
    "        self.y_hat = None    \n",
    "        self.y = None    \n",
    "        self.activations = Activations()\n",
    "        self.errors = Errors()\n",
    "        \n",
    "    def forward(self, x, y):\n",
    "        self.y = y\n",
    "        self.y_hat = self.activations.softmax(x)\n",
    "        self.loss = self.errors.cross_entropy_error(self.y_hat, self.y)\n",
    "        \n",
    "        return self.loss\n",
    "\n",
    "    def backward(self, dout=1):\n",
    "        batch_size = self.y.shape[0]\n",
    "        #if self.y.size == self.y_hat.size: # one hot encoding\n",
    "        \n",
    "        dx = (self.y_hat - self.y) / batch_size\n",
    "        \n",
    "        \"\"\"\n",
    "        else:\n",
    "            dx = self.y_hat.copy()\n",
    "            dx[np.arange(batch_size), self.t] -= 1\n",
    "            dx = dx / batch_size\n",
    "        \"\"\"\n",
    "        return dx"
   ]
  },
  {
   "cell_type": "code",
   "execution_count": 2,
   "metadata": {},
   "outputs": [],
   "source": [
    "import numpy as np\n",
    "from activations import Activations\n",
    "from errors import Errors"
   ]
  },
  {
   "cell_type": "code",
   "execution_count": 3,
   "metadata": {},
   "outputs": [],
   "source": [
    "from collections import OrderedDict"
   ]
  },
  {
   "cell_type": "code",
   "execution_count": 4,
   "metadata": {},
   "outputs": [],
   "source": [
    "class TwoLayerNetWithBackProp:\n",
    "    def __init__(self, input_size, hidden_size, output_size, weight_init_std=0.01):\n",
    "        self.params = {}\n",
    "\n",
    "        self.params['w1'] = weight_init_std*np.random.randn(input_size, hidden_size)\n",
    "        self.params['b1'] = np.zeros(hidden_size)\n",
    "\n",
    "        self.params['w2'] = weight_init_std*np.random.randn(hidden_size, output_size)\n",
    "        self.params['b2'] = np.zeros(output_size)\n",
    "\n",
    "        self.activations = Activations()\n",
    "        self.errors = Errors()\n",
    "\n",
    "        # add layers\n",
    "        self.layers = OrderedDict()\n",
    "        self.update_layers()\n",
    "        self.last_layer = SoftmaxWithLoss()\n",
    "\n",
    "\n",
    "    def update_layers(self):\n",
    "        self.layers['Affine1'] = Affine(self.params['w1'], self.params['b1'])\n",
    "        self.layers['Rele1'] = Relu()\n",
    "        self.layers['Affine2'] = Affine(self.params['w2'], self.params['b2'])\n",
    "\n",
    "\n",
    "    def predict(self, x):\n",
    "        ## new implementation for backprop\n",
    "        for layer in self.layers.values():\n",
    "            x = layer.forward(x)\n",
    "\n",
    "        y = x\n",
    "        return y\n",
    "    \n",
    "    def loss(self, x, y):\n",
    "        y_hat = self.predict(x)\n",
    "\n",
    "        # return self.errors.cross_entropy_error(y_hat, y)\n",
    "        return self.last_layer.forward(y_hat, y)\n",
    "\n",
    "    def accuracy(self, x, y):\n",
    "        y_hat = self.predict(x)\n",
    "        p = np.argmax(y_hat, axis=1)\n",
    "        y_p = np.argmax(y, axis=1)\n",
    "\n",
    "        return np.sum(p == y_p)/float(x.shape[0])\n",
    "    \n",
    "\n",
    "    def gradient(self, x, y):\n",
    "        self.loss(x, y)\n",
    "\n",
    "        dout = 1\n",
    "        dout = self.last_layer.backward(dout)\n",
    "\n",
    "        layers = list(self.layers.values())\n",
    "        layers.reverse()\n",
    "        for layer in layers:\n",
    "            dout = layer.backward(dout)\n",
    "\n",
    "        grads = {}\n",
    "        grads['w1'] = self.layers['Affine1'].dw\n",
    "        grads['b1'] = self.layers['Affine1'].db\n",
    "        grads['w2'] = self.layers['Affine2'].dw\n",
    "        grads['b2'] = self.layers['Affine2'].db\n",
    "      \n",
    "        return grads"
   ]
  },
  {
   "cell_type": "code",
   "execution_count": 5,
   "metadata": {},
   "outputs": [],
   "source": [
    "from mnist import Mnist"
   ]
  },
  {
   "cell_type": "code",
   "execution_count": 6,
   "metadata": {},
   "outputs": [
    {
     "name": "stdout",
     "output_type": "stream",
     "text": [
      "File: train-images-idx3-ubyte.gz already exists.\n",
      "File: train-labels-idx1-ubyte.gz already exists.\n",
      "File: t10k-images-idx3-ubyte.gz already exists.\n",
      "File: t10k-labels-idx1-ubyte.gz already exists.\n",
      "Pickle: dataset/mnist.pkl already exists.\n",
      "loading....\n",
      "Done\n"
     ]
    }
   ],
   "source": [
    "mnist = Mnist()"
   ]
  },
  {
   "cell_type": "code",
   "execution_count": 7,
   "metadata": {},
   "outputs": [],
   "source": [
    "(x_train, y_train), (x_test, y_test) = mnist.load()"
   ]
  },
  {
   "cell_type": "code",
   "execution_count": 8,
   "metadata": {},
   "outputs": [
    {
     "name": "stdout",
     "output_type": "stream",
     "text": [
      "(60000, 784)\n"
     ]
    }
   ],
   "source": [
    "print(x_train.shape)"
   ]
  },
  {
   "cell_type": "code",
   "execution_count": 13,
   "metadata": {},
   "outputs": [],
   "source": [
    "network = TwoLayerNetWithBackProp(input_size=28*28, hidden_size=100, output_size=10)"
   ]
  },
  {
   "cell_type": "code",
   "execution_count": 14,
   "metadata": {},
   "outputs": [],
   "source": [
    "iterations = 10000\n",
    "train_size = x_train.shape[0]\n",
    "batch_size = 100\n",
    "lr = 0.1\n",
    "\n",
    "iter_per_ecoph = max(train_size/batch_size, 1)"
   ]
  },
  {
   "cell_type": "code",
   "execution_count": 15,
   "metadata": {},
   "outputs": [],
   "source": [
    "train_losses = []\n",
    "train_accs = []\n",
    "test_accs = []"
   ]
  },
  {
   "cell_type": "code",
   "execution_count": 16,
   "metadata": {},
   "outputs": [
    {
     "name": "stdout",
     "output_type": "stream",
     "text": [
      "train acc, test_acc : 0.14195, 0.1393\n",
      "train acc, test_acc : 0.9087166666666666, 0.9129\n",
      "train acc, test_acc : 0.9270666666666667, 0.9278\n",
      "train acc, test_acc : 0.9381, 0.9383\n",
      "train acc, test_acc : 0.9472666666666667, 0.9462\n",
      "train acc, test_acc : 0.9561333333333333, 0.9536\n",
      "train acc, test_acc : 0.9584833333333334, 0.9539\n",
      "train acc, test_acc : 0.9656, 0.9619\n",
      "train acc, test_acc : 0.9696333333333333, 0.9651\n",
      "train acc, test_acc : 0.9733166666666667, 0.968\n",
      "train acc, test_acc : 0.9740833333333333, 0.9678\n",
      "train acc, test_acc : 0.9773166666666666, 0.9707\n",
      "train acc, test_acc : 0.9790833333333333, 0.9716\n",
      "train acc, test_acc : 0.9797833333333333, 0.9712\n",
      "train acc, test_acc : 0.9812666666666666, 0.9712\n",
      "train acc, test_acc : 0.9824, 0.9739\n",
      "train acc, test_acc : 0.9841833333333333, 0.974\n"
     ]
    }
   ],
   "source": [
    "for i in range(iterations):\n",
    "    batch_mask = np.random.choice(train_size, batch_size)\n",
    "    x_batch = x_train[batch_mask]\n",
    "    y_batch = y_train[batch_mask]\n",
    "\n",
    "    grads = network.gradient(x_batch, y_batch)\n",
    "\n",
    "    for key in ('w1', 'b1', 'w2', 'b2'):\n",
    "        network.params[key] -= lr*grads[key]\n",
    "\n",
    "    ## this is for plotting losses over time\n",
    "    train_losses.append(network.loss(x_batch, y_batch))\n",
    "\n",
    "    if i%iter_per_ecoph == 0:\n",
    "        train_acc = network.accuracy(x_train, y_train)\n",
    "        train_accs.append(train_acc)\n",
    "        test_acc = network.accuracy(x_test, y_test)\n",
    "        test_accs.append(test_acc)\n",
    "        print(f'train acc, test_acc : {train_acc}, {test_acc}')"
   ]
  },
  {
   "cell_type": "code",
   "execution_count": null,
   "metadata": {},
   "outputs": [
    {
     "data": {
      "image/png": "[encoded data removed]",
      "text/plain": [
       "<Figure size 640x480 with 1 Axes>"
      ]
     },
     "metadata": {},
     "output_type": "display_data"
    }
   ],
   "source": [
    "markers = {'train': 'o', 'test': 's'}\n",
    "x = np.arange(len(train_accs))\n",
    "plt.plot(x, train_accs, label='train acc')\n",
    "plt.plot(x, test_accs, label='test acc', linestyle='--')\n",
    "plt.xlabel(\"epochs\")\n",
    "plt.ylabel(\"accuracy\")\n",
    "plt.ylim(0, 1.0)\n",
    "plt.legend(loc='lower right')\n",
    "plt.show()"
   ]
  },
  {
   "cell_type": "markdown",
   "metadata": {},
   "source": [
    "#testing with other values"
   ]
  },
  {
   "cell_type": "code",
   "execution_count": 20,
   "metadata": {},
   "outputs": [],
   "source": [
    "network = TwoLayerNetWithBackProp(input_size=28*28, hidden_size=100, output_size=10)"
   ]
  },
  {
   "cell_type": "code",
   "execution_count": 17,
   "metadata": {},
   "outputs": [],
   "source": [
    "iterations = 50000\n",
    "train_size = x_train.shape[0]\n",
    "batch_size = 20\n",
    "lr = 0.1\n",
    "\n",
    "iter_per_ecoph = max(train_size/batch_size, 1)"
   ]
  },
  {
   "cell_type": "code",
   "execution_count": 18,
   "metadata": {},
   "outputs": [],
   "source": [
    "train_losses = []\n",
    "train_accs = []\n",
    "test_accs = []"
   ]
  },
  {
   "cell_type": "code",
   "execution_count": 19,
   "metadata": {},
   "outputs": [
    {
     "name": "stdout",
     "output_type": "stream",
     "text": [
      "train acc, test_acc : 0.9847166666666667, 0.9745\n",
      "train acc, test_acc : 0.9780666666666666, 0.9711\n",
      "train acc, test_acc : 0.9824833333333334, 0.9726\n",
      "train acc, test_acc : 0.9880833333333333, 0.9761\n",
      "train acc, test_acc : 0.9877333333333334, 0.9734\n",
      "train acc, test_acc : 0.9906166666666667, 0.9779\n",
      "train acc, test_acc : 0.9901, 0.9758\n",
      "train acc, test_acc : 0.9939666666666667, 0.9775\n",
      "train acc, test_acc : 0.9938333333333333, 0.9771\n",
      "train acc, test_acc : 0.99555, 0.9776\n",
      "train acc, test_acc : 0.9950833333333333, 0.9765\n",
      "train acc, test_acc : 0.9928333333333333, 0.9767\n",
      "train acc, test_acc : 0.9972833333333333, 0.9783\n",
      "train acc, test_acc : 0.9966, 0.9778\n",
      "train acc, test_acc : 0.9977, 0.9788\n",
      "train acc, test_acc : 0.9986, 0.9804\n",
      "train acc, test_acc : 0.999, 0.9791\n"
     ]
    }
   ],
   "source": [
    "for i in range(iterations):\n",
    "    batch_mask = np.random.choice(train_size, batch_size)\n",
    "    x_batch = x_train[batch_mask]\n",
    "    y_batch = y_train[batch_mask]\n",
    "\n",
    "    grads = network.gradient(x_batch, y_batch)\n",
    "\n",
    "    for key in ('w1', 'b1', 'w2', 'b2'):\n",
    "        network.params[key] -= lr*grads[key]\n",
    "\n",
    "    ## this is for plotting losses over time\n",
    "    train_losses.append(network.loss(x_batch, y_batch))\n",
    "\n",
    "    if i%iter_per_ecoph == 0:\n",
    "        train_acc = network.accuracy(x_train, y_train)\n",
    "        train_accs.append(train_acc)\n",
    "        test_acc = network.accuracy(x_test, y_test)\n",
    "        test_accs.append(test_acc)\n",
    "        print(f'train acc, test_acc : {train_acc}, {test_acc}')"
   ]
  },
  {
   "cell_type": "code",
   "execution_count": 21,
   "metadata": {},
   "outputs": [
    {
     "data": {
      "text/plain": [
       "{'w1': array([[ 0.01840758,  0.01188738,  0.01735229, ..., -0.00615166,\n",
       "         -0.00631154, -0.009014  ],\n",
       "        [ 0.00627563, -0.0078674 ,  0.00260525, ...,  0.00788088,\n",
       "         -0.02661828,  0.00462091],\n",
       "        [ 0.00678598, -0.0026925 ,  0.01111532, ...,  0.00158335,\n",
       "          0.00836296, -0.00649377],\n",
       "        ...,\n",
       "        [-0.00127813,  0.00875154,  0.00939327, ..., -0.01106816,\n",
       "          0.00102307, -0.01090418],\n",
       "        [ 0.00373171,  0.02400734,  0.00262526, ..., -0.00786338,\n",
       "         -0.00640312, -0.00871679],\n",
       "        [-0.0152124 ,  0.00640513,  0.00291047, ...,  0.00537125,\n",
       "         -0.01445029, -0.00505341]]),\n",
       " 'b1': array([0., 0., 0., 0., 0., 0., 0., 0., 0., 0., 0., 0., 0., 0., 0., 0., 0.,\n",
       "        0., 0., 0., 0., 0., 0., 0., 0., 0., 0., 0., 0., 0., 0., 0., 0., 0.,\n",
       "        0., 0., 0., 0., 0., 0., 0., 0., 0., 0., 0., 0., 0., 0., 0., 0., 0.,\n",
       "        0., 0., 0., 0., 0., 0., 0., 0., 0., 0., 0., 0., 0., 0., 0., 0., 0.,\n",
       "        0., 0., 0., 0., 0., 0., 0., 0., 0., 0., 0., 0., 0., 0., 0., 0., 0.,\n",
       "        0., 0., 0., 0., 0., 0., 0., 0., 0., 0., 0., 0., 0., 0., 0.]),\n",
       " 'w2': array([[ 3.42560046e-03, -4.06824177e-03,  2.61580059e-02,\n",
       "          1.73284317e-02, -1.03606625e-02, -1.28968424e-02,\n",
       "          3.36111829e-03,  8.84962236e-03, -1.19981325e-02,\n",
       "          6.10273995e-03],\n",
       "        [-8.23713358e-03,  2.12262459e-03, -1.42218712e-02,\n",
       "          7.50893787e-04,  6.16151744e-03,  1.00947249e-03,\n",
       "          2.85155136e-03,  2.84381533e-03, -7.25647975e-03,\n",
       "         -8.97853968e-05],\n",
       "        [-1.03084713e-05, -1.04787489e-02, -1.05060147e-02,\n",
       "         -1.86422027e-03,  1.45932120e-02,  2.68448236e-03,\n",
       "         -1.19852221e-04, -5.89664412e-03,  1.83543456e-02,\n",
       "         -2.66971550e-03],\n",
       "        [-2.92590125e-02, -1.93291348e-02, -9.89035619e-04,\n",
       "         -1.45605328e-02,  5.19129603e-03, -4.68117780e-03,\n",
       "         -8.83078147e-03, -1.17927410e-03,  6.80032048e-03,\n",
       "         -2.99580393e-03],\n",
       "        [ 1.01005160e-03, -2.98758410e-03,  1.34925340e-03,\n",
       "         -5.41179048e-03, -1.85114831e-02, -1.24822755e-02,\n",
       "         -5.98850383e-03,  2.43548126e-02, -6.62505085e-03,\n",
       "          1.33592939e-03],\n",
       "        [ 2.47209569e-03,  5.36326189e-03, -2.79186603e-03,\n",
       "          2.92159225e-02,  9.30917158e-03, -8.06627805e-03,\n",
       "          4.16494388e-03,  1.03612186e-02,  1.64966932e-02,\n",
       "          1.38578306e-02],\n",
       "        [ 1.19203715e-02,  6.78236499e-03, -1.44079540e-03,\n",
       "         -1.93327631e-03,  6.86921718e-03,  1.42077980e-02,\n",
       "          7.80689993e-03,  2.36157606e-03,  1.87282863e-04,\n",
       "         -8.56383859e-04],\n",
       "        [ 1.59399835e-02,  1.99192632e-03,  2.63158567e-03,\n",
       "          6.57114982e-03,  7.85266767e-03, -7.25308627e-03,\n",
       "          1.12467062e-02,  2.32669852e-03,  3.91592502e-03,\n",
       "          2.04366600e-02],\n",
       "        [ 7.81809183e-03,  8.01748620e-03,  1.06088217e-02,\n",
       "          5.15864052e-03, -2.15308633e-03, -2.42337882e-03,\n",
       "         -2.68017409e-03, -7.07912249e-03, -5.92806263e-03,\n",
       "         -3.02984109e-03],\n",
       "        [ 6.34744144e-03, -6.64305935e-03,  5.27371827e-04,\n",
       "         -1.27788588e-03, -3.30011142e-03, -8.04762966e-03,\n",
       "          3.06654038e-04,  1.10583448e-03, -9.26135380e-03,\n",
       "         -1.00379897e-02],\n",
       "        [ 8.54016832e-04, -1.61729686e-02,  1.49840957e-02,\n",
       "          2.38702094e-03, -1.72248884e-02,  4.88874627e-03,\n",
       "         -7.43558546e-03,  5.41122103e-03, -7.90250320e-03,\n",
       "          5.20408956e-03],\n",
       "        [-1.75525828e-02,  2.45041336e-02, -3.47288747e-03,\n",
       "         -3.78307837e-03,  1.16041571e-02,  1.15393440e-02,\n",
       "          1.24742195e-02, -6.17597911e-03, -1.49862186e-03,\n",
       "         -5.80418181e-03],\n",
       "        [ 3.14481737e-02,  1.33023971e-02, -2.18646164e-02,\n",
       "         -6.84999429e-03,  3.59024582e-03,  3.85087417e-03,\n",
       "         -1.97822459e-02,  3.77230652e-03, -3.34488358e-03,\n",
       "         -2.74492717e-03],\n",
       "        [ 1.24715533e-03, -2.28710972e-04,  2.69657396e-03,\n",
       "         -1.18032901e-02, -4.18542894e-03, -1.38298638e-03,\n",
       "          8.42160863e-03,  4.42175436e-03,  5.84240748e-03,\n",
       "          1.23243147e-03],\n",
       "        [-3.80804810e-03, -1.73778541e-02,  1.16258734e-02,\n",
       "          1.69503544e-02, -6.33161759e-04,  1.99070857e-03,\n",
       "          9.28548077e-03, -3.23106676e-03,  7.22638100e-03,\n",
       "          8.05027836e-03],\n",
       "        [-1.62159573e-02,  4.38068958e-03,  4.48856833e-05,\n",
       "         -1.50826139e-03,  1.33719799e-02,  2.50710912e-03,\n",
       "         -7.65552691e-03, -1.05045827e-02, -9.61197558e-03,\n",
       "         -5.09803960e-03],\n",
       "        [-7.04094780e-03,  8.62331445e-03,  1.20063621e-03,\n",
       "         -1.55870899e-03, -1.30838481e-02,  1.95392212e-02,\n",
       "          4.07367455e-03,  1.37913026e-03,  1.10922325e-02,\n",
       "          8.64520620e-04],\n",
       "        [ 1.07724667e-02, -2.22634165e-03,  9.43798794e-03,\n",
       "          3.94920927e-03, -1.83483457e-04, -9.54684581e-03,\n",
       "          5.94077654e-04, -7.97622430e-03, -4.63845489e-03,\n",
       "         -5.30735243e-03],\n",
       "        [ 1.46574874e-02,  2.63650185e-03,  2.73938146e-02,\n",
       "         -1.94878662e-02,  1.04617197e-02, -1.06033213e-02,\n",
       "         -1.58651206e-02,  3.24253817e-03, -2.61223422e-03,\n",
       "          1.21097189e-02],\n",
       "        [-5.19927180e-03,  4.96969822e-03,  2.46556168e-03,\n",
       "         -7.91510719e-03, -2.10966710e-02,  1.41425131e-02,\n",
       "         -3.53542132e-03, -3.31328862e-03,  1.08360775e-02,\n",
       "          5.06976246e-03],\n",
       "        [ 7.27884066e-03,  1.29947998e-02, -4.96693949e-03,\n",
       "          5.15699307e-03,  5.67273218e-03, -2.45059410e-02,\n",
       "          1.21044461e-04,  1.08338790e-02,  7.57408415e-03,\n",
       "          7.56834234e-03],\n",
       "        [ 7.47002135e-03, -1.21723791e-02,  1.11050945e-02,\n",
       "         -1.73678907e-03,  1.96806847e-02, -2.63936749e-03,\n",
       "          8.68417117e-03, -7.42900564e-03, -1.33784360e-04,\n",
       "          1.51190472e-02],\n",
       "        [ 1.32644777e-02, -9.77918840e-03,  6.49370904e-03,\n",
       "         -8.90285493e-03,  9.33072407e-03,  9.05643710e-03,\n",
       "         -1.18695991e-02,  1.89569104e-02, -2.73841022e-03,\n",
       "         -3.95609819e-03],\n",
       "        [-1.27178168e-02,  1.60580210e-02,  6.52645921e-03,\n",
       "         -2.06029227e-03, -1.02179706e-02, -2.55403201e-03,\n",
       "          1.48806923e-02,  4.91112164e-03,  1.61535475e-02,\n",
       "          1.92457884e-03],\n",
       "        [ 1.25855299e-02, -4.07999478e-03,  7.39676259e-03,\n",
       "          6.74223344e-03, -1.22862104e-03,  3.21574667e-03,\n",
       "          1.94852261e-02,  2.28756212e-03, -9.21419662e-03,\n",
       "         -2.55542195e-03],\n",
       "        [-1.40746474e-02,  2.73230408e-03,  2.14817692e-02,\n",
       "         -7.42419673e-03, -9.46826120e-03, -2.24412246e-03,\n",
       "          4.82790889e-03, -1.04800162e-02,  9.72356128e-03,\n",
       "          2.51030732e-03],\n",
       "        [-4.79271134e-03,  1.38578134e-02,  4.32594489e-03,\n",
       "         -3.66247599e-02, -1.59449088e-02, -3.48890028e-03,\n",
       "          2.26628369e-03,  1.18272182e-03,  4.17311137e-03,\n",
       "          5.54839966e-03],\n",
       "        [ 5.35203762e-03,  3.01302557e-03, -2.52888446e-02,\n",
       "          1.49778732e-02, -9.58915705e-03,  7.02266976e-03,\n",
       "         -2.19464435e-03, -3.62223510e-03, -3.30419810e-03,\n",
       "          1.24617731e-02],\n",
       "        [ 2.63614261e-02,  7.26579813e-04, -1.29732135e-02,\n",
       "         -7.55724262e-03,  2.00382350e-04,  5.42547111e-03,\n",
       "         -1.16779346e-02,  2.47667534e-03, -9.25229595e-04,\n",
       "         -1.93313410e-03],\n",
       "        [-5.38931765e-03,  1.68186909e-02, -9.09217744e-03,\n",
       "          1.83768418e-03,  1.71915402e-02, -1.50028320e-04,\n",
       "          5.40378913e-03, -6.58777815e-03, -1.11794868e-03,\n",
       "         -1.14263167e-02],\n",
       "        [ 6.27531338e-03, -1.05027455e-02,  2.03852732e-02,\n",
       "          1.82040574e-02,  1.35851282e-02, -2.28866606e-03,\n",
       "         -6.95797069e-03,  2.17504321e-02,  4.85813881e-05,\n",
       "          1.08835724e-02],\n",
       "        [ 1.07924565e-02, -8.38150579e-03,  9.41075871e-04,\n",
       "         -1.28904822e-03,  6.69803285e-03, -4.34607430e-03,\n",
       "         -8.62384032e-03, -2.66213282e-04, -1.30437339e-03,\n",
       "         -2.19457308e-03],\n",
       "        [-1.94217883e-02,  4.17202439e-03, -1.16321086e-02,\n",
       "          3.22389579e-02, -1.60796667e-02, -8.17719030e-03,\n",
       "          1.01829839e-02,  2.69367641e-04,  8.19513911e-03,\n",
       "          9.57304686e-03],\n",
       "        [-4.14066380e-03, -1.11058814e-02, -8.07974838e-03,\n",
       "         -5.97601855e-03, -9.72404055e-03,  9.60942329e-03,\n",
       "          6.09082210e-03, -9.11747464e-03,  7.48532192e-03,\n",
       "          9.85270243e-03],\n",
       "        [-2.92366192e-03,  3.01002207e-02,  2.26109987e-03,\n",
       "         -4.44869859e-03, -3.73011746e-03,  1.44921557e-02,\n",
       "          1.31322989e-02, -7.95451473e-03,  1.09758196e-02,\n",
       "         -1.66936450e-03],\n",
       "        [-2.69509792e-03, -1.52238594e-02, -4.63195499e-03,\n",
       "         -4.32855186e-03,  8.07080624e-03, -1.31159255e-02,\n",
       "         -9.39998961e-03,  3.26667436e-02,  1.80503781e-02,\n",
       "         -1.17071484e-02],\n",
       "        [ 7.55944211e-03, -1.02680917e-02,  4.51028238e-03,\n",
       "         -4.32765931e-03,  1.68568739e-02,  5.10572990e-03,\n",
       "          3.52328033e-03,  1.22155888e-02,  1.08128107e-02,\n",
       "         -1.20830891e-02],\n",
       "        [-7.86839010e-04, -1.34475782e-02, -2.49318809e-02,\n",
       "         -4.42397092e-03, -7.48525935e-03,  1.05671599e-02,\n",
       "         -1.60129591e-02,  3.05888511e-03, -2.03662310e-02,\n",
       "          8.90514555e-03],\n",
       "        [-9.63140128e-03,  5.84602164e-04,  1.36209494e-02,\n",
       "         -2.92174684e-04,  1.43382374e-02, -1.18687717e-02,\n",
       "         -1.92273123e-02, -8.00610574e-04, -9.32797730e-03,\n",
       "         -6.44638515e-03],\n",
       "        [-2.15931690e-02, -1.12901895e-02,  8.67509964e-03,\n",
       "         -5.90389266e-03, -1.59320318e-03,  1.09358160e-02,\n",
       "          5.65656432e-03,  7.63162735e-03,  2.73900307e-03,\n",
       "          1.94638675e-02],\n",
       "        [ 2.67023329e-03, -2.40312776e-02,  1.64850224e-02,\n",
       "          1.11970758e-02, -9.66653504e-03, -4.25379774e-03,\n",
       "         -6.80616691e-03, -3.36617331e-03,  1.19747517e-02,\n",
       "          1.30736386e-02],\n",
       "        [ 2.22892678e-03, -8.83890847e-03, -2.39848690e-03,\n",
       "          2.43877909e-03, -1.71269276e-02,  5.98563329e-03,\n",
       "          6.28652658e-03,  2.37956846e-03, -2.86432700e-02,\n",
       "         -1.39487324e-02],\n",
       "        [ 4.09797522e-03, -1.10672478e-02, -2.56894757e-03,\n",
       "         -1.29864074e-02, -1.06641724e-02, -7.06284295e-03,\n",
       "         -1.12462183e-02,  5.44088468e-03, -8.67822785e-03,\n",
       "         -2.32354804e-02],\n",
       "        [-1.92533991e-02, -1.23173498e-02,  4.06259355e-03,\n",
       "         -8.29581056e-03, -1.04847179e-02, -5.86161670e-04,\n",
       "          2.04347910e-04, -2.36763089e-03,  5.74863347e-04,\n",
       "          4.63687699e-03],\n",
       "        [-1.38582067e-03, -1.60094466e-03, -3.90134774e-03,\n",
       "          3.76543028e-03, -6.07197733e-03, -7.71703184e-04,\n",
       "         -2.03858468e-02,  2.73095409e-03, -5.85988360e-03,\n",
       "         -1.34121924e-02],\n",
       "        [-3.32580026e-03, -1.02541220e-02, -1.18396151e-02,\n",
       "         -1.27052089e-02,  1.85964486e-02,  1.51941048e-02,\n",
       "         -6.19647933e-03, -1.77463609e-02, -2.03175535e-03,\n",
       "          1.10103087e-02],\n",
       "        [ 9.08342372e-03,  7.25572965e-03,  1.73111391e-02,\n",
       "         -1.96077987e-03, -8.65214631e-03, -6.32490524e-03,\n",
       "         -4.40519101e-03, -5.65551549e-03,  2.08831954e-03,\n",
       "          9.20537646e-03],\n",
       "        [ 1.60674149e-02, -6.28103424e-03,  6.52851461e-03,\n",
       "          1.49058361e-03,  1.64739360e-02,  5.87990785e-03,\n",
       "          5.84289236e-03, -2.95696984e-03, -1.02912605e-03,\n",
       "         -2.23584172e-03],\n",
       "        [ 1.84068047e-02, -1.63003995e-03,  5.60739290e-03,\n",
       "          4.20301285e-03, -2.19789159e-03,  5.57983445e-03,\n",
       "          2.08458248e-03,  1.31831449e-02, -3.26658367e-03,\n",
       "          1.62768234e-04],\n",
       "        [ 3.81633513e-04, -4.44020339e-03,  7.85205764e-03,\n",
       "         -7.98010213e-04, -8.88257405e-03,  5.26503082e-03,\n",
       "         -4.94874633e-03,  2.54245992e-02, -9.20997771e-03,\n",
       "         -1.29014501e-02],\n",
       "        [ 9.12606580e-03,  1.14467005e-02, -6.39640622e-03,\n",
       "          7.00074649e-03, -2.15075116e-02, -7.67850367e-03,\n",
       "         -5.03993678e-03, -2.96817192e-03,  1.19168805e-02,\n",
       "          1.02907303e-02],\n",
       "        [-1.30734781e-02, -5.34781330e-04,  1.06892232e-02,\n",
       "         -6.32004826e-03,  1.27119589e-02, -1.42243153e-02,\n",
       "          1.07435327e-02, -1.20039022e-03,  1.25149699e-03,\n",
       "          4.24677442e-03],\n",
       "        [ 6.67491923e-04,  2.88244382e-03,  3.78097098e-03,\n",
       "         -1.08000485e-02, -7.91010712e-03,  2.24847616e-03,\n",
       "         -3.29948859e-03, -6.53210225e-03, -2.99388834e-03,\n",
       "         -2.33888700e-02],\n",
       "        [-3.22101462e-04, -4.48112857e-03, -1.49033653e-02,\n",
       "         -3.17014731e-03, -1.58508440e-02,  1.46477942e-03,\n",
       "          3.13141769e-03,  1.26786803e-02,  5.04749361e-03,\n",
       "         -3.99601744e-04],\n",
       "        [-1.48224893e-02,  2.39733701e-03,  1.09681805e-02,\n",
       "          1.27067703e-02,  6.83036952e-03, -9.61048580e-03,\n",
       "          3.58581597e-03,  9.33342135e-03,  5.14296845e-03,\n",
       "          4.31584714e-03],\n",
       "        [-6.11085283e-03, -9.10061532e-03,  1.58473782e-03,\n",
       "         -8.67592542e-03, -2.38330958e-03,  6.64845599e-03,\n",
       "          1.62365713e-02,  1.10044328e-02,  6.70312831e-03,\n",
       "         -1.66721140e-02],\n",
       "        [-2.02559419e-03, -4.08823155e-04, -8.15286742e-03,\n",
       "         -7.04062522e-03,  9.96513320e-04,  4.19023352e-04,\n",
       "          7.40018699e-03,  2.36933119e-03, -8.61942203e-03,\n",
       "         -1.86433753e-02],\n",
       "        [ 6.37848121e-03, -1.01264330e-02,  1.67453985e-02,\n",
       "          4.77154020e-03,  7.71156510e-03,  5.64463672e-04,\n",
       "         -1.14971015e-02, -5.64023416e-03,  9.15249062e-03,\n",
       "         -3.59983334e-03],\n",
       "        [-2.60300370e-03,  1.94581645e-02,  9.09520346e-03,\n",
       "         -1.29031827e-02,  2.74254461e-03, -1.60876250e-04,\n",
       "         -8.27350476e-03,  5.84397949e-03, -2.35248286e-04,\n",
       "         -7.70361000e-03],\n",
       "        [-1.56914780e-03,  1.55625853e-03, -1.51975434e-03,\n",
       "          4.06117923e-03, -9.51693095e-03,  5.02631417e-03,\n",
       "         -1.44819620e-02,  9.23306524e-03, -1.59547361e-02,\n",
       "         -9.72234764e-03],\n",
       "        [-1.52521094e-02, -1.30359507e-02,  3.06330484e-02,\n",
       "          8.21821250e-03,  4.52701487e-04, -1.00651302e-02,\n",
       "         -3.80274759e-03, -1.30193928e-02,  5.28003000e-03,\n",
       "         -9.69607301e-03],\n",
       "        [-5.17596189e-03,  1.60179296e-02,  2.22364835e-02,\n",
       "         -8.71920562e-03,  7.07441303e-03, -3.89754959e-04,\n",
       "         -1.02571390e-02, -1.61587838e-02,  1.18262116e-02,\n",
       "          1.67797171e-02],\n",
       "        [ 4.30547915e-04, -1.39739326e-02,  6.71708916e-03,\n",
       "          9.10502876e-03, -2.23030444e-02,  6.85599560e-03,\n",
       "         -9.95212139e-03,  1.16797963e-02, -1.62947088e-02,\n",
       "          6.66064810e-03],\n",
       "        [ 4.05107622e-03, -7.29727429e-03, -1.10089954e-03,\n",
       "          7.13537098e-03,  4.63140573e-03, -8.00667871e-03,\n",
       "          6.15248136e-03,  4.77165852e-03, -5.27671739e-03,\n",
       "         -3.04109509e-03],\n",
       "        [-7.51517393e-04, -1.05429579e-02,  7.42467999e-04,\n",
       "         -5.42708888e-03,  8.08602959e-03,  9.99443186e-03,\n",
       "         -1.13420434e-02,  1.79841962e-02,  3.80821349e-03,\n",
       "         -5.06975713e-03],\n",
       "        [ 4.61529837e-03,  1.05191206e-02, -8.02684805e-03,\n",
       "         -6.99189487e-03,  4.62831071e-03,  4.84548155e-03,\n",
       "         -4.22173177e-03, -2.09853239e-03, -1.25244981e-02,\n",
       "          8.28663831e-03],\n",
       "        [-6.32772601e-03, -5.46668406e-03, -1.77001672e-02,\n",
       "          4.00934236e-03, -7.84922527e-03, -4.88573839e-04,\n",
       "          1.68117354e-02, -1.66485994e-03,  5.93770699e-03,\n",
       "         -2.27720736e-03],\n",
       "        [ 1.62286117e-02, -3.32709666e-03,  7.45197473e-04,\n",
       "         -4.93149218e-03,  5.04150270e-03, -2.01117373e-03,\n",
       "         -4.63177217e-03,  1.13888961e-02, -6.60825504e-03,\n",
       "          2.00751569e-02],\n",
       "        [-2.54752811e-03, -8.31982006e-04,  4.46038288e-03,\n",
       "         -1.06283362e-02,  6.04683229e-04, -4.61059438e-03,\n",
       "         -4.03328871e-03,  3.68039019e-03, -6.28211808e-03,\n",
       "         -5.37488029e-03],\n",
       "        [-4.55111361e-03,  9.88545211e-03, -5.96505077e-03,\n",
       "          8.83236576e-03, -1.06785707e-02, -1.32818031e-02,\n",
       "          7.74318598e-03, -1.36482740e-02,  1.55313769e-03,\n",
       "         -1.84959749e-03],\n",
       "        [-1.22365578e-02, -1.24709291e-02,  4.23834142e-03,\n",
       "          7.00643060e-03, -4.26629293e-03, -1.05505348e-02,\n",
       "          2.71584540e-03, -1.73377112e-02,  3.27019853e-03,\n",
       "          1.46937271e-02],\n",
       "        [ 2.15176439e-02,  1.15397297e-04,  1.93252194e-02,\n",
       "          1.57986544e-03, -5.04661787e-03, -4.04169915e-03,\n",
       "         -9.42343092e-03, -1.33225509e-02,  1.84375558e-03,\n",
       "          1.99619707e-02],\n",
       "        [-1.82995643e-02,  8.00380652e-03, -5.80234329e-03,\n",
       "         -6.53716727e-03,  1.20384696e-02, -4.13488359e-03,\n",
       "          7.87871433e-03,  2.89269390e-03,  3.13724716e-03,\n",
       "         -5.49509729e-03],\n",
       "        [-6.82740524e-03,  6.20466956e-03, -2.42450716e-03,\n",
       "          4.19686834e-03, -1.46710638e-02,  8.07543276e-03,\n",
       "          3.55293509e-03, -2.55617685e-03, -4.55392146e-03,\n",
       "         -1.21440185e-02],\n",
       "        [-4.57590669e-03,  4.16081435e-03, -6.95680308e-04,\n",
       "          8.78474679e-03,  3.32484363e-03, -1.46862483e-02,\n",
       "          5.68637204e-03,  1.63685243e-03,  9.92619334e-04,\n",
       "          1.32090930e-02],\n",
       "        [ 3.37610477e-03, -4.60080422e-03,  9.55644451e-03,\n",
       "         -4.87270158e-03,  1.79792817e-02,  5.08666247e-03,\n",
       "         -1.08105117e-02,  2.71223188e-02,  4.91060578e-03,\n",
       "          5.61572363e-03],\n",
       "        [-2.94790715e-04, -1.20875879e-02, -7.31494745e-03,\n",
       "         -9.39789374e-03,  4.33478585e-03, -2.47603959e-02,\n",
       "         -3.57248915e-03, -8.31752761e-04,  7.16822886e-03,\n",
       "          2.41573302e-02],\n",
       "        [ 3.19459330e-03,  7.42795827e-03, -3.01449996e-03,\n",
       "         -3.97903019e-03, -3.60086185e-03,  9.26544533e-03,\n",
       "          4.76336028e-03,  5.67758323e-03,  9.44517445e-03,\n",
       "         -2.41403315e-04],\n",
       "        [ 2.13860547e-02, -9.83724268e-03,  4.25219192e-03,\n",
       "          1.31640590e-02, -7.72457844e-04,  5.81503319e-03,\n",
       "         -7.50345662e-03,  1.35285200e-03, -9.61424958e-03,\n",
       "         -1.02979665e-02],\n",
       "        [-2.11408785e-02, -1.06824835e-02, -3.75112255e-03,\n",
       "          1.15454260e-02,  1.85878087e-02, -3.07580875e-03,\n",
       "         -5.93311782e-03,  1.15880615e-02,  6.73348905e-03,\n",
       "          7.43307646e-03],\n",
       "        [-1.86093922e-02, -6.96503322e-03, -1.73496618e-02,\n",
       "         -5.66256981e-04,  1.28175629e-02, -3.91139571e-03,\n",
       "         -1.22258310e-02,  4.81934490e-03,  1.96987455e-02,\n",
       "         -4.82151123e-03],\n",
       "        [ 2.81529447e-03,  9.49331384e-03,  6.40062438e-03,\n",
       "         -8.83451653e-04,  2.41966953e-02, -4.36742254e-03,\n",
       "         -1.90910755e-03,  6.02636855e-03,  1.49298788e-02,\n",
       "          1.08640063e-02],\n",
       "        [ 2.47151020e-04, -4.37425470e-03,  9.37493826e-03,\n",
       "          4.82576941e-03,  6.76661394e-04, -1.39314987e-02,\n",
       "         -1.15384083e-02, -7.01718311e-03,  9.28067260e-03,\n",
       "         -4.81468274e-03],\n",
       "        [ 1.28911623e-02, -9.01817921e-03, -5.49649233e-03,\n",
       "          3.61458326e-03,  4.90884111e-03, -8.83814079e-03,\n",
       "         -1.76067656e-03, -1.73786083e-02,  3.40330499e-03,\n",
       "         -6.99906613e-04],\n",
       "        [ 4.43411452e-03,  3.56081050e-03, -1.91170210e-04,\n",
       "         -1.48575261e-03, -1.09027305e-02, -8.70947402e-03,\n",
       "          1.58347628e-02,  4.97455974e-03, -8.76507291e-03,\n",
       "          2.49768273e-03],\n",
       "        [ 1.97180395e-02, -9.03407533e-03,  1.28106832e-02,\n",
       "         -8.68411675e-03, -7.21501205e-03, -1.23075750e-02,\n",
       "         -4.80391915e-03, -1.85960691e-02, -6.58830135e-03,\n",
       "          1.94079413e-02],\n",
       "        [-1.93593830e-02,  1.88270008e-02,  1.38842735e-02,\n",
       "         -2.36627728e-03,  4.74038969e-03,  1.69985700e-04,\n",
       "          2.35789352e-02, -1.74751382e-03,  7.37932034e-03,\n",
       "         -3.95052791e-03],\n",
       "        [ 1.52942314e-02,  2.30918860e-03, -1.59011895e-02,\n",
       "          3.41477210e-03,  9.40277525e-03,  8.59439314e-03,\n",
       "          1.21442699e-02,  1.19896337e-02, -8.66778653e-03,\n",
       "         -6.46725880e-03],\n",
       "        [ 6.55265054e-03, -7.24610563e-03, -3.43034082e-04,\n",
       "         -1.98723914e-02,  1.04492415e-02, -6.79992877e-03,\n",
       "         -1.85060416e-02,  1.13474772e-02,  3.55299783e-03,\n",
       "          1.06813125e-02],\n",
       "        [ 6.64775098e-03,  1.46766813e-02, -2.52613883e-03,\n",
       "         -1.27161587e-02,  5.80742265e-03, -1.09324239e-02,\n",
       "          2.49945409e-03,  6.89773958e-03,  9.40752299e-04,\n",
       "          2.87710841e-03],\n",
       "        [-4.81271589e-03, -3.14956613e-03, -1.07739805e-02,\n",
       "         -2.37916497e-03,  9.01549851e-03,  2.26717971e-03,\n",
       "          1.42301694e-02, -1.57418863e-03, -5.04182406e-03,\n",
       "          1.02278109e-02],\n",
       "        [ 1.94801789e-02,  3.58361132e-03, -8.34344199e-03,\n",
       "          4.53185306e-03, -6.95148222e-03,  9.50333607e-03,\n",
       "          8.08567777e-04,  5.48344173e-03,  2.17583680e-02,\n",
       "          7.22394884e-03],\n",
       "        [ 6.37478178e-03,  4.23823162e-03, -1.43602655e-02,\n",
       "          9.43924781e-03, -1.31425923e-03, -2.61962123e-02,\n",
       "          7.05689507e-03, -4.78295008e-03, -9.52833105e-03,\n",
       "          1.74451447e-02],\n",
       "        [-4.53525215e-03,  2.91725971e-03,  4.15783304e-03,\n",
       "          1.53406810e-02, -4.82897647e-04,  3.88589155e-03,\n",
       "         -5.10432424e-04, -1.09353110e-02, -6.11225492e-03,\n",
       "          2.89471064e-03],\n",
       "        [ 2.19521779e-03,  9.02415748e-03,  1.69790114e-03,\n",
       "         -6.34332004e-03,  2.03277408e-02, -3.06194323e-03,\n",
       "         -2.16174832e-03, -5.06764210e-03,  1.25260391e-02,\n",
       "          6.61808485e-03],\n",
       "        [-1.63784529e-03, -2.04359116e-03,  1.61623366e-02,\n",
       "         -1.58274917e-02,  6.80919393e-03, -4.37828930e-04,\n",
       "         -2.16718207e-03, -4.63572904e-03, -6.37557990e-03,\n",
       "          1.69031703e-04],\n",
       "        [-2.90129270e-03,  3.08276002e-03, -1.37876106e-02,\n",
       "          8.34460990e-03, -1.16337435e-02,  2.56217149e-03,\n",
       "         -1.36211860e-02,  6.98392145e-03,  1.04069990e-02,\n",
       "         -6.54161987e-03],\n",
       "        [ 1.21834759e-02, -7.26812296e-04,  5.86019830e-03,\n",
       "          7.71522472e-03, -1.45948261e-02,  9.08790664e-03,\n",
       "          4.74975037e-03, -7.42986459e-03, -1.69121126e-02,\n",
       "          3.83679063e-03],\n",
       "        [ 2.45419203e-02, -3.77538554e-03, -1.35535400e-03,\n",
       "          7.78833731e-03, -1.67371314e-03,  2.44871032e-03,\n",
       "         -1.70923863e-02,  2.99046708e-03, -8.62085146e-04,\n",
       "          6.84277575e-03],\n",
       "        [-3.78465455e-03,  4.95514608e-03, -3.90947921e-03,\n",
       "          9.98636489e-03, -1.07673743e-02,  3.10727575e-04,\n",
       "         -1.62786912e-02, -5.40458683e-03,  1.25305639e-03,\n",
       "         -3.52681433e-03]]),\n",
       " 'b2': array([0., 0., 0., 0., 0., 0., 0., 0., 0., 0.])}"
      ]
     },
     "execution_count": 21,
     "metadata": {},
     "output_type": "execute_result"
    }
   ],
   "source": [
    "network.params"
   ]
  },
  {
   "cell_type": "code",
   "execution_count": null,
   "metadata": {},
   "outputs": [
    {
     "data": {
      "image/png": "[encoded data removed]",
      "text/plain": [
       "<Figure size 640x480 with 1 Axes>"
      ]
     },
     "metadata": {},
     "output_type": "display_data"
    }
   ],
   "source": [
    "markers = {'train': 'o', 'test': 's'}\n",
    "x = np.arange(len(train_accs))\n",
    "plt.plot(x, train_accs, label='train acc')\n",
    "plt.plot(x, test_accs, label='test acc', linestyle='--')\n",
    "plt.xlabel(\"epochs\")\n",
    "plt.ylabel(\"accuracy\")\n",
    "plt.ylim(0, 1.0)\n",
    "plt.legend(loc='lower right')\n",
    "plt.show()"
   ]
  },
  {
   "cell_type": "markdown",
   "metadata": {},
   "source": [
    "#noticing a trend of smaller batch sizes = getting better guesses faster, definitely a trade off with performance"
   ]
  },
  {
   "cell_type": "code",
   "execution_count": 61,
   "metadata": {},
   "outputs": [],
   "source": [
    "network = TwoLayerNetWithBackProp(input_size=28*28, hidden_size=100, output_size=10)"
   ]
  },
  {
   "cell_type": "code",
   "execution_count": 62,
   "metadata": {},
   "outputs": [],
   "source": [
    "iterations = 10000\n",
    "train_size = x_train.shape[0]\n",
    "batch_size = 16\n",
    "lr = 0.01\n",
    "\n",
    "iter_per_ecoph = max(train_size/batch_size, 1)"
   ]
  },
  {
   "cell_type": "code",
   "execution_count": 63,
   "metadata": {},
   "outputs": [],
   "source": [
    "train_losses = []\n",
    "train_accs = []\n",
    "test_accs = []"
   ]
  },
  {
   "cell_type": "code",
   "execution_count": 64,
   "metadata": {},
   "outputs": [
    {
     "name": "stdout",
     "output_type": "stream",
     "text": [
      "train acc, test_acc : 0.15081666666666665, 0.1576\n",
      "train acc, test_acc : 0.8935333333333333, 0.8963\n",
      "train acc, test_acc : 0.9123, 0.917\n"
     ]
    }
   ],
   "source": [
    "for i in range(iterations):\n",
    "    batch_mask = np.random.choice(train_size, batch_size)\n",
    "    x_batch = x_train[batch_mask]\n",
    "    y_batch = y_train[batch_mask]\n",
    "\n",
    "    grads = network.gradient(x_batch, y_batch)\n",
    "\n",
    "    for key in ('w1', 'b1', 'w2', 'b2'):\n",
    "        network.params[key] -= lr*grads[key]\n",
    "\n",
    "    ## this is for plotting losses over time\n",
    "    train_losses.append(network.loss(x_batch, y_batch))\n",
    "\n",
    "    if i%iter_per_ecoph == 0:\n",
    "        train_acc = network.accuracy(x_train, y_train)\n",
    "        train_accs.append(train_acc)\n",
    "        test_acc = network.accuracy(x_test, y_test)\n",
    "        test_accs.append(test_acc)\n",
    "        print(f'train acc, test_acc : {train_acc}, {test_acc}')"
   ]
  },
  {
   "cell_type": "code",
   "execution_count": 65,
   "metadata": {},
   "outputs": [
    {
     "data": {
      "image/png": "[encoded data removed]",
      "text/plain": [
       "<Figure size 640x480 with 1 Axes>"
      ]
     },
     "metadata": {},
     "output_type": "display_data"
    }
   ],
   "source": [
    "markers = {'train': 'o', 'test': 's'}\n",
    "x = np.arange(len(train_accs))\n",
    "plt.plot(x, train_accs, label='train acc')\n",
    "plt.plot(x, test_accs, label='test acc', linestyle='--')\n",
    "plt.xlabel(\"epochs\")\n",
    "plt.ylabel(\"accuracy\")\n",
    "plt.ylim(0, 1.0)\n",
    "plt.legend(loc='lower right')\n",
    "plt.show()"
   ]
  },
  {
   "cell_type": "code",
   "execution_count": 66,
   "metadata": {},
   "outputs": [],
   "source": [
    "import numpy as np\n",
    "import pickle\n",
    "\n",
    "my_weight_pkl_file = 'Moore_mnist_model.pkl'"
   ]
  },
  {
   "cell_type": "code",
   "execution_count": 67,
   "metadata": {},
   "outputs": [
    {
     "name": "stdout",
     "output_type": "stream",
     "text": [
      "Pickle: Moore_mnist_model.pkl is being created.\n",
      "Done.\n"
     ]
    }
   ],
   "source": [
    "with open(f'{my_weight_pkl_file}', 'wb') as f:\n",
    "    print(f'Pickle: {my_weight_pkl_file} is being created.')\n",
    "    pickle.dump(network.params, f)\n",
    "    print('Done.') "
   ]
  },
  {
   "cell_type": "code",
   "execution_count": 30,
   "metadata": {},
   "outputs": [],
   "source": [
    "network.params = None"
   ]
  },
  {
   "cell_type": "markdown",
   "metadata": {},
   "source": [
    "#Using your own TwoLayerNet model"
   ]
  },
  {
   "cell_type": "code",
   "execution_count": 124,
   "metadata": {},
   "outputs": [],
   "source": [
    "network = TwoLayerNetWithBackProp(input_size=28*28, hidden_size=100, output_size=10)"
   ]
  },
  {
   "cell_type": "code",
   "execution_count": 125,
   "metadata": {},
   "outputs": [],
   "source": [
    "with open(f'{my_weight_pkl_file}', 'rb') as f:\n",
    "    network.params = pickle.load(f)\n",
    "\n",
    "network.update_layers()"
   ]
  },
  {
   "cell_type": "code",
   "execution_count": 126,
   "metadata": {},
   "outputs": [],
   "source": [
    "from mnist import Mnist"
   ]
  },
  {
   "cell_type": "code",
   "execution_count": 127,
   "metadata": {},
   "outputs": [
    {
     "name": "stdout",
     "output_type": "stream",
     "text": [
      "File: train-images-idx3-ubyte.gz already exists.\n",
      "File: train-labels-idx1-ubyte.gz already exists.\n",
      "File: t10k-images-idx3-ubyte.gz already exists.\n",
      "File: t10k-labels-idx1-ubyte.gz already exists.\n",
      "Pickle: dataset/mnist.pkl already exists.\n",
      "loading....\n",
      "Done\n"
     ]
    }
   ],
   "source": [
    "mnist = Mnist()\n",
    "(_, _), (x_test, y_test) = mnist.load()"
   ]
  },
  {
   "cell_type": "code",
   "execution_count": 128,
   "metadata": {},
   "outputs": [],
   "source": [
    "import matplotlib.pyplot as plt"
   ]
  },
  {
   "cell_type": "code",
   "execution_count": 129,
   "metadata": {},
   "outputs": [],
   "source": [
    "y_hat = network.predict(x_test[0:100])"
   ]
  },
  {
   "cell_type": "code",
   "execution_count": 130,
   "metadata": {},
   "outputs": [
    {
     "data": {
      "text/plain": [
       "<matplotlib.image.AxesImage at 0x287ff7b2110>"
      ]
     },
     "execution_count": 130,
     "metadata": {},
     "output_type": "execute_result"
    },
    {
     "data": {
      "image/png": "[encoded data removed]",
      "text/plain": [
       "<Figure size 640x480 with 1 Axes>"
      ]
     },
     "metadata": {},
     "output_type": "display_data"
    }
   ],
   "source": [
    "plt.imshow(x_test[20].reshape(28,28))"
   ]
  },
  {
   "cell_type": "code",
   "execution_count": 131,
   "metadata": {},
   "outputs": [
    {
     "data": {
      "text/plain": [
       "array([-3.11833875, -5.65945233, -5.8630161 ,  1.94490429,  3.19977452,\n",
       "        0.81598973, -8.01261732,  6.19714893,  1.97872422,  8.48488898])"
      ]
     },
     "execution_count": 131,
     "metadata": {},
     "output_type": "execute_result"
    }
   ],
   "source": [
    "y_hat[20]"
   ]
  },
  {
   "cell_type": "code",
   "execution_count": 132,
   "metadata": {},
   "outputs": [
    {
     "data": {
      "text/plain": [
       "9"
      ]
     },
     "execution_count": 132,
     "metadata": {},
     "output_type": "execute_result"
    }
   ],
   "source": [
    "np.argmax(y_hat[20])"
   ]
  },
  {
   "cell_type": "code",
   "execution_count": 133,
   "metadata": {},
   "outputs": [
    {
     "data": {
      "text/plain": [
       "9"
      ]
     },
     "execution_count": 133,
     "metadata": {},
     "output_type": "execute_result"
    }
   ],
   "source": [
    "np.argmax(y_test[20])"
   ]
  },
  {
   "cell_type": "code",
   "execution_count": 47,
   "metadata": {},
   "outputs": [],
   "source": [
    "from PIL import Image"
   ]
  },
  {
   "cell_type": "markdown",
   "metadata": {},
   "source": [
    "#Testing handwritten numbers"
   ]
  },
  {
   "cell_type": "code",
   "execution_count": 48,
   "metadata": {},
   "outputs": [],
   "source": [
    "img = Image.open(\"Custom MNIST Sample/Digit 9/9_4.png\").convert('L')\n",
    "img = img.resize((28,28))\n",
    "img = np.array(img)\n",
    "img = 255.0 - img\n",
    "img = (img - np.min(img))*(255/(np.max(img)-np.min(img)))\n",
    "img = img.astype(np.float32)/255\n",
    "img = img.flatten()"
   ]
  },
  {
   "cell_type": "code",
   "execution_count": 134,
   "metadata": {},
   "outputs": [
    {
     "data": {
      "text/plain": [
       "<matplotlib.image.AxesImage at 0x287822eec50>"
      ]
     },
     "execution_count": 134,
     "metadata": {},
     "output_type": "execute_result"
    },
    {
     "data": {
      "image/png": "[encoded data removed]",
      "text/plain": [
       "<Figure size 640x480 with 1 Axes>"
      ]
     },
     "metadata": {},
     "output_type": "display_data"
    }
   ],
   "source": [
    "plt.imshow(img.reshape(28,28))"
   ]
  },
  {
   "cell_type": "code",
   "execution_count": 53,
   "metadata": {},
   "outputs": [
    {
     "ename": "ValueError",
     "evalue": "shapes (784,1) and (784,100) not aligned: 1 (dim 1) != 784 (dim 0)",
     "output_type": "error",
     "traceback": [
      "\u001b[1;31m---------------------------------------------------------------------------\u001b[0m",
      "\u001b[1;31mValueError\u001b[0m                                Traceback (most recent call last)",
      "Cell \u001b[1;32mIn[53], line 1\u001b[0m\n\u001b[1;32m----> 1\u001b[0m y_hat \u001b[38;5;241m=\u001b[39m \u001b[43mnetwork\u001b[49m\u001b[38;5;241;43m.\u001b[39;49m\u001b[43mpredict\u001b[49m\u001b[43m(\u001b[49m\u001b[43mimg\u001b[49m\u001b[43m)\u001b[49m\n",
      "Cell \u001b[1;32mIn[4], line 29\u001b[0m, in \u001b[0;36mTwoLayerNetWithBackProp.predict\u001b[1;34m(self, x)\u001b[0m\n\u001b[0;32m     26\u001b[0m \u001b[38;5;28;01mdef\u001b[39;00m \u001b[38;5;21mpredict\u001b[39m(\u001b[38;5;28mself\u001b[39m, x):\n\u001b[0;32m     27\u001b[0m     \u001b[38;5;66;03m## new implementation for backprop\u001b[39;00m\n\u001b[0;32m     28\u001b[0m     \u001b[38;5;28;01mfor\u001b[39;00m layer \u001b[38;5;129;01min\u001b[39;00m \u001b[38;5;28mself\u001b[39m\u001b[38;5;241m.\u001b[39mlayers\u001b[38;5;241m.\u001b[39mvalues():\n\u001b[1;32m---> 29\u001b[0m         x \u001b[38;5;241m=\u001b[39m \u001b[43mlayer\u001b[49m\u001b[38;5;241;43m.\u001b[39;49m\u001b[43mforward\u001b[49m\u001b[43m(\u001b[49m\u001b[43mx\u001b[49m\u001b[43m)\u001b[49m\n\u001b[0;32m     31\u001b[0m     y \u001b[38;5;241m=\u001b[39m x\n\u001b[0;32m     32\u001b[0m     \u001b[38;5;28;01mreturn\u001b[39;00m y\n",
      "Cell \u001b[1;32mIn[1], line 51\u001b[0m, in \u001b[0;36mAffine.forward\u001b[1;34m(self, x)\u001b[0m\n\u001b[0;32m     48\u001b[0m x \u001b[38;5;241m=\u001b[39m x\u001b[38;5;241m.\u001b[39mreshape(x\u001b[38;5;241m.\u001b[39mshape[\u001b[38;5;241m0\u001b[39m], \u001b[38;5;241m-\u001b[39m\u001b[38;5;241m1\u001b[39m)\n\u001b[0;32m     49\u001b[0m \u001b[38;5;28mself\u001b[39m\u001b[38;5;241m.\u001b[39mx \u001b[38;5;241m=\u001b[39m x\n\u001b[1;32m---> 51\u001b[0m out \u001b[38;5;241m=\u001b[39m \u001b[43mnp\u001b[49m\u001b[38;5;241;43m.\u001b[39;49m\u001b[43mdot\u001b[49m\u001b[43m(\u001b[49m\u001b[38;5;28;43mself\u001b[39;49m\u001b[38;5;241;43m.\u001b[39;49m\u001b[43mx\u001b[49m\u001b[43m,\u001b[49m\u001b[43m \u001b[49m\u001b[38;5;28;43mself\u001b[39;49m\u001b[38;5;241;43m.\u001b[39;49m\u001b[43mw\u001b[49m\u001b[43m)\u001b[49m \u001b[38;5;241m+\u001b[39m \u001b[38;5;28mself\u001b[39m\u001b[38;5;241m.\u001b[39mb\n\u001b[0;32m     53\u001b[0m \u001b[38;5;28;01mreturn\u001b[39;00m out\n",
      "\u001b[1;31mValueError\u001b[0m: shapes (784,1) and (784,100) not aligned: 1 (dim 1) != 784 (dim 0)"
     ]
    }
   ],
   "source": [
    "y_hat = network.predict(img)"
   ]
  },
  {
   "cell_type": "code",
   "execution_count": null,
   "metadata": {},
   "outputs": [
    {
     "ename": "ValueError",
     "evalue": "cannot reshape array of size 784 into shape (784,100)",
     "output_type": "error",
     "traceback": [
      "\u001b[1;31m---------------------------------------------------------------------------\u001b[0m",
      "\u001b[1;31mValueError\u001b[0m                                Traceback (most recent call last)",
      "Cell \u001b[1;32mIn[53], line 1\u001b[0m\n\u001b[1;32m----> 1\u001b[0m y_hat \u001b[38;5;241m=\u001b[39m network\u001b[38;5;241m.\u001b[39mpredict(\u001b[43mimg\u001b[49m\u001b[38;5;241;43m.\u001b[39;49m\u001b[43mreshape\u001b[49m\u001b[43m(\u001b[49m\u001b[38;5;241;43m784\u001b[39;49m\u001b[43m,\u001b[49m\u001b[38;5;241;43m100\u001b[39;49m\u001b[43m)\u001b[49m)\n",
      "\u001b[1;31mValueError\u001b[0m: cannot reshape array of size 784 into shape (784,100)"
     ]
    }
   ],
   "source": [
    "y_hat = network.predict(img)"
   ]
  },
  {
   "cell_type": "code",
   "execution_count": 135,
   "metadata": {},
   "outputs": [
    {
     "name": "stdout",
     "output_type": "stream",
     "text": [
      "Processing file: 0_0.png\n",
      "Processing file: 0_1.png\n",
      "Processing file: 0_2.png\n",
      "Processing file: 0_3.png\n",
      "Processing file: 0_4.png\n",
      "Processing file: 1_0.png\n",
      "Processing file: 1_1.png\n",
      "Processing file: 1_2.png\n",
      "Processing file: 1_3.png\n",
      "Processing file: 1_4.png\n",
      "Processing file: 2_0.png\n",
      "Processing file: 2_1.png\n",
      "Processing file: 2_2.png\n",
      "Processing file: 2_3.png\n",
      "Processing file: 2_4.png\n",
      "Processing file: 3_0.png\n",
      "Processing file: 3_1.png\n",
      "Processing file: 3_2.png\n",
      "Processing file: 3_3.png\n",
      "Processing file: 3_4.png\n",
      "Processing file: 4_0.png\n",
      "Processing file: 4_1.png\n",
      "Processing file: 4_2.png\n",
      "Processing file: 4_3.png\n",
      "Processing file: 4_4.png\n",
      "Processing file: 5_0.png\n",
      "Processing file: 5_1.png\n",
      "Processing file: 5_2.png\n",
      "Processing file: 5_3.png\n",
      "Processing file: 5_4.png\n",
      "Processing file: 6_0.png\n",
      "Processing file: 6_1.png\n",
      "Processing file: 6_2.png\n",
      "Processing file: 6_3.png\n",
      "Processing file: 6_4.png\n",
      "Processing file: 7_0.png\n",
      "Processing file: 7_1.png\n",
      "Processing file: 7_2.png\n",
      "Processing file: 7_3.png\n",
      "Processing file: 7_4.png\n",
      "Processing file: 8_0.png\n",
      "Processing file: 8_1.png\n",
      "Processing file: 8_2.png\n",
      "Processing file: 8_3.png\n",
      "Processing file: 8_4.png\n",
      "Processing file: 9_0.png\n",
      "Processing file: 9_1.png\n",
      "Processing file: 9_2.png\n",
      "Processing file: 9_3.png\n",
      "Processing file: 9_4.png\n",
      "Processed 50 images.\n"
     ]
    },
    {
     "data": {
      "image/png": "[encoded data removed]",
      "text/plain": [
       "<Figure size 640x480 with 1 Axes>"
      ]
     },
     "metadata": {},
     "output_type": "display_data"
    },
    {
     "name": "stdout",
     "output_type": "stream",
     "text": [
      "Shape of image_numpy: (50, 784)\n",
      "First image (flattened): [0.17567568 0.17567568 0.16216217 0.1891892  0.14864865 0.14864865\n",
      " 0.16216217 0.14864865 0.17567568 0.1891892  0.21621622 0.22972973\n",
      " 0.21621622 0.2027027  0.2027027  0.22972973 0.22972973 0.21621622\n",
      " 0.2027027  0.1891892  0.1891892  0.2027027  0.22972973 0.24324325\n",
      " 0.24324325 0.22972973 0.22972973 0.22972973 0.16216217 0.16216217\n",
      " 0.16216217 0.16216217 0.14864865 0.14864865 0.14864865 0.14864865\n",
      " 0.17567568 0.2027027  0.2027027  0.21621622 0.1891892  0.1891892\n",
      " 0.21621622 0.25675678 0.22972973 0.2027027  0.2027027  0.2027027\n",
      " 0.2027027  0.2027027  0.2027027  0.21621622 0.21621622 0.21621622\n",
      " 0.22972973 0.21621622 0.13513514 0.14864865 0.16216217 0.16216217\n",
      " 0.17567568 0.17567568 0.16216217 0.16216217 0.1891892  0.21621622\n",
      " 0.21621622 0.2027027  0.17567568 0.1891892  0.1891892  0.21621622\n",
      " 0.2027027  0.2027027  0.21621622 0.21621622 0.2027027  0.2027027\n",
      " 0.21621622 0.1891892  0.17567568 0.16216217 0.1891892  0.2027027\n",
      " 0.14864865 0.13513514 0.13513514 0.16216217 0.1891892  0.1891892\n",
      " 0.17567568 0.17567568 0.2027027  0.22972973 0.21621622 0.1891892\n",
      " 0.1891892  0.2027027  0.22972973 0.2027027  0.1891892  0.2027027\n",
      " 0.21621622 0.2027027  0.21621622 0.21621622 0.1891892  0.16216217\n",
      " 0.17567568 0.2027027  0.2027027  0.1891892  0.14864865 0.13513514\n",
      " 0.16216217 0.1891892  0.1891892  0.1891892  0.1891892  0.2027027\n",
      " 0.21621622 0.2027027  0.2027027  0.21621622 0.2027027  0.2027027\n",
      " 0.1891892  0.17567568 0.17567568 0.17567568 0.2027027  0.1891892\n",
      " 0.17567568 0.16216217 0.16216217 0.16216217 0.1891892  0.1891892\n",
      " 0.21621622 0.2027027  0.12162162 0.16216217 0.17567568 0.16216217\n",
      " 0.16216217 0.17567568 0.16216217 0.17567568 0.1891892  0.17567568\n",
      " 0.17567568 0.2027027  0.14864865 0.14864865 0.13513514 0.10810811\n",
      " 0.10810811 0.13513514 0.17567568 0.17567568 0.14864865 0.14864865\n",
      " 0.14864865 0.16216217 0.17567568 0.17567568 0.17567568 0.2027027\n",
      " 0.13513514 0.12162162 0.14864865 0.14864865 0.16216217 0.16216217\n",
      " 0.16216217 0.16216217 0.14864865 0.14864865 0.12162162 0.16216217\n",
      " 0.31081083 0.1891892  0.24324325 0.45945945 0.5675676  0.5405406\n",
      " 0.2972973  0.10810811 0.14864865 0.16216217 0.16216217 0.16216217\n",
      " 0.16216217 0.1891892  0.2027027  0.2027027  0.12162162 0.13513514\n",
      " 0.13513514 0.14864865 0.14864865 0.16216217 0.16216217 0.16216217\n",
      " 0.13513514 0.08108108 0.33783785 0.554054   0.7972973  1.\n",
      " 0.7837838  0.6351351  0.527027   0.527027   0.7432432  0.62162167\n",
      " 0.1891892  0.13513514 0.16216217 0.16216217 0.16216217 0.1891892\n",
      " 0.1891892  0.1891892  0.12162162 0.13513514 0.14864865 0.14864865\n",
      " 0.14864865 0.13513514 0.14864865 0.12162162 0.08108108 0.5405406\n",
      " 0.527027   0.5405406  0.7972973  0.43243244 0.17567568 0.1891892\n",
      " 0.17567568 0.12162162 0.10810811 0.3783784  0.8648649  0.24324325\n",
      " 0.16216217 0.16216217 0.16216217 0.17567568 0.1891892  0.1891892\n",
      " 0.12162162 0.13513514 0.13513514 0.13513514 0.13513514 0.12162162\n",
      " 0.10810811 0.06756757 0.5        0.5945946  0.12162162 0.5405406\n",
      " 0.1891892  0.13513514 0.16216217 0.14864865 0.14864865 0.16216217\n",
      " 0.14864865 0.0945946  0.3783784  0.8243243  0.16216217 0.16216217\n",
      " 0.16216217 0.17567568 0.2027027  0.2027027  0.13513514 0.10810811\n",
      " 0.10810811 0.0945946  0.0945946  0.10810811 0.08108108 0.35135135\n",
      " 0.6891892  0.12162162 0.14864865 0.13513514 0.16216217 0.16216217\n",
      " 0.14864865 0.13513514 0.14864865 0.16216217 0.14864865 0.16216217\n",
      " 0.10810811 0.7432432  0.32432434 0.16216217 0.17567568 0.17567568\n",
      " 0.17567568 0.1891892  0.12162162 0.08108108 0.06756757 0.08108108\n",
      " 0.0945946  0.0945946  0.10810811 0.7027027  0.1891892  0.10810811\n",
      " 0.13513514 0.14864865 0.14864865 0.14864865 0.13513514 0.14864865\n",
      " 0.16216217 0.14864865 0.14864865 0.16216217 0.10810811 0.5810811\n",
      " 0.35135135 0.14864865 0.17567568 0.16216217 0.16216217 0.16216217\n",
      " 0.13513514 0.12162162 0.0945946  0.08108108 0.0945946  0.06756757\n",
      " 0.2702703  0.6621621  0.08108108 0.12162162 0.12162162 0.10810811\n",
      " 0.12162162 0.13513514 0.12162162 0.13513514 0.16216217 0.14864865\n",
      " 0.10810811 0.12162162 0.08108108 0.6891892  0.2027027  0.16216217\n",
      " 0.1891892  0.17567568 0.1891892  0.1891892  0.10810811 0.12162162\n",
      " 0.13513514 0.12162162 0.10810811 0.06756757 0.43243244 0.44594595\n",
      " 0.10810811 0.13513514 0.12162162 0.12162162 0.12162162 0.12162162\n",
      " 0.12162162 0.10810811 0.13513514 0.12162162 0.12162162 0.0945946\n",
      " 0.3648649  0.7837838  0.12162162 0.17567568 0.1891892  0.16216217\n",
      " 0.21621622 0.21621622 0.0945946  0.10810811 0.13513514 0.10810811\n",
      " 0.10810811 0.08108108 0.44594595 0.33783785 0.08108108 0.10810811\n",
      " 0.10810811 0.12162162 0.12162162 0.10810811 0.08108108 0.08108108\n",
      " 0.10810811 0.12162162 0.12162162 0.08108108 0.7297298  0.2837838\n",
      " 0.13513514 0.16216217 0.14864865 0.14864865 0.2027027  0.22972973\n",
      " 0.08108108 0.06756757 0.0945946  0.0945946  0.0945946  0.05405406\n",
      " 0.3783784  0.4054054  0.06756757 0.10810811 0.10810811 0.10810811\n",
      " 0.10810811 0.12162162 0.0945946  0.08108108 0.0945946  0.13513514\n",
      " 0.06756757 0.43243244 0.5675676  0.0945946  0.13513514 0.13513514\n",
      " 0.14864865 0.17567568 0.2027027  0.2027027  0.06756757 0.0945946\n",
      " 0.10810811 0.0945946  0.0945946  0.05405406 0.22972973 0.5810811\n",
      " 0.04054054 0.08108108 0.08108108 0.08108108 0.0945946  0.0945946\n",
      " 0.0945946  0.06756757 0.06756757 0.05405406 0.2972973  0.7702702\n",
      " 0.13513514 0.12162162 0.13513514 0.13513514 0.14864865 0.16216217\n",
      " 0.1891892  0.2027027  0.05405406 0.0945946  0.10810811 0.06756757\n",
      " 0.06756757 0.0945946  0.06756757 0.6351351  0.32432434 0.02702703\n",
      " 0.08108108 0.08108108 0.08108108 0.0945946  0.08108108 0.04054054\n",
      " 0.         0.35135135 0.7162162  0.17567568 0.12162162 0.13513514\n",
      " 0.13513514 0.13513514 0.13513514 0.12162162 0.14864865 0.1891892\n",
      " 0.06756757 0.08108108 0.08108108 0.05405406 0.05405406 0.0945946\n",
      " 0.10810811 0.10810811 0.7567568  0.44594595 0.08108108 0.02702703\n",
      " 0.04054054 0.05405406 0.04054054 0.2027027  0.6351351  0.5945946\n",
      " 0.0945946  0.10810811 0.13513514 0.16216217 0.14864865 0.14864865\n",
      " 0.13513514 0.12162162 0.16216217 0.17567568 0.06756757 0.08108108\n",
      " 0.08108108 0.05405406 0.06756757 0.08108108 0.08108108 0.06756757\n",
      " 0.08108108 0.5405406  0.7297298  0.5810811  0.472973   0.51351357\n",
      " 0.6621621  0.6351351  0.31081083 0.06756757 0.08108108 0.10810811\n",
      " 0.13513514 0.16216217 0.16216217 0.16216217 0.16216217 0.13513514\n",
      " 0.16216217 0.17567568 0.05405406 0.06756757 0.06756757 0.08108108\n",
      " 0.08108108 0.0945946  0.08108108 0.08108108 0.08108108 0.05405406\n",
      " 0.0945946  0.25675678 0.3648649  0.31081083 0.14864865 0.06756757\n",
      " 0.06756757 0.10810811 0.10810811 0.10810811 0.12162162 0.13513514\n",
      " 0.13513514 0.13513514 0.13513514 0.13513514 0.12162162 0.12162162\n",
      " 0.05405406 0.06756757 0.0945946  0.0945946  0.06756757 0.0945946\n",
      " 0.0945946  0.06756757 0.06756757 0.06756757 0.08108108 0.0945946\n",
      " 0.0945946  0.08108108 0.08108108 0.08108108 0.0945946  0.12162162\n",
      " 0.12162162 0.12162162 0.12162162 0.13513514 0.13513514 0.10810811\n",
      " 0.08108108 0.10810811 0.12162162 0.13513514 0.05405406 0.05405406\n",
      " 0.10810811 0.08108108 0.05405406 0.06756757 0.08108108 0.0945946\n",
      " 0.08108108 0.08108108 0.0945946  0.12162162 0.10810811 0.08108108\n",
      " 0.08108108 0.08108108 0.08108108 0.0945946  0.12162162 0.12162162\n",
      " 0.12162162 0.14864865 0.13513514 0.13513514 0.10810811 0.13513514\n",
      " 0.13513514 0.16216217 0.02702703 0.02702703 0.05405406 0.05405406\n",
      " 0.04054054 0.05405406 0.05405406 0.06756757 0.08108108 0.0945946\n",
      " 0.0945946  0.08108108 0.08108108 0.08108108 0.06756757 0.08108108\n",
      " 0.08108108 0.06756757 0.08108108 0.0945946  0.0945946  0.12162162\n",
      " 0.14864865 0.13513514 0.14864865 0.16216217 0.16216217 0.14864865\n",
      " 0.04054054 0.04054054 0.05405406 0.05405406 0.05405406 0.05405406\n",
      " 0.05405406 0.06756757 0.0945946  0.06756757 0.05405406 0.06756757\n",
      " 0.08108108 0.08108108 0.08108108 0.08108108 0.08108108 0.08108108\n",
      " 0.08108108 0.08108108 0.0945946  0.10810811 0.10810811 0.12162162\n",
      " 0.12162162 0.10810811 0.14864865 0.12162162 0.02702703 0.01351351\n",
      " 0.02702703 0.05405406 0.05405406 0.05405406 0.06756757 0.06756757\n",
      " 0.06756757 0.05405406 0.05405406 0.08108108 0.08108108 0.06756757\n",
      " 0.06756757 0.06756757 0.08108108 0.0945946  0.0945946  0.0945946\n",
      " 0.0945946  0.08108108 0.06756757 0.08108108 0.0945946  0.08108108\n",
      " 0.12162162 0.10810811 0.01351351 0.01351351 0.04054054 0.05405406\n",
      " 0.06756757 0.08108108 0.06756757 0.05405406 0.05405406 0.05405406\n",
      " 0.06756757 0.06756757 0.06756757 0.06756757 0.06756757 0.05405406\n",
      " 0.08108108 0.08108108 0.0945946  0.08108108 0.08108108 0.06756757\n",
      " 0.06756757 0.06756757 0.08108108 0.08108108 0.08108108 0.10810811\n",
      " 0.         0.04054054 0.04054054 0.05405406 0.08108108 0.10810811\n",
      " 0.05405406 0.04054054 0.05405406 0.05405406 0.05405406 0.06756757\n",
      " 0.06756757 0.06756757 0.06756757 0.06756757 0.08108108 0.06756757\n",
      " 0.05405406 0.06756757 0.08108108 0.08108108 0.06756757 0.06756757\n",
      " 0.08108108 0.08108108 0.08108108 0.10810811]\n",
      "First image reshaped (28x28):\n",
      " [[0.17567568 0.17567568 0.16216217 0.1891892  0.14864865 0.14864865\n",
      "  0.16216217 0.14864865 0.17567568 0.1891892  0.21621622 0.22972973\n",
      "  0.21621622 0.2027027  0.2027027  0.22972973 0.22972973 0.21621622\n",
      "  0.2027027  0.1891892  0.1891892  0.2027027  0.22972973 0.24324325\n",
      "  0.24324325 0.22972973 0.22972973 0.22972973]\n",
      " [0.16216217 0.16216217 0.16216217 0.16216217 0.14864865 0.14864865\n",
      "  0.14864865 0.14864865 0.17567568 0.2027027  0.2027027  0.21621622\n",
      "  0.1891892  0.1891892  0.21621622 0.25675678 0.22972973 0.2027027\n",
      "  0.2027027  0.2027027  0.2027027  0.2027027  0.2027027  0.21621622\n",
      "  0.21621622 0.21621622 0.22972973 0.21621622]\n",
      " [0.13513514 0.14864865 0.16216217 0.16216217 0.17567568 0.17567568\n",
      "  0.16216217 0.16216217 0.1891892  0.21621622 0.21621622 0.2027027\n",
      "  0.17567568 0.1891892  0.1891892  0.21621622 0.2027027  0.2027027\n",
      "  0.21621622 0.21621622 0.2027027  0.2027027  0.21621622 0.1891892\n",
      "  0.17567568 0.16216217 0.1891892  0.2027027 ]\n",
      " [0.14864865 0.13513514 0.13513514 0.16216217 0.1891892  0.1891892\n",
      "  0.17567568 0.17567568 0.2027027  0.22972973 0.21621622 0.1891892\n",
      "  0.1891892  0.2027027  0.22972973 0.2027027  0.1891892  0.2027027\n",
      "  0.21621622 0.2027027  0.21621622 0.21621622 0.1891892  0.16216217\n",
      "  0.17567568 0.2027027  0.2027027  0.1891892 ]\n",
      " [0.14864865 0.13513514 0.16216217 0.1891892  0.1891892  0.1891892\n",
      "  0.1891892  0.2027027  0.21621622 0.2027027  0.2027027  0.21621622\n",
      "  0.2027027  0.2027027  0.1891892  0.17567568 0.17567568 0.17567568\n",
      "  0.2027027  0.1891892  0.17567568 0.16216217 0.16216217 0.16216217\n",
      "  0.1891892  0.1891892  0.21621622 0.2027027 ]\n",
      " [0.12162162 0.16216217 0.17567568 0.16216217 0.16216217 0.17567568\n",
      "  0.16216217 0.17567568 0.1891892  0.17567568 0.17567568 0.2027027\n",
      "  0.14864865 0.14864865 0.13513514 0.10810811 0.10810811 0.13513514\n",
      "  0.17567568 0.17567568 0.14864865 0.14864865 0.14864865 0.16216217\n",
      "  0.17567568 0.17567568 0.17567568 0.2027027 ]\n",
      " [0.13513514 0.12162162 0.14864865 0.14864865 0.16216217 0.16216217\n",
      "  0.16216217 0.16216217 0.14864865 0.14864865 0.12162162 0.16216217\n",
      "  0.31081083 0.1891892  0.24324325 0.45945945 0.5675676  0.5405406\n",
      "  0.2972973  0.10810811 0.14864865 0.16216217 0.16216217 0.16216217\n",
      "  0.16216217 0.1891892  0.2027027  0.2027027 ]\n",
      " [0.12162162 0.13513514 0.13513514 0.14864865 0.14864865 0.16216217\n",
      "  0.16216217 0.16216217 0.13513514 0.08108108 0.33783785 0.554054\n",
      "  0.7972973  1.         0.7837838  0.6351351  0.527027   0.527027\n",
      "  0.7432432  0.62162167 0.1891892  0.13513514 0.16216217 0.16216217\n",
      "  0.16216217 0.1891892  0.1891892  0.1891892 ]\n",
      " [0.12162162 0.13513514 0.14864865 0.14864865 0.14864865 0.13513514\n",
      "  0.14864865 0.12162162 0.08108108 0.5405406  0.527027   0.5405406\n",
      "  0.7972973  0.43243244 0.17567568 0.1891892  0.17567568 0.12162162\n",
      "  0.10810811 0.3783784  0.8648649  0.24324325 0.16216217 0.16216217\n",
      "  0.16216217 0.17567568 0.1891892  0.1891892 ]\n",
      " [0.12162162 0.13513514 0.13513514 0.13513514 0.13513514 0.12162162\n",
      "  0.10810811 0.06756757 0.5        0.5945946  0.12162162 0.5405406\n",
      "  0.1891892  0.13513514 0.16216217 0.14864865 0.14864865 0.16216217\n",
      "  0.14864865 0.0945946  0.3783784  0.8243243  0.16216217 0.16216217\n",
      "  0.16216217 0.17567568 0.2027027  0.2027027 ]\n",
      " [0.13513514 0.10810811 0.10810811 0.0945946  0.0945946  0.10810811\n",
      "  0.08108108 0.35135135 0.6891892  0.12162162 0.14864865 0.13513514\n",
      "  0.16216217 0.16216217 0.14864865 0.13513514 0.14864865 0.16216217\n",
      "  0.14864865 0.16216217 0.10810811 0.7432432  0.32432434 0.16216217\n",
      "  0.17567568 0.17567568 0.17567568 0.1891892 ]\n",
      " [0.12162162 0.08108108 0.06756757 0.08108108 0.0945946  0.0945946\n",
      "  0.10810811 0.7027027  0.1891892  0.10810811 0.13513514 0.14864865\n",
      "  0.14864865 0.14864865 0.13513514 0.14864865 0.16216217 0.14864865\n",
      "  0.14864865 0.16216217 0.10810811 0.5810811  0.35135135 0.14864865\n",
      "  0.17567568 0.16216217 0.16216217 0.16216217]\n",
      " [0.13513514 0.12162162 0.0945946  0.08108108 0.0945946  0.06756757\n",
      "  0.2702703  0.6621621  0.08108108 0.12162162 0.12162162 0.10810811\n",
      "  0.12162162 0.13513514 0.12162162 0.13513514 0.16216217 0.14864865\n",
      "  0.10810811 0.12162162 0.08108108 0.6891892  0.2027027  0.16216217\n",
      "  0.1891892  0.17567568 0.1891892  0.1891892 ]\n",
      " [0.10810811 0.12162162 0.13513514 0.12162162 0.10810811 0.06756757\n",
      "  0.43243244 0.44594595 0.10810811 0.13513514 0.12162162 0.12162162\n",
      "  0.12162162 0.12162162 0.12162162 0.10810811 0.13513514 0.12162162\n",
      "  0.12162162 0.0945946  0.3648649  0.7837838  0.12162162 0.17567568\n",
      "  0.1891892  0.16216217 0.21621622 0.21621622]\n",
      " [0.0945946  0.10810811 0.13513514 0.10810811 0.10810811 0.08108108\n",
      "  0.44594595 0.33783785 0.08108108 0.10810811 0.10810811 0.12162162\n",
      "  0.12162162 0.10810811 0.08108108 0.08108108 0.10810811 0.12162162\n",
      "  0.12162162 0.08108108 0.7297298  0.2837838  0.13513514 0.16216217\n",
      "  0.14864865 0.14864865 0.2027027  0.22972973]\n",
      " [0.08108108 0.06756757 0.0945946  0.0945946  0.0945946  0.05405406\n",
      "  0.3783784  0.4054054  0.06756757 0.10810811 0.10810811 0.10810811\n",
      "  0.10810811 0.12162162 0.0945946  0.08108108 0.0945946  0.13513514\n",
      "  0.06756757 0.43243244 0.5675676  0.0945946  0.13513514 0.13513514\n",
      "  0.14864865 0.17567568 0.2027027  0.2027027 ]\n",
      " [0.06756757 0.0945946  0.10810811 0.0945946  0.0945946  0.05405406\n",
      "  0.22972973 0.5810811  0.04054054 0.08108108 0.08108108 0.08108108\n",
      "  0.0945946  0.0945946  0.0945946  0.06756757 0.06756757 0.05405406\n",
      "  0.2972973  0.7702702  0.13513514 0.12162162 0.13513514 0.13513514\n",
      "  0.14864865 0.16216217 0.1891892  0.2027027 ]\n",
      " [0.05405406 0.0945946  0.10810811 0.06756757 0.06756757 0.0945946\n",
      "  0.06756757 0.6351351  0.32432434 0.02702703 0.08108108 0.08108108\n",
      "  0.08108108 0.0945946  0.08108108 0.04054054 0.         0.35135135\n",
      "  0.7162162  0.17567568 0.12162162 0.13513514 0.13513514 0.13513514\n",
      "  0.13513514 0.12162162 0.14864865 0.1891892 ]\n",
      " [0.06756757 0.08108108 0.08108108 0.05405406 0.05405406 0.0945946\n",
      "  0.10810811 0.10810811 0.7567568  0.44594595 0.08108108 0.02702703\n",
      "  0.04054054 0.05405406 0.04054054 0.2027027  0.6351351  0.5945946\n",
      "  0.0945946  0.10810811 0.13513514 0.16216217 0.14864865 0.14864865\n",
      "  0.13513514 0.12162162 0.16216217 0.17567568]\n",
      " [0.06756757 0.08108108 0.08108108 0.05405406 0.06756757 0.08108108\n",
      "  0.08108108 0.06756757 0.08108108 0.5405406  0.7297298  0.5810811\n",
      "  0.472973   0.51351357 0.6621621  0.6351351  0.31081083 0.06756757\n",
      "  0.08108108 0.10810811 0.13513514 0.16216217 0.16216217 0.16216217\n",
      "  0.16216217 0.13513514 0.16216217 0.17567568]\n",
      " [0.05405406 0.06756757 0.06756757 0.08108108 0.08108108 0.0945946\n",
      "  0.08108108 0.08108108 0.08108108 0.05405406 0.0945946  0.25675678\n",
      "  0.3648649  0.31081083 0.14864865 0.06756757 0.06756757 0.10810811\n",
      "  0.10810811 0.10810811 0.12162162 0.13513514 0.13513514 0.13513514\n",
      "  0.13513514 0.13513514 0.12162162 0.12162162]\n",
      " [0.05405406 0.06756757 0.0945946  0.0945946  0.06756757 0.0945946\n",
      "  0.0945946  0.06756757 0.06756757 0.06756757 0.08108108 0.0945946\n",
      "  0.0945946  0.08108108 0.08108108 0.08108108 0.0945946  0.12162162\n",
      "  0.12162162 0.12162162 0.12162162 0.13513514 0.13513514 0.10810811\n",
      "  0.08108108 0.10810811 0.12162162 0.13513514]\n",
      " [0.05405406 0.05405406 0.10810811 0.08108108 0.05405406 0.06756757\n",
      "  0.08108108 0.0945946  0.08108108 0.08108108 0.0945946  0.12162162\n",
      "  0.10810811 0.08108108 0.08108108 0.08108108 0.08108108 0.0945946\n",
      "  0.12162162 0.12162162 0.12162162 0.14864865 0.13513514 0.13513514\n",
      "  0.10810811 0.13513514 0.13513514 0.16216217]\n",
      " [0.02702703 0.02702703 0.05405406 0.05405406 0.04054054 0.05405406\n",
      "  0.05405406 0.06756757 0.08108108 0.0945946  0.0945946  0.08108108\n",
      "  0.08108108 0.08108108 0.06756757 0.08108108 0.08108108 0.06756757\n",
      "  0.08108108 0.0945946  0.0945946  0.12162162 0.14864865 0.13513514\n",
      "  0.14864865 0.16216217 0.16216217 0.14864865]\n",
      " [0.04054054 0.04054054 0.05405406 0.05405406 0.05405406 0.05405406\n",
      "  0.05405406 0.06756757 0.0945946  0.06756757 0.05405406 0.06756757\n",
      "  0.08108108 0.08108108 0.08108108 0.08108108 0.08108108 0.08108108\n",
      "  0.08108108 0.08108108 0.0945946  0.10810811 0.10810811 0.12162162\n",
      "  0.12162162 0.10810811 0.14864865 0.12162162]\n",
      " [0.02702703 0.01351351 0.02702703 0.05405406 0.05405406 0.05405406\n",
      "  0.06756757 0.06756757 0.06756757 0.05405406 0.05405406 0.08108108\n",
      "  0.08108108 0.06756757 0.06756757 0.06756757 0.08108108 0.0945946\n",
      "  0.0945946  0.0945946  0.0945946  0.08108108 0.06756757 0.08108108\n",
      "  0.0945946  0.08108108 0.12162162 0.10810811]\n",
      " [0.01351351 0.01351351 0.04054054 0.05405406 0.06756757 0.08108108\n",
      "  0.06756757 0.05405406 0.05405406 0.05405406 0.06756757 0.06756757\n",
      "  0.06756757 0.06756757 0.06756757 0.05405406 0.08108108 0.08108108\n",
      "  0.0945946  0.08108108 0.08108108 0.06756757 0.06756757 0.06756757\n",
      "  0.08108108 0.08108108 0.08108108 0.10810811]\n",
      " [0.         0.04054054 0.04054054 0.05405406 0.08108108 0.10810811\n",
      "  0.05405406 0.04054054 0.05405406 0.05405406 0.05405406 0.06756757\n",
      "  0.06756757 0.06756757 0.06756757 0.06756757 0.08108108 0.06756757\n",
      "  0.05405406 0.06756757 0.08108108 0.08108108 0.06756757 0.06756757\n",
      "  0.08108108 0.08108108 0.08108108 0.10810811]]\n"
     ]
    }
   ],
   "source": [
    "import os\n",
    "import numpy as np\n",
    "import matplotlib.pyplot as plt\n",
    "from PIL import Image\n",
    "\n",
    "def increase_contrast(image):\n",
    "    \"\"\"Increase contrast using contrast stretching.\"\"\"\n",
    "    # Find the minimum and maximum pixel values in the image\n",
    "    min_pixel = np.min(image)\n",
    "    max_pixel = np.max(image)\n",
    "    \n",
    "    # Apply contrast stretching (stretching pixel values to full [0, 255] range)\n",
    "    contrast_image = (image - min_pixel) * (255.0 / (max_pixel - min_pixel))\n",
    "    \n",
    "    # Clip values to ensure they remain within the valid range [0, 255]\n",
    "    contrast_image = np.clip(contrast_image, 0, 255)\n",
    "    \n",
    "    return contrast_image\n",
    "\n",
    "def load_images_from_subfolders(image_folder, target_size=(28, 28)):\n",
    "    # List to hold all image arrays\n",
    "    image_arrays = []\n",
    "\n",
    "    # Loop through the folders and files recursively\n",
    "    for subdir, _, files in os.walk(image_folder):\n",
    "        for filename in files:\n",
    "            # Only process files that end with '.PNG' (case-sensitive)\n",
    "            if filename.endswith('.png'):\n",
    "                print(f\"Processing file: {filename}\")  # Debugging line\n",
    "                # Create the full path to the image file\n",
    "                image_path = os.path.join(subdir, filename)\n",
    "\n",
    "                try:\n",
    "                    # Open the image using PIL and convert it to grayscale ('L' mode)\n",
    "                    image = Image.open(image_path).convert('L')  # Convert to grayscale\n",
    "\n",
    "                    # Resize the image to the target size (e.g., 28x28)\n",
    "                    image = image.resize(target_size)\n",
    "\n",
    "                    # Convert the resized image to a numpy array\n",
    "                    image = np.array(image)\n",
    "\n",
    "                    # Invert the image colors (255 - pixel value)\n",
    "                    image = 255.0 - image\n",
    "\n",
    "                    # Increase the contrast of the image\n",
    "                    image = increase_contrast(image)\n",
    "\n",
    "                    # Normalize the image to range [0, 255]\n",
    "                    image = (image - np.min(image)) * (255 / (np.max(image) - np.min(image)))\n",
    "\n",
    "                    # Convert to float32 and scale the values to [0, 1]\n",
    "                    image = image.astype(np.float32) / 255.0\n",
    "\n",
    "                    # Flatten the image\n",
    "                    image = image.flatten()\n",
    "\n",
    "                    # Append the processed image to the list\n",
    "                    image_arrays.append(image)\n",
    "                except Exception as e:\n",
    "                    print(f\"Failed to process {filename}: {e}\")  # Print any error\n",
    "\n",
    "    # Convert the list of image arrays into a single NumPy array (shape: num_images, flattened_pixels)\n",
    "    if len(image_arrays) == 0:\n",
    "        print(\"No images were processed.\")\n",
    "    else:\n",
    "        print(f\"Processed {len(image_arrays)} images.\")\n",
    "\n",
    "    images_numpy = np.array(image_arrays)\n",
    "\n",
    "    return images_numpy\n",
    "\n",
    "def display_image(image_numpy, index=0):\n",
    "    \"\"\"Displays an image using matplotlib.\"\"\"\n",
    "    # Check if the image_numpy array has any images\n",
    "    if image_numpy.size == 0:\n",
    "        print(\"No images to display.\")\n",
    "        return\n",
    "\n",
    "    # Select an image by index from the numpy array\n",
    "    img_to_display = image_numpy[index].reshape(28, 28)  # Grayscale images have shape (28, 28)\n",
    "\n",
    "    # Display the image using matplotlib\n",
    "    plt.imshow(img_to_display, cmap='gray')  # Use 'gray' colormap for grayscale images\n",
    "    plt.axis('off')  # Hide the axes for better presentation\n",
    "    plt.show()\n",
    "\n",
    "# Example usage:\n",
    "image_folder = 'Custom MNIST Sample'  # Replace with the path to your image folder\n",
    "images = load_images_from_subfolders(image_folder)\n",
    "\n",
    "# Display the first image from the array (you can change the index to display a different image)\n",
    "display_image(images, index=0)\n",
    "\n",
    "# Access the image_numpy array directly\n",
    "print(\"Shape of image_numpy:\", images.shape)  # Prints the shape of the image_numpy array\n",
    "\n",
    "# Access the first image (flattened) directly:\n",
    "first_image = images[0]\n",
    "print(\"First image (flattened):\", first_image)\n",
    "\n",
    "# Access the first image in original shape (28x28)\n",
    "first_image_reshaped = first_image.reshape(28, 28)\n",
    "print(\"First image reshaped (28x28):\\n\", first_image_reshaped)\n"
   ]
  },
  {
   "cell_type": "code",
   "execution_count": 136,
   "metadata": {},
   "outputs": [
    {
     "data": {
      "text/plain": [
       "<matplotlib.image.AxesImage at 0x2878237b790>"
      ]
     },
     "execution_count": 136,
     "metadata": {},
     "output_type": "execute_result"
    },
    {
     "data": {
      "image/png": "[encoded data removed]",
      "text/plain": [
       "<Figure size 640x480 with 1 Axes>"
      ]
     },
     "metadata": {},
     "output_type": "display_data"
    }
   ],
   "source": [
    "plt.imshow(images[2].reshape(28,28))"
   ]
  },
  {
   "cell_type": "code",
   "execution_count": 137,
   "metadata": {},
   "outputs": [],
   "source": [
    "y_hat = network.predict(images[0:50])"
   ]
  },
  {
   "cell_type": "code",
   "execution_count": 138,
   "metadata": {},
   "outputs": [
    {
     "data": {
      "text/plain": [
       "array([ 1.83111845, -4.35858211,  1.26947759,  0.88147852, -2.3147502 ,\n",
       "        1.00479271, -2.69069673,  1.95140283,  1.14875732,  1.15326268])"
      ]
     },
     "execution_count": 138,
     "metadata": {},
     "output_type": "execute_result"
    }
   ],
   "source": [
    "y_hat[2]"
   ]
  },
  {
   "cell_type": "code",
   "execution_count": 139,
   "metadata": {},
   "outputs": [
    {
     "data": {
      "text/plain": [
       "7"
      ]
     },
     "execution_count": 139,
     "metadata": {},
     "output_type": "execute_result"
    }
   ],
   "source": [
    "np.argmax(y_hat[2])"
   ]
  },
  {
   "cell_type": "code",
   "execution_count": 140,
   "metadata": {},
   "outputs": [
    {
     "name": "stdout",
     "output_type": "stream",
     "text": [
      "[0 0 7 0 0 5 5 5 3 3 2 2 2 2 2 3]\n",
      "[3 3 3 3 3 3 4 4 4 5 5 5 5 3 5 5]\n",
      "[2 2 2 8 1 3 3 7 5 5 5 5 8 3 3 5]\n",
      "[3 5]\n"
     ]
    }
   ],
   "source": [
    "batch_size = 16\n",
    "x = images[0:50]\n",
    "#y = test_labels[0:10]\n",
    "\n",
    "for i in range(0, len(x), batch_size):\n",
    "    x_batch = x[i:i+batch_size]\n",
    "    y_hat_batch = network.predict(x_batch)\n",
    "    p = np.argmax(y_hat_batch, axis=1)\n",
    "    print(p)"
   ]
  },
  {
   "cell_type": "code",
   "execution_count": 141,
   "metadata": {},
   "outputs": [
    {
     "data": {
      "text/plain": [
       "(50, 784)"
      ]
     },
     "execution_count": 141,
     "metadata": {},
     "output_type": "execute_result"
    }
   ],
   "source": [
    "images.shape"
   ]
  }
 ],
 "metadata": {
  "kernelspec": {
   "display_name": "ece5831-2024",
   "language": "python",
   "name": "python3"
  },
  "language_info": {
   "codemirror_mode": {
    "name": "ipython",
    "version": 3
   },
   "file_extension": ".py",
   "mimetype": "text/x-python",
   "name": "python",
   "nbconvert_exporter": "python",
   "pygments_lexer": "ipython3",
   "version": "3.10.13"
  }
 },
 "nbformat": 4,
 "nbformat_minor": 2
}
