{
 "cells": [
  {
   "cell_type": "code",
   "execution_count": 11,
   "metadata": {},
   "outputs": [
    {
     "ename": "AttributeError",
     "evalue": "'function' object has no attribute 'file_path'",
     "output_type": "error",
     "traceback": [
      "\u001b[1;31m---------------------------------------------------------------------------\u001b[0m",
      "\u001b[1;31mAttributeError\u001b[0m                            Traceback (most recent call last)",
      "Cell \u001b[1;32mIn[11], line 62\u001b[0m\n\u001b[0;32m     60\u001b[0m filepath \u001b[38;5;241m=\u001b[39m sys\u001b[38;5;241m.\u001b[39margv[\u001b[38;5;241m1\u001b[39m]\n\u001b[0;32m     61\u001b[0m init()\n\u001b[1;32m---> 62\u001b[0m image \u001b[38;5;241m=\u001b[39m \u001b[43mload_image\u001b[49m\u001b[38;5;241;43m.\u001b[39;49m\u001b[43mfile_path\u001b[49m\n\u001b[0;32m     63\u001b[0m model, class_name \u001b[38;5;241m=\u001b[39m load_model()\n\u001b[0;32m     64\u001b[0m data \u001b[38;5;241m=\u001b[39m prep_input(image)\n",
      "\u001b[1;31mAttributeError\u001b[0m: 'function' object has no attribute 'file_path'"
     ]
    }
   ],
   "source": [
    "from keras.models import load_model  # TensorFlow is required for Keras to work\n",
    "from PIL import Image, ImageOps  # Install pillow instead of PIL\n",
    "import numpy as np\n",
    "import sys\n",
    "\n",
    "def load_image(file_path):\n",
    "# Replace this with the path to your image\n",
    "    image = Image.open(file_path).convert(\"RGB\")\n",
    "    return image\n",
    "\n",
    "def init():\n",
    "    # Disable scientific notation for clarity\n",
    "    np.set_printoptions(suppress=True)\n",
    "\n",
    "def load_my_model():\n",
    "    # Load the model\n",
    "    model = load_model(\"model/keras_Model.h5\", compile=False)\n",
    "\n",
    "    # Load the labels\n",
    "    class_names = open(\"model/labels.txt\", \"r\").readlines()\n",
    "\n",
    "    return model, class_name\n",
    "\n",
    "def prep_input(image):\n",
    "\n",
    "    # Create the array of the right shape to feed into the keras model\n",
    "    # The 'length' or number of images you can put into the array is\n",
    "    # determined by the first position in the shape tuple, in this case 1\n",
    "    data = np.ndarray(shape=(1, 224, 224, 3), dtype=np.float32)\n",
    "\n",
    "\n",
    "    # resizing the image to be at least 224x224 and then cropping from the center\n",
    "    size = (224, 224)\n",
    "    image = ImageOps.fit(image, size, Image.Resampling.LANCZOS)\n",
    "\n",
    "    # turn the image into a numpy array\n",
    "    image_array = np.asarray(image)\n",
    "\n",
    "    # Normalize the image\n",
    "    normalized_image_array = (image_array.astype(np.float32) / 127.5) - 1\n",
    "\n",
    "    # Load the image into the array\n",
    "    data[0] = normalized_image_array\n",
    "\n",
    "    return data\n",
    "\n",
    "def predict(model,class_names, data):\n",
    "\n",
    "    # Predicts the model\n",
    "    prediction = model.predict(data)\n",
    "    index = np.argmax(prediction)\n",
    "    class_name = class_names[index]\n",
    "    confidence_score = prediction[0][index]\n",
    "\n",
    "    # Print prediction and confidence score\n",
    "    print(\"Class:\", class_name[2:], end=\"\")\n",
    "    print(\"Confidence Score:\", confidence_score)\n",
    "\n",
    "if __name__ == \"__main__\":\n",
    "    file_path = sys.argv[1]\n",
    "    init()\n",
    "    image = load_image.file_path\n",
    "    model, class_name = load_my_model()\n",
    "    data = prep_input(image)\n",
    "    predict(model, class_name, data)"
   ]
  }
 ],
 "metadata": {
  "kernelspec": {
   "display_name": "ece5831-2024",
   "language": "python",
   "name": "python3"
  },
  "language_info": {
   "codemirror_mode": {
    "name": "ipython",
    "version": 3
   },
   "file_extension": ".py",
   "mimetype": "text/x-python",
   "name": "python",
   "nbconvert_exporter": "python",
   "pygments_lexer": "ipython3",
   "version": "3.10.14"
  }
 },
 "nbformat": 4,
 "nbformat_minor": 2
}
