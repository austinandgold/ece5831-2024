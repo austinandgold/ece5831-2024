{
 "cells": [
  {
   "cell_type": "code",
   "execution_count": 6,
   "metadata": {},
   "outputs": [],
   "source": [
    "import numpy as np\n",
    "\n",
    "class MultiLayerPreceptron:\n",
    "    def __init__(self):\n",
    "        self.net = ()\n",
    "        pass\n",
    "\n",
    "    def init_network(self):\n",
    "        net = {}\n",
    "        # first layer from class\n",
    "        net['w1'] = np.array([[0.7, 0.9, 0.3],[0.5,0.4,0.1]])\n",
    "        net['b1'] = np.array([1, 1, 1])\n",
    "        # second layer from class\n",
    "        net['w2'] = np.array([[0.2, 0.3],[0.4, 0.5],[0.22, 0.1234]])\n",
    "        net['b2'] = np.array([0.5, 0.5])    \n",
    "        # third layer to output\n",
    "        net['w3'] = np.array([[0.7, 0.1],[0.123 , 0.314]])\n",
    "        net['b3'] = np.array([0.1, 0.2])\n",
    "\n",
    "        self.net = net\n",
    "        \n",
    "    def sigmoid(self,x):\n",
    "        return 1/(1 + np.exp(-x))\n",
    "\n",
    "    def identity(self, x):\n",
    "        return x\n",
    "\n",
    "    def forward(self,x):\n",
    "        w1, w2, w3 = self.net['w1'], self.net['w2'], self.net['w3']\n",
    "        b1, b2, b3 = self.net['b1'], self.net['b2'], self.net['b3']\n",
    "\n",
    "        a1 = np.dot(x, w1) + b1\n",
    "        z1 = self.sigmoid(a1)\n",
    "\n",
    "        a2 = np.dot(z1, w2) + b2\n",
    "        z2 = self.sigmoid(a2)\n",
    "\n",
    "        a3 = np.dot(z2, w3) + b3\n",
    "        y = self.identity(a3)\n",
    "\n",
    "        return y\n",
    "    \n"
   ]
  },
  {
   "cell_type": "code",
   "execution_count": 7,
   "metadata": {},
   "outputs": [],
   "source": [
    "mlp = MultiLayerPreceptron()\n",
    "mlp.init_network()\n",
    "y = mlp.forward(np.array([7.0, 2.0]))"
   ]
  },
  {
   "cell_type": "code",
   "execution_count": 8,
   "metadata": {},
   "outputs": [
    {
     "data": {
      "text/plain": [
       "array([0.75050477, 0.53158747])"
      ]
     },
     "execution_count": 8,
     "metadata": {},
     "output_type": "execute_result"
    }
   ],
   "source": [
    "y"
   ]
  }
 ],
 "metadata": {
  "kernelspec": {
   "display_name": "ece5831-2024",
   "language": "python",
   "name": "python3"
  },
  "language_info": {
   "codemirror_mode": {
    "name": "ipython",
    "version": 3
   },
   "file_extension": ".py",
   "mimetype": "text/x-python",
   "name": "python",
   "nbconvert_exporter": "python",
   "pygments_lexer": "ipython3",
   "version": "3.10.14"
  }
 },
 "nbformat": 4,
 "nbformat_minor": 2
}
